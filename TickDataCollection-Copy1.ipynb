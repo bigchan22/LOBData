{
 "cells": [
  {
   "cell_type": "code",
   "execution_count": 1,
   "id": "2badfd68",
   "metadata": {},
   "outputs": [],
   "source": [
    "import pandas as pd\n",
    "import os\n",
    "from source.TrainDataGeneration import append_ORD_TM,append_ORD_VOL,append_TM_GP,GetGroupDataFrame,append_STEP5\n",
    "from DataInfo import ISU_list_MBRN_sum_top,MBRN_sum_top,header_df\n",
    "from datetime import datetime"
   ]
  },
  {
   "cell_type": "code",
   "execution_count": 2,
   "id": "e27ac61d",
   "metadata": {},
   "outputs": [],
   "source": [
    "# path_dir = '/Data/LOBData/CollectedRawData/'\n",
    "path_dir = '/Data/ksqord/'\n",
    "# ISUlist=ISU_list_MBRN_sum_top\n",
    "a=os.listdir(path_dir)\n",
    "a.sort()"
   ]
  },
  {
   "cell_type": "code",
   "execution_count": 3,
   "id": "e743fac2",
   "metadata": {},
   "outputs": [],
   "source": [
    "columns=header_df+['ORD_TM',\n",
    "       'ORD_VOL', 'TM_GP', '매도5단계호가합계잔량', '매수5단계호가합계잔량']"
   ]
  },
  {
   "cell_type": "code",
   "execution_count": 4,
   "id": "249ac3eb",
   "metadata": {},
   "outputs": [],
   "source": [
    "groupcolumns=['ORD_DD','ISU_CD','TM_GP']\n",
    "sumcolumns=[]\n",
    "meancolumns=['ORD_ACPT_NO', 'REGUL_OFFHR_TP_CD', 'BLKTRD_TP_CD', '호가장처리가격',\n",
    "       'ASKBID_TP_CD', 'MODCANCL_TP_CD',  'ORD_COND_CD', 'INVST_TP_CD', 'ASK_STEP1_BSTORD_PRC',\n",
    "       'ASK_STEP1_BSTORD_RQTY', 'ASK_STEP2_BSTORD_PRC','ASK_STEP2_BSTORD_RQTY','ASK_STEP3_BSTORD_PRC',\n",
    "       'ASK_STEP3_BSTORD_RQTY','ASK_STEP4_BSTORD_PRC', 'ASK_STEP4_BSTORD_RQTY','ASK_STEP5_BSTORD_PRC',\n",
    "       'ASK_STEP5_BSTORD_RQTY',\n",
    "       'BID_STEP1_BSTORD_PRC', 'BID_STEP1_BSTORD_RQTY', 'BID_STEP2_BSTORD_PRC', 'BID_STEP2_BSTORD_RQTY',\n",
    "       'BID_STEP3_BSTORD_PRC', 'BID_STEP3_BSTORD_RQTY','BID_STEP4_BSTORD_PRC', 'BID_STEP4_BSTORD_RQTY',\n",
    "       'BID_STEP5_BSTORD_PRC', 'BID_STEP5_BSTORD_RQTY', 'ORD_ACPT_TM', 'ORD_QTY', 'ORD_PRC',\n",
    "       '호가우선순위번호', 'MBR_NO', 'BRN_NO', 'CNTR_CD', 'TRST_PRINC_TP_CD', 'FORNINVST_TP_CD',\n",
    "       'ORD_MEDIA_TP_CD', '회원사주문시각', '예상체결가격', '예상체결수량', '매도총호가잔량', '매수총호가잔량',\n",
    "       '호가체결접수순서번호', '직전체결가격', '누적체결수량', '누적거래대금', 'AGG_TM', '시가', '고가', '저가',\n",
    "       'ORGN_ORD_ACPT_NO', '시장구분코드', '자동취소처리구분코드', 'MKTSTAT_TP_CD', '매도10단계호가합계잔량',\n",
    "       '매수10단계호가합계잔량', 'PT_TP_CD','ORD_TM',\n",
    "       'ORD_VOL', '매도5단계호가합계잔량', '매수5단계호가합계잔량']\n",
    "lastcolumns=['ORD_TP_CD']\n",
    "lastcolumns=[column for column in columns if column not in (sumcolumns+meancolumns+groupcolumns)]"
   ]
  },
  {
   "cell_type": "code",
   "execution_count": 5,
   "id": "2bac958a",
   "metadata": {},
   "outputs": [],
   "source": [
    "groupmin=10"
   ]
  },
  {
   "cell_type": "code",
   "execution_count": 6,
   "id": "11977e60",
   "metadata": {},
   "outputs": [
    {
     "name": "stderr",
     "output_type": "stream",
     "text": [
      "/root/anaconda3/lib/python3.7/site-packages/IPython/core/interactiveshell.py:3457: DtypeWarning: Columns (8) have mixed types.Specify dtype option on import or set low_memory=False.\n",
      "  exec(code_obj, self.user_global_ns, self.user_ns)\n"
     ]
    },
    {
     "name": "stdout",
     "output_type": "stream",
     "text": [
      "/Data/LOBData/CollectedTickData/GDF_tick_10_8_22.csv\n"
     ]
    },
    {
     "ename": "NameError",
     "evalue": "name 'aaaa' is not defined",
     "output_type": "error",
     "traceback": [
      "\u001b[0;31m---------------------------------------------------------------------------\u001b[0m",
      "\u001b[0;31mNameError\u001b[0m                                 Traceback (most recent call last)",
      "\u001b[0;32m/tmp/ipykernel_3852152/3770136202.py\u001b[0m in \u001b[0;36m<module>\u001b[0;34m\u001b[0m\n\u001b[1;32m     10\u001b[0m \u001b[0mfilename\u001b[0m\u001b[0;34m=\u001b[0m\u001b[0;34m\"GDF_tick\"\u001b[0m\u001b[0;34m+\u001b[0m\u001b[0;34m'_'\u001b[0m\u001b[0;34m+\u001b[0m\u001b[0mstr\u001b[0m\u001b[0;34m(\u001b[0m\u001b[0mgroupmin\u001b[0m\u001b[0;34m)\u001b[0m\u001b[0;34m+\u001b[0m\u001b[0;34m'_'\u001b[0m\u001b[0;34m+\u001b[0m\u001b[0mstr\u001b[0m\u001b[0;34m(\u001b[0m\u001b[0mnow\u001b[0m\u001b[0;34m.\u001b[0m\u001b[0mmonth\u001b[0m\u001b[0;34m)\u001b[0m\u001b[0;34m+\u001b[0m\u001b[0;34m'_'\u001b[0m\u001b[0;34m+\u001b[0m\u001b[0mstr\u001b[0m\u001b[0;34m(\u001b[0m\u001b[0mnow\u001b[0m\u001b[0;34m.\u001b[0m\u001b[0mday\u001b[0m\u001b[0;34m)\u001b[0m\u001b[0;34m+\u001b[0m\u001b[0;34m'.csv'\u001b[0m\u001b[0;34m\u001b[0m\u001b[0;34m\u001b[0m\u001b[0m\n\u001b[1;32m     11\u001b[0m \u001b[0mprint\u001b[0m\u001b[0;34m(\u001b[0m\u001b[0mSaveDirPath\u001b[0m\u001b[0;34m+\u001b[0m\u001b[0mfilename\u001b[0m\u001b[0;34m)\u001b[0m\u001b[0;34m\u001b[0m\u001b[0;34m\u001b[0m\u001b[0m\n\u001b[0;32m---> 12\u001b[0;31m \u001b[0maaaa\u001b[0m\u001b[0;34m\u001b[0m\u001b[0;34m\u001b[0m\u001b[0m\n\u001b[0m\u001b[1;32m     13\u001b[0m \u001b[0mGDF\u001b[0m\u001b[0;34m.\u001b[0m\u001b[0mto_csv\u001b[0m\u001b[0;34m(\u001b[0m\u001b[0mSaveDirPath\u001b[0m\u001b[0;34m+\u001b[0m\u001b[0mfilename\u001b[0m\u001b[0;34m)\u001b[0m\u001b[0;34m\u001b[0m\u001b[0;34m\u001b[0m\u001b[0m\n\u001b[1;32m     14\u001b[0m \u001b[0;32mwith\u001b[0m \u001b[0mopen\u001b[0m\u001b[0;34m(\u001b[0m\u001b[0mSaveDirPath\u001b[0m\u001b[0;34m+\u001b[0m\u001b[0;34m'DataInformation.txt'\u001b[0m\u001b[0;34m,\u001b[0m \u001b[0;34m\"a+\"\u001b[0m\u001b[0;34m)\u001b[0m \u001b[0;32mas\u001b[0m \u001b[0mf\u001b[0m\u001b[0;34m:\u001b[0m\u001b[0;34m\u001b[0m\u001b[0;34m\u001b[0m\u001b[0m\n",
      "\u001b[0;31mNameError\u001b[0m: name 'aaaa' is not defined"
     ]
    }
   ],
   "source": [
    "for filename in a:\n",
    "    Data=pd.read_csv(os.path.join(path_dir,filename),names=header_df)\n",
    "    Data=append_ORD_TM(Data)\n",
    "    Data=append_ORD_VOL(Data)\n",
    "    Data=append_TM_GP(Data,groupmin=groupmin)\n",
    "    Data=append_STEP5(Data)\n",
    "    GDF=GetGroupDataFrame(Data,groupcolumns,sumcolumns,meancolumns,lastcolumns)\n",
    "    SaveDirPath='/Data/LOBData/CollectedTickData/'\n",
    "    now=datetime.now()\n",
    "    savename=\"GDF_tick\"+\"_\"+filename+'_'+str(groupmin)+'_'+str(now.month)+'_'+str(now.day)+'.csv'\n",
    "    print(SaveDirPath+savename)\n",
    "    GDF.to_csv(SaveDirPath+savename)\n",
    "    with open(SaveDirPath+'DataInformation.txt', \"a+\") as f:\n",
    "        f.write(savename+'\\t'+path_dir+'\\n')\n",
    "        f.write(str(groupmin)+'\\n')\n",
    "        for col in groupcolumns:\n",
    "            f.write(str(col)+'\\t')\n",
    "        f.write('\\n')"
   ]
  },
  {
   "cell_type": "code",
   "execution_count": null,
   "id": "d0ebb599",
   "metadata": {},
   "outputs": [],
   "source": [
    "GDF"
   ]
  },
  {
   "cell_type": "code",
   "execution_count": null,
   "id": "43de0a43",
   "metadata": {},
   "outputs": [],
   "source": []
  },
  {
   "cell_type": "code",
   "execution_count": null,
   "id": "994667df",
   "metadata": {},
   "outputs": [],
   "source": [
    "bbb"
   ]
  },
  {
   "cell_type": "code",
   "execution_count": null,
   "id": "47dc5eed",
   "metadata": {},
   "outputs": [],
   "source": [
    "filename=a[1]\n",
    "Data1=pd.read_csv(os.path.join(path_dir,filename))\n",
    "Data=append_ORD_TM(Data1)\n",
    "Data=append_ORD_VOL(Data)\n",
    "Data=append_TM_GP(Data,groupmin=groupmin)\n",
    "Data=append_STEP5(Data)\n",
    "GDF=GetGroupDataFrame(Data,groupcolumns,sumcolumns,meancolumns,lastcolumns)\n",
    "for filename in a[2:]:\n",
    "    Data1=pd.read_csv(os.path.join(path_dir,filename))\n",
    "    Data=append_ORD_TM(Data1)\n",
    "    Data=append_ORD_VOL(Data)\n",
    "    Data=append_TM_GP(Data,groupmin=groupmin)\n",
    "    Data=append_STEP5(Data)\n",
    "    TGDF=GetGroupDataFrame(Data,groupcolumns,sumcolumns,meancolumns,lastcolumns)\n",
    "    GDF=pd.concat([GDF,TGDF])"
   ]
  },
  {
   "cell_type": "code",
   "execution_count": null,
   "id": "54d7ec78",
   "metadata": {},
   "outputs": [],
   "source": [
    "a[1]"
   ]
  },
  {
   "cell_type": "markdown",
   "id": "942b619d",
   "metadata": {},
   "source": [
    "Data1=pd.read_csv('CollectedData/2022_3_20_22_25.csv')\n",
    "Data=append_ORD_TM(Data1)\n",
    "Data=append_ORD_VOL(Data)\n",
    "Data=append_TM_GP(Data,groupmin=groupmin)\n",
    "Data=append_STEP5(Data)\n",
    "GDF2=GetGroupDataFrame(Data,groupcolumns,sumcolumns,meancolumns,lastcolumns)"
   ]
  },
  {
   "cell_type": "markdown",
   "id": "e0f72dc2",
   "metadata": {},
   "source": [
    "Data1=pd.read_csv('CollectedData/2022_3_20_22_33.csv')\n",
    "Data=append_ORD_TM(Data1)\n",
    "Data=append_ORD_VOL(Data)\n",
    "Data=append_TM_GP(Data,groupmin=groupmin)\n",
    "Data=append_STEP5(Data)\n",
    "GDF3=GetGroupDataFrame(Data,groupcolumns,sumcolumns,meancolumns,lastcolumns)"
   ]
  },
  {
   "cell_type": "code",
   "execution_count": null,
   "id": "70118322",
   "metadata": {},
   "outputs": [],
   "source": [
    "GDF['TM_GP'].max()"
   ]
  },
  {
   "cell_type": "code",
   "execution_count": null,
   "id": "de5d9003",
   "metadata": {
    "scrolled": true
   },
   "outputs": [],
   "source": [
    "GDF.head(20)"
   ]
  },
  {
   "cell_type": "markdown",
   "id": "0b6f5205",
   "metadata": {},
   "source": [
    "GDF=pd.concat([GDF1,GDF2,GDF3])"
   ]
  },
  {
   "cell_type": "code",
   "execution_count": null,
   "id": "c01dc67f",
   "metadata": {},
   "outputs": [],
   "source": [
    "from datetime import datetime"
   ]
  },
  {
   "cell_type": "code",
   "execution_count": null,
   "id": "3a3dee76",
   "metadata": {},
   "outputs": [],
   "source": [
    "SaveDirPath='/Data/LOBData/CollectedTickData/'\n",
    "now=datetime.now()\n",
    "filename=\"GDF\"+str(now.year)+'_'+str(now.month)+'_'+str(now.day)+'_'+str(now.hour)+'_'+str(now.minute)+'.csv'\n",
    "print(SaveDirPath+filename)\n",
    "GDF.to_csv(SaveDirPath+filename)\n"
   ]
  },
  {
   "cell_type": "code",
   "execution_count": null,
   "id": "597ba74f",
   "metadata": {},
   "outputs": [],
   "source": []
  },
  {
   "cell_type": "markdown",
   "id": "e58b9fc8",
   "metadata": {},
   "source": [
    "a=[]"
   ]
  }
 ],
 "metadata": {
  "kernelspec": {
   "display_name": "Python 3 (ipykernel)",
   "language": "python",
   "name": "python3"
  },
  "language_info": {
   "codemirror_mode": {
    "name": "ipython",
    "version": 3
   },
   "file_extension": ".py",
   "mimetype": "text/x-python",
   "name": "python",
   "nbconvert_exporter": "python",
   "pygments_lexer": "ipython3",
   "version": "3.7.10"
  }
 },
 "nbformat": 4,
 "nbformat_minor": 5
}
