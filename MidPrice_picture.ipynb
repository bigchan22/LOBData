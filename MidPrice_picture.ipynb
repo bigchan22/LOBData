{
 "cells": [
  {
   "cell_type": "code",
   "execution_count": 1,
   "id": "94b9e9f4",
   "metadata": {},
   "outputs": [],
   "source": [
    "import math\n",
    "import numpy as np\n",
    "import torch\n",
    "import torch.nn as nn\n",
    "import torch.nn.functional as F\n",
    "from torch.nn import TransformerEncoder, TransformerEncoderLayer\n",
    "from numpy import load\n",
    "from torch.utils.data import Dataset\n",
    "from datetime import datetime\n",
    "from torch import Tensor\n",
    "import torch\n",
    "import torch.nn as nn\n",
    "from torch.nn import Transformer\n",
    "from timeit import default_timer as timer\n",
    "\n",
    "\n",
    "\n",
    "import math"
   ]
  },
  {
   "cell_type": "code",
   "execution_count": 2,
   "id": "53b6d83d",
   "metadata": {},
   "outputs": [],
   "source": [
    "mbrnlist1=[(5,194)]\n",
    "mbrnlist2=[(5,194)]\n",
    "\n",
    "mbrnlist=mbrnlist1+mbrnlist2\n",
    "mbrnlist=set(mbrnlist)\n",
    "mbrnlist=list(mbrnlist)\n",
    "\n",
    "# load array\n",
    "MBR_NO,BRN_NO=mbrnlist[0]\n",
    "featnorm=True"
   ]
  },
  {
   "cell_type": "code",
   "execution_count": 3,
   "id": "c2785717",
   "metadata": {},
   "outputs": [],
   "source": [
    "\n",
    "for MBR_NO,BRN_NO in mbrnlist:\n",
    "    if featnorm==True:\n",
    "        Data_train = load('Data/DataMid_'+str(MBR_NO)+'_'+str(BRN_NO)+'norm_train.npy',allow_pickle=True)\n",
    "        Data_test =  load('Data/DataMid_'+str(MBR_NO)+'_'+str(BRN_NO)+'norm_test.npy',allow_pickle=True)\n",
    "    else:\n",
    "        Data_train = load('Data/DataMid_'+str(MBR_NO)+'_'+str(BRN_NO)+'train.npy',allow_pickle=True)\n",
    "        Data_test =  load('Data/DataMid_'+str(MBR_NO)+'_'+str(BRN_NO)+'test.npy',allow_pickle=True)\n",
    "    break"
   ]
  },
  {
   "cell_type": "code",
   "execution_count": 4,
   "id": "3dc8391d",
   "metadata": {},
   "outputs": [
    {
     "data": {
      "text/plain": [
       "array([[25800.0, 0.38780117292229466, 0.17980742956173543, ...,\n",
       "        0.029069767441860465, -0.009689922480620155, 26250.0],\n",
       "       [25800.0, 0.6114303872878132, 0.22340324854771812, ...,\n",
       "        0.029069767441860465, -0.009689922480620155, 26175.0],\n",
       "       [25800.0, 0.7192940016261435, 0.22576420174749517, ...,\n",
       "        0.029069767441860465, -0.009689922480620155, 25925.0],\n",
       "       ...,\n",
       "       [2825.0, 0.28343515880690134, 0.10432802848222854, ...,\n",
       "        0.03893805309734513, -0.0035398230088495575, 2880.0],\n",
       "       [2825.0, 0.27931907455679494, 0.10207518823838184, ...,\n",
       "        0.03893805309734513, -0.0035398230088495575, 2880.0],\n",
       "       [2825.0, 0.25743253191975257, 0.11438253338375444, ...,\n",
       "        0.03893805309734513, -0.0035398230088495575, 2880.0]],\n",
       "      dtype=object)"
      ]
     },
     "execution_count": 4,
     "metadata": {},
     "output_type": "execute_result"
    }
   ],
   "source": [
    "Data_train"
   ]
  },
  {
   "cell_type": "code",
   "execution_count": 5,
   "id": "b925cadf",
   "metadata": {},
   "outputs": [
    {
     "ename": "NameError",
     "evalue": "name 'Ytrain_data' is not defined",
     "output_type": "error",
     "traceback": [
      "\u001b[0;31m---------------------------------------------------------------------------\u001b[0m",
      "\u001b[0;31mNameError\u001b[0m                                 Traceback (most recent call last)",
      "\u001b[0;32m<ipython-input-5-424746e2f0db>\u001b[0m in \u001b[0;36m<module>\u001b[0;34m\u001b[0m\n\u001b[0;32m----> 1\u001b[0;31m \u001b[0mYtrain_data\u001b[0m\u001b[0;34m.\u001b[0m\u001b[0msize\u001b[0m\u001b[0;34m(\u001b[0m\u001b[0;34m)\u001b[0m\u001b[0;34m\u001b[0m\u001b[0;34m\u001b[0m\u001b[0m\n\u001b[0m",
      "\u001b[0;31mNameError\u001b[0m: name 'Ytrain_data' is not defined"
     ]
    }
   ],
   "source": [
    "Ytrain_data.size()"
   ]
  },
  {
   "cell_type": "code",
   "execution_count": null,
   "id": "c340c39c",
   "metadata": {},
   "outputs": [],
   "source": [
    "Ytrain_data"
   ]
  },
  {
   "cell_type": "code",
   "execution_count": null,
   "id": "bf781415",
   "metadata": {},
   "outputs": [],
   "source": [
    "(Ytrain_data==0).sum()/Ytrain_data.size()[0]"
   ]
  },
  {
   "cell_type": "code",
   "execution_count": null,
   "id": "be90aacc",
   "metadata": {},
   "outputs": [],
   "source": [
    "(Ytrain_data==1).sum()/Ytrain_data.size()[0]"
   ]
  },
  {
   "cell_type": "code",
   "execution_count": null,
   "id": "1ff20609",
   "metadata": {},
   "outputs": [],
   "source": [
    "int((Ytrain_data==2).sum())/int(Ytrain_data.size()[0])"
   ]
  },
  {
   "cell_type": "code",
   "execution_count": null,
   "id": "22e81176",
   "metadata": {},
   "outputs": [],
   "source": [
    "Data_test[:,-1][:100]"
   ]
  },
  {
   "cell_type": "code",
   "execution_count": null,
   "id": "2d168514",
   "metadata": {},
   "outputs": [],
   "source": [
    "Xtest_data.size()"
   ]
  },
  {
   "cell_type": "code",
   "execution_count": null,
   "id": "48a25761",
   "metadata": {},
   "outputs": [],
   "source": [
    "Ytest_data[:100]"
   ]
  }
 ],
 "metadata": {
  "kernelspec": {
   "display_name": "Python 3 (ipykernel)",
   "language": "python",
   "name": "python3"
  },
  "language_info": {
   "codemirror_mode": {
    "name": "ipython",
    "version": 3
   },
   "file_extension": ".py",
   "mimetype": "text/x-python",
   "name": "python",
   "nbconvert_exporter": "python",
   "pygments_lexer": "ipython3",
   "version": "3.7.10"
  }
 },
 "nbformat": 4,
 "nbformat_minor": 5
}
