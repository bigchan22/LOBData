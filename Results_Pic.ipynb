{
 "cells": [
  {
   "cell_type": "code",
   "execution_count": 1,
   "id": "94b9e9f4",
   "metadata": {},
   "outputs": [],
   "source": [
    "import math\n",
    "import numpy as np\n",
    "import torch\n",
    "import torch.nn as nn\n",
    "import torch.nn.functional as F\n",
    "from torch.nn import TransformerEncoder, TransformerEncoderLayer\n",
    "from numpy import load\n",
    "from torch.utils.data import Dataset\n",
    "from datetime import datetime\n",
    "from torch import Tensor\n",
    "import torch\n",
    "import torch.nn as nn\n",
    "from torch.nn import Transformer\n",
    "from timeit import default_timer as timer\n",
    "from DataInfo import * \n",
    "\n",
    "\n",
    "import math\n",
    "import os"
   ]
  },
  {
   "cell_type": "code",
   "execution_count": 2,
   "id": "53b6d83d",
   "metadata": {},
   "outputs": [],
   "source": [
    "mbrnlist1=[(5,194)]\n",
    "mbrnlist2=[(5,194)]\n",
    "\n",
    "mbrnlist=mbrnlist1+mbrnlist2\n",
    "mbrnlist=set(mbrnlist)\n",
    "mbrnlist=list(mbrnlist)\n",
    "mbrnlist=MBRN_sum_top\n",
    "# load array\n",
    "MBR_NO,BRN_NO=mbrnlist[0]\n",
    "\n",
    "featnorm=True"
   ]
  },
  {
   "cell_type": "code",
   "execution_count": 3,
   "id": "dcad293c",
   "metadata": {},
   "outputs": [],
   "source": [
    "result_path='/root/Min/LOBData/results/'"
   ]
  },
  {
   "cell_type": "code",
   "execution_count": 4,
   "id": "d4b37715",
   "metadata": {},
   "outputs": [],
   "source": [
    "result_file_list = os.listdir(result_path)\n",
    "result_file_list.sort()"
   ]
  },
  {
   "cell_type": "code",
   "execution_count": 5,
   "id": "8a677b44",
   "metadata": {},
   "outputs": [],
   "source": [
    "result_file_list_T=[file  for file in result_file_list if \"result_Tran\" in file]"
   ]
  },
  {
   "cell_type": "code",
   "execution_count": 6,
   "id": "e854470e",
   "metadata": {},
   "outputs": [
    {
     "name": "stdout",
     "output_type": "stream",
     "text": [
      "results/best_model_Trans_12_1001st\tAcc:0.5182005494505495\tprec:0.5274900257789104\trecall:0.5212509582809334\tf1sc:0.5243519336042304\n",
      "\n",
      "results/best_model_Trans_12_2021st\tAcc:0.5946943681318682\tprec:0.5367149638420469\trecall:0.48700721776467\tf1sc:0.5106542887703035\n",
      "\n",
      "results/best_model_Trans_17_291st\tAcc:0.5481055402930403\tprec:0.5478364827995246\trecall:0.5365366098320995\tf1sc:0.5421276703025895\n",
      "\n",
      "results/best_model_Trans_2_1551st\tAcc:0.7727506868131868\tprec:0.8097849594690257\trecall:0.8026598167030098\tf1sc:0.8062066456369782\n",
      "results/best_model_Trans_2_831st\tAcc:0.5831330128205128\tprec:0.5409005895810782\trecall:0.5009568588365085\tf1sc:0.5201630236668343\n",
      "\n",
      "results/best_model_Trans_30_105401st\tAcc:0.7483688186813187\tprec:0.5660832509307262\trecall:0.41299348052579027\tf1sc:0.47756970328860915\n",
      "results/best_model_Trans_36_11st\tAcc:0.8286401098901099\tprec:0.872160692494118\trecall:0.8698315819365728\tf1sc:0.8709945801602227\n",
      "\n",
      "results/best_model_Trans_3_912531st\tAcc:0.7589285714285714\tprec:0.557330407306288\trecall:0.392588750402223\tf1sc:0.46067425083488694\n",
      "results/best_model_Trans_3_912571st\tAcc:0.7651098901098901\tprec:0.5482521278705038\trecall:0.3988660563262605\tf1sc:0.46177798666519493\n",
      "results/best_model_Trans_42_11st\tAcc:0.7608745421245421\tprec:0.7895369515582399\trecall:0.7831042426126342\tf1sc:0.7863074409553128\n",
      "\n",
      "results/best_model_Trans_43_11st\tAcc:0.9059352106227107\tprec:0.9198181217682994\trecall:0.9043780951323268\tf1sc:0.9120327661312383\n",
      "\n",
      "results/best_model_Trans_44_11st\tAcc:0.6303514194139194\tprec:0.6329949448910553\trecall:0.6010001497055537\tf1sc:0.6165827697503854\n",
      "\n",
      "results/best_model_Trans_4_101181st\tAcc:0.5944940476190477\tprec:0.546391357276789\trecall:0.513577697330378\tf1sc:0.5294766180045343\n",
      "\n",
      "results/best_model_Trans_4_101211st\tAcc:0.5492502289377289\tprec:0.5265251813960093\trecall:0.5068032062477954\tf1sc:0.5164759882580189\n",
      "results/best_model_Trans_4_99971st\tAcc:0.6062271062271062\tprec:0.538206090905981\trecall:0.47844150828500503\tf1sc:0.5065671410745357\n",
      "\n",
      "results/best_model_Trans_50_191st\tAcc:0.7182062728937729\tprec:0.5402884496642472\trecall:0.41244342776240944\tf1sc:0.4677883157680209\n",
      "results/best_model_Trans_50_281st\tAcc:0.7118246336996337\tprec:0.5564652897640815\trecall:0.4215168972776318\tf1sc:0.47968056165433903\n",
      "results/best_model_Trans_50_311st\tAcc:0.6964571886446886\tprec:0.5639414277210123\trecall:0.4348367677300032\tf1sc:0.49104489612633917\n",
      "\n",
      "results/best_model_Trans_50_331st\tAcc:0.7532909798534798\tprec:0.5718298214235054\trecall:0.42793619872040617\tf1sc:0.48952789985744705\n",
      "\n",
      "results/best_model_Trans_50_351st\tAcc:0.7095352564102564\tprec:0.5657448968307512\trecall:0.4423048626712567\tf1sc:0.4964669978658752\n",
      "results/best_model_Trans_50_471st\tAcc:0.7293669871794872\tprec:0.5496970294673329\trecall:0.42727224051003754\tf1sc:0.4808140616084266\n",
      "results/best_model_Trans_50_641st\tAcc:0.6828926282051282\tprec:0.541577775321627\trecall:0.44566024471435944\tf1sc:0.48895945857696343\n",
      "\n",
      "results/best_model_Trans_50_891st\tAcc:0.7104223901098901\tprec:0.55502869328785\trecall:0.42529309277657457\tf1sc:0.48157630056508377\n",
      "results/best_model_Trans_50_901st\tAcc:0.6943681318681318\tprec:0.5469635257748048\trecall:0.4434758111648236\tf1sc:0.4898131247897696\n",
      "\n",
      "results/best_model_Trans_50_911st\tAcc:0.6308665293040293\tprec:0.5350652730911344\trecall:0.46649713377992486\tf1sc:0.4984340757396681\n",
      "\n",
      "results/best_model_Trans_56_179881st\tAcc:0.6577667124542125\tprec:0.5511948219953232\trecall:0.45064173918217515\tf1sc:0.4958720870003738\n",
      "\n",
      "results/best_model_Trans_56_179901st\tAcc:0.6597985347985348\tprec:0.5471523974143135\trecall:0.4544114511709176\tf1sc:0.4964881974761626\n",
      "\n",
      "results/best_model_Trans_5_1361st\tAcc:0.6246852106227107\tprec:0.5198069355820867\trecall:0.45359535240248533\tf1sc:0.4844492622157256\n",
      "\n",
      "results/best_model_Trans_5_1941st\tAcc:0.5328239468864469\tprec:0.5572011023696406\trecall:0.5460697215957446\tf1sc:0.5515792573036954\n",
      "\n",
      "results/best_model_Trans_8_2981st\tAcc:0.6426854395604396\tprec:0.5514001157406332\trecall:0.46264612862829174\tf1sc:0.5031390437846456\n",
      "\n"
     ]
    }
   ],
   "source": [
    "for filename in result_file_list_T:\n",
    "    filepath=result_path+ filename\n",
    "    with open( filepath,'r') as f:\n",
    "        print(f.readline())"
   ]
  },
  {
   "cell_type": "code",
   "execution_count": 7,
   "id": "7d886281",
   "metadata": {},
   "outputs": [],
   "source": [
    "result_file_list_A=[file  for file in result_file_list if \"result_A\" in file]"
   ]
  },
  {
   "cell_type": "code",
   "execution_count": 8,
   "id": "d78c0d17",
   "metadata": {},
   "outputs": [
    {
     "data": {
      "text/plain": [
       "['result_ALSTM_12_1001st.txt',\n",
       " 'result_ALSTM_12_2021st.txt',\n",
       " 'result_ALSTM_17_291st.txt',\n",
       " 'result_ALSTM_2_1551st.txt',\n",
       " 'result_ALSTM_2_831st.txt',\n",
       " 'result_ALSTM_30_105401st.txt',\n",
       " 'result_ALSTM_36_11st.txt',\n",
       " 'result_ALSTM_3_912531st.txt',\n",
       " 'result_ALSTM_3_912571st.txt',\n",
       " 'result_ALSTM_42_11st.txt',\n",
       " 'result_ALSTM_43_11st.txt',\n",
       " 'result_ALSTM_44_11st.txt',\n",
       " 'result_ALSTM_4_101181st.txt',\n",
       " 'result_ALSTM_4_101211st.txt',\n",
       " 'result_ALSTM_4_99971st.txt',\n",
       " 'result_ALSTM_50_191st.txt',\n",
       " 'result_ALSTM_50_281st.txt',\n",
       " 'result_ALSTM_50_311st.txt',\n",
       " 'result_ALSTM_50_331st.txt',\n",
       " 'result_ALSTM_50_351st.txt',\n",
       " 'result_ALSTM_50_471st.txt',\n",
       " 'result_ALSTM_50_641st.txt',\n",
       " 'result_ALSTM_50_891st.txt',\n",
       " 'result_ALSTM_50_901st.txt',\n",
       " 'result_ALSTM_50_911st.txt',\n",
       " 'result_ALSTM_56_179881st.txt',\n",
       " 'result_ALSTM_56_179901st.txt',\n",
       " 'result_ALSTM_5_1361st.txt',\n",
       " 'result_ALSTM_5_1941st.txt',\n",
       " 'result_ALSTM_8_2981st.txt']"
      ]
     },
     "execution_count": 8,
     "metadata": {},
     "output_type": "execute_result"
    }
   ],
   "source": [
    "result_file_list_A"
   ]
  },
  {
   "cell_type": "code",
   "execution_count": 9,
   "id": "49cbcb55",
   "metadata": {},
   "outputs": [
    {
     "name": "stdout",
     "output_type": "stream",
     "text": [
      "results/best_model_ALSTM_12_1001st\tAcc:0.47941321499013806\tprec:0.4878353516002285\trecall:0.44964101458340383\tf1sc:0.46796013287488464\n",
      "\n",
      "results/best_model_ALSTM_12_2021st\tAcc:0.5540865384615384\tprec:0.41657978034957494\trecall:0.34659599192283325\tf1sc:0.3783791032971108\n",
      "\n",
      "results/best_model_ALSTM_17_291st\tAcc:0.4655448717948718\tprec:0.4436445451203353\trecall:0.42038453614530447\tf1sc:0.43170145625334166\n",
      "\n",
      "results/best_model_ALSTM_2_1551st\tAcc:0.45284763313609466\tprec:0.15094921104536488\trecall:0.3333333333333333\tf1sc:0.20779771753425816\n",
      "results/best_model_ALSTM_2_831st\tAcc:0.5376910749506904\tprec:0.423023423542495\trecall:0.3626561278017859\tf1sc:0.39052063017012817\n",
      "\n",
      "results/best_model_ALSTM_30_105401st\tAcc:0.77465483234714\tprec:0.2582182774490467\trecall:0.3333333333333333\tf1sc:0.29100676113735297\n",
      "results/best_model_ALSTM_36_11st\tAcc:0.4357741617357002\tprec:0.42958444786823874\trecall:0.3951596119287406\tf1sc:0.411653583178332\n",
      "\n",
      "results/best_model_ALSTM_3_912531st\tAcc:0.7916358481262328\tprec:0.2638786160420776\trecall:0.3333333333333333\tf1sc:0.29456724291161374\n",
      "results/best_model_ALSTM_3_912571st\tAcc:0.7983234714003945\tprec:0.2661078238001315\trecall:0.3333333333333333\tf1sc:0.29595100996252627\n",
      "results/best_model_ALSTM_42_11st\tAcc:0.4902921597633136\tprec:0.4356730501798404\trecall:0.3797512571851742\tf1sc:0.4057945956066119\n",
      "\n",
      "results/best_model_ALSTM_43_11st\tAcc:0.7868589743589743\tprec:0.585466749266189\trecall:0.3538228000776639\tf1sc:0.4410812080735651\n",
      "\n",
      "results/best_model_ALSTM_44_11st\tAcc:0.5198471400394478\tprec:0.46124028035090453\trecall:0.41105302994289256\tf1sc:0.4347028975978075\n",
      "\n",
      "results/best_model_ALSTM_4_101181st\tAcc:0.5419132149901381\tprec:0.40909900284900286\trecall:0.3600282135339648\tf1sc:0.382998234926366\n",
      "\n",
      "results/best_model_ALSTM_4_101211st\tAcc:0.49195636094674555\tprec:0.4250552102397441\trecall:0.380489150610338\tf1sc:0.4015393906698029\n",
      "results/best_model_ALSTM_4_99971st\tAcc:0.5663523175542406\tprec:0.29478744939271256\trecall:0.3384283171685753\tf1sc:0.3151040314809857\n",
      "\n",
      "results/best_model_ALSTM_50_191st\tAcc:0.737641765285996\tprec:0.24588058842866534\trecall:0.3333333333333333\tf1sc:0.28300492465222965\n",
      "results/best_model_ALSTM_50_281st\tAcc:0.7291358481262328\tprec:0.24304528270874426\trecall:0.3333333333333333\tf1sc:0.28111762643995697\n",
      "results/best_model_ALSTM_50_311st\tAcc:0.7077785996055227\tprec:0.23592619986850757\trecall:0.3333333333333333\tf1sc:0.27629600221364037\n",
      "\n",
      "results/best_model_ALSTM_50_331st\tAcc:0.7776442307692307\tprec:0.25921474358974356\trecall:0.3333333333333333\tf1sc:0.291638494478251\n",
      "\n",
      "results/best_model_ALSTM_50_351st\tAcc:0.7222016765285996\tprec:0.24073389217619987\trecall:0.3333333333333333\tf1sc:0.27956527444734736\n",
      "results/best_model_ALSTM_50_471st\tAcc:0.7503390039447732\tprec:0.25011300131492437\trecall:0.3333333333333333\tf1sc:0.2857880681984916\n",
      "results/best_model_ALSTM_50_641st\tAcc:0.6873767258382643\tprec:0.22912557527942143\trecall:0.3333333333333333\tf1sc:0.2715760763685954\n",
      "\n",
      "results/best_model_ALSTM_50_891st\tAcc:0.7298754930966469\tprec:0.24329183103221563\trecall:0.3333333333333333\tf1sc:0.2812824761124275\n",
      "results/best_model_ALSTM_50_901st\tAcc:0.7043269230769231\tprec:0.23477564102564105\trecall:0.3333333333333333\tf1sc:0.2755054066760696\n",
      "\n",
      "results/best_model_ALSTM_50_911st\tAcc:0.6177268244575936\tprec:0.3123629385964912\trecall:0.3444070626756397\tf1sc:0.32760327652716054\n",
      "\n",
      "results/best_model_ALSTM_56_179881st\tAcc:0.6551405325443787\tprec:0.3050016570605624\trecall:0.33432777273262976\tf1sc:0.31899211871977873\n",
      "\n",
      "results/best_model_ALSTM_56_179901st\tAcc:0.6564965483234714\tprec:0.21883218277449046\trecall:0.3333333333333333\tf1sc:0.26421085271317823\n",
      "\n",
      "results/best_model_ALSTM_5_1361st\tAcc:0.6142135108481263\tprec:0.32715502699055327\trecall:0.3422325226445912\tf1sc:0.3345239696909894\n",
      "\n",
      "results/best_model_ALSTM_5_1941st\tAcc:0.48619329388560156\tprec:0.5007993955331569\trecall:0.45501354793851884\tf1sc:0.47680984302083784\n",
      "\n",
      "results/best_model_ALSTM_8_2981st\tAcc:0.6317184418145957\tprec:0.43468939055720873\trecall:0.34182589021853244\tf1sc:0.38270486511824786\n",
      "\n"
     ]
    }
   ],
   "source": [
    "for filename in result_file_list_A:\n",
    "    filepath=result_path+ filename\n",
    "    with open( filepath,'r') as f:\n",
    "        print(f.readline())"
   ]
  },
  {
   "cell_type": "code",
   "execution_count": 10,
   "id": "143b08ab",
   "metadata": {},
   "outputs": [],
   "source": [
    "result_file_list_L=[file  for file in result_file_list if \"result_L\" in file]"
   ]
  },
  {
   "cell_type": "code",
   "execution_count": 11,
   "id": "14c6e870",
   "metadata": {},
   "outputs": [
    {
     "name": "stdout",
     "output_type": "stream",
     "text": [
      "results/best_model_LSTM_12_1001st\tAcc:0.4719551282051282\tprec:0.47773094930794374\trecall:0.44357309554366403\tf1sc:0.4600188118259471\n",
      "\n",
      "results/best_model_LSTM_12_2021st\tAcc:0.5537167159763313\tprec:0.41361495791253616\trecall:0.3447936364909445\tf1sc:0.37608172296064846\n",
      "\n",
      "results/best_model_LSTM_17_291st\tAcc:0.49516148915187375\tprec:0.47764773121653487\trecall:0.4562515900014649\tf1sc:0.4667045619947841\n",
      "\n",
      "results/best_model_LSTM_2_1551st\tAcc:0.45284763313609466\tprec:0.15094921104536488\trecall:0.3333333333333333\tf1sc:0.20779771753425816\n",
      "results/best_model_LSTM_2_831st\tAcc:0.5384923570019724\tprec:0.43406040289733805\trecall:0.36137054218727366\tf1sc:0.394394118323753\n",
      "\n",
      "results/best_model_LSTM_30_105401st\tAcc:0.77465483234714\tprec:0.2582182774490467\trecall:0.3333333333333333\tf1sc:0.29100676113735297\n",
      "results/best_model_LSTM_36_11st\tAcc:0.44443417159763315\tprec:0.443946049143767\trecall:0.40355753061626576\tf1sc:0.4227894149309287\n",
      "\n",
      "results/best_model_LSTM_3_912531st\tAcc:0.7916358481262328\tprec:0.2638786160420776\trecall:0.3333333333333333\tf1sc:0.29456724291161374\n",
      "results/best_model_LSTM_3_912571st\tAcc:0.7985392011834319\tprec:0.5328462502825904\trecall:0.33400091099973134\tf1sc:0.41061709829886145\n",
      "results/best_model_LSTM_42_11st\tAcc:0.492202909270217\tprec:0.43497981754441395\trecall:0.3801106830410425\tf1sc:0.40569844805482536\n",
      "\n",
      "results/best_model_LSTM_43_11st\tAcc:0.7844859467455622\tprec:0.5412332291474526\trecall:0.34874143382474804\tf1sc:0.42417039544950924\n",
      "\n",
      "results/best_model_LSTM_44_11st\tAcc:0.51892258382643\tprec:0.4614429129306681\trecall:0.40672936299993356\tf1sc:0.4323620719999288\n",
      "\n",
      "results/best_model_LSTM_4_101181st\tAcc:0.563732741617357\tprec:0.4705717304293959\trecall:0.40557817990579537\tf1sc:0.4356643165543657\n",
      "\n",
      "results/best_model_LSTM_4_101211st\tAcc:0.49399038461538464\tprec:0.42774944048264557\trecall:0.3889482707924372\tf1sc:0.40742713714332773\n",
      "results/best_model_LSTM_4_99971st\tAcc:0.5654893984220908\tprec:0.4228813823891628\trecall:0.3472572527920618\tf1sc:0.3813563439024572\n",
      "\n",
      "results/best_model_LSTM_50_191st\tAcc:0.737641765285996\tprec:0.24588058842866534\trecall:0.3333333333333333\tf1sc:0.28300492465222965\n",
      "results/best_model_LSTM_50_281st\tAcc:0.7291358481262328\tprec:0.24304528270874426\trecall:0.3333333333333333\tf1sc:0.28111762643995697\n",
      "results/best_model_LSTM_50_311st\tAcc:0.7077785996055227\tprec:0.23592619986850757\trecall:0.3333333333333333\tf1sc:0.27629600221364037\n",
      "\n",
      "results/best_model_LSTM_50_331st\tAcc:0.7776442307692307\tprec:0.25921474358974356\trecall:0.3333333333333333\tf1sc:0.291638494478251\n",
      "\n",
      "results/best_model_LSTM_50_351st\tAcc:0.7215544871794872\tprec:0.42084950429966733\trecall:0.337367760669481\tf1sc:0.37451285114225685\n",
      "results/best_model_LSTM_50_471st\tAcc:0.7503390039447732\tprec:0.25011300131492437\trecall:0.3333333333333333\tf1sc:0.2857880681984916\n",
      "results/best_model_LSTM_50_641st\tAcc:0.6873767258382643\tprec:0.22912557527942143\trecall:0.3333333333333333\tf1sc:0.2715760763685954\n",
      "\n",
      "results/best_model_LSTM_50_891st\tAcc:0.7298754930966469\tprec:0.24329183103221563\trecall:0.3333333333333333\tf1sc:0.2812824761124275\n",
      "results/best_model_LSTM_50_901st\tAcc:0.7043269230769231\tprec:0.23477564102564105\trecall:0.3333333333333333\tf1sc:0.2755054066760696\n",
      "\n",
      "results/best_model_LSTM_50_911st\tAcc:0.6177268244575936\tprec:0.3123629385964912\trecall:0.3444070626756397\tf1sc:0.32760327652716054\n",
      "\n",
      "results/best_model_LSTM_56_179881st\tAcc:0.6557569033530573\tprec:0.4899325600761202\trecall:0.33457172865782175\tf1sc:0.39761487184529115\n",
      "\n",
      "results/best_model_LSTM_56_179901st\tAcc:0.6564965483234714\tprec:0.21883218277449046\trecall:0.3333333333333333\tf1sc:0.26421085271317823\n",
      "\n",
      "results/best_model_LSTM_5_1361st\tAcc:0.6141210552268245\tprec:0.4285550905712785\trecall:0.3428678004180643\tf1sc:0.3809525047245935\n",
      "\n",
      "results/best_model_LSTM_5_1941st\tAcc:0.4849605522682446\tprec:0.5076349183190764\trecall:0.45395156510017126\tf1sc:0.47929472729489425\n",
      "\n",
      "results/best_model_LSTM_8_2981st\tAcc:0.6292529585798816\tprec:0.43613172250977644\trecall:0.3423002813311169\tf1sc:0.38356082631729677\n",
      "\n"
     ]
    }
   ],
   "source": [
    "for filename in result_file_list_L:\n",
    "    filepath=result_path+ filename\n",
    "    with open( filepath,'r') as f:\n",
    "        print(f.readline())"
   ]
  }
 ],
 "metadata": {
  "kernelspec": {
   "display_name": "Python 3 (ipykernel)",
   "language": "python",
   "name": "python3"
  },
  "language_info": {
   "codemirror_mode": {
    "name": "ipython",
    "version": 3
   },
   "file_extension": ".py",
   "mimetype": "text/x-python",
   "name": "python",
   "nbconvert_exporter": "python",
   "pygments_lexer": "ipython3",
   "version": "3.7.10"
  }
 },
 "nbformat": 4,
 "nbformat_minor": 5
}
