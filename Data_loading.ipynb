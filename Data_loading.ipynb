{
 "cells": [
  {
   "cell_type": "code",
   "execution_count": 1,
   "id": "94b9e9f4",
   "metadata": {},
   "outputs": [],
   "source": [
    "import math\n",
    "import numpy as np\n",
    "import torch\n",
    "import torch.nn as nn\n",
    "import torch.nn.functional as F\n",
    "from torch.nn import TransformerEncoder, TransformerEncoderLayer\n",
    "from numpy import load\n",
    "from torch.utils.data import Dataset"
   ]
  },
  {
   "cell_type": "code",
   "execution_count": 2,
   "id": "53b6d83d",
   "metadata": {},
   "outputs": [],
   "source": [
    "# load array\n",
    "Data = load('Data.npy')\n",
    "# print the array"
   ]
  },
  {
   "cell_type": "code",
   "execution_count": 3,
   "id": "b1468292",
   "metadata": {},
   "outputs": [],
   "source": [
    "Data=np.nan_to_num(Data)"
   ]
  },
  {
   "cell_type": "code",
   "execution_count": 4,
   "id": "23055150",
   "metadata": {},
   "outputs": [],
   "source": [
    "Xdata=[]\n",
    "Ydata=[]\n",
    "Xtrain_data=[]\n",
    "Ytrain_data=[]\n",
    "Xtest_data=[]\n",
    "Ytest_data=[]\n",
    "\n",
    "for idx in range(len(Data)//39):\n",
    "#     print(np.isinf(Data[39*idx:39*(idx)+38][:,:].tolist()).any())\n",
    "    if(np.isinf(Data[39*idx:39*(idx)+38][:,:].tolist()).any()):\n",
    "        print(np.isinf(Data[39*idx:39*(idx)+38][:,:].tolist()).any())\n",
    "        continue\n",
    "    if idx< 3735:\n",
    "        Xtrain_data.append(Data[39*idx:39*(idx)+38][:,:].tolist())\n",
    "        Ytrain_data.append(Data[39*idx:39*(idx)+38][:,5].tolist())\n",
    "    else:\n",
    "        Xtest_data.append(Data[39*idx:39*(idx)+38][:,:].tolist())\n",
    "        Ytest_data.append(Data[39*idx:39*(idx)+38][:,5].tolist())\n",
    "\n",
    "Xtrain_data=np.vstack(Xtrain_data)\n",
    "Ytrain_data=np.vstack(Ytrain_data)\n",
    "\n",
    "Xtrain_data=torch.FloatTensor(Xtrain_data)\n",
    "Ytrain_data=torch.IntTensor(Ytrain_data)\n",
    "Ytrain_data=Ytrain_data.view(-1)\n",
    "\n",
    "\n",
    "Xtest_data=np.vstack(Xtest_data)\n",
    "Ytest_data=np.vstack(Ytest_data)\n",
    "Xtest_data=torch.FloatTensor(Xtest_data)\n",
    "Ytest_data=torch.IntTensor(Ytest_data)\n",
    "Ytest_data=Ytest_data.view(-1)"
   ]
  },
  {
   "cell_type": "code",
   "execution_count": 5,
   "id": "3beca2b2",
   "metadata": {},
   "outputs": [
    {
     "data": {
      "text/plain": [
       "torch.Size([141930, 6])"
      ]
     },
     "execution_count": 5,
     "metadata": {},
     "output_type": "execute_result"
    }
   ],
   "source": [
    "Xtrain_data.size()"
   ]
  },
  {
   "cell_type": "code",
   "execution_count": 6,
   "id": "cd1f35bd",
   "metadata": {},
   "outputs": [],
   "source": [
    "Ytrain_data=2*(Ytrain_data>0).long()+(Ytrain_data==0).long()\n",
    "Ytest_data=2*(Ytest_data>0).long()+(Ytest_data==0).long()"
   ]
  },
  {
   "cell_type": "markdown",
   "id": "4b37bc1a",
   "metadata": {},
   "source": [
    "Ydata=(torch.stack([Ydata>0,Ydata==0, Ydata<0],axis=0)).float()"
   ]
  },
  {
   "cell_type": "code",
   "execution_count": 7,
   "id": "0358866a",
   "metadata": {},
   "outputs": [],
   "source": [
    "Ytrain_data=Ytrain_data.T\n",
    "Ytest_data=Ytest_data.T"
   ]
  },
  {
   "cell_type": "markdown",
   "id": "1f6efa45",
   "metadata": {},
   "source": [
    "from torch.utils.data import DataLoader, random_split\n",
    "Xtrain_data,Xtest_data=random_split(Xdata, [157700-15770, 15770])\n",
    "Ytrain_data,Ytest_data=random_split(Ydata, [157700-15770, 15770])"
   ]
  },
  {
   "cell_type": "code",
   "execution_count": 14,
   "id": "a6fbe991",
   "metadata": {},
   "outputs": [],
   "source": [
    "device = torch.device(\"cuda\" if torch.cuda.is_available() else \"cpu\")\n",
    "\n",
    "def batchify(data, bsz):\n",
    "    # 데이터셋을 bsz 파트들로 나눕니다.\n",
    "    nbatch = data.size(0) // bsz\n",
    "    # 깔끔하게 나누어 떨어지지 않는 추가적인 부분(나머지들) 은 잘라냅니다.\n",
    "    data = data.narrow(0, 0, nbatch * bsz)\n",
    "    # 데이터에 대하여 bsz 배치들로 동등하게 나눕니다.\n",
    "    data = data.view(bsz, -1,data.size(1)).transpose(0,1).contiguous()\n",
    "    return data.to(device)"
   ]
  },
  {
   "cell_type": "code",
   "execution_count": 15,
   "id": "cf7796df",
   "metadata": {},
   "outputs": [],
   "source": [
    "bptt = 38\n",
    "def get_batch(source, i,bs):\n",
    "    seq_len = min(bptt*bs, len(source) - 1 - i)\n",
    "    data = source[i:i+seq_len]\n",
    "    target = source[i+1:i+1+seq_len].reshape(-1)\n",
    "    return data, target"
   ]
  },
  {
   "cell_type": "code",
   "execution_count": null,
   "id": "cac59f78",
   "metadata": {},
   "outputs": [],
   "source": [
    "from torch.utils.data import DataLoader\n",
    "\n",
    "def train_epoch(model, optimizer):\n",
    "    model.train()\n",
    "    losses = 0\n",
    "\n",
    "    for batch, i in enumerate(range(0, Xtrain_data.size(0) - 1, BATCH_SIZE*bptt)):\n",
    "        data, org_targets = get_batch(Xtrain_data, i,BATCH_SIZE)\n",
    "        if (data.isnan().any() or data.isinf().any()):\n",
    "            continue\n",
    "        targets,_ = get_batch(Ytrain_data,i,BATCH_SIZE)\n",
    "        targets=torch.unsqueeze(targets,1)\n",
    "        src=batchify(data,BATCH_SIZE)\n",
    "        tgt=batchify(targets,BATCH_SIZE)\n",
    "\n",
    "        logits = model(src)\n",
    "\n",
    "        optimizer.zero_grad()\n",
    "\n",
    "        loss = loss_fn(logits.reshape(-1, logits.shape[-1]), tgt.reshape(-1))\n",
    "        loss.backward()\n",
    "\n",
    "        optimizer.step()\n",
    "        losses += loss.item()\n",
    "        \n",
    "    return losses / Xtrain_data.size(0)"
   ]
  },
  {
   "cell_type": "code",
   "execution_count": null,
   "id": "ecaa20ed",
   "metadata": {},
   "outputs": [],
   "source": [
    "def evaluate(model):\n",
    "    model.eval()\n",
    "    losses = 0\n",
    "    total=0\n",
    "    correct=0\n",
    "    correct1=0\n",
    "    tot1=0\n",
    "    correct2=0\n",
    "    tot2=0\n",
    "    correct0=0\n",
    "    tot0=0\n",
    "    with torch.no_grad():\n",
    "        for i in range(0, Xtest_data.size(0) - 1, bptt):\n",
    "\n",
    "            data, org_targets = get_batch(Xtest_data, i,BATCH_SIZE)\n",
    "            if (data.isnan().any() or data.isinf().any()):\n",
    "                continue\n",
    "            targets,_ = get_batch(Ytest_data,i,BATCH_SIZE)\n",
    "            targets=torch.unsqueeze(targets,1)\n",
    "            src=batchify(data,BATCH_SIZE)\n",
    "            tgt=batchify(targets,BATCH_SIZE)\n",
    "\n",
    "            logits = model(src)\n",
    "\n",
    "\n",
    "            loss = loss_fn(logits.reshape(-1, logits.shape[-1]), tgt.reshape(-1))\n",
    "            if(loss.isnan()):\n",
    "                print(src,tgt_input)\n",
    "                break\n",
    "\n",
    "            losses += loss.item()\n",
    "\n",
    "            _,predicted=torch.max(logits,-1)\n",
    "            \n",
    "            correct += (tgt.squeeze() == predicted).sum().item()\n",
    "            total+=len(predicted)*BATCH_SIZE\n",
    "            tot0+=(0== tgt.squeeze()).sum().item()\n",
    "            tot1+=(1== tgt.squeeze()).sum().item()\n",
    "            tot2+=(2== tgt.squeeze()).sum().item()\n",
    "            correct0+=((0== predicted) &(0==tgt.squeeze())).sum().item()\n",
    "            correct1+=((1== predicted)&(1==tgt.squeeze())).sum().item()\n",
    "            correct2+=((2== predicted)&(2==tgt.squeeze())).sum().item()\n",
    "            \n",
    "    print(total)\n",
    "    print(correct)\n",
    "    print(\"Acc:\",correct/total*100)            \n",
    "    print(\"Acc0:\",correct0/tot0*100,correct0,tot0)     \n",
    "    print(\"Acc1:\",correct1/tot1*100,correct1,tot1)     \n",
    "    print(\"Acc2:\",correct2/tot2*100,correct2,tot2)     \n",
    "    return losses / Xtest_data.size(0)"
   ]
  },
  {
   "cell_type": "code",
   "execution_count": null,
   "id": "ecd4b89a",
   "metadata": {},
   "outputs": [],
   "source": [
    "from timeit import default_timer as timer\n",
    "NUM_EPOCHS = 1900\n",
    "best_val_loss=100000000\n",
    "for epoch in range(1, NUM_EPOCHS+1):\n",
    "    start_time = timer()\n",
    "    train_loss = train_epoch(lstm, optimizer)\n",
    "    end_time = timer()\n",
    "    val_loss = evaluate(lstm)\n",
    "    print((f\"Epoch: {epoch}, Train loss: {train_loss:.3f}, Val loss: {val_loss:.3f}, \"f\"Epoch time = {(end_time - start_time):.3f}s\"))\n",
    "    if val_loss < best_val_loss:\n",
    "        best_val_loss = val_loss\n",
    "        best_model = lstm\n",
    "PATH='best_model_seq'\n",
    "torch.save(best_model.state_dict(), PATH)"
   ]
  }
 ],
 "metadata": {
  "kernelspec": {
   "display_name": "Python 3",
   "language": "python",
   "name": "python3"
  },
  "language_info": {
   "codemirror_mode": {
    "name": "ipython",
    "version": 3
   },
   "file_extension": ".py",
   "mimetype": "text/x-python",
   "name": "python",
   "nbconvert_exporter": "python",
   "pygments_lexer": "ipython3",
   "version": "3.7.10"
  }
 },
 "nbformat": 4,
 "nbformat_minor": 5
}
