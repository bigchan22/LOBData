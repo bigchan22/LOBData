{
 "cells": [
  {
   "cell_type": "code",
   "execution_count": 1,
   "id": "4f37f913",
   "metadata": {},
   "outputs": [],
   "source": [
    "### 필요 라이브러리\n",
    "import os\n",
    "import pandas as pd\n",
    "import numpy as np\n",
    "import datetime as dt\n",
    "import math\n",
    "import warnings\n",
    "warnings.filterwarnings(action='ignore')\n",
    "# save numpy array as npy file\n",
    "from numpy import asarray\n",
    "from numpy import save\n",
    "from DataInfo import *\n",
    "### 데이터 보여지는 개수 설정\n",
    "pd.set_option('display.max_columns', 40)\n",
    "pd.set_option('display.max_rows', 300)"
   ]
  },
  {
   "cell_type": "code",
   "execution_count": 2,
   "id": "ab0b0ac6",
   "metadata": {},
   "outputs": [],
   "source": [
    "path_dir = '/Data/ksqord'"
   ]
  },
  {
   "cell_type": "code",
   "execution_count": 3,
   "id": "5f78f66c",
   "metadata": {},
   "outputs": [],
   "source": [
    "file_list=os.listdir(path_dir)\n",
    "file_list.sort()"
   ]
  },
  {
   "cell_type": "code",
   "execution_count": 6,
   "id": "291de9c9",
   "metadata": {},
   "outputs": [
    {
     "name": "stdout",
     "output_type": "stream",
     "text": [
      "extracting stats from ksqord_20170602.csv\n",
      "                                                       ORD_PRC    ORD_QTY  \\\n",
      "MBR_NO BRN_NO ASKBID_TP_CD MODCANCL_TP_CD PT_TP_CD                          \n",
      "1      1      1            1              0         14211753.0  4025897.0   \n",
      "                           2              0          5135342.0   295776.0   \n",
      "                           3              0          1700837.0   578624.0   \n",
      "              2            1              0         10314693.0  3098110.0   \n",
      "                           2              0          2029825.0    89273.0   \n",
      "...                                                        ...        ...   \n",
      "86     999    1            2              0           648700.0     3979.0   \n",
      "                           3              0           228200.0     1238.0   \n",
      "              2            1              0          2682690.0    21779.0   \n",
      "                           2              0           227140.0     6148.0   \n",
      "                           3              0           259310.0     1850.0   \n",
      "\n",
      "                                                         ORD_VOL  \n",
      "MBR_NO BRN_NO ASKBID_TP_CD MODCANCL_TP_CD PT_TP_CD                \n",
      "1      1      1            1              0         7.258872e+09  \n",
      "                           2              0         3.233772e+08  \n",
      "                           3              0         1.046401e+09  \n",
      "              2            1              0         8.408936e+09  \n",
      "                           2              0         2.542627e+08  \n",
      "...                                                          ...  \n",
      "86     999    1            2              0         1.534500e+07  \n",
      "                           3              0         3.010000e+07  \n",
      "              2            1              0         3.024050e+08  \n",
      "                           2              0         7.260675e+07  \n",
      "                           3              0         2.322500e+07  \n",
      "\n",
      "[9116 rows x 3 columns]\n"
     ]
    }
   ],
   "source": [
    "columnlist=['MBR_NO','BRN_NO','ASKBID_TP_CD','MODCANCL_TP_CD','PT_TP_CD']\n",
    "featlist=columnlist + ['ORD_QTY','ORD_PRC']\n",
    "filename = file_list[0]\n",
    "df = pd.read_csv(path_dir+'/'+filename, sep=',', names=header_df, encoding=\"cp949\")\n",
    "df = df[featlist]\n",
    "df['ORD_VOL'] = df['ORD_QTY'] * df['ORD_PRC']\n",
    "gdf = df.groupby(columnlist).sum()\n",
    "for filename in file_list[1:]:\n",
    "    print(\"extracting stats from\", filename )\n",
    "    df = pd.read_csv(path_dir+'/'+filename, sep=',', names=header_df, encoding=\"cp949\")\n",
    "    df = df[featlist]\n",
    "    df['ORD_VOL'] = df['ORD_QTY'] * df['ORD_PRC']\n",
    "    tgdf = df[featlist].groupby(columnlist).sum()\n",
    "    gdf = gdf.add(tgdf).fillna(gdf).fillna(tgdf)\n",
    "    print(gdf)"
   ]
  },
  {
   "cell_type": "code",
   "execution_count": null,
   "id": "085d6e70",
   "metadata": {},
   "outputs": [],
   "source": [
    "gdf.to_csv('./StatsForDataSelection/AlmostFullColumn_sum')"
   ]
  },
  {
   "cell_type": "markdown",
   "id": "fc027130",
   "metadata": {},
   "source": [
    "gdf=pd.read_csv('./StatsForDataSelection/columnlistcount')"
   ]
  },
  {
   "cell_type": "markdown",
   "id": "dcc1314b",
   "metadata": {},
   "source": [
    "gdf"
   ]
  }
 ],
 "metadata": {
  "kernelspec": {
   "display_name": "Python 3 (ipykernel)",
   "language": "python",
   "name": "python3"
  },
  "language_info": {
   "codemirror_mode": {
    "name": "ipython",
    "version": 3
   },
   "file_extension": ".py",
   "mimetype": "text/x-python",
   "name": "python",
   "nbconvert_exporter": "python",
   "pygments_lexer": "ipython3",
   "version": "3.7.10"
  }
 },
 "nbformat": 4,
 "nbformat_minor": 5
}
