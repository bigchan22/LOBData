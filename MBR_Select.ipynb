{
 "cells": [
  {
   "cell_type": "code",
   "execution_count": 1,
   "id": "dc658b38",
   "metadata": {},
   "outputs": [],
   "source": [
    "### 필요 라이브러리\n",
    "import os\n",
    "import pandas as pd\n",
    "import numpy as np\n",
    "import datetime as dt\n",
    "import math\n",
    "import warnings\n",
    "warnings.filterwarnings(action='ignore')\n",
    "# save numpy array as npy file\n",
    "from numpy import asarray\n",
    "from numpy import save\n",
    "from DataInfo import *\n",
    "### 데이터 보여지는 개수 설정\n",
    "pd.set_option('display.max_columns', 40)\n",
    "pd.set_option('display.max_rows', 300)"
   ]
  },
  {
   "cell_type": "code",
   "execution_count": 2,
   "id": "87d6b326",
   "metadata": {},
   "outputs": [],
   "source": [
    "countdf=pd.read_csv('./StatsForDataSelection/AlmostFullColumn_count')\n",
    "sumdf=pd.read_csv('./StatsForDataSelection/AlmostFullColumn_sum')"
   ]
  },
  {
   "cell_type": "code",
   "execution_count": 3,
   "id": "959ccdcb",
   "metadata": {},
   "outputs": [],
   "source": [
    "countdf = countdf.pivot(index= ['MBR_NO', 'BRN_NO', 'ASKBID_TP_CD','PT_TP_CD'],columns=['MODCANCL_TP_CD'],values='0')\n",
    "countdf = countdf.reset_index()\n",
    "countdf=countdf.rename(columns={1: 'NEW', 2:'EDIT',3:'CANCL'})\n",
    "countdf['NET'] = countdf['NEW']-countdf['CANCL']\n",
    "countdf = countdf.set_index(['MBR_NO','BRN_NO'])"
   ]
  },
  {
   "cell_type": "markdown",
   "id": "9a889306",
   "metadata": {},
   "source": [
    "countdf.sum(level=[0]).sort_values('NET',ascending=False).index[:30]#MBR_count_top"
   ]
  },
  {
   "cell_type": "markdown",
   "id": "600c6e97",
   "metadata": {},
   "source": [
    "countdf.sum(level=[0,1]).sort_values('NET',ascending=False).index[:30]#MBRN_count_top"
   ]
  },
  {
   "cell_type": "code",
   "execution_count": 4,
   "id": "44ab6540",
   "metadata": {},
   "outputs": [
    {
     "data": {
      "text/plain": [
       "Int64Index([36, 42,  2, 58, 45, 30, 17, 37, 12, 33,  3, 43, 44, 46,  5, 21, 24,\n",
       "            56, 54, 10, 63,  8, 50,  4, 41,  1, 71, 25,  6, 68],\n",
       "           dtype='int64', name='MBR_NO')"
      ]
     },
     "execution_count": 4,
     "metadata": {},
     "output_type": "execute_result"
    }
   ],
   "source": [
    "countdf[countdf['PT_TP_CD']==31].sum(level=[0]).sort_values('NET',ascending=False).index[:30]#MBRNPT_count_top"
   ]
  },
  {
   "cell_type": "markdown",
   "id": "74798449",
   "metadata": {},
   "source": [
    "countdf[countdf['PT_TP_CD']==31].sum(level=0,1]).sort_values('NET',ascending=False).index[:30]#MBRNPT_count_top"
   ]
  },
  {
   "cell_type": "code",
   "execution_count": 5,
   "id": "945e6134",
   "metadata": {},
   "outputs": [],
   "source": [
    "sumdf = sumdf.pivot(index= ['MBR_NO', 'BRN_NO', 'ASKBID_TP_CD','PT_TP_CD'],columns=['MODCANCL_TP_CD'],values='ORD_VOL')\n",
    "sumdf = sumdf.reset_index()"
   ]
  },
  {
   "cell_type": "code",
   "execution_count": 6,
   "id": "4c11fcde",
   "metadata": {},
   "outputs": [],
   "source": [
    "sumdf=sumdf.rename(columns={1: 'NEW', 2:'EDIT',3:'CANCL'})\n",
    "sumdf['NET'] = sumdf['NEW']-sumdf['CANCL']\n",
    "sumdf = sumdf.set_index(['MBR_NO','BRN_NO'])"
   ]
  },
  {
   "cell_type": "code",
   "execution_count": 7,
   "id": "84e36851",
   "metadata": {},
   "outputs": [
    {
     "data": {
      "text/plain": [
       "Int64Index([50,  5, 12,  3, 30, 17,  4,  2, 56, 24, 63,  8, 44, 25, 31, 21,  1,\n",
       "            10, 42, 36, 46, 43, 71, 22, 68, 72, 33,  6, 45, 58],\n",
       "           dtype='int64', name='MBR_NO')"
      ]
     },
     "execution_count": 7,
     "metadata": {},
     "output_type": "execute_result"
    }
   ],
   "source": [
    "sumdf.sum(level=[0]).sort_values('NET',ascending=False).index[:30]#MBR_sum_top"
   ]
  },
  {
   "cell_type": "markdown",
   "id": "ed41e16b",
   "metadata": {},
   "source": [
    "sumdf.sum(level=[0,1]).sort_values('NET',ascending=False).index[:30]#MBRN_sum_top"
   ]
  },
  {
   "cell_type": "code",
   "execution_count": 9,
   "id": "332d1732",
   "metadata": {},
   "outputs": [
    {
     "data": {
      "text/plain": [
       "MultiIndex([(42,     1),\n",
       "            (36,     1),\n",
       "            (44,     1),\n",
       "            (43,     1),\n",
       "            ( 2,   155),\n",
       "            (45,     1),\n",
       "            (58,     1),\n",
       "            (33,     1),\n",
       "            (54,     1),\n",
       "            (36,     2),\n",
       "            (37,     1),\n",
       "            ( 3,  1710),\n",
       "            (30, 19910),\n",
       "            (41,     1),\n",
       "            ( 5,   167),\n",
       "            (17,   700),\n",
       "            (12,   172),\n",
       "            ( 5,   155),\n",
       "            (30, 19920),\n",
       "            ( 3,  1370),\n",
       "            ( 2,   144),\n",
       "            ( 6,   570),\n",
       "            (40,     1),\n",
       "            ( 8,     1),\n",
       "            (25,  1093),\n",
       "            (35,     1),\n",
       "            ( 8,   999),\n",
       "            (30, 10620),\n",
       "            (30, 10640),\n",
       "            (30, 19900)],\n",
       "           names=['MBR_NO', 'BRN_NO'])"
      ]
     },
     "execution_count": 9,
     "metadata": {},
     "output_type": "execute_result"
    }
   ],
   "source": [
    "sumdf[sumdf['PT_TP_CD']==31].sum(level=[0,1]).sort_values('NET',ascending=False).index[:30]#MBRNPT_sum_top"
   ]
  }
 ],
 "metadata": {
  "kernelspec": {
   "display_name": "Python 3 (ipykernel)",
   "language": "python",
   "name": "python3"
  },
  "language_info": {
   "codemirror_mode": {
    "name": "ipython",
    "version": 3
   },
   "file_extension": ".py",
   "mimetype": "text/x-python",
   "name": "python",
   "nbconvert_exporter": "python",
   "pygments_lexer": "ipython3",
   "version": "3.7.10"
  }
 },
 "nbformat": 4,
 "nbformat_minor": 5
}
