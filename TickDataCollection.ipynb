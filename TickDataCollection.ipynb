{
 "cells": [
  {
   "cell_type": "code",
   "execution_count": 1,
   "id": "2badfd68",
   "metadata": {},
   "outputs": [],
   "source": [
    "import pandas as pd\n",
    "from source.TrainDataGeneration import append_ORD_TM,append_ORD_VOL,append_TM_GP,GetGroupDataFrame,append_STEP5"
   ]
  },
  {
   "cell_type": "code",
   "execution_count": 2,
   "id": "e27ac61d",
   "metadata": {},
   "outputs": [],
   "source": [
    "path_dir = '/Data/Data/ord201709'\n",
    "ISUlist=['KR7078130002', 'KR7019550003', 'KR7021080007', 'KR7044180008',\n",
    "       'KR7099830002', 'KR7036630002', 'KR7065450009', 'KR7106080005',\n",
    "       'KR7224060004', 'KR7025440009', 'KR7215600008', 'KR7223310004',\n",
    "       'KR7097780001', 'KR7025320003', 'KR7011320009', 'KR7066980004',\n",
    "       'KR7024810004', 'KR7014190003', 'KR7030270003', 'KR7208640003',\n",
    "       'KR7024740003', 'KR7058530007', 'KR7041140005', 'KR7203650007',\n",
    "       'KR7053110003', 'KR7036620003', 'KR7019590009', 'KR7042040006',\n",
    "       'KR7019570001', 'KR7036090009', 'KR7131100000', 'KR7046120002',\n",
    "       'KR7052290004', 'KR7193250008', 'KR7200230001', 'KR7028040004',\n",
    "       'KR7016600009', 'USU652221081', 'KR7094190006', 'KR7012340006',\n",
    "       'KR7064240005', 'KR7066410002', 'KR7197210008', 'KR7192410009',\n",
    "       'KR7026260000', 'KR7054180005', 'KR7078650009', 'KR7038110003',\n",
    "       'KR7035620004', 'KR7053590006', 'KR7131090003', 'KR7215100009',\n",
    "       'KR7043200005', 'KR7225570001', 'KR7018000000', 'KR7204840003',\n",
    "       'KR7204620009', 'KR7121800007', 'KR7066790007', 'HK0000295359',\n",
    "       'KR7060560000', 'KR7024850000', 'KR7159910009', 'KR7006910004',\n",
    "       'KR7033110008', 'KR7065060006', 'KR7140520008', 'KR7020180006',\n",
    "       'KR7001000009', 'KR7056730005', 'KR7096040001', 'KR7022100002',\n",
    "       'KR7071670004', 'KYG3931T1076', 'KR7039230008', 'KR7003670007',\n",
    "       'KR7065350001', 'KR7036930006', 'KR7217270008', 'KR7003310000',\n",
    "       'KR7090710005', 'KR7086520004', 'KR7017680000', 'KR7048870000',\n",
    "       'KR7035480003', 'KR7104040001', 'KR7082660002', 'HK0000341732',\n",
    "       'KR7080470008', 'KR7214270001', 'KR7010170009', 'KR7078150000',\n",
    "       'KR7035890003', 'KR7052420007', 'KR7016670002', 'KR7127160000',\n",
    "       'KR7066590001', 'KR7220180004', 'KR7057680001', 'KR7049470008']"
   ]
  },
  {
   "cell_type": "code",
   "execution_count": 3,
   "id": "e743fac2",
   "metadata": {},
   "outputs": [],
   "source": [
    "columns=['Unnamed: 0', 'ISU_CD', 'ORD_DD', 'ORD_ACPT_NO', 'REGUL_OFFHR_TP_CD',\n",
    "       'BLKTRD_TP_CD', '호가장처리가격', 'ASKBID_TP_CD', 'MODCANCL_TP_CD',\n",
    "       'ORD_TP_CD', 'ORD_COND_CD', 'INVST_TP_CD', 'ASK_STEP1_BSTORD_PRC',\n",
    "       'ASK_STEP1_BSTORD_RQTY', 'ASK_STEP2_BSTORD_PRC',\n",
    "       'ASK_STEP2_BSTORD_RQTY', 'ASK_STEP3_BSTORD_PRC',\n",
    "       'ASK_STEP3_BSTORD_RQTY', 'ASK_STEP4_BSTORD_PRC',\n",
    "       'ASK_STEP4_BSTORD_RQTY', 'ASK_STEP5_BSTORD_PRC',\n",
    "       'ASK_STEP5_BSTORD_RQTY', 'BID_STEP1_BSTORD_PRC',\n",
    "       'BID_STEP1_BSTORD_RQTY', 'BID_STEP2_BSTORD_PRC',\n",
    "       'BID_STEP2_BSTORD_RQTY', 'BID_STEP3_BSTORD_PRC',\n",
    "       'BID_STEP3_BSTORD_RQTY', 'BID_STEP4_BSTORD_PRC',\n",
    "       'BID_STEP4_BSTORD_RQTY', 'BID_STEP5_BSTORD_PRC',\n",
    "       'BID_STEP5_BSTORD_RQTY', 'ORD_ACPT_TM', 'ORD_QTY', 'ORD_PRC',\n",
    "       '호가우선순위번호', 'MBR_NO', 'BRN_NO', 'CNTR_CD', 'TRST_PRINC_TP_CD',\n",
    "       'FORNINVST_TP_CD', 'ORD_MEDIA_TP_CD', '회원사주문시각', '예상체결가격', '예상체결수량',\n",
    "       '매도총호가잔량', '매수총호가잔량', '호가체결접수순서번호', '직전체결가격', '누적체결수량', '누적거래대금',\n",
    "       'AGG_TM', '시가', '고가', '저가', 'ORGN_ORD_ACPT_NO', '시장구분코드', '자동취소처리구분코드',\n",
    "       'MKTSTAT_TP_CD', '매도10단계호가합계잔량', '매수10단계호가합계잔량', 'PT_TP_CD', 'ORD_TM',\n",
    "       'ORD_VOL', 'TM_GP', '매도5단계호가합계잔량', '매수5단계호가합계잔량']"
   ]
  },
  {
   "cell_type": "code",
   "execution_count": 4,
   "id": "249ac3eb",
   "metadata": {},
   "outputs": [],
   "source": [
    "groupcolumns=['ORD_DD','ISU_CD','MBR_NO', 'BRN_NO','ASKBID_TP_CD','MODCANCL_TP_CD','TM_GP']\n",
    "sumcolumns=['ORD_QTY','ORD_VOL']\n",
    "\n",
    "\n",
    "#meancolumns=[column for column in DataLoaded.columns if column not in (sumcolumns+lastcolumns+groupcolumns)]\n",
    "meancolumns=['INVST_TP_CD', '호가장처리가격',\n",
    "             'ASK_STEP1_BSTORD_PRC','ASK_STEP1_BSTORD_RQTY', 'ASK_STEP2_BSTORD_PRC','ASK_STEP2_BSTORD_RQTY', \n",
    "             'ASK_STEP3_BSTORD_PRC','ASK_STEP3_BSTORD_RQTY', 'ASK_STEP4_BSTORD_PRC','ASK_STEP4_BSTORD_RQTY', \n",
    "             'ASK_STEP5_BSTORD_PRC','ASK_STEP5_BSTORD_RQTY', 'BID_STEP1_BSTORD_PRC','BID_STEP1_BSTORD_RQTY', \n",
    "             'BID_STEP2_BSTORD_PRC','BID_STEP2_BSTORD_RQTY', 'BID_STEP3_BSTORD_PRC','BID_STEP3_BSTORD_RQTY', \n",
    "             'BID_STEP4_BSTORD_PRC','BID_STEP4_BSTORD_RQTY', 'BID_STEP5_BSTORD_PRC','BID_STEP5_BSTORD_RQTY', \n",
    "             '매도5단계호가합계잔량','매수5단계호가합계잔량','매도10단계호가합계잔량', '매수10단계호가합계잔량',\n",
    "             '매도총호가잔량','매수총호가잔량','ORD_PRC', '시가','고가','저가',\n",
    "             '시장구분코드', '자동취소처리구분코드','REGUL_OFFHR_TP_CD','BLKTRD_TP_CD','CNTR_CD','TRST_PRINC_TP_CD',\n",
    "             'FORNINVST_TP_CD', 'ORD_MEDIA_TP_CD','MKTSTAT_TP_CD',  'PT_TP_CD','ORD_COND_CD',\n",
    "             '예상체결가격', '예상체결수량','누적체결수량', '누적거래대금','직전체결가격',\n",
    "             '회원사주문시각','AGG_TM','ORD_TM','ORD_ACPT_TM']\n",
    "#lastcolumns=['누적체결수량', '누적거래대금','매도총호가잔량', '매수총호가잔량']\n",
    "lastcolumns=[column for column in columns if column not in (sumcolumns+meancolumns+groupcolumns)]"
   ]
  },
  {
   "cell_type": "code",
   "execution_count": 5,
   "id": "7dd4ad45",
   "metadata": {},
   "outputs": [],
   "source": [
    "groupcolumns=['ORD_DD','ISU_CD','TM_GP']\n",
    "sumcolumns=[]\n",
    "\n",
    "\n",
    "meancolumns=['호가장처리가격','ASK_STEP1_BSTORD_PRC','ASK_STEP1_BSTORD_RQTY', 'ASK_STEP2_BSTORD_PRC','ASK_STEP2_BSTORD_RQTY', \n",
    "             'ASK_STEP3_BSTORD_PRC','ASK_STEP3_BSTORD_RQTY', 'ASK_STEP4_BSTORD_PRC','ASK_STEP4_BSTORD_RQTY', \n",
    "             'ASK_STEP5_BSTORD_PRC','ASK_STEP5_BSTORD_RQTY', 'BID_STEP1_BSTORD_PRC','BID_STEP1_BSTORD_RQTY', \n",
    "             'BID_STEP2_BSTORD_PRC','BID_STEP2_BSTORD_RQTY', 'BID_STEP3_BSTORD_PRC','BID_STEP3_BSTORD_RQTY', \n",
    "             'BID_STEP4_BSTORD_PRC','BID_STEP4_BSTORD_RQTY', 'BID_STEP5_BSTORD_PRC','BID_STEP5_BSTORD_RQTY', \n",
    "             '매도5단계호가합계잔량','매수5단계호가합계잔량','매도10단계호가합계잔량', '매수10단계호가합계잔량',\n",
    "             '매도총호가잔량','매수총호가잔량','ORD_PRC', '시가','고가','저가',\n",
    "             '누적체결수량', '누적거래대금','직전체결가격']\n",
    "#lastcolumns=[column for column in columns if column not in (sumcolumns+meancolumns+groupcolumns)]\n",
    "lastcolumns=[]"
   ]
  },
  {
   "cell_type": "code",
   "execution_count": 6,
   "id": "fd24d96e",
   "metadata": {},
   "outputs": [
    {
     "data": {
      "text/plain": [
       "[]"
      ]
     },
     "execution_count": 6,
     "metadata": {},
     "output_type": "execute_result"
    }
   ],
   "source": [
    "lastcolumns"
   ]
  },
  {
   "cell_type": "code",
   "execution_count": 7,
   "id": "2bac958a",
   "metadata": {},
   "outputs": [],
   "source": [
    "groupmin=10"
   ]
  },
  {
   "cell_type": "code",
   "execution_count": 8,
   "id": "47dc5eed",
   "metadata": {},
   "outputs": [
    {
     "name": "stderr",
     "output_type": "stream",
     "text": [
      "/root/anaconda3/lib/python3.7/site-packages/IPython/core/interactiveshell.py:3166: DtypeWarning: Columns (9) have mixed types.Specify dtype option on import or set low_memory=False.\n",
      "  interactivity=interactivity, compiler=compiler, result=result)\n"
     ]
    }
   ],
   "source": [
    "Data1=pd.read_csv('CollectedData/2022_3_20_22_18.csv')\n",
    "Data=append_ORD_TM(Data1)\n",
    "Data=append_ORD_VOL(Data)\n",
    "Data=append_TM_GP(Data,groupmin=groupmin)\n",
    "Data=append_STEP5(Data)"
   ]
  },
  {
   "cell_type": "code",
   "execution_count": 9,
   "id": "54d7ec78",
   "metadata": {},
   "outputs": [],
   "source": [
    "GDF1=GetGroupDataFrame(Data,groupcolumns,sumcolumns,meancolumns,lastcolumns)"
   ]
  },
  {
   "cell_type": "code",
   "execution_count": 10,
   "id": "d30ac204",
   "metadata": {},
   "outputs": [],
   "source": [
    "Data1=pd.read_csv('CollectedData/2022_3_20_22_25.csv')\n",
    "Data=append_ORD_TM(Data1)\n",
    "Data=append_ORD_VOL(Data)\n",
    "Data=append_TM_GP(Data,groupmin=groupmin)\n",
    "Data=append_STEP5(Data)\n",
    "GDF2=GetGroupDataFrame(Data,groupcolumns,sumcolumns,meancolumns,lastcolumns)"
   ]
  },
  {
   "cell_type": "code",
   "execution_count": 11,
   "id": "9e97b0b4",
   "metadata": {},
   "outputs": [],
   "source": [
    "Data1=pd.read_csv('CollectedData/2022_3_20_22_33.csv')\n",
    "Data=append_ORD_TM(Data1)\n",
    "Data=append_ORD_VOL(Data)\n",
    "Data=append_TM_GP(Data,groupmin=groupmin)\n",
    "Data=append_STEP5(Data)\n",
    "GDF3=GetGroupDataFrame(Data,groupcolumns,sumcolumns,meancolumns,lastcolumns)"
   ]
  },
  {
   "cell_type": "code",
   "execution_count": 12,
   "id": "70118322",
   "metadata": {},
   "outputs": [
    {
     "data": {
      "text/plain": [
       "54.0"
      ]
     },
     "execution_count": 12,
     "metadata": {},
     "output_type": "execute_result"
    }
   ],
   "source": [
    "GDF1['TM_GP'].max()"
   ]
  },
  {
   "cell_type": "code",
   "execution_count": 13,
   "id": "0fd015d4",
   "metadata": {},
   "outputs": [],
   "source": [
    "GDF=pd.concat([GDF1,GDF2,GDF3])"
   ]
  },
  {
   "cell_type": "code",
   "execution_count": 14,
   "id": "437a8b7d",
   "metadata": {},
   "outputs": [],
   "source": [
    "from datetime import datetime"
   ]
  },
  {
   "cell_type": "code",
   "execution_count": 15,
   "id": "2e125dab",
   "metadata": {},
   "outputs": [
    {
     "name": "stdout",
     "output_type": "stream",
     "text": [
      "/Data/Min/TransLOB/CollectedData/GDF2022_3_27_16_52.csv\n"
     ]
    }
   ],
   "source": [
    "SaveDirPath='/Data/Min/TransLOB/CollectedData/'\n",
    "now=datetime.now()\n",
    "filename=\"GDF\"+str(now.year)+'_'+str(now.month)+'_'+str(now.day)+'_'+str(now.hour)+'_'+str(now.minute)+'.csv'\n",
    "print(SaveDirPath+filename)\n",
    "GDF.to_csv(SaveDirPath+filename)\n"
   ]
  },
  {
   "cell_type": "code",
   "execution_count": 16,
   "id": "c344010c",
   "metadata": {},
   "outputs": [],
   "source": [
    "with open(SaveDirPath+'DataInformation.txt', \"a+\") as f:\n",
    "    f.write(filename+'\\t'+path_dir+'\\n')\n",
    "    f.write(str(groupmin)+'CollectedData/2022_3_20_22_18.csv'+'\\t'+'CollectedData/2022_3_20_22_25.csv'+'\\t'+'CollectedData/2022_3_20_22_33.csv'+'\\n')\n",
    "    for col in groupcolumns:\n",
    "        f.write(str(col)+'\\t')\n",
    "    f.write('\\n')"
   ]
  },
  {
   "cell_type": "code",
   "execution_count": 17,
   "id": "96e5ff3c",
   "metadata": {},
   "outputs": [],
   "source": [
    "a=[]"
   ]
  }
 ],
 "metadata": {
  "kernelspec": {
   "display_name": "Python 3",
   "language": "python",
   "name": "python3"
  },
  "language_info": {
   "codemirror_mode": {
    "name": "ipython",
    "version": 3
   },
   "file_extension": ".py",
   "mimetype": "text/x-python",
   "name": "python",
   "nbconvert_exporter": "python",
   "pygments_lexer": "ipython3",
   "version": "3.7.10"
  }
 },
 "nbformat": 4,
 "nbformat_minor": 5
}
