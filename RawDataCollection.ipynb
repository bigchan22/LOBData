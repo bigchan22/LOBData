{
 "cells": [
  {
   "cell_type": "code",
   "execution_count": 1,
   "id": "9065fe8c",
   "metadata": {},
   "outputs": [],
   "source": [
    "from source.RawDataCollection import ReadDataFile,RawDataCollection,SaveCollectedData\n",
    "import pandas as pd\n",
    "import os\n",
    "from DataInfo import ISU_list_MBRN_sum_top,MBRN_sum_top"
   ]
  },
  {
   "cell_type": "code",
   "execution_count": 2,
   "id": "27a3464a",
   "metadata": {},
   "outputs": [],
   "source": [
    "path_dir = '/Data/ksqord/'\n",
    "ISUlist=ISU_list_MBRN_sum_top\n",
    "mbrnlist = MBRN_sum_top"
   ]
  },
  {
   "cell_type": "code",
   "execution_count": 3,
   "id": "d329d054",
   "metadata": {},
   "outputs": [],
   "source": [
    "mbrlist=[a[0] for a in mbrnlist]\n",
    "brnlist=[a[1] for a in mbrnlist]\n",
    "a=os.listdir(path_dir)\n",
    "a.sort()\n",
    "for filename in a: \n",
    "    SaveCollectedData(path_dir,[filename],ISU_CD=ISUlist, MBR_NO = mbrlist, BRN_NO = brnlist)"
   ]
  }
 ],
 "metadata": {
  "kernelspec": {
   "display_name": "Python 3 (ipykernel)",
   "language": "python",
   "name": "python3"
  },
  "language_info": {
   "codemirror_mode": {
    "name": "ipython",
    "version": 3
   },
   "file_extension": ".py",
   "mimetype": "text/x-python",
   "name": "python",
   "nbconvert_exporter": "python",
   "pygments_lexer": "ipython3",
   "version": "3.7.10"
  }
 },
 "nbformat": 4,
 "nbformat_minor": 5
}
