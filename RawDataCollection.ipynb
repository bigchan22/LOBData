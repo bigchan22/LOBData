{
 "cells": [
  {
   "cell_type": "code",
   "execution_count": 1,
   "id": "9065fe8c",
   "metadata": {},
   "outputs": [],
   "source": [
    "from source.RawDataCollection import ReadDataFile,RawDataCollection,SaveCollectedData\n",
    "import pandas as pd\n",
    "import os\n",
    "from DataInfo import ISU_list_MBRN_sum_top,MBRN_sum_top"
   ]
  },
  {
   "cell_type": "code",
   "execution_count": 2,
   "id": "27a3464a",
   "metadata": {},
   "outputs": [],
   "source": [
    "path_dir = '/Data/ksqord/'\n",
    "ISUlist=ISU_list_MBRN_sum_top\n",
    "# mbrnlist = MBRN_sum_top\n",
    "SaveDirPath='/Data/LOBData/CollectedRawData/MBRN_sum_top/'"
   ]
  },
  {
   "cell_type": "markdown",
   "id": "3a57f97a",
   "metadata": {},
   "source": [
    "# mbrlist=[a[0] for a in mbrnlist]\n",
    "# brnlist=[a[1] for a in mbrnlist]\n",
    "a=os.listdir(path_dir)\n",
    "a.sort()\n",
    "for filename in a: \n",
    "#     SaveCollectedData(path_dir,[filename],ISU_CD=ISUlist, MBR_NO = mbrlist, BRN_NO = brnlist)\n",
    "    print(filename)\n",
    "    SaveCollectedData(path_dir,[filename],ISU_CD=ISUlist,SaveDirPath=SaveDirPath)"
   ]
  },
  {
   "cell_type": "code",
   "execution_count": 3,
   "id": "fbb380d5",
   "metadata": {},
   "outputs": [],
   "source": [
    "a=os.listdir(path_dir)\n",
    "a.sort()"
   ]
  },
  {
   "cell_type": "code",
   "execution_count": 4,
   "id": "b968af0f",
   "metadata": {},
   "outputs": [
    {
     "name": "stdout",
     "output_type": "stream",
     "text": [
      "Reading  /Data/ksqord/ksqord_20170601.csv\n"
     ]
    },
    {
     "name": "stderr",
     "output_type": "stream",
     "text": [
      "/root/anaconda3/lib/python3.7/site-packages/ipykernel_launcher.py:1: DtypeWarning: Columns (8) have mixed types.Specify dtype option on import or set low_memory=False.\n",
      "  \"\"\"Entry point for launching an IPython kernel.\n"
     ]
    }
   ],
   "source": [
    "data=ReadDataFile(path_dir+a[0])"
   ]
  },
  {
   "cell_type": "code",
   "execution_count": 5,
   "id": "01ef421f",
   "metadata": {},
   "outputs": [
    {
     "data": {
      "text/plain": [
       "Index(['ISU_CD', 'ORD_DD', 'ORD_ACPT_NO', 'REGUL_OFFHR_TP_CD', 'BLKTRD_TP_CD',\n",
       "       '호가장처리가격', 'ASKBID_TP_CD', 'MODCANCL_TP_CD', 'ORD_TP_CD', 'ORD_COND_CD',\n",
       "       'INVST_TP_CD', 'ASK_STEP1_BSTORD_PRC', 'ASK_STEP1_BSTORD_RQTY',\n",
       "       'ASK_STEP2_BSTORD_PRC', 'ASK_STEP2_BSTORD_RQTY', 'ASK_STEP3_BSTORD_PRC',\n",
       "       'ASK_STEP3_BSTORD_RQTY', 'ASK_STEP4_BSTORD_PRC',\n",
       "       'ASK_STEP4_BSTORD_RQTY', 'ASK_STEP5_BSTORD_PRC',\n",
       "       'ASK_STEP5_BSTORD_RQTY', 'BID_STEP1_BSTORD_PRC',\n",
       "       'BID_STEP1_BSTORD_RQTY', 'BID_STEP2_BSTORD_PRC',\n",
       "       'BID_STEP2_BSTORD_RQTY', 'BID_STEP3_BSTORD_PRC',\n",
       "       'BID_STEP3_BSTORD_RQTY', 'BID_STEP4_BSTORD_PRC',\n",
       "       'BID_STEP4_BSTORD_RQTY', 'BID_STEP5_BSTORD_PRC',\n",
       "       'BID_STEP5_BSTORD_RQTY', 'ORD_ACPT_TM', 'ORD_QTY', 'ORD_PRC',\n",
       "       '호가우선순위번호', 'MBR_NO', 'BRN_NO', 'CNTR_CD', 'TRST_PRINC_TP_CD',\n",
       "       'FORNINVST_TP_CD', 'ORD_MEDIA_TP_CD', '회원사주문시각', '예상체결가격', '예상체결수량',\n",
       "       '매도총호가잔량', '매수총호가잔량', '호가체결접수순서번호', '직전체결가격', '누적체결수량', '누적거래대금',\n",
       "       'AGG_TM', '시가', '고가', '저가', 'ORGN_ORD_ACPT_NO', '시장구분코드', '자동취소처리구분코드',\n",
       "       'MKTSTAT_TP_CD', '매도10단계호가합계잔량', '매수10단계호가합계잔량', 'PT_TP_CD'],\n",
       "      dtype='object')"
      ]
     },
     "execution_count": 5,
     "metadata": {},
     "output_type": "execute_result"
    }
   ],
   "source": [
    "data.columns"
   ]
  },
  {
   "cell_type": "code",
   "execution_count": 7,
   "id": "81c7eb22",
   "metadata": {},
   "outputs": [],
   "source": [
    "tot_columns=list(data.columns)"
   ]
  },
  {
   "cell_type": "code",
   "execution_count": 8,
   "id": "5612fba8",
   "metadata": {},
   "outputs": [],
   "source": [
    "key_columns=['ISU_CD', 'ORD_DD','ORD_ACPT_TM']"
   ]
  },
  {
   "cell_type": "code",
   "execution_count": 9,
   "id": "6ccf1d73",
   "metadata": {},
   "outputs": [],
   "source": [
    "env_columns=['REGUL_OFFHR_TP_CD','ASK_STEP1_BSTORD_PRC', 'ASK_STEP1_BSTORD_RQTY',\n",
    "       'ASK_STEP2_BSTORD_PRC', 'ASK_STEP2_BSTORD_RQTY', 'ASK_STEP3_BSTORD_PRC',\n",
    "       'ASK_STEP3_BSTORD_RQTY', 'ASK_STEP4_BSTORD_PRC',\n",
    "       'ASK_STEP4_BSTORD_RQTY', 'ASK_STEP5_BSTORD_PRC',\n",
    "       'ASK_STEP5_BSTORD_RQTY', 'BID_STEP1_BSTORD_PRC',\n",
    "       'BID_STEP1_BSTORD_RQTY', 'BID_STEP2_BSTORD_PRC',\n",
    "       'BID_STEP2_BSTORD_RQTY', 'BID_STEP3_BSTORD_PRC',\n",
    "       'BID_STEP3_BSTORD_RQTY', 'BID_STEP4_BSTORD_PRC',\n",
    "       'BID_STEP4_BSTORD_RQTY', 'BID_STEP5_BSTORD_PRC',\n",
    "       'BID_STEP5_BSTORD_RQTY', 'TRST_PRINC_TP_CD',\n",
    "       '매도총호가잔량', '매수총호가잔량','직전체결가격', '누적체결수량', '누적거래대금',\n",
    "       '시가', '고가', '저가', '시장구분코드', \n",
    "       'MKTSTAT_TP_CD', '매도10단계호가합계잔량', '매수10단계호가합계잔량',]"
   ]
  },
  {
   "cell_type": "code",
   "execution_count": 10,
   "id": "fccee9c4",
   "metadata": {},
   "outputs": [],
   "source": [
    "ord_columns=['ORD_ACPT_NO', 'REGUL_OFFHR_TP_CD', 'BLKTRD_TP_CD',\n",
    "       '호가장처리가격', 'ASKBID_TP_CD', 'MODCANCL_TP_CD', 'ORD_TP_CD', 'ORD_COND_CD',\n",
    "       'INVST_TP_CD', 'ORD_QTY', 'ORD_PRC',\n",
    "       '호가우선순위번호', 'MBR_NO', 'BRN_NO', 'CNTR_CD', 'TRST_PRINC_TP_CD',\n",
    "       'FORNINVST_TP_CD', 'ORD_MEDIA_TP_CD', '회원사주문시각', '예상체결가격', '예상체결수량',\n",
    "       '매도총호가잔량', '매수총호가잔량', '호가체결접수순서번호', '직전체결가격', '누적체결수량', '누적거래대금',\n",
    "       'AGG_TM', '시가', '고가', '저가', 'ORGN_ORD_ACPT_NO', '시장구분코드', '자동취소처리구분코드',\n",
    "       'MKTSTAT_TP_CD', '매도10단계호가합계잔량', '매수10단계호가합계잔량', 'PT_TP_CD']"
   ]
  },
  {
   "cell_type": "code",
   "execution_count": 14,
   "id": "23181e64",
   "metadata": {},
   "outputs": [
    {
     "data": {
      "text/plain": [
       "1196"
      ]
     },
     "execution_count": 14,
     "metadata": {},
     "output_type": "execute_result"
    }
   ],
   "source": [
    "len(data['ISU_CD'].unique())"
   ]
  }
 ],
 "metadata": {
  "kernelspec": {
   "display_name": "Python 3 (ipykernel)",
   "language": "python",
   "name": "python3"
  },
  "language_info": {
   "codemirror_mode": {
    "name": "ipython",
    "version": 3
   },
   "file_extension": ".py",
   "mimetype": "text/x-python",
   "name": "python",
   "nbconvert_exporter": "python",
   "pygments_lexer": "ipython3",
   "version": "3.7.10"
  }
 },
 "nbformat": 4,
 "nbformat_minor": 5
}
