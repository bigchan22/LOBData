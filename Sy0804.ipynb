{
 "cells": [
  {
   "cell_type": "code",
   "execution_count": 1,
   "id": "b79b65cb",
   "metadata": {},
   "outputs": [],
   "source": [
    "### 필요 라이브러리\n",
    "import numpy as np\n",
    "import os\n",
    "import pandas as pd\n",
    "import numpy as np\n",
    "import datetime as dt\n",
    "import math\n",
    "import warnings\n",
    "warnings.filterwarnings(action='ignore')\n",
    "# save numpy array as npy file\n",
    "from numpy import asarray\n",
    "from numpy import save\n",
    "from DataInfo import *\n",
    "### 데이터 보여지는 개수 설정\n",
    "pd.set_option('display.max_columns', 40)\n",
    "pd.set_option('display.max_rows', 300)"
   ]
  },
  {
   "cell_type": "code",
   "execution_count": 2,
   "id": "62b110e7",
   "metadata": {},
   "outputs": [],
   "source": [
    "path_dir = '/Data/ksqord'\n",
    "file_list=os.listdir(path_dir)\n",
    "file_list.sort()"
   ]
  },
  {
   "cell_type": "markdown",
   "id": "6330374b",
   "metadata": {},
   "source": [
    "### Q*직전체결가격"
   ]
  },
  {
   "cell_type": "code",
   "execution_count": 4,
   "id": "a00231fd",
   "metadata": {
    "scrolled": true
   },
   "outputs": [
    {
     "name": "stdout",
     "output_type": "stream",
     "text": [
      "extracting stats from ksqord_20170601.csv\n"
     ]
    },
    {
     "ename": "TypeError",
     "evalue": "first() missing 1 required positional argument: 'offset'",
     "output_type": "error",
     "traceback": [
      "\u001b[0;31m---------------------------------------------------------------------------\u001b[0m",
      "\u001b[0;31mTypeError\u001b[0m                                 Traceback (most recent call last)",
      "\u001b[0;32m/tmp/ipykernel_3287956/2932779041.py\u001b[0m in \u001b[0;36m<module>\u001b[0;34m\u001b[0m\n\u001b[1;32m     17\u001b[0m \u001b[0;34m\u001b[0m\u001b[0m\n\u001b[1;32m     18\u001b[0m     \u001b[0;31m#거래되는 종목 종류 list 업데이트\u001b[0m\u001b[0;34m\u001b[0m\u001b[0;34m\u001b[0m\u001b[0;34m\u001b[0m\u001b[0m\n\u001b[0;32m---> 19\u001b[0;31m     \u001b[0mstocklist\u001b[0m \u001b[0;34m=\u001b[0m \u001b[0mstocklist\u001b[0m\u001b[0;34m[\u001b[0m\u001b[0;34m'stockcode'\u001b[0m\u001b[0;34m]\u001b[0m\u001b[0;34m.\u001b[0m\u001b[0mappend\u001b[0m\u001b[0;34m(\u001b[0m\u001b[0mgrouped\u001b[0m\u001b[0;34m[\u001b[0m\u001b[0;34m'ISU_CD'\u001b[0m\u001b[0;34m]\u001b[0m\u001b[0;34m.\u001b[0m\u001b[0mfirst\u001b[0m\u001b[0;34m(\u001b[0m\u001b[0;34m)\u001b[0m\u001b[0;34m,\u001b[0m\u001b[0mignore_index\u001b[0m\u001b[0;34m=\u001b[0m\u001b[0;32mTrue\u001b[0m\u001b[0;34m)\u001b[0m\u001b[0;34m\u001b[0m\u001b[0;34m\u001b[0m\u001b[0m\n\u001b[0m\u001b[1;32m     20\u001b[0m     \u001b[0mstocklist\u001b[0m \u001b[0;34m=\u001b[0m \u001b[0mpd\u001b[0m\u001b[0;34m.\u001b[0m\u001b[0mDataFrame\u001b[0m\u001b[0;34m(\u001b[0m\u001b[0mstocklist\u001b[0m\u001b[0;34m)\u001b[0m\u001b[0;34m\u001b[0m\u001b[0;34m\u001b[0m\u001b[0m\n\u001b[1;32m     21\u001b[0m     \u001b[0mstocklist\u001b[0m\u001b[0;34m.\u001b[0m\u001b[0mcolumns\u001b[0m\u001b[0;34m=\u001b[0m\u001b[0;34m[\u001b[0m\u001b[0;34m'stockcode'\u001b[0m\u001b[0;34m]\u001b[0m\u001b[0;34m\u001b[0m\u001b[0;34m\u001b[0m\u001b[0m\n",
      "\u001b[0;31mTypeError\u001b[0m: first() missing 1 required positional argument: 'offset'"
     ]
    }
   ],
   "source": [
    "stdaily = pd.DataFrame(columns={'stocks','trade','share','won'}) #85일의 데이터가 저장되는 데이터프레임\n",
    "stocklist = pd.DataFrame(columns={'stockcode'}) #거래되는 stock list가 저장되는 데이터 프레임\n",
    "\n",
    "for i in range(len(file_list)):\n",
    "    #load data\n",
    "    filename = file_list[i]\n",
    "    print(\"extracting stats from\", filename)\n",
    "    df = pd.read_csv(path_dir+'/'+filename, sep=',', names=header_df, encoding=\"cp949\")\n",
    "    \n",
    "#########데일리데이터 테이터프레임 업데이트\n",
    "    \n",
    "    grouped = df[['ISU_CD','ORD_QTY','직전체결가격']] #Number of stocks per day\n",
    "#     stdaily['stocks'].groupby('ISU_CD').mean()#같은 종목 그룹한 데이터\n",
    "        \n",
    "    a = len(grouped) #하루에 거래되는 주식 수\n",
    "    b = len(df[df['MODCANCL_TP_CD']==1]) - len(df[df['MODCANCL_TP_CD']==3]) #하루 거래횟수\n",
    "    \n",
    "    #거래되는 종목 종류 list 업데이트\n",
    "    stocklist = stocklist['stockcode'].append(grouped['ISU_CD'].first(),ignore_index=True)\n",
    "    stocklist = pd.DataFrame(stocklist)\n",
    "    stocklist.columns=['stockcode']\n",
    "    stocklist = pd.DataFrame(stocklist.drop_duplicates())\n",
    "    \n",
    "    grouped = df[['ORD_QTY','MODCANCL_TP_CD']].groupby('MODCANCL_TP_CD') #거래코드에 따라 Quantity를 그룹한 데이터\n",
    "    c = grouped['ORD_QTY'].sum().iloc[0] - grouped['ORD_QTY'].sum().iloc[2] #하루 총 거래 주\n",
    "    \n",
    "    df['PQ'] = df['ORD_QTY'].mul(df['직전체결가격'])\n",
    "    grouped = df[['PQ','MODCANCL_TP_CD']].groupby('MODCANCL_TP_CD') #거래코드에 따라 P*Q를 그룹한 데이터\n",
    "    d = grouped['PQ'].sum().iloc[0] - grouped['PQ'].sum().iloc[2] #하루 총 거래 주가총액\n",
    "    \n",
    "    obj = pd.DataFrame({'stocks':a,'trade':b,'share':c,'won':d},index=[0])\n",
    "    stdaily = pd.concat([stdaily,obj],axis=0,ignore_index=True)\n",
    "    \n"
   ]
  },
  {
   "cell_type": "code",
   "execution_count": 5,
   "id": "dab8e408",
   "metadata": {},
   "outputs": [
    {
     "data": {
      "text/html": [
       "<div>\n",
       "<style scoped>\n",
       "    .dataframe tbody tr th:only-of-type {\n",
       "        vertical-align: middle;\n",
       "    }\n",
       "\n",
       "    .dataframe tbody tr th {\n",
       "        vertical-align: top;\n",
       "    }\n",
       "\n",
       "    .dataframe thead th {\n",
       "        text-align: right;\n",
       "    }\n",
       "</style>\n",
       "<table border=\"1\" class=\"dataframe\">\n",
       "  <thead>\n",
       "    <tr style=\"text-align: right;\">\n",
       "      <th></th>\n",
       "      <th>stockcode</th>\n",
       "    </tr>\n",
       "  </thead>\n",
       "  <tbody>\n",
       "  </tbody>\n",
       "</table>\n",
       "</div>"
      ],
      "text/plain": [
       "Empty DataFrame\n",
       "Columns: [stockcode]\n",
       "Index: []"
      ]
     },
     "execution_count": 5,
     "metadata": {},
     "output_type": "execute_result"
    }
   ],
   "source": [
    "stocklist"
   ]
  },
  {
   "cell_type": "code",
   "execution_count": null,
   "id": "c45af92e",
   "metadata": {},
   "outputs": [],
   "source": [
    "#Number of stocks per day\n",
    "stdaily['stocks'].mean()"
   ]
  },
  {
   "cell_type": "code",
   "execution_count": null,
   "id": "41d0078f",
   "metadata": {},
   "outputs": [],
   "source": [
    "#Avg. daily number of trades per stock\n",
    "stdaily['trade'].mean()/len(stocklist)"
   ]
  },
  {
   "cell_type": "code",
   "execution_count": null,
   "id": "86f22ea4",
   "metadata": {
    "scrolled": true
   },
   "outputs": [],
   "source": [
    "#Avg. daily share volume per stock\n",
    "stdaily['share'].mean()"
   ]
  },
  {
   "cell_type": "code",
   "execution_count": null,
   "id": "e0ff061f",
   "metadata": {},
   "outputs": [],
   "source": [
    "#Avg. daily won volumne per stock\n",
    "stdaily['won'].mean()"
   ]
  },
  {
   "cell_type": "code",
   "execution_count": null,
   "id": "9eb31395",
   "metadata": {
    "scrolled": false
   },
   "outputs": [],
   "source": [
    "# 25th, 75th percentile, median\n",
    "print(np.quantile(stdaily['stocks'],0.25))\n",
    "print(np.quantile(stdaily['stocks'],0.50))\n",
    "print(np.quantile(stdaily['stocks'],0.75))"
   ]
  },
  {
   "cell_type": "code",
   "execution_count": null,
   "id": "a7feed04",
   "metadata": {
    "scrolled": true
   },
   "outputs": [],
   "source": [
    "# 25th, 75th percentile, median\n",
    "print(np.quantile(stdaily['share'],0.25))\n",
    "print(np.quantile(stdaily['share'],0.50))\n",
    "print(np.quantile(stdaily['share'],0.75))"
   ]
  },
  {
   "cell_type": "code",
   "execution_count": null,
   "id": "09b321eb",
   "metadata": {
    "scrolled": false
   },
   "outputs": [],
   "source": [
    "# 25th, 75th percentile, median\n",
    "print(np.quantile(stdaily['won'],0.25))\n",
    "print(np.quantile(stdaily['won'],0.50))\n",
    "print(np.quantile(stdaily['won'],0.75))"
   ]
  },
  {
   "cell_type": "code",
   "execution_count": null,
   "id": "85f561b0",
   "metadata": {
    "scrolled": false
   },
   "outputs": [],
   "source": [
    "# 25th, 75th percentile, median\n",
    "print(np.quantile(stdaily['trade']/len(stocklist),0.25))\n",
    "print(np.quantile(stdaily['trade']/len(stocklist),0.50))\n",
    "print(np.quantile(stdaily['trade']/len(stocklist),0.75))"
   ]
  },
  {
   "cell_type": "markdown",
   "id": "b03e4149",
   "metadata": {},
   "source": [
    "### Q*P"
   ]
  },
  {
   "cell_type": "code",
   "execution_count": null,
   "id": "067f4b74",
   "metadata": {},
   "outputs": [],
   "source": [
    "stdaily = pd.DataFrame(columns={'stocks','trade','share','won'}) #85일의 데이터가 저장되는 데이터프레임\n",
    "stocklist = pd.DataFrame(columns={'stockcode'}) #거래되는 stock list가 저장되는 데이터 프레임\n",
    "\n",
    "for i in range(len(file_list)):\n",
    "    #load data\n",
    "    filename = file_list[i]\n",
    "    print(\"extracting stats from\", filename)\n",
    "    df = pd.read_csv(path_dir+'/'+filename, sep=',', names=header_df, encoding=\"cp949\")\n",
    "    \n",
    "#########데일리데이터 테이터프레임 업데이트\n",
    "    \n",
    "    grouped = df[['ISU_CD','ORD_QTY','ORD_PRC']].groupby('ISU_CD')#같은 종목 그룹한 데이터\n",
    "        \n",
    "    a = len(grouped) #하루에 거래되는 주식 수\n",
    "    b = len(df[df['MODCANCL_TP_CD']==1]) - len(df[df['MODCANCL_TP_CD']==3]) #하루 거래횟수\n",
    "    \n",
    "    #거래되는 종목 종류 list 업데이트\n",
    "    stocklist = stocklist['stockcode'].append(grouped['ISU_CD'].first(),ignore_index=True)\n",
    "    stocklist = pd.DataFrame(stocklist)\n",
    "    stocklist.columns=['stockcode']\n",
    "    stocklist = pd.DataFrame(stocklist.drop_duplicates())\n",
    "    \n",
    "    grouped = df[['ORD_QTY','MODCANCL_TP_CD']].groupby('MODCANCL_TP_CD') #거래코드에 따라 Quantity를 그룹한 데이터\n",
    "    c = grouped['ORD_QTY'].sum().iloc[0] - grouped['ORD_QTY'].sum().iloc[2] #하루 총 거래 주\n",
    "    \n",
    "    df['PQ'] = df['ORD_QTY'].mul(df['ORD_PRC'])\n",
    "    grouped = df[['PQ','MODCANCL_TP_CD']].groupby('MODCANCL_TP_CD') #거래코드에 따라 P*Q를 그룹한 데이터\n",
    "    d = grouped['PQ'].sum().iloc[0] - grouped['PQ'].sum().iloc[2] #하루 총 거래 주가총액\n",
    "    \n",
    "    obj = pd.DataFrame({'stocks':a,'trade':b,'share':c,'won':d},index=[0])\n",
    "    stdaily = pd.concat([stdaily,obj],axis=0,ignore_index=True)"
   ]
  },
  {
   "cell_type": "code",
   "execution_count": null,
   "id": "5ac2da3d",
   "metadata": {},
   "outputs": [],
   "source": [
    "#Number of stocks per day\n",
    "stdaily['stocks'].mean()"
   ]
  },
  {
   "cell_type": "code",
   "execution_count": null,
   "id": "c673488e",
   "metadata": {},
   "outputs": [],
   "source": [
    "#Avg. daily number of trades per stock\n",
    "stdaily['trade'].mean()/len(stocklist)"
   ]
  },
  {
   "cell_type": "code",
   "execution_count": null,
   "id": "7e3b7df8",
   "metadata": {},
   "outputs": [],
   "source": [
    "#Avg. daily share volume per stock\n",
    "stdaily['share'].mean()"
   ]
  },
  {
   "cell_type": "markdown",
   "id": "e99ecee6",
   "metadata": {},
   "source": [
    "========A============="
   ]
  },
  {
   "cell_type": "code",
   "execution_count": null,
   "id": "6b645c06",
   "metadata": {},
   "outputs": [],
   "source": [
    "#Avg. daily won volumne per stock\n",
    "stdaily['won'].mean()"
   ]
  },
  {
   "cell_type": "code",
   "execution_count": null,
   "id": "ab654465",
   "metadata": {
    "scrolled": false
   },
   "outputs": [],
   "source": [
    "# 25th, 75th percentile, median\n",
    "print(np.quantile(stdaily['stocks'],0.25))\n",
    "print(np.quantile(stdaily['stocks'],0.50))\n",
    "print(np.quantile(stdaily['stocks'],0.75))"
   ]
  },
  {
   "cell_type": "code",
   "execution_count": null,
   "id": "be928fdc",
   "metadata": {
    "scrolled": true
   },
   "outputs": [],
   "source": [
    "# 25th, 75th percentile, median\n",
    "print(np.quantile(stdaily['share'],0.25))\n",
    "print(np.quantile(stdaily['share'],0.50))\n",
    "print(np.quantile(stdaily['share'],0.75))"
   ]
  },
  {
   "cell_type": "markdown",
   "id": "5e2a0eb1",
   "metadata": {},
   "source": [
    "========B,C,D============"
   ]
  },
  {
   "cell_type": "code",
   "execution_count": null,
   "id": "00d9a6a5",
   "metadata": {
    "scrolled": false
   },
   "outputs": [],
   "source": [
    "# 25th, 75th percentile, median\n",
    "print(np.quantile(stdaily['won'],0.25))     #C\n",
    "print(np.quantile(stdaily['won'],0.50))     #B\n",
    "print(np.quantile(stdaily['won'],0.75))     #D"
   ]
  },
  {
   "cell_type": "code",
   "execution_count": null,
   "id": "26a2f95d",
   "metadata": {
    "scrolled": false
   },
   "outputs": [],
   "source": [
    "# 25th, 75th percentile, median\n",
    "print(np.quantile(stdaily['trade']/len(stocklist),0.25))\n",
    "print(np.quantile(stdaily['trade']/len(stocklist),0.50))\n",
    "print(np.quantile(stdaily['trade']/len(stocklist),0.75))"
   ]
  },
  {
   "cell_type": "markdown",
   "id": "c355b3f6",
   "metadata": {},
   "source": [
    "########"
   ]
  },
  {
   "cell_type": "code",
   "execution_count": null,
   "id": "93dfcf21",
   "metadata": {
    "scrolled": true
   },
   "outputs": [],
   "source": [
    "df.columns"
   ]
  },
  {
   "cell_type": "markdown",
   "id": "16dd6931",
   "metadata": {},
   "source": [
    "### MBR_NO&BRN_NO 별 ASK, BID, TP0, TP31"
   ]
  },
  {
   "cell_type": "code",
   "execution_count": null,
   "id": "33fa4bca",
   "metadata": {},
   "outputs": [],
   "source": [
    "ORD_TP_list = pd.DataFrame(columns={'ORD_TP_CD'})\n",
    "BRN_df = pd.DataFrame(columns={'BRN_NO','ASK_CNT','BID_CNT','PT0','PT31','PT_etc'})\n",
    "BRN_df['BRN_NO'] = BRN_list['BRN_NO']\n",
    "\n",
    "MBR_df = pd.DataFrame(columns={'MBR_NO','ASK_CNT','BID_CNT','PT0','PT31','PT_etc'})\n",
    "MBR_df['MBR_NO'] = MBR_list['MBR_NO']\n",
    "\n",
    "for i in range(len(file_list)):\n",
    "\n",
    "    #load data\n",
    "    filename = file_list[i]\n",
    "    print(\"extracting stats from\", filename)\n",
    "    df = pd.read_csv(path_dir+'/'+filename, sep=',', names=header_df, encoding=\"cp949\")\n",
    "    \n",
    "    grouped = df.groupby('MBR_NO',as_index='MBR_NO') #MBR_ID로만 그룹\n",
    "    \n",
    "    ORD_TP_list = ORD_TP_list['ORD_TP_CD'].append(df['ORD_TP_CD'],ignore_index=True)\n",
    "    ORD_TP_list = pd.DataFrame(ORD_TP_list)\n",
    "    ORD_TP_list.columns=['ORD_TP_CD']\n",
    "    ORD_TP_list = pd.DataFrame(ORD_TP_list.drop_duplicates())\n",
    "    \n",
    "    #코드에 따라 MBR로 그룹\n",
    "    grouped1 = df[df['ASKBID_TP_CD']==1].groupby('MBR_NO',as_index='MBR_NO')  #ASK인 경우만 그룹\n",
    "    grouped2 = df[df['ASKBID_TP_CD']==2].groupby('MBR_NO',as_index='MBR_NO')  #BID인 경우만 그룹\n",
    "    grouped3 = df[df['PT_TP_CD']==0].groupby('MBR_NO',as_index='MBR_NO')  #PT=0 인 그룹\n",
    "    grouped4 = df[df['PT_TP_CD']==31].groupby('MBR_NO',as_index='MBR_NO') #PT=31인 그룹\n",
    "    \n",
    "    a = grouped1.size().to_frame('MBR_NO')\n",
    "    a.columns=['ASK_CNT']\n",
    "    a = a.reset_index()\n",
    "    \n",
    "    b = grouped2.size().to_frame('MBR_NO')\n",
    "    b.columns=['BID_CNT']\n",
    "    b = b.reset_index()\n",
    "    \n",
    "    c = grouped3.size().to_frame('MBR_NO')\n",
    "    c.columns=['PT0']\n",
    "    c = c.reset_index()\n",
    "    \n",
    "    d = grouped4.size().to_frame('MBR_NO')\n",
    "    d.columns=['PT31']\n",
    "    d = d.reset_index()\n",
    "    \n",
    "    e = grouped.size().to_frame('MBR_NO')\n",
    "    e.columns=['PT_total']\n",
    "    e = e.reset_index()\n",
    "    \n",
    "    MBR_df = MBR_df.fillna(0)\n",
    "    \n",
    "    for j in range(len(a)):\n",
    "        MBR_df.loc[int(MBR_df[MBR_df['MBR_NO']==a['MBR_NO'][j]].index[0]),('ASK_CNT')] += a.loc[j,('ASK_CNT')]\n",
    "        \n",
    "    for j in range(len(b)):\n",
    "        MBR_df.loc[int(MBR_df[MBR_df['MBR_NO']==b['MBR_NO'][j]].index[0]),('BID_CNT')] += b.loc[j,('BID_CNT')]\n",
    "        \n",
    "    for j in range(len(c)):\n",
    "        MBR_df.loc[int(MBR_df[MBR_df['MBR_NO']==c['MBR_NO'][j]].index[0]),('PT0')] += c.loc[j,('PT0')]\n",
    "        MBR_df.loc[int(MBR_df[MBR_df['MBR_NO']==c['MBR_NO'][j]].index[0]),('PT_etc')] -=c.loc[j,('PT0')]\n",
    "        \n",
    "    for j in range(len(d)):\n",
    "        MBR_df.loc[int(MBR_df[MBR_df['MBR_NO']==d['MBR_NO'][j]].index[0]),('PT31')] += d.loc[j,('PT31')]\n",
    "        MBR_df.loc[int(MBR_df[MBR_df['MBR_NO']==d['MBR_NO'][j]].index[0]),('PT_etc')] -=d.loc[j,('PT31')]\n",
    "        \n",
    "    for j in range(len(e)):\n",
    "        MBR_df.loc[int(MBR_df[MBR_df['MBR_NO']==e['MBR_NO'][j]].index[0]),('PT_etc')] += e.loc[j,('PT_total')]\n",
    "        \n",
    "        \n",
    "    grouped = df.groupby('BRN_NO',as_index='BRN_NO') #BRN_NO로만 그룹\n",
    "  \n",
    "    #코드에 따라 BRN로 그룹\n",
    "    grouped1 = df[df['ASKBID_TP_CD']==1].groupby('BRN_NO',as_index='BRN_NO')  #ASK인 경우만 그룹\n",
    "    grouped2 = df[df['ASKBID_TP_CD']==2].groupby('BRN_NO',as_index='BRN_NO')  #BID인 경우만 그룹\n",
    "    grouped3 = df[df['PT_TP_CD']==0].groupby('BRN_NO',as_index='BRN_NO')  #PT=0 인 그룹\n",
    "    grouped4 = df[df['PT_TP_CD']==31].groupby('BRN_NO',as_index='BRN_NO') #PT=31인 그룹\n",
    "    \n",
    "    a = grouped1.size().to_frame('BRN_NO')\n",
    "    a.columns=['ASK_CNT']\n",
    "    a = a.reset_index()\n",
    "    \n",
    "    b = grouped2.size().to_frame('BRN_NO')\n",
    "    b.columns=['BID_CNT']\n",
    "    b = b.reset_index()\n",
    "    \n",
    "    c = grouped3.size().to_frame('BRN_NO')\n",
    "    c.columns=['PT0']\n",
    "    c = c.reset_index()\n",
    "    \n",
    "    d = grouped4.size().to_frame('BRN_NO')\n",
    "    d.columns=['PT31']\n",
    "    d = d.reset_index()\n",
    "    \n",
    "    e = grouped.size().to_frame('BRN_NO')\n",
    "    e.columns=['PT_total']\n",
    "    e = e.reset_index()\n",
    "\n",
    "    BRN_df = BRN_df.fillna(0)\n",
    "    \n",
    "    for j in range(len(a)):\n",
    "        BRN_df.loc[int(BRN_df[BRN_df['BRN_NO']==a['BRN_NO'][j]].index[0]),('ASK_CNT')] += a.loc[j,('ASK_CNT')]\n",
    "        \n",
    "    for j in range(len(b)):\n",
    "        BRN_df.loc[int(BRN_df[BRN_df['BRN_NO']==b['BRN_NO'][j]].index[0]),('BID_CNT')] += b.loc[j,('BID_CNT')]\n",
    "        \n",
    "    for j in range(len(c)):\n",
    "        BRN_df.loc[int(BRN_df[BRN_df['BRN_NO']==c['BRN_NO'][j]].index[0]),('PT0')] += c.loc[j,('PT0')]\n",
    "        BRN_df.loc[int(BRN_df[BRN_df['BRN_NO']==c['BRN_NO'][j]].index[0]),('PT_etc')] -=c.loc[j,('PT0')]\n",
    "        \n",
    "    for j in range(len(d)):\n",
    "        BRN_df.loc[int(BRN_df[BRN_df['BRN_NO']==d['BRN_NO'][j]].index[0]),('PT31')] += d.loc[j,('PT31')]\n",
    "        BRN_df.loc[int(BRN_df[BRN_df['BRN_NO']==d['BRN_NO'][j]].index[0]),('PT_etc')] -=d.loc[j,('PT31')]\n",
    "        \n",
    "    for j in range(len(e)):\n",
    "        BRN_df.loc[int(BRN_df[BRN_df['BRN_NO']==e['BRN_NO'][j]].index[0]),('PT_etc')] += e.loc[j,('PT_total')]\n",
    "\n",
    "        "
   ]
  },
  {
   "cell_type": "code",
   "execution_count": null,
   "id": "2c055716",
   "metadata": {
    "scrolled": false
   },
   "outputs": [],
   "source": [
    "MBR_df['PT31rate'] = MBR_df['PT31']/(MBR_df['PT0']+MBR_df['PT31']+MBR_df['PT_etc'])\n",
    "MBR_df"
   ]
  },
  {
   "cell_type": "code",
   "execution_count": null,
   "id": "e9b48749",
   "metadata": {
    "scrolled": false
   },
   "outputs": [],
   "source": [
    "MBR_df.sort_values(by='PT31rate')[['MBR_NO','PT31rate']][:30]"
   ]
  },
  {
   "cell_type": "code",
   "execution_count": null,
   "id": "c63469b5",
   "metadata": {
    "scrolled": false
   },
   "outputs": [],
   "source": [
    "MBR_df.sort_values(by='PT31rate',ascending=False)[['MBR_NO','PT31rate']][:30]"
   ]
  },
  {
   "cell_type": "code",
   "execution_count": null,
   "id": "82b4a653",
   "metadata": {},
   "outputs": [],
   "source": [
    "BRN_df['PT31rate'] = BRN_df['PT31']/(BRN_df['PT0']+BRN_df['PT31']+BRN_df['PT_etc'])\n",
    "BRN_df"
   ]
  },
  {
   "cell_type": "code",
   "execution_count": null,
   "id": "eead1466",
   "metadata": {
    "scrolled": false
   },
   "outputs": [],
   "source": [
    "BRN_df.sort_values(by='PT31rate',ascending=False)[['BRN_NO','PT31rate']][:30]"
   ]
  },
  {
   "cell_type": "code",
   "execution_count": null,
   "id": "fb32d56b",
   "metadata": {
    "scrolled": false
   },
   "outputs": [],
   "source": [
    "BRN_df.sort_values(by='PT31rate')[['BRN_NO','PT31rate']][:30]"
   ]
  },
  {
   "cell_type": "code",
   "execution_count": null,
   "id": "0b882fc2",
   "metadata": {
    "scrolled": true
   },
   "outputs": [],
   "source": [
    "BRN_df['PT0'].sum()/(BRN_df['PT0'].sum()+BRN_df['PT31'].sum()+BRN_df['PT_etc'].sum())"
   ]
  },
  {
   "cell_type": "code",
   "execution_count": null,
   "id": "5ee7179a",
   "metadata": {
    "scrolled": true
   },
   "outputs": [],
   "source": [
    "BRN_df['PT31'].sum()/(BRN_df['PT0'].sum()+BRN_df['PT31'].sum()+BRN_df['PT_etc'].sum())"
   ]
  },
  {
   "cell_type": "code",
   "execution_count": null,
   "id": "30b02b97",
   "metadata": {},
   "outputs": [],
   "source": [
    "BRN_df['PT_etc'].sum()/(BRN_df['PT0'].sum()+BRN_df['PT31'].sum()+BRN_df['PT_etc'].sum())"
   ]
  },
  {
   "cell_type": "code",
   "execution_count": null,
   "id": "4bc9edc6",
   "metadata": {},
   "outputs": [],
   "source": [
    "ORD_TP_df = pd.DataFrame(columns={'ORD_TP_CD','P0','Pn0','PT0','PT31','PT_etc'})\n",
    "ORD_TP_df['ORD_TP_CD'] = ORD_TP_list['ORD_TP_CD']\n",
    "\n",
    "for i in range(len(file_list)):\n",
    "\n",
    "    #load data\n",
    "    filename = file_list[i]\n",
    "    print(\"extracting stats from\", filename)\n",
    "    df = pd.read_csv(path_dir+'/'+filename, sep=',', names=header_df, encoding=\"cp949\")\n",
    "    \n",
    "    \n",
    "    grouped = df.groupby('ORD_TP_CD', as_index='ORD_TP_CD') \n",
    "    grouped1 = df[df['ORD_PRC']==0].groupby('ORD_TP_CD',as_index='ORD_TP_CD')  #ASK인 경우만 그룹\n",
    "    grouped2 = df[df['ORD_PRC']!=0].groupby('ORD_TP_CD',as_index='ORD_TP_CD')  #BID인 경우만 그룹\n",
    "    grouped3 = df[df['PT_TP_CD']==0].groupby('ORD_TP_CD',as_index='ORD_TP_CD')  #PT=0 인 그룹\n",
    "    grouped4 = df[df['PT_TP_CD']==31].groupby('ORD_TP_CD',as_index='ORD_TP_CD') #PT=31인 그룹\n",
    "    \n",
    "    a = grouped1.size().to_frame('ORD_TP_CD')\n",
    "    a.columns=['P0']\n",
    "    a = a.reset_index()\n",
    "    \n",
    "    b = grouped2.size().to_frame('ORD_TP_CD')\n",
    "    b.columns=['Pn0']\n",
    "    b = b.reset_index()\n",
    "    \n",
    "    c = grouped3.size().to_frame('ORD_TP_CD')\n",
    "    c.columns=['PT0']\n",
    "    c = c.reset_index()\n",
    "    \n",
    "    d = grouped4.size().to_frame('ORD_TP_CD')\n",
    "    d.columns=['PT31']\n",
    "    d = d.reset_index()\n",
    "    \n",
    "    e = grouped.size().to_frame('PT_etc')\n",
    "    e.columns=['PT_total']\n",
    "    e = e.reset_index()\n",
    "    \n",
    "    ORD_TP_df = ORD_TP_df.fillna(0)\n",
    "    \n",
    "    for j in range(len(a)):\n",
    "        ORD_TP_df.loc[int(ORD_TP_df[ORD_TP_df['ORD_TP_CD']==a['ORD_TP_CD'][j]].index[0]),('P0')] += a.loc[j,('P0')]\n",
    "        \n",
    "    for j in range(len(b)):\n",
    "        ORD_TP_df.loc[int(ORD_TP_df[ORD_TP_df['ORD_TP_CD']==b['ORD_TP_CD'][j]].index[0]),('Pn0')] += b.loc[j,('Pn0')]\n",
    "        \n",
    "    for j in range(len(c)):\n",
    "        ORD_TP_df.loc[int(ORD_TP_df[ORD_TP_df['ORD_TP_CD']==c['ORD_TP_CD'][j]].index[0]),('PT0')] += c.loc[j,('PT0')]\n",
    "        ORD_TP_df.loc[int(ORD_TP_df[ORD_TP_df['ORD_TP_CD']==c['ORD_TP_CD'][j]].index[0]),('PT_etc')] -=c.loc[j,('PT0')]\n",
    "        \n",
    "    for j in range(len(d)):\n",
    "        ORD_TP_df.loc[int(ORD_TP_df[ORD_TP_df['ORD_TP_CD']==d['ORD_TP_CD'][j]].index[0]),('PT31')] += d.loc[j,('PT31')]\n",
    "        ORD_TP_df.loc[int(ORD_TP_df[ORD_TP_df['ORD_TP_CD']==d['ORD_TP_CD'][j]].index[0]),('PT_etc')] -=d.loc[j,('PT31')]\n",
    "        \n",
    "    for j in range(len(e)):\n",
    "        ORD_TP_df.loc[int(ORD_TP_df[ORD_TP_df['ORD_TP_CD']==e['ORD_TP_CD'][j]].index[0]),('PT_etc')] += e.loc[j,('PT_total')]\n",
    "    \n",
    "    "
   ]
  },
  {
   "cell_type": "code",
   "execution_count": null,
   "id": "cab540cb",
   "metadata": {},
   "outputs": [],
   "source": [
    "ORD_TP_df['PT31rate'] =  ORD_TP_df['PT0']/(ORD_TP_df['PT0']+ORD_TP_df['PT31']+ORD_TP_df['PT_etc'])\n",
    "ORD_TP_df['P0rate'] =  ORD_TP_df['P0']/(ORD_TP_df['P0']+ORD_TP_df['Pn0'])\n",
    "ORD_TP_df"
   ]
  },
  {
   "cell_type": "code",
   "execution_count": null,
   "id": "1240d476",
   "metadata": {},
   "outputs": [],
   "source": []
  }
 ],
 "metadata": {
  "kernelspec": {
   "display_name": "Python 3 (ipykernel)",
   "language": "python",
   "name": "python3"
  },
  "language_info": {
   "codemirror_mode": {
    "name": "ipython",
    "version": 3
   },
   "file_extension": ".py",
   "mimetype": "text/x-python",
   "name": "python",
   "nbconvert_exporter": "python",
   "pygments_lexer": "ipython3",
   "version": "3.7.10"
  }
 },
 "nbformat": 4,
 "nbformat_minor": 5
}
