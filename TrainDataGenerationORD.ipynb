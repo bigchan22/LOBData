{
 "cells": [
  {
   "cell_type": "code",
   "execution_count": 1,
   "id": "ef1df877",
   "metadata": {},
   "outputs": [],
   "source": [
    "import pandas as pd\n",
    "import numpy as np\n",
    "from datetime import datetime\n",
    "from source.TrainDataGeneration import append_ORD_TM,append_ORD_VOL,append_TM_GP,GetGroupDataFrame,append_STEP5"
   ]
  },
  {
   "cell_type": "code",
   "execution_count": 2,
   "id": "692eef0b",
   "metadata": {},
   "outputs": [],
   "source": [
    "TickDataname='GDF2022_3_27_16_52.csv'\n",
    "TickGDF=pd.read_csv('CollectedData/'+TickDataname)\n",
    "Dataname='6feat'\n",
    "\n",
    "TGDF=TickGDF[(TickGDF['TM_GP']>=0)&(TickGDF['TM_GP']<39)]\n",
    "TGDF=TGDF.set_index(['ORD_DD','ISU_CD','TM_GP'])\n",
    "\n",
    "new_index = pd.MultiIndex.from_product(TGDF.index.levels)\n",
    "new_df = TGDF.reindex(new_index)\n",
    "new_df = new_df.ffill()\n",
    "new_df=new_df.reset_index()\n",
    "Train_df=new_df\n",
    "Train_df.loc[new_df['TM_GP']==0,'시가']=Train_df.loc[new_df['TM_GP']==1,'시가'].values"
   ]
  },
  {
   "cell_type": "code",
   "execution_count": null,
   "id": "f973d8d2",
   "metadata": {},
   "outputs": [],
   "source": []
  },
  {
   "cell_type": "code",
   "execution_count": 3,
   "id": "64bc629b",
   "metadata": {},
   "outputs": [],
   "source": [
    "Train_df['10단계호가합계잔량']=Train_df['매수10단계호가합계잔량']+Train_df['매도10단계호가합계잔량']"
   ]
  },
  {
   "cell_type": "code",
   "execution_count": 4,
   "id": "2c3a107b",
   "metadata": {},
   "outputs": [],
   "source": [
    "qtylist=['ASK_STEP1_BSTORD_RQTY', 'ASK_STEP2_BSTORD_RQTY', \n",
    "       'ASK_STEP3_BSTORD_RQTY',  'ASK_STEP4_BSTORD_RQTY', \n",
    "       'ASK_STEP5_BSTORD_RQTY', 'BID_STEP1_BSTORD_RQTY', \n",
    "       'BID_STEP2_BSTORD_RQTY', 'BID_STEP3_BSTORD_RQTY', \n",
    "       'BID_STEP4_BSTORD_RQTY','BID_STEP5_BSTORD_RQTY',\n",
    "        '매도5단계호가합계잔량', '매수5단계호가합계잔량', '매도10단계호가합계잔량',\n",
    "       '매수10단계호가합계잔량', '매도총호가잔량', '매수총호가잔량']"
   ]
  },
  {
   "cell_type": "markdown",
   "id": "46a407e5",
   "metadata": {},
   "source": [
    "Train_df[qtylist]=Train_df[qtylist].div(Train_df['10단계호가합계잔량'],axis=0).values"
   ]
  },
  {
   "cell_type": "markdown",
   "id": "f3e056d0",
   "metadata": {},
   "source": [
    "Train_df['10단계호가합계잔량']=np.log(new_df['10단계호가합계잔량'])"
   ]
  },
  {
   "cell_type": "code",
   "execution_count": 5,
   "id": "8d8c0971",
   "metadata": {},
   "outputs": [],
   "source": [
    "divdict={}\n",
    "# divdict['10단계호가합계잔량']=qtylist\n",
    "divdict['시가']=['고가','저가','직전체결가격']\n",
    "loglist=[]\n",
    "loglist+=['매도총호가잔량', '매수총호가잔량','고가','저가','직전체결가격','시가']\n",
    "# loglist+=['고가','저가','직전체결가격','시가']\n",
    "# loglist+=['10단계호가합계잔량']\n"
   ]
  },
  {
   "cell_type": "code",
   "execution_count": 6,
   "id": "6bed055b",
   "metadata": {},
   "outputs": [],
   "source": [
    "for divcol in divdict:\n",
    "    Train_df[divdict[divcol]]=Train_df[divdict[divcol]].div(Train_df[divcol],axis=0).values"
   ]
  },
  {
   "cell_type": "code",
   "execution_count": 7,
   "id": "e909cce6",
   "metadata": {},
   "outputs": [],
   "source": [
    "Train_df[loglist]=np.log(Train_df[loglist])"
   ]
  },
  {
   "cell_type": "code",
   "execution_count": 8,
   "id": "db39e7df",
   "metadata": {},
   "outputs": [],
   "source": [
    "ORDTickDataname='GDF2022_4_12_19_51.csv'\n",
    "ORDTickGDF=pd.read_csv('CollectedData/'+ORDTickDataname)"
   ]
  },
  {
   "cell_type": "code",
   "execution_count": 9,
   "id": "2ee14f59",
   "metadata": {},
   "outputs": [
    {
     "data": {
      "text/plain": [
       "Index(['Unnamed: 0', 'ORD_DD', 'ISU_CD', 'MBR_NO', 'BRN_NO', 'ASKBID_TP_CD',\n",
       "       'MODCANCL_TP_CD', 'ORD_QTY', 'ORD_ACPT_TM', 'TM_GP'],\n",
       "      dtype='object')"
      ]
     },
     "execution_count": 9,
     "metadata": {},
     "output_type": "execute_result"
    }
   ],
   "source": [
    "ORDTickGDF.columns"
   ]
  },
  {
   "cell_type": "code",
   "execution_count": 10,
   "id": "2106e81e",
   "metadata": {},
   "outputs": [],
   "source": [
    "OTGDF=ORDTickGDF[(ORDTickGDF['TM_GP']>=0)&(ORDTickGDF['TM_GP']<39)]\n",
    "OTGDF=OTGDF[OTGDF['MODCANCL_TP_CD']!=2]\n",
    "\n",
    "OTGDF['NET_ORD_QTY']=OTGDF['ORD_QTY']*(2*OTGDF['ASKBID_TP_CD']-3)*(2-OTGDF['MODCANCL_TP_CD'])\n",
    "# OTGDF=OTGDF.set_index(['ORD_DD','ISU_CD','TM_GP'])"
   ]
  },
  {
   "cell_type": "code",
   "execution_count": 11,
   "id": "fb989dbe",
   "metadata": {},
   "outputs": [],
   "source": [
    "groupcolumns=['ORD_DD', 'ISU_CD', 'MBR_NO', 'BRN_NO','TM_GP']\n",
    "sumcolumns=['NET_ORD_QTY']\n",
    "meancolumns,lastcolumns=[],[]"
   ]
  },
  {
   "cell_type": "code",
   "execution_count": 12,
   "id": "0fefcae4",
   "metadata": {},
   "outputs": [],
   "source": [
    "OTGDF=GetGroupDataFrame(OTGDF,groupcolumns,sumcolumns,meancolumns,lastcolumns)"
   ]
  },
  {
   "cell_type": "code",
   "execution_count": 13,
   "id": "86ed83c1",
   "metadata": {},
   "outputs": [],
   "source": [
    "feat_cols=['ASK_STEP1_BSTORD_RQTY', 'ASK_STEP2_BSTORD_RQTY', \n",
    "       'ASK_STEP3_BSTORD_RQTY',  'ASK_STEP4_BSTORD_RQTY', \n",
    "       'ASK_STEP5_BSTORD_RQTY', 'BID_STEP1_BSTORD_RQTY', \n",
    "       'BID_STEP2_BSTORD_RQTY', 'BID_STEP3_BSTORD_RQTY', \n",
    "       'BID_STEP4_BSTORD_RQTY','BID_STEP5_BSTORD_RQTY',\n",
    "        '매도5단계호가합계잔량', '매수5단계호가합계잔량', '매도10단계호가합계잔량',\n",
    "       '매수10단계호가합계잔량', '매도총호가잔량', '매수총호가잔량', '고가', '저가',\n",
    "           '시가', '직전체결가격','NET_ORD_QTY']"
   ]
  },
  {
   "cell_type": "code",
   "execution_count": 14,
   "id": "33c92db9",
   "metadata": {},
   "outputs": [],
   "source": [
    "feat_cols=['매도총호가잔량', '매수총호가잔량', '고가', '저가', \n",
    "           '직전체결가격','NET_ORD_QTY']"
   ]
  },
  {
   "cell_type": "markdown",
   "id": "def41566",
   "metadata": {},
   "source": [
    "feat_cols=['매도5단계호가합계잔량', '매수5단계호가합계잔량', '매도10단계호가합계잔량',\n",
    "       '매수10단계호가합계잔량', '매도총호가잔량', '매수총호가잔량', '고가', '저가',\n",
    "           '시가', '직전체결가격','NET_ORD_QTY']"
   ]
  },
  {
   "cell_type": "code",
   "execution_count": 15,
   "id": "003d8940",
   "metadata": {},
   "outputs": [],
   "source": [
    "mbrnlist1=[(5,194),(2,155),(12,100),(17,29),(42,1),(44,1),(50,92),(2,83),(4,10118),(8,298)]\n",
    "mbrnlist2=[(5,194),(12,100),(2,155),(17,29),(42,1),(44,1),(2,83),(4,10118),(4,9997),(50,91)]\n",
    "mbrnlist=mbrnlist1+[a for a in mbrnlist2 if a not in mbrnlist1]"
   ]
  },
  {
   "cell_type": "code",
   "execution_count": 16,
   "id": "8505fecf",
   "metadata": {},
   "outputs": [
    {
     "data": {
      "text/html": [
       "<div>\n",
       "<style scoped>\n",
       "    .dataframe tbody tr th:only-of-type {\n",
       "        vertical-align: middle;\n",
       "    }\n",
       "\n",
       "    .dataframe tbody tr th {\n",
       "        vertical-align: top;\n",
       "    }\n",
       "\n",
       "    .dataframe thead th {\n",
       "        text-align: right;\n",
       "    }\n",
       "</style>\n",
       "<table border=\"1\" class=\"dataframe\">\n",
       "  <thead>\n",
       "    <tr style=\"text-align: right;\">\n",
       "      <th></th>\n",
       "      <th>매도총호가잔량</th>\n",
       "      <th>매수총호가잔량</th>\n",
       "      <th>고가</th>\n",
       "      <th>저가</th>\n",
       "      <th>직전체결가격</th>\n",
       "    </tr>\n",
       "  </thead>\n",
       "  <tbody>\n",
       "    <tr>\n",
       "      <th>0</th>\n",
       "      <td>13.306997</td>\n",
       "      <td>12.575422</td>\n",
       "      <td>0.002325</td>\n",
       "      <td>-0.007177</td>\n",
       "      <td>-0.003820</td>\n",
       "    </tr>\n",
       "    <tr>\n",
       "      <th>1</th>\n",
       "      <td>13.545755</td>\n",
       "      <td>12.766560</td>\n",
       "      <td>0.002384</td>\n",
       "      <td>-0.016230</td>\n",
       "      <td>-0.011201</td>\n",
       "    </tr>\n",
       "    <tr>\n",
       "      <th>2</th>\n",
       "      <td>13.670287</td>\n",
       "      <td>12.868486</td>\n",
       "      <td>0.002384</td>\n",
       "      <td>-0.017360</td>\n",
       "      <td>-0.013822</td>\n",
       "    </tr>\n",
       "    <tr>\n",
       "      <th>3</th>\n",
       "      <td>13.695710</td>\n",
       "      <td>12.951151</td>\n",
       "      <td>0.002384</td>\n",
       "      <td>-0.020008</td>\n",
       "      <td>-0.015662</td>\n",
       "    </tr>\n",
       "    <tr>\n",
       "      <th>4</th>\n",
       "      <td>13.703879</td>\n",
       "      <td>13.025584</td>\n",
       "      <td>0.002384</td>\n",
       "      <td>-0.021714</td>\n",
       "      <td>-0.014833</td>\n",
       "    </tr>\n",
       "    <tr>\n",
       "      <th>...</th>\n",
       "      <td>...</td>\n",
       "      <td>...</td>\n",
       "      <td>...</td>\n",
       "      <td>...</td>\n",
       "      <td>...</td>\n",
       "    </tr>\n",
       "    <tr>\n",
       "      <th>81895</th>\n",
       "      <td>14.604028</td>\n",
       "      <td>12.387069</td>\n",
       "      <td>0.031286</td>\n",
       "      <td>-0.020619</td>\n",
       "      <td>0.015968</td>\n",
       "    </tr>\n",
       "    <tr>\n",
       "      <th>81896</th>\n",
       "      <td>14.608903</td>\n",
       "      <td>12.376941</td>\n",
       "      <td>0.033448</td>\n",
       "      <td>-0.020619</td>\n",
       "      <td>0.021370</td>\n",
       "    </tr>\n",
       "    <tr>\n",
       "      <th>81897</th>\n",
       "      <td>14.606008</td>\n",
       "      <td>12.517950</td>\n",
       "      <td>0.033448</td>\n",
       "      <td>-0.020619</td>\n",
       "      <td>0.015266</td>\n",
       "    </tr>\n",
       "    <tr>\n",
       "      <th>81898</th>\n",
       "      <td>14.638396</td>\n",
       "      <td>12.491945</td>\n",
       "      <td>0.033448</td>\n",
       "      <td>-0.020619</td>\n",
       "      <td>0.009809</td>\n",
       "    </tr>\n",
       "    <tr>\n",
       "      <th>81899</th>\n",
       "      <td>14.632976</td>\n",
       "      <td>12.590831</td>\n",
       "      <td>0.033448</td>\n",
       "      <td>-0.020619</td>\n",
       "      <td>0.010152</td>\n",
       "    </tr>\n",
       "  </tbody>\n",
       "</table>\n",
       "<p>81900 rows × 5 columns</p>\n",
       "</div>"
      ],
      "text/plain": [
       "         매도총호가잔량    매수총호가잔량        고가        저가    직전체결가격\n",
       "0      13.306997  12.575422  0.002325 -0.007177 -0.003820\n",
       "1      13.545755  12.766560  0.002384 -0.016230 -0.011201\n",
       "2      13.670287  12.868486  0.002384 -0.017360 -0.013822\n",
       "3      13.695710  12.951151  0.002384 -0.020008 -0.015662\n",
       "4      13.703879  13.025584  0.002384 -0.021714 -0.014833\n",
       "...          ...        ...       ...       ...       ...\n",
       "81895  14.604028  12.387069  0.031286 -0.020619  0.015968\n",
       "81896  14.608903  12.376941  0.033448 -0.020619  0.021370\n",
       "81897  14.606008  12.517950  0.033448 -0.020619  0.015266\n",
       "81898  14.638396  12.491945  0.033448 -0.020619  0.009809\n",
       "81899  14.632976  12.590831  0.033448 -0.020619  0.010152\n",
       "\n",
       "[81900 rows x 5 columns]"
      ]
     },
     "execution_count": 16,
     "metadata": {},
     "output_type": "execute_result"
    }
   ],
   "source": [
    "Train_df[feat_cols[:-1]]"
   ]
  },
  {
   "cell_type": "code",
   "execution_count": 17,
   "id": "f27637b3",
   "metadata": {},
   "outputs": [
    {
     "name": "stdout",
     "output_type": "stream",
     "text": [
      "5 194\n"
     ]
    },
    {
     "name": "stderr",
     "output_type": "stream",
     "text": [
      "/root/anaconda3/lib/python3.7/site-packages/ipykernel_launcher.py:9: SettingWithCopyWarning: \n",
      "A value is trying to be set on a copy of a slice from a DataFrame\n",
      "\n",
      "See the caveats in the documentation: https://pandas.pydata.org/pandas-docs/stable/user_guide/indexing.html#returning-a-view-versus-a-copy\n",
      "  if __name__ == '__main__':\n",
      "/root/anaconda3/lib/python3.7/site-packages/ipykernel_launcher.py:10: SettingWithCopyWarning: \n",
      "A value is trying to be set on a copy of a slice from a DataFrame\n",
      "\n",
      "See the caveats in the documentation: https://pandas.pydata.org/pandas-docs/stable/user_guide/indexing.html#returning-a-view-versus-a-copy\n",
      "  # Remove the CWD from sys.path while we load stuff.\n",
      "/root/anaconda3/lib/python3.7/site-packages/ipykernel_launcher.py:9: SettingWithCopyWarning: \n",
      "A value is trying to be set on a copy of a slice from a DataFrame\n",
      "\n",
      "See the caveats in the documentation: https://pandas.pydata.org/pandas-docs/stable/user_guide/indexing.html#returning-a-view-versus-a-copy\n",
      "  if __name__ == '__main__':\n",
      "/root/anaconda3/lib/python3.7/site-packages/ipykernel_launcher.py:10: SettingWithCopyWarning: \n",
      "A value is trying to be set on a copy of a slice from a DataFrame\n",
      "\n",
      "See the caveats in the documentation: https://pandas.pydata.org/pandas-docs/stable/user_guide/indexing.html#returning-a-view-versus-a-copy\n",
      "  # Remove the CWD from sys.path while we load stuff.\n",
      "/root/anaconda3/lib/python3.7/site-packages/ipykernel_launcher.py:9: SettingWithCopyWarning: \n",
      "A value is trying to be set on a copy of a slice from a DataFrame\n",
      "\n",
      "See the caveats in the documentation: https://pandas.pydata.org/pandas-docs/stable/user_guide/indexing.html#returning-a-view-versus-a-copy\n",
      "  if __name__ == '__main__':\n",
      "/root/anaconda3/lib/python3.7/site-packages/ipykernel_launcher.py:10: SettingWithCopyWarning: \n",
      "A value is trying to be set on a copy of a slice from a DataFrame\n",
      "\n",
      "See the caveats in the documentation: https://pandas.pydata.org/pandas-docs/stable/user_guide/indexing.html#returning-a-view-versus-a-copy\n",
      "  # Remove the CWD from sys.path while we load stuff.\n"
     ]
    },
    {
     "name": "stdout",
     "output_type": "stream",
     "text": [
      "-33328534.0\n",
      "path: /Data/Min/TransLOB/TrainData/Train_ORD_5_1946feat\n",
      "path: /Data/Min/TransLOB/TrainData/Train_ORD_Label__5_1946feat\n",
      "2 155\n",
      "1011342.0\n",
      "path: /Data/Min/TransLOB/TrainData/Train_ORD_2_1556feat\n",
      "path: /Data/Min/TransLOB/TrainData/Train_ORD_Label__2_1556feat\n",
      "12 100\n",
      "-27072832.0\n",
      "path: /Data/Min/TransLOB/TrainData/Train_ORD_12_1006feat\n",
      "path: /Data/Min/TransLOB/TrainData/Train_ORD_Label__12_1006feat\n",
      "17 29\n"
     ]
    },
    {
     "name": "stderr",
     "output_type": "stream",
     "text": [
      "/root/anaconda3/lib/python3.7/site-packages/ipykernel_launcher.py:9: SettingWithCopyWarning: \n",
      "A value is trying to be set on a copy of a slice from a DataFrame\n",
      "\n",
      "See the caveats in the documentation: https://pandas.pydata.org/pandas-docs/stable/user_guide/indexing.html#returning-a-view-versus-a-copy\n",
      "  if __name__ == '__main__':\n",
      "/root/anaconda3/lib/python3.7/site-packages/ipykernel_launcher.py:10: SettingWithCopyWarning: \n",
      "A value is trying to be set on a copy of a slice from a DataFrame\n",
      "\n",
      "See the caveats in the documentation: https://pandas.pydata.org/pandas-docs/stable/user_guide/indexing.html#returning-a-view-versus-a-copy\n",
      "  # Remove the CWD from sys.path while we load stuff.\n",
      "/root/anaconda3/lib/python3.7/site-packages/ipykernel_launcher.py:9: SettingWithCopyWarning: \n",
      "A value is trying to be set on a copy of a slice from a DataFrame\n",
      "\n",
      "See the caveats in the documentation: https://pandas.pydata.org/pandas-docs/stable/user_guide/indexing.html#returning-a-view-versus-a-copy\n",
      "  if __name__ == '__main__':\n",
      "/root/anaconda3/lib/python3.7/site-packages/ipykernel_launcher.py:10: SettingWithCopyWarning: \n",
      "A value is trying to be set on a copy of a slice from a DataFrame\n",
      "\n",
      "See the caveats in the documentation: https://pandas.pydata.org/pandas-docs/stable/user_guide/indexing.html#returning-a-view-versus-a-copy\n",
      "  # Remove the CWD from sys.path while we load stuff.\n",
      "/root/anaconda3/lib/python3.7/site-packages/ipykernel_launcher.py:9: SettingWithCopyWarning: \n",
      "A value is trying to be set on a copy of a slice from a DataFrame\n",
      "\n",
      "See the caveats in the documentation: https://pandas.pydata.org/pandas-docs/stable/user_guide/indexing.html#returning-a-view-versus-a-copy\n",
      "  if __name__ == '__main__':\n",
      "/root/anaconda3/lib/python3.7/site-packages/ipykernel_launcher.py:10: SettingWithCopyWarning: \n",
      "A value is trying to be set on a copy of a slice from a DataFrame\n",
      "\n",
      "See the caveats in the documentation: https://pandas.pydata.org/pandas-docs/stable/user_guide/indexing.html#returning-a-view-versus-a-copy\n",
      "  # Remove the CWD from sys.path while we load stuff.\n"
     ]
    },
    {
     "name": "stdout",
     "output_type": "stream",
     "text": [
      "-27191045.0\n",
      "path: /Data/Min/TransLOB/TrainData/Train_ORD_17_296feat\n",
      "path: /Data/Min/TransLOB/TrainData/Train_ORD_Label__17_296feat\n",
      "42 1\n",
      "2665621.0\n",
      "path: /Data/Min/TransLOB/TrainData/Train_ORD_42_16feat\n",
      "path: /Data/Min/TransLOB/TrainData/Train_ORD_Label__42_16feat\n",
      "44 1\n",
      "-17303050.0\n",
      "path: /Data/Min/TransLOB/TrainData/Train_ORD_44_16feat\n",
      "path: /Data/Min/TransLOB/TrainData/Train_ORD_Label__44_16feat\n",
      "50 92\n"
     ]
    },
    {
     "name": "stderr",
     "output_type": "stream",
     "text": [
      "/root/anaconda3/lib/python3.7/site-packages/ipykernel_launcher.py:9: SettingWithCopyWarning: \n",
      "A value is trying to be set on a copy of a slice from a DataFrame\n",
      "\n",
      "See the caveats in the documentation: https://pandas.pydata.org/pandas-docs/stable/user_guide/indexing.html#returning-a-view-versus-a-copy\n",
      "  if __name__ == '__main__':\n",
      "/root/anaconda3/lib/python3.7/site-packages/ipykernel_launcher.py:10: SettingWithCopyWarning: \n",
      "A value is trying to be set on a copy of a slice from a DataFrame\n",
      "\n",
      "See the caveats in the documentation: https://pandas.pydata.org/pandas-docs/stable/user_guide/indexing.html#returning-a-view-versus-a-copy\n",
      "  # Remove the CWD from sys.path while we load stuff.\n",
      "/root/anaconda3/lib/python3.7/site-packages/ipykernel_launcher.py:9: SettingWithCopyWarning: \n",
      "A value is trying to be set on a copy of a slice from a DataFrame\n",
      "\n",
      "See the caveats in the documentation: https://pandas.pydata.org/pandas-docs/stable/user_guide/indexing.html#returning-a-view-versus-a-copy\n",
      "  if __name__ == '__main__':\n",
      "/root/anaconda3/lib/python3.7/site-packages/ipykernel_launcher.py:10: SettingWithCopyWarning: \n",
      "A value is trying to be set on a copy of a slice from a DataFrame\n",
      "\n",
      "See the caveats in the documentation: https://pandas.pydata.org/pandas-docs/stable/user_guide/indexing.html#returning-a-view-versus-a-copy\n",
      "  # Remove the CWD from sys.path while we load stuff.\n",
      "/root/anaconda3/lib/python3.7/site-packages/ipykernel_launcher.py:9: SettingWithCopyWarning: \n",
      "A value is trying to be set on a copy of a slice from a DataFrame\n",
      "\n",
      "See the caveats in the documentation: https://pandas.pydata.org/pandas-docs/stable/user_guide/indexing.html#returning-a-view-versus-a-copy\n",
      "  if __name__ == '__main__':\n",
      "/root/anaconda3/lib/python3.7/site-packages/ipykernel_launcher.py:10: SettingWithCopyWarning: \n",
      "A value is trying to be set on a copy of a slice from a DataFrame\n",
      "\n",
      "See the caveats in the documentation: https://pandas.pydata.org/pandas-docs/stable/user_guide/indexing.html#returning-a-view-versus-a-copy\n",
      "  # Remove the CWD from sys.path while we load stuff.\n"
     ]
    },
    {
     "name": "stdout",
     "output_type": "stream",
     "text": [
      "-2678352.0\n",
      "path: /Data/Min/TransLOB/TrainData/Train_ORD_50_926feat\n",
      "path: /Data/Min/TransLOB/TrainData/Train_ORD_Label__50_926feat\n",
      "2 83\n",
      "-13119612.0\n",
      "path: /Data/Min/TransLOB/TrainData/Train_ORD_2_836feat\n",
      "path: /Data/Min/TransLOB/TrainData/Train_ORD_Label__2_836feat\n",
      "4 10118\n",
      "-13138160.0\n",
      "path: /Data/Min/TransLOB/TrainData/Train_ORD_4_101186feat\n",
      "path: /Data/Min/TransLOB/TrainData/Train_ORD_Label__4_101186feat\n",
      "8 298\n",
      "-3971686.0\n",
      "path: /Data/Min/TransLOB/TrainData/Train_ORD_8_2986feat\n",
      "path: /Data/Min/TransLOB/TrainData/Train_ORD_Label__8_2986feat\n",
      "4 9997\n",
      "-13028711.0\n",
      "path: /Data/Min/TransLOB/TrainData/Train_ORD_4_99976feat\n",
      "path: /Data/Min/TransLOB/TrainData/Train_ORD_Label__4_99976feat\n",
      "50 91\n",
      "-6831958.0\n",
      "path: /Data/Min/TransLOB/TrainData/Train_ORD_50_916feat\n",
      "path: /Data/Min/TransLOB/TrainData/Train_ORD_Label__50_916feat\n"
     ]
    },
    {
     "name": "stderr",
     "output_type": "stream",
     "text": [
      "/root/anaconda3/lib/python3.7/site-packages/ipykernel_launcher.py:9: SettingWithCopyWarning: \n",
      "A value is trying to be set on a copy of a slice from a DataFrame\n",
      "\n",
      "See the caveats in the documentation: https://pandas.pydata.org/pandas-docs/stable/user_guide/indexing.html#returning-a-view-versus-a-copy\n",
      "  if __name__ == '__main__':\n",
      "/root/anaconda3/lib/python3.7/site-packages/ipykernel_launcher.py:10: SettingWithCopyWarning: \n",
      "A value is trying to be set on a copy of a slice from a DataFrame\n",
      "\n",
      "See the caveats in the documentation: https://pandas.pydata.org/pandas-docs/stable/user_guide/indexing.html#returning-a-view-versus-a-copy\n",
      "  # Remove the CWD from sys.path while we load stuff.\n",
      "/root/anaconda3/lib/python3.7/site-packages/ipykernel_launcher.py:9: SettingWithCopyWarning: \n",
      "A value is trying to be set on a copy of a slice from a DataFrame\n",
      "\n",
      "See the caveats in the documentation: https://pandas.pydata.org/pandas-docs/stable/user_guide/indexing.html#returning-a-view-versus-a-copy\n",
      "  if __name__ == '__main__':\n",
      "/root/anaconda3/lib/python3.7/site-packages/ipykernel_launcher.py:10: SettingWithCopyWarning: \n",
      "A value is trying to be set on a copy of a slice from a DataFrame\n",
      "\n",
      "See the caveats in the documentation: https://pandas.pydata.org/pandas-docs/stable/user_guide/indexing.html#returning-a-view-versus-a-copy\n",
      "  # Remove the CWD from sys.path while we load stuff.\n",
      "/root/anaconda3/lib/python3.7/site-packages/ipykernel_launcher.py:9: SettingWithCopyWarning: \n",
      "A value is trying to be set on a copy of a slice from a DataFrame\n",
      "\n",
      "See the caveats in the documentation: https://pandas.pydata.org/pandas-docs/stable/user_guide/indexing.html#returning-a-view-versus-a-copy\n",
      "  if __name__ == '__main__':\n",
      "/root/anaconda3/lib/python3.7/site-packages/ipykernel_launcher.py:10: SettingWithCopyWarning: \n",
      "A value is trying to be set on a copy of a slice from a DataFrame\n",
      "\n",
      "See the caveats in the documentation: https://pandas.pydata.org/pandas-docs/stable/user_guide/indexing.html#returning-a-view-versus-a-copy\n",
      "  # Remove the CWD from sys.path while we load stuff.\n"
     ]
    }
   ],
   "source": [
    "for mbr,brn in mbrnlist:\n",
    "    print(mbr,brn)\n",
    "    OTGDF_temp=OTGDF[(OTGDF['MBR_NO']==mbr) &(OTGDF['BRN_NO']==brn)]\n",
    "    OTGDF_temp=OTGDF_temp.set_index(['ORD_DD','ISU_CD','TM_GP'])\n",
    "    OTGDF_temp=OTGDF_temp.reindex(new_index)\n",
    "    OTGDF_temp['NET_ORD_QTY']=OTGDF_temp['NET_ORD_QTY'].fillna(0)\n",
    "    Train_df['NET_ORD_QTY']=OTGDF_temp['NET_ORD_QTY'].values\n",
    "    Train_df['ylabel']=Train_df['NET_ORD_QTY']\n",
    "    Train_df['ylabel'][:-1]=(2*(Train_df['NET_ORD_QTY']>0)+1*(Train_df['NET_ORD_QTY']==0))[1:]\n",
    "    Train_df['ylabel'][38::39]=1\n",
    "    print(Train_df['NET_ORD_QTY'].sum())    \n",
    "\n",
    "    SaveDirPath='/Data/Min/TransLOB/TrainData/'\n",
    "    now=datetime.now()\n",
    "    DataSubfix=str(mbr)+'_'+str(brn)+str(now.year)+'_'+str(now.month)+'_'+str(now.day)\n",
    "    DataSubfix=str(mbr)+'_'+str(brn)+Dataname\n",
    "    TrainDataname='Train_ORD'+'_'+DataSubfix\n",
    "    TrainLabelDataname='Train_ORD_Label_'+'_'+DataSubfix\n",
    "    np.save(SaveDirPath+TrainDataname,Train_df[feat_cols].values)\n",
    "    np.save(SaveDirPath+TrainLabelDataname,Train_df['ylabel'])\n",
    "    print(\"path:\",SaveDirPath+TrainDataname)\n",
    "    print(\"path:\",SaveDirPath+TrainLabelDataname)\n",
    "with open(SaveDirPath+'DataInformationORD.txt', \"a+\") as f:\n",
    "    f.write(\"TrainDataname:\"+TrainDataname+'\\n')\n",
    "    f.write(\"TrainLabelDataname:\"+TrainLabelDataname+'\\n')\n",
    "    f.write(\"TickDataname:\"+TickDataname+'\\n')\n",
    "    f.write(\"ORDTickDataname:\"+ORDTickDataname+'\\n')\n",
    "\n",
    "    f.write(\"divdict:\"+'\\n')\n",
    "    for col,llist in divdict.items():\n",
    "        f.write(str(col)+'\\t'+str(llist))\n",
    "    f.write('\\n')\n",
    "    f.write(\"loglist:\"+'\\n')\n",
    "    for col in loglist:\n",
    "        f.write(str(col)+'\\t')\n",
    "    f.write('\\n')\n",
    "\n",
    "    f.write(\"feat_cols:\"+'\\n')\n",
    "    for col in feat_cols:\n",
    "        f.write(str(col)+'\\t')\n",
    "    f.write('\\n')\n"
   ]
  },
  {
   "cell_type": "code",
   "execution_count": 19,
   "id": "81e7ff79",
   "metadata": {},
   "outputs": [
    {
     "data": {
      "text/plain": [
       "(81900, 6)"
      ]
     },
     "execution_count": 19,
     "metadata": {},
     "output_type": "execute_result"
    }
   ],
   "source": [
    "Train_df[feat_cols].values.shape"
   ]
  },
  {
   "cell_type": "code",
   "execution_count": 21,
   "id": "255d69da",
   "metadata": {},
   "outputs": [
    {
     "data": {
      "text/plain": [
       "array([2., 0., 2., ..., 0., 1., 1.])"
      ]
     },
     "execution_count": 21,
     "metadata": {},
     "output_type": "execute_result"
    }
   ],
   "source": [
    "Train_df['ylabel'].values"
   ]
  },
  {
   "cell_type": "markdown",
   "id": "fa055f69",
   "metadata": {},
   "source": [
    "a"
   ]
  },
  {
   "cell_type": "markdown",
   "id": "6c0ec583",
   "metadata": {},
   "source": [
    "SaveDirPath='/Data/Min/TransLOB/TrainData/'\n",
    "now=datetime.now()\n",
    "TrainDataname='Train_'+str(now.year)+'_'+str(now.month)+'_'+str(now.day)+'_'+str(now.hour)+'_'+str(now.minute)\n",
    "TrainLabelDataname='Train_Label_'+str(now.year)+'_'+str(now.month)+'_'+str(now.day)+'_'+str(now.hour)+'_'+str(now.minute)\n",
    "np.save(SaveDirPath+TrainDataname,Train_df[feat_cols].values)\n",
    "np.save(SaveDirPath+TrainLabelDataname,increment)\n",
    "with open(SaveDirPath+'DataInformation.txt', \"a+\") as f:\n",
    "    f.write(\"TrainDataname:\"+TrainDataname+'\\n')\n",
    "    f.write(\"TrainLabelDataname:\"+TrainLabelDataname+'\\n')\n",
    "    f.write(\"TickDataname:\"+TickDataname)\n",
    "    for col in feat_cols:\n",
    "        f.write(str(col)+'\\t')\n",
    "    f.write('\\n')\n",
    "print(\"path:\",SaveDirPath+TrainDataname)\n",
    "print(\"path:\",SaveDirPath+TrainLabelDataname)"
   ]
  }
 ],
 "metadata": {
  "kernelspec": {
   "display_name": "Python 3",
   "language": "python",
   "name": "python3"
  },
  "language_info": {
   "codemirror_mode": {
    "name": "ipython",
    "version": 3
   },
   "file_extension": ".py",
   "mimetype": "text/x-python",
   "name": "python",
   "nbconvert_exporter": "python",
   "pygments_lexer": "ipython3",
   "version": "3.7.10"
  }
 },
 "nbformat": 4,
 "nbformat_minor": 5
}
