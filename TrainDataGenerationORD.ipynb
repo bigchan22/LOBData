{
 "cells": [
  {
   "cell_type": "code",
   "execution_count": 1,
   "id": "ef1df877",
   "metadata": {},
   "outputs": [],
   "source": [
    "import pandas as pd\n",
    "import numpy as np\n",
    "from datetime import datetime\n",
    "from source.TrainDataGeneration import append_ORD_TM,append_ORD_VOL,append_TM_GP,GetGroupDataFrame,append_STEP5"
   ]
  },
  {
   "cell_type": "code",
   "execution_count": 2,
   "id": "692eef0b",
   "metadata": {},
   "outputs": [],
   "source": [
    "TickDataname='GDF2022_3_27_16_52.csv'\n",
    "TickGDF=pd.read_csv('CollectedData/'+TickDataname)\n",
    "Dataname='norm6feat'\n",
    "\n",
    "TGDF=TickGDF[(TickGDF['TM_GP']>=0)&(TickGDF['TM_GP']<39)]\n",
    "TGDF=TGDF.set_index(['ORD_DD','ISU_CD','TM_GP'])\n",
    "\n",
    "new_index = pd.MultiIndex.from_product(TGDF.index.levels)\n",
    "new_df = TGDF.reindex(new_index)\n",
    "new_df = new_df.ffill()\n",
    "new_df=new_df.reset_index()\n",
    "Train_df=new_df\n",
    "Train_df.loc[new_df['TM_GP']==0,'시가']=Train_df.loc[new_df['TM_GP']==1,'시가'].values"
   ]
  },
  {
   "cell_type": "code",
   "execution_count": null,
   "id": "f973d8d2",
   "metadata": {},
   "outputs": [],
   "source": []
  },
  {
   "cell_type": "code",
   "execution_count": 3,
   "id": "64bc629b",
   "metadata": {},
   "outputs": [],
   "source": [
    "Train_df['10단계호가합계잔량']=Train_df['매수10단계호가합계잔량']+Train_df['매도10단계호가합계잔량']"
   ]
  },
  {
   "cell_type": "code",
   "execution_count": 4,
   "id": "2c3a107b",
   "metadata": {},
   "outputs": [],
   "source": [
    "qtylist=['ASK_STEP1_BSTORD_RQTY', 'ASK_STEP2_BSTORD_RQTY', \n",
    "       'ASK_STEP3_BSTORD_RQTY',  'ASK_STEP4_BSTORD_RQTY', \n",
    "       'ASK_STEP5_BSTORD_RQTY', 'BID_STEP1_BSTORD_RQTY', \n",
    "       'BID_STEP2_BSTORD_RQTY', 'BID_STEP3_BSTORD_RQTY', \n",
    "       'BID_STEP4_BSTORD_RQTY','BID_STEP5_BSTORD_RQTY',\n",
    "        '매도5단계호가합계잔량', '매수5단계호가합계잔량', '매도10단계호가합계잔량',\n",
    "       '매수10단계호가합계잔량', '매도총호가잔량', '매수총호가잔량']"
   ]
  },
  {
   "cell_type": "markdown",
   "id": "46a407e5",
   "metadata": {},
   "source": [
    "Train_df[qtylist]=Train_df[qtylist].div(Train_df['10단계호가합계잔량'],axis=0).values"
   ]
  },
  {
   "cell_type": "markdown",
   "id": "f3e056d0",
   "metadata": {},
   "source": [
    "Train_df['10단계호가합계잔량']=np.log(new_df['10단계호가합계잔량'])"
   ]
  },
  {
   "cell_type": "code",
   "execution_count": 5,
   "id": "8d8c0971",
   "metadata": {},
   "outputs": [],
   "source": [
    "divdict={}\n",
    "# divdict['10단계호가합계잔량']=qtylist\n",
    "divdict['시가']=['고가','저가','직전체결가격']\n",
    "loglist=[]\n",
    "loglist+=['고가','저가','직전체결가격','시가']\n",
    "# loglist+=['고가','저가','직전체결가격','시가']\n",
    "# loglist+=['10단계호가합계잔량']\n",
    "minmaxnormlist=[]\n",
    "minmaxnormlist+=['매도총호가잔량', '매수총호가잔량', '고가', '저가', \n",
    "           '직전체결가격']"
   ]
  },
  {
   "cell_type": "code",
   "execution_count": 6,
   "id": "6bed055b",
   "metadata": {},
   "outputs": [],
   "source": [
    "for divcol in divdict:\n",
    "    Train_df[divdict[divcol]]=Train_df[divdict[divcol]].div(Train_df[divcol],axis=0).values"
   ]
  },
  {
   "cell_type": "code",
   "execution_count": 7,
   "id": "e909cce6",
   "metadata": {},
   "outputs": [],
   "source": [
    "Train_df[loglist]=np.log(Train_df[loglist])"
   ]
  },
  {
   "cell_type": "code",
   "execution_count": 8,
   "id": "270d8069",
   "metadata": {},
   "outputs": [],
   "source": [
    "Train_df[minmaxnormlist]=(Train_df[minmaxnormlist]-Train_df[minmaxnormlist].min())/(Train_df[minmaxnormlist].max()-Train_df[minmaxnormlist].min())"
   ]
  },
  {
   "cell_type": "code",
   "execution_count": 9,
   "id": "db39e7df",
   "metadata": {},
   "outputs": [],
   "source": [
    "ORDTickDataname='GDF2022_4_12_19_51.csv'\n",
    "ORDTickGDF=pd.read_csv('CollectedData/'+ORDTickDataname)"
   ]
  },
  {
   "cell_type": "code",
   "execution_count": 10,
   "id": "2ee14f59",
   "metadata": {},
   "outputs": [
    {
     "data": {
      "text/plain": [
       "Index(['Unnamed: 0', 'ORD_DD', 'ISU_CD', 'MBR_NO', 'BRN_NO', 'ASKBID_TP_CD',\n",
       "       'MODCANCL_TP_CD', 'ORD_QTY', 'ORD_ACPT_TM', 'TM_GP'],\n",
       "      dtype='object')"
      ]
     },
     "execution_count": 10,
     "metadata": {},
     "output_type": "execute_result"
    }
   ],
   "source": [
    "ORDTickGDF.columns"
   ]
  },
  {
   "cell_type": "code",
   "execution_count": 11,
   "id": "2106e81e",
   "metadata": {},
   "outputs": [],
   "source": [
    "OTGDF=ORDTickGDF[(ORDTickGDF['TM_GP']>=0)&(ORDTickGDF['TM_GP']<39)]\n",
    "OTGDF=OTGDF[OTGDF['MODCANCL_TP_CD']!=2]\n",
    "\n",
    "OTGDF['NET_ORD_QTY']=OTGDF['ORD_QTY']*(2*OTGDF['ASKBID_TP_CD']-3)*(2-OTGDF['MODCANCL_TP_CD'])\n",
    "# OTGDF=OTGDF.set_index(['ORD_DD','ISU_CD','TM_GP'])"
   ]
  },
  {
   "cell_type": "code",
   "execution_count": 12,
   "id": "fb989dbe",
   "metadata": {},
   "outputs": [],
   "source": [
    "groupcolumns=['ORD_DD', 'ISU_CD', 'MBR_NO', 'BRN_NO','TM_GP']\n",
    "sumcolumns=['NET_ORD_QTY']\n",
    "meancolumns,lastcolumns=[],[]"
   ]
  },
  {
   "cell_type": "code",
   "execution_count": 13,
   "id": "0fefcae4",
   "metadata": {},
   "outputs": [],
   "source": [
    "OTGDF=GetGroupDataFrame(OTGDF,groupcolumns,sumcolumns,meancolumns,lastcolumns)"
   ]
  },
  {
   "cell_type": "code",
   "execution_count": 14,
   "id": "86ed83c1",
   "metadata": {},
   "outputs": [],
   "source": [
    "feat_cols=['ASK_STEP1_BSTORD_RQTY', 'ASK_STEP2_BSTORD_RQTY', \n",
    "       'ASK_STEP3_BSTORD_RQTY',  'ASK_STEP4_BSTORD_RQTY', \n",
    "       'ASK_STEP5_BSTORD_RQTY', 'BID_STEP1_BSTORD_RQTY', \n",
    "       'BID_STEP2_BSTORD_RQTY', 'BID_STEP3_BSTORD_RQTY', \n",
    "       'BID_STEP4_BSTORD_RQTY','BID_STEP5_BSTORD_RQTY',\n",
    "        '매도5단계호가합계잔량', '매수5단계호가합계잔량', '매도10단계호가합계잔량',\n",
    "       '매수10단계호가합계잔량', '매도총호가잔량', '매수총호가잔량', '고가', '저가',\n",
    "           '시가', '직전체결가격','NET_ORD_QTY']"
   ]
  },
  {
   "cell_type": "code",
   "execution_count": 15,
   "id": "33c92db9",
   "metadata": {},
   "outputs": [],
   "source": [
    "feat_cols=['매도총호가잔량', '매수총호가잔량', '고가', '저가', \n",
    "           '직전체결가격','NET_ORD_QTY']"
   ]
  },
  {
   "cell_type": "markdown",
   "id": "def41566",
   "metadata": {},
   "source": [
    "feat_cols=['매도5단계호가합계잔량', '매수5단계호가합계잔량', '매도10단계호가합계잔량',\n",
    "       '매수10단계호가합계잔량', '매도총호가잔량', '매수총호가잔량', '고가', '저가',\n",
    "           '시가', '직전체결가격','NET_ORD_QTY']"
   ]
  },
  {
   "cell_type": "code",
   "execution_count": 16,
   "id": "003d8940",
   "metadata": {},
   "outputs": [],
   "source": [
    "mbrnlist1=[(5,194),(2,155),(12,100),(17,29),(42,1),(44,1),(50,92),(2,83),(4,10118),(8,298)]\n",
    "mbrnlist2=[(5,194),(12,100),(2,155),(17,29),(42,1),(44,1),(2,83),(4,10118),(4,9997),(50,91)]\n",
    "mbrnlist=mbrnlist1+[a for a in mbrnlist2 if a not in mbrnlist1]"
   ]
  },
  {
   "cell_type": "code",
   "execution_count": 17,
   "id": "8505fecf",
   "metadata": {},
   "outputs": [
    {
     "data": {
      "text/html": [
       "<div>\n",
       "<style scoped>\n",
       "    .dataframe tbody tr th:only-of-type {\n",
       "        vertical-align: middle;\n",
       "    }\n",
       "\n",
       "    .dataframe tbody tr th {\n",
       "        vertical-align: top;\n",
       "    }\n",
       "\n",
       "    .dataframe thead th {\n",
       "        text-align: right;\n",
       "    }\n",
       "</style>\n",
       "<table border=\"1\" class=\"dataframe\">\n",
       "  <thead>\n",
       "    <tr style=\"text-align: right;\">\n",
       "      <th></th>\n",
       "      <th>매도총호가잔량</th>\n",
       "      <th>매수총호가잔량</th>\n",
       "      <th>고가</th>\n",
       "      <th>저가</th>\n",
       "      <th>직전체결가격</th>\n",
       "    </tr>\n",
       "  </thead>\n",
       "  <tbody>\n",
       "    <tr>\n",
       "      <th>0</th>\n",
       "      <td>0.024334</td>\n",
       "      <td>0.025399</td>\n",
       "      <td>0.096891</td>\n",
       "      <td>0.830602</td>\n",
       "      <td>0.532876</td>\n",
       "    </tr>\n",
       "    <tr>\n",
       "      <th>1</th>\n",
       "      <td>0.030896</td>\n",
       "      <td>0.030938</td>\n",
       "      <td>0.097070</td>\n",
       "      <td>0.809086</td>\n",
       "      <td>0.521453</td>\n",
       "    </tr>\n",
       "    <tr>\n",
       "      <th>2</th>\n",
       "      <td>0.034993</td>\n",
       "      <td>0.034354</td>\n",
       "      <td>0.097070</td>\n",
       "      <td>0.806399</td>\n",
       "      <td>0.517398</td>\n",
       "    </tr>\n",
       "    <tr>\n",
       "      <th>3</th>\n",
       "      <td>0.035894</td>\n",
       "      <td>0.037392</td>\n",
       "      <td>0.097070</td>\n",
       "      <td>0.800107</td>\n",
       "      <td>0.514551</td>\n",
       "    </tr>\n",
       "    <tr>\n",
       "      <th>4</th>\n",
       "      <td>0.036188</td>\n",
       "      <td>0.040350</td>\n",
       "      <td>0.097070</td>\n",
       "      <td>0.796053</td>\n",
       "      <td>0.515832</td>\n",
       "    </tr>\n",
       "    <tr>\n",
       "      <th>...</th>\n",
       "      <td>...</td>\n",
       "      <td>...</td>\n",
       "      <td>...</td>\n",
       "      <td>...</td>\n",
       "      <td>...</td>\n",
       "    </tr>\n",
       "    <tr>\n",
       "      <th>81895</th>\n",
       "      <td>0.089023</td>\n",
       "      <td>0.020885</td>\n",
       "      <td>0.185336</td>\n",
       "      <td>0.798654</td>\n",
       "      <td>0.563496</td>\n",
       "    </tr>\n",
       "    <tr>\n",
       "      <th>81896</th>\n",
       "      <td>0.089458</td>\n",
       "      <td>0.020665</td>\n",
       "      <td>0.191938</td>\n",
       "      <td>0.798654</td>\n",
       "      <td>0.571856</td>\n",
       "    </tr>\n",
       "    <tr>\n",
       "      <th>81897</th>\n",
       "      <td>0.089199</td>\n",
       "      <td>0.023931</td>\n",
       "      <td>0.191938</td>\n",
       "      <td>0.798654</td>\n",
       "      <td>0.562410</td>\n",
       "    </tr>\n",
       "    <tr>\n",
       "      <th>81898</th>\n",
       "      <td>0.092135</td>\n",
       "      <td>0.023293</td>\n",
       "      <td>0.191938</td>\n",
       "      <td>0.798654</td>\n",
       "      <td>0.553966</td>\n",
       "    </tr>\n",
       "    <tr>\n",
       "      <th>81899</th>\n",
       "      <td>0.091637</td>\n",
       "      <td>0.025808</td>\n",
       "      <td>0.191938</td>\n",
       "      <td>0.798654</td>\n",
       "      <td>0.554497</td>\n",
       "    </tr>\n",
       "  </tbody>\n",
       "</table>\n",
       "<p>81900 rows × 5 columns</p>\n",
       "</div>"
      ],
      "text/plain": [
       "        매도총호가잔량   매수총호가잔량        고가        저가    직전체결가격\n",
       "0      0.024334  0.025399  0.096891  0.830602  0.532876\n",
       "1      0.030896  0.030938  0.097070  0.809086  0.521453\n",
       "2      0.034993  0.034354  0.097070  0.806399  0.517398\n",
       "3      0.035894  0.037392  0.097070  0.800107  0.514551\n",
       "4      0.036188  0.040350  0.097070  0.796053  0.515832\n",
       "...         ...       ...       ...       ...       ...\n",
       "81895  0.089023  0.020885  0.185336  0.798654  0.563496\n",
       "81896  0.089458  0.020665  0.191938  0.798654  0.571856\n",
       "81897  0.089199  0.023931  0.191938  0.798654  0.562410\n",
       "81898  0.092135  0.023293  0.191938  0.798654  0.553966\n",
       "81899  0.091637  0.025808  0.191938  0.798654  0.554497\n",
       "\n",
       "[81900 rows x 5 columns]"
      ]
     },
     "execution_count": 17,
     "metadata": {},
     "output_type": "execute_result"
    }
   ],
   "source": [
    "Train_df[feat_cols[:-1]]"
   ]
  },
  {
   "cell_type": "code",
   "execution_count": 18,
   "id": "f27637b3",
   "metadata": {},
   "outputs": [
    {
     "name": "stdout",
     "output_type": "stream",
     "text": [
      "5 194\n"
     ]
    },
    {
     "name": "stderr",
     "output_type": "stream",
     "text": [
      "/root/anaconda3/lib/python3.7/site-packages/ipykernel_launcher.py:9: SettingWithCopyWarning: \n",
      "A value is trying to be set on a copy of a slice from a DataFrame\n",
      "\n",
      "See the caveats in the documentation: https://pandas.pydata.org/pandas-docs/stable/user_guide/indexing.html#returning-a-view-versus-a-copy\n",
      "  if __name__ == '__main__':\n",
      "/root/anaconda3/lib/python3.7/site-packages/ipykernel_launcher.py:10: SettingWithCopyWarning: \n",
      "A value is trying to be set on a copy of a slice from a DataFrame\n",
      "\n",
      "See the caveats in the documentation: https://pandas.pydata.org/pandas-docs/stable/user_guide/indexing.html#returning-a-view-versus-a-copy\n",
      "  # Remove the CWD from sys.path while we load stuff.\n",
      "/root/anaconda3/lib/python3.7/site-packages/ipykernel_launcher.py:9: SettingWithCopyWarning: \n",
      "A value is trying to be set on a copy of a slice from a DataFrame\n",
      "\n",
      "See the caveats in the documentation: https://pandas.pydata.org/pandas-docs/stable/user_guide/indexing.html#returning-a-view-versus-a-copy\n",
      "  if __name__ == '__main__':\n",
      "/root/anaconda3/lib/python3.7/site-packages/ipykernel_launcher.py:10: SettingWithCopyWarning: \n",
      "A value is trying to be set on a copy of a slice from a DataFrame\n",
      "\n",
      "See the caveats in the documentation: https://pandas.pydata.org/pandas-docs/stable/user_guide/indexing.html#returning-a-view-versus-a-copy\n",
      "  # Remove the CWD from sys.path while we load stuff.\n",
      "/root/anaconda3/lib/python3.7/site-packages/ipykernel_launcher.py:9: SettingWithCopyWarning: \n",
      "A value is trying to be set on a copy of a slice from a DataFrame\n",
      "\n",
      "See the caveats in the documentation: https://pandas.pydata.org/pandas-docs/stable/user_guide/indexing.html#returning-a-view-versus-a-copy\n",
      "  if __name__ == '__main__':\n",
      "/root/anaconda3/lib/python3.7/site-packages/ipykernel_launcher.py:10: SettingWithCopyWarning: \n",
      "A value is trying to be set on a copy of a slice from a DataFrame\n",
      "\n",
      "See the caveats in the documentation: https://pandas.pydata.org/pandas-docs/stable/user_guide/indexing.html#returning-a-view-versus-a-copy\n",
      "  # Remove the CWD from sys.path while we load stuff.\n"
     ]
    },
    {
     "name": "stdout",
     "output_type": "stream",
     "text": [
      "-33328534.0\n",
      "path: /Data/Min/TransLOB/TrainData/Train_ORD_5_194norm6feat\n",
      "path: /Data/Min/TransLOB/TrainData/Train_ORD_Label__5_194norm6feat\n",
      "2 155\n",
      "1011342.0\n",
      "path: /Data/Min/TransLOB/TrainData/Train_ORD_2_155norm6feat\n",
      "path: /Data/Min/TransLOB/TrainData/Train_ORD_Label__2_155norm6feat\n",
      "12 100\n",
      "-27072832.0\n",
      "path: /Data/Min/TransLOB/TrainData/Train_ORD_12_100norm6feat\n",
      "path: /Data/Min/TransLOB/TrainData/Train_ORD_Label__12_100norm6feat\n",
      "17 29\n"
     ]
    },
    {
     "name": "stderr",
     "output_type": "stream",
     "text": [
      "/root/anaconda3/lib/python3.7/site-packages/ipykernel_launcher.py:9: SettingWithCopyWarning: \n",
      "A value is trying to be set on a copy of a slice from a DataFrame\n",
      "\n",
      "See the caveats in the documentation: https://pandas.pydata.org/pandas-docs/stable/user_guide/indexing.html#returning-a-view-versus-a-copy\n",
      "  if __name__ == '__main__':\n",
      "/root/anaconda3/lib/python3.7/site-packages/ipykernel_launcher.py:10: SettingWithCopyWarning: \n",
      "A value is trying to be set on a copy of a slice from a DataFrame\n",
      "\n",
      "See the caveats in the documentation: https://pandas.pydata.org/pandas-docs/stable/user_guide/indexing.html#returning-a-view-versus-a-copy\n",
      "  # Remove the CWD from sys.path while we load stuff.\n",
      "/root/anaconda3/lib/python3.7/site-packages/ipykernel_launcher.py:9: SettingWithCopyWarning: \n",
      "A value is trying to be set on a copy of a slice from a DataFrame\n",
      "\n",
      "See the caveats in the documentation: https://pandas.pydata.org/pandas-docs/stable/user_guide/indexing.html#returning-a-view-versus-a-copy\n",
      "  if __name__ == '__main__':\n",
      "/root/anaconda3/lib/python3.7/site-packages/ipykernel_launcher.py:10: SettingWithCopyWarning: \n",
      "A value is trying to be set on a copy of a slice from a DataFrame\n",
      "\n",
      "See the caveats in the documentation: https://pandas.pydata.org/pandas-docs/stable/user_guide/indexing.html#returning-a-view-versus-a-copy\n",
      "  # Remove the CWD from sys.path while we load stuff.\n",
      "/root/anaconda3/lib/python3.7/site-packages/ipykernel_launcher.py:9: SettingWithCopyWarning: \n",
      "A value is trying to be set on a copy of a slice from a DataFrame\n",
      "\n",
      "See the caveats in the documentation: https://pandas.pydata.org/pandas-docs/stable/user_guide/indexing.html#returning-a-view-versus-a-copy\n",
      "  if __name__ == '__main__':\n",
      "/root/anaconda3/lib/python3.7/site-packages/ipykernel_launcher.py:10: SettingWithCopyWarning: \n",
      "A value is trying to be set on a copy of a slice from a DataFrame\n",
      "\n",
      "See the caveats in the documentation: https://pandas.pydata.org/pandas-docs/stable/user_guide/indexing.html#returning-a-view-versus-a-copy\n",
      "  # Remove the CWD from sys.path while we load stuff.\n"
     ]
    },
    {
     "name": "stdout",
     "output_type": "stream",
     "text": [
      "-27191045.0\n",
      "path: /Data/Min/TransLOB/TrainData/Train_ORD_17_29norm6feat\n",
      "path: /Data/Min/TransLOB/TrainData/Train_ORD_Label__17_29norm6feat\n",
      "42 1\n",
      "2665621.0\n",
      "path: /Data/Min/TransLOB/TrainData/Train_ORD_42_1norm6feat\n",
      "path: /Data/Min/TransLOB/TrainData/Train_ORD_Label__42_1norm6feat\n",
      "44 1\n",
      "-17303050.0\n",
      "path: /Data/Min/TransLOB/TrainData/Train_ORD_44_1norm6feat\n",
      "path: /Data/Min/TransLOB/TrainData/Train_ORD_Label__44_1norm6feat\n",
      "50 92\n"
     ]
    },
    {
     "name": "stderr",
     "output_type": "stream",
     "text": [
      "/root/anaconda3/lib/python3.7/site-packages/ipykernel_launcher.py:9: SettingWithCopyWarning: \n",
      "A value is trying to be set on a copy of a slice from a DataFrame\n",
      "\n",
      "See the caveats in the documentation: https://pandas.pydata.org/pandas-docs/stable/user_guide/indexing.html#returning-a-view-versus-a-copy\n",
      "  if __name__ == '__main__':\n",
      "/root/anaconda3/lib/python3.7/site-packages/ipykernel_launcher.py:10: SettingWithCopyWarning: \n",
      "A value is trying to be set on a copy of a slice from a DataFrame\n",
      "\n",
      "See the caveats in the documentation: https://pandas.pydata.org/pandas-docs/stable/user_guide/indexing.html#returning-a-view-versus-a-copy\n",
      "  # Remove the CWD from sys.path while we load stuff.\n",
      "/root/anaconda3/lib/python3.7/site-packages/ipykernel_launcher.py:9: SettingWithCopyWarning: \n",
      "A value is trying to be set on a copy of a slice from a DataFrame\n",
      "\n",
      "See the caveats in the documentation: https://pandas.pydata.org/pandas-docs/stable/user_guide/indexing.html#returning-a-view-versus-a-copy\n",
      "  if __name__ == '__main__':\n",
      "/root/anaconda3/lib/python3.7/site-packages/ipykernel_launcher.py:10: SettingWithCopyWarning: \n",
      "A value is trying to be set on a copy of a slice from a DataFrame\n",
      "\n",
      "See the caveats in the documentation: https://pandas.pydata.org/pandas-docs/stable/user_guide/indexing.html#returning-a-view-versus-a-copy\n",
      "  # Remove the CWD from sys.path while we load stuff.\n",
      "/root/anaconda3/lib/python3.7/site-packages/ipykernel_launcher.py:9: SettingWithCopyWarning: \n",
      "A value is trying to be set on a copy of a slice from a DataFrame\n",
      "\n",
      "See the caveats in the documentation: https://pandas.pydata.org/pandas-docs/stable/user_guide/indexing.html#returning-a-view-versus-a-copy\n",
      "  if __name__ == '__main__':\n",
      "/root/anaconda3/lib/python3.7/site-packages/ipykernel_launcher.py:10: SettingWithCopyWarning: \n",
      "A value is trying to be set on a copy of a slice from a DataFrame\n",
      "\n",
      "See the caveats in the documentation: https://pandas.pydata.org/pandas-docs/stable/user_guide/indexing.html#returning-a-view-versus-a-copy\n",
      "  # Remove the CWD from sys.path while we load stuff.\n"
     ]
    },
    {
     "name": "stdout",
     "output_type": "stream",
     "text": [
      "-2678352.0\n",
      "path: /Data/Min/TransLOB/TrainData/Train_ORD_50_92norm6feat\n",
      "path: /Data/Min/TransLOB/TrainData/Train_ORD_Label__50_92norm6feat\n",
      "2 83\n",
      "-13119612.0\n",
      "path: /Data/Min/TransLOB/TrainData/Train_ORD_2_83norm6feat\n",
      "path: /Data/Min/TransLOB/TrainData/Train_ORD_Label__2_83norm6feat\n",
      "4 10118\n",
      "-13138160.0\n",
      "path: /Data/Min/TransLOB/TrainData/Train_ORD_4_10118norm6feat\n",
      "path: /Data/Min/TransLOB/TrainData/Train_ORD_Label__4_10118norm6feat\n",
      "8 298\n",
      "-3971686.0\n",
      "path: /Data/Min/TransLOB/TrainData/Train_ORD_8_298norm6feat\n",
      "path: /Data/Min/TransLOB/TrainData/Train_ORD_Label__8_298norm6feat\n",
      "4 9997\n",
      "-13028711.0\n",
      "path: /Data/Min/TransLOB/TrainData/Train_ORD_4_9997norm6feat\n",
      "path: /Data/Min/TransLOB/TrainData/Train_ORD_Label__4_9997norm6feat\n",
      "50 91\n",
      "-6831958.0\n",
      "path: /Data/Min/TransLOB/TrainData/Train_ORD_50_91norm6feat\n",
      "path: /Data/Min/TransLOB/TrainData/Train_ORD_Label__50_91norm6feat\n"
     ]
    },
    {
     "name": "stderr",
     "output_type": "stream",
     "text": [
      "/root/anaconda3/lib/python3.7/site-packages/ipykernel_launcher.py:9: SettingWithCopyWarning: \n",
      "A value is trying to be set on a copy of a slice from a DataFrame\n",
      "\n",
      "See the caveats in the documentation: https://pandas.pydata.org/pandas-docs/stable/user_guide/indexing.html#returning-a-view-versus-a-copy\n",
      "  if __name__ == '__main__':\n",
      "/root/anaconda3/lib/python3.7/site-packages/ipykernel_launcher.py:10: SettingWithCopyWarning: \n",
      "A value is trying to be set on a copy of a slice from a DataFrame\n",
      "\n",
      "See the caveats in the documentation: https://pandas.pydata.org/pandas-docs/stable/user_guide/indexing.html#returning-a-view-versus-a-copy\n",
      "  # Remove the CWD from sys.path while we load stuff.\n",
      "/root/anaconda3/lib/python3.7/site-packages/ipykernel_launcher.py:9: SettingWithCopyWarning: \n",
      "A value is trying to be set on a copy of a slice from a DataFrame\n",
      "\n",
      "See the caveats in the documentation: https://pandas.pydata.org/pandas-docs/stable/user_guide/indexing.html#returning-a-view-versus-a-copy\n",
      "  if __name__ == '__main__':\n",
      "/root/anaconda3/lib/python3.7/site-packages/ipykernel_launcher.py:10: SettingWithCopyWarning: \n",
      "A value is trying to be set on a copy of a slice from a DataFrame\n",
      "\n",
      "See the caveats in the documentation: https://pandas.pydata.org/pandas-docs/stable/user_guide/indexing.html#returning-a-view-versus-a-copy\n",
      "  # Remove the CWD from sys.path while we load stuff.\n",
      "/root/anaconda3/lib/python3.7/site-packages/ipykernel_launcher.py:9: SettingWithCopyWarning: \n",
      "A value is trying to be set on a copy of a slice from a DataFrame\n",
      "\n",
      "See the caveats in the documentation: https://pandas.pydata.org/pandas-docs/stable/user_guide/indexing.html#returning-a-view-versus-a-copy\n",
      "  if __name__ == '__main__':\n",
      "/root/anaconda3/lib/python3.7/site-packages/ipykernel_launcher.py:10: SettingWithCopyWarning: \n",
      "A value is trying to be set on a copy of a slice from a DataFrame\n",
      "\n",
      "See the caveats in the documentation: https://pandas.pydata.org/pandas-docs/stable/user_guide/indexing.html#returning-a-view-versus-a-copy\n",
      "  # Remove the CWD from sys.path while we load stuff.\n"
     ]
    }
   ],
   "source": [
    "for mbr,brn in mbrnlist:\n",
    "    print(mbr,brn)\n",
    "    OTGDF_temp=OTGDF[(OTGDF['MBR_NO']==mbr) &(OTGDF['BRN_NO']==brn)]\n",
    "    OTGDF_temp=OTGDF_temp.set_index(['ORD_DD','ISU_CD','TM_GP'])\n",
    "    OTGDF_temp=OTGDF_temp.reindex(new_index)\n",
    "    OTGDF_temp['NET_ORD_QTY']=OTGDF_temp['NET_ORD_QTY'].fillna(0)\n",
    "    Train_df['NET_ORD_QTY']=OTGDF_temp['NET_ORD_QTY'].values\n",
    "    Train_df['ylabel']=Train_df['NET_ORD_QTY']\n",
    "    Train_df['ylabel'][:-1]=(2*(Train_df['NET_ORD_QTY']>0)+1*(Train_df['NET_ORD_QTY']==0))[1:]\n",
    "    Train_df['ylabel'][38::39]=1\n",
    "    print(Train_df['NET_ORD_QTY'].sum())    \n",
    "\n",
    "    SaveDirPath='/Data/Min/TransLOB/TrainData/'\n",
    "    now=datetime.now()\n",
    "    DataSubfix=str(mbr)+'_'+str(brn)+str(now.year)+'_'+str(now.month)+'_'+str(now.day)\n",
    "    DataSubfix=str(mbr)+'_'+str(brn)+Dataname\n",
    "    TrainDataname='Train_ORD'+'_'+DataSubfix\n",
    "    TrainLabelDataname='Train_ORD_Label_'+'_'+DataSubfix\n",
    "    np.save(SaveDirPath+TrainDataname,Train_df[feat_cols].values)\n",
    "    np.save(SaveDirPath+TrainLabelDataname,Train_df['ylabel'])\n",
    "    print(\"path:\",SaveDirPath+TrainDataname)\n",
    "    print(\"path:\",SaveDirPath+TrainLabelDataname)\n",
    "with open(SaveDirPath+'DataInformationORD.txt', \"a+\") as f:\n",
    "    f.write(\"TrainDataname:\"+TrainDataname+'\\n')\n",
    "    f.write(\"TrainLabelDataname:\"+TrainLabelDataname+'\\n')\n",
    "    f.write(\"TickDataname:\"+TickDataname+'\\n')\n",
    "    f.write(\"ORDTickDataname:\"+ORDTickDataname+'\\n')\n",
    "\n",
    "    f.write(\"divdict:\"+'\\n')\n",
    "    for col,llist in divdict.items():\n",
    "        f.write(str(col)+'\\t'+str(llist))\n",
    "    f.write('\\n')\n",
    "    f.write(\"loglist:\"+'\\n')\n",
    "    for col in loglist:\n",
    "        f.write(str(col)+'\\t')\n",
    "    f.write('\\n')\n",
    "\n",
    "    f.write(\"feat_cols:\"+'\\n')\n",
    "    for col in feat_cols:\n",
    "        f.write(str(col)+'\\t')\n",
    "    f.write('\\n')\n"
   ]
  },
  {
   "cell_type": "code",
   "execution_count": 19,
   "id": "71db0e91",
   "metadata": {},
   "outputs": [
    {
     "data": {
      "text/plain": [
       "array([[ 2.43336349e-02,  2.53992877e-02,  9.68911474e-02,\n",
       "         8.30601734e-01,  5.32875765e-01, -4.06900000e+03],\n",
       "       [ 3.08956912e-02,  3.09379337e-02,  9.70698418e-02,\n",
       "         8.09085663e-01,  5.21453060e-01,  9.61000000e+02],\n",
       "       [ 3.49930489e-02,  3.43537977e-02,  9.70698418e-02,\n",
       "         8.06399412e-01,  5.17398048e-01, -3.66200000e+03],\n",
       "       ...,\n",
       "       [ 8.91990140e-02,  2.39306260e-02,  1.91937764e-01,\n",
       "         7.98654395e-01,  5.62409812e-01,  1.22800000e+03],\n",
       "       [ 9.21352883e-02,  2.32933159e-02,  1.91937764e-01,\n",
       "         7.98654395e-01,  5.53965564e-01, -1.20000000e+03],\n",
       "       [ 9.16372514e-02,  2.58076317e-02,  1.91937764e-01,\n",
       "         7.98654395e-01,  5.54496858e-01,  0.00000000e+00]])"
      ]
     },
     "execution_count": 19,
     "metadata": {},
     "output_type": "execute_result"
    }
   ],
   "source": [
    "Train_df[feat_cols].values"
   ]
  },
  {
   "cell_type": "code",
   "execution_count": 20,
   "id": "81e7ff79",
   "metadata": {},
   "outputs": [
    {
     "data": {
      "text/plain": [
       "(81900, 6)"
      ]
     },
     "execution_count": 20,
     "metadata": {},
     "output_type": "execute_result"
    }
   ],
   "source": [
    "Train_df[feat_cols].values.shape"
   ]
  },
  {
   "cell_type": "code",
   "execution_count": 21,
   "id": "255d69da",
   "metadata": {},
   "outputs": [
    {
     "data": {
      "text/plain": [
       "array([2., 0., 2., ..., 0., 1., 1.])"
      ]
     },
     "execution_count": 21,
     "metadata": {},
     "output_type": "execute_result"
    }
   ],
   "source": [
    "Train_df['ylabel'].values"
   ]
  },
  {
   "cell_type": "markdown",
   "id": "fa055f69",
   "metadata": {},
   "source": [
    "a"
   ]
  },
  {
   "cell_type": "markdown",
   "id": "6c0ec583",
   "metadata": {},
   "source": [
    "SaveDirPath='/Data/Min/TransLOB/TrainData/'\n",
    "now=datetime.now()\n",
    "TrainDataname='Train_'+str(now.year)+'_'+str(now.month)+'_'+str(now.day)+'_'+str(now.hour)+'_'+str(now.minute)\n",
    "TrainLabelDataname='Train_Label_'+str(now.year)+'_'+str(now.month)+'_'+str(now.day)+'_'+str(now.hour)+'_'+str(now.minute)\n",
    "np.save(SaveDirPath+TrainDataname,Train_df[feat_cols].values)\n",
    "np.save(SaveDirPath+TrainLabelDataname,increment)\n",
    "with open(SaveDirPath+'DataInformation.txt', \"a+\") as f:\n",
    "    f.write(\"TrainDataname:\"+TrainDataname+'\\n')\n",
    "    f.write(\"TrainLabelDataname:\"+TrainLabelDataname+'\\n')\n",
    "    f.write(\"TickDataname:\"+TickDataname)\n",
    "    for col in feat_cols:\n",
    "        f.write(str(col)+'\\t')\n",
    "    f.write('\\n')\n",
    "print(\"path:\",SaveDirPath+TrainDataname)\n",
    "print(\"path:\",SaveDirPath+TrainLabelDataname)"
   ]
  }
 ],
 "metadata": {
  "kernelspec": {
   "display_name": "Python 3",
   "language": "python",
   "name": "python3"
  },
  "language_info": {
   "codemirror_mode": {
    "name": "ipython",
    "version": 3
   },
   "file_extension": ".py",
   "mimetype": "text/x-python",
   "name": "python",
   "nbconvert_exporter": "python",
   "pygments_lexer": "ipython3",
   "version": "3.7.10"
  }
 },
 "nbformat": 4,
 "nbformat_minor": 5
}
