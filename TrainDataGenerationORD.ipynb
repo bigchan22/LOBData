{
 "cells": [
  {
   "cell_type": "code",
   "execution_count": 1,
   "id": "ef1df877",
   "metadata": {},
   "outputs": [],
   "source": [
    "import pandas as pd\n",
    "import numpy as np\n",
    "from datetime import datetime\n",
    "from source.TrainDataGeneration import append_ORD_TM,append_ORD_VOL,append_TM_GP,GetGroupDataFrame,append_STEP5"
   ]
  },
  {
   "cell_type": "code",
   "execution_count": 5,
   "id": "5bb88b20",
   "metadata": {},
   "outputs": [
    {
     "data": {
      "text/plain": [
       "MultiIndex([(20170901, 'HK0000295359',  0.0),\n",
       "            (20170901, 'HK0000295359',  1.0),\n",
       "            (20170901, 'HK0000295359',  2.0),\n",
       "            (20170901, 'HK0000295359',  3.0),\n",
       "            (20170901, 'HK0000295359',  4.0),\n",
       "            (20170901, 'HK0000295359',  5.0),\n",
       "            (20170901, 'HK0000295359',  6.0),\n",
       "            (20170901, 'HK0000295359',  7.0),\n",
       "            (20170901, 'HK0000295359',  8.0),\n",
       "            (20170901, 'HK0000295359',  9.0),\n",
       "            ...\n",
       "            (20170929, 'USU652221081', 29.0),\n",
       "            (20170929, 'USU652221081', 30.0),\n",
       "            (20170929, 'USU652221081', 31.0),\n",
       "            (20170929, 'USU652221081', 32.0),\n",
       "            (20170929, 'USU652221081', 33.0),\n",
       "            (20170929, 'USU652221081', 34.0),\n",
       "            (20170929, 'USU652221081', 35.0),\n",
       "            (20170929, 'USU652221081', 36.0),\n",
       "            (20170929, 'USU652221081', 37.0),\n",
       "            (20170929, 'USU652221081', 38.0)],\n",
       "           names=['ORD_DD', 'ISU_CD', 'TM_GP'], length=81900)"
      ]
     },
     "execution_count": 5,
     "metadata": {},
     "output_type": "execute_result"
    }
   ],
   "source": [
    "new_index"
   ]
  },
  {
   "cell_type": "code",
   "execution_count": 4,
   "id": "9a675a43",
   "metadata": {},
   "outputs": [
    {
     "data": {
      "text/html": [
       "<div>\n",
       "<style scoped>\n",
       "    .dataframe tbody tr th:only-of-type {\n",
       "        vertical-align: middle;\n",
       "    }\n",
       "\n",
       "    .dataframe tbody tr th {\n",
       "        vertical-align: top;\n",
       "    }\n",
       "\n",
       "    .dataframe thead th {\n",
       "        text-align: right;\n",
       "    }\n",
       "</style>\n",
       "<table border=\"1\" class=\"dataframe\">\n",
       "  <thead>\n",
       "    <tr style=\"text-align: right;\">\n",
       "      <th></th>\n",
       "      <th></th>\n",
       "      <th></th>\n",
       "      <th>Unnamed: 0</th>\n",
       "      <th>MBR_NO</th>\n",
       "      <th>BRN_NO</th>\n",
       "      <th>ASKBID_TP_CD</th>\n",
       "      <th>MODCANCL_TP_CD</th>\n",
       "      <th>ORD_QTY</th>\n",
       "      <th>ORD_VOL</th>\n",
       "      <th>ORD_ACPT_TM</th>\n",
       "    </tr>\n",
       "    <tr>\n",
       "      <th>ORD_DD</th>\n",
       "      <th>ISU_CD</th>\n",
       "      <th>TM_GP</th>\n",
       "      <th></th>\n",
       "      <th></th>\n",
       "      <th></th>\n",
       "      <th></th>\n",
       "      <th></th>\n",
       "      <th></th>\n",
       "      <th></th>\n",
       "      <th></th>\n",
       "    </tr>\n",
       "  </thead>\n",
       "  <tbody>\n",
       "    <tr>\n",
       "      <th rowspan=\"5\" valign=\"top\">20170901</th>\n",
       "      <th rowspan=\"5\" valign=\"top\">HK0000295359</th>\n",
       "      <th>6.0</th>\n",
       "      <td>0</td>\n",
       "      <td>1</td>\n",
       "      <td>1</td>\n",
       "      <td>1</td>\n",
       "      <td>1</td>\n",
       "      <td>16000</td>\n",
       "      <td>33060000</td>\n",
       "      <td>NaN</td>\n",
       "    </tr>\n",
       "    <tr>\n",
       "      <th>7.0</th>\n",
       "      <td>1</td>\n",
       "      <td>1</td>\n",
       "      <td>1</td>\n",
       "      <td>1</td>\n",
       "      <td>1</td>\n",
       "      <td>14000</td>\n",
       "      <td>28920000</td>\n",
       "      <td>NaN</td>\n",
       "    </tr>\n",
       "    <tr>\n",
       "      <th>32.0</th>\n",
       "      <td>2</td>\n",
       "      <td>1</td>\n",
       "      <td>7</td>\n",
       "      <td>2</td>\n",
       "      <td>1</td>\n",
       "      <td>50</td>\n",
       "      <td>101750</td>\n",
       "      <td>NaN</td>\n",
       "    </tr>\n",
       "    <tr>\n",
       "      <th>35.0</th>\n",
       "      <td>3</td>\n",
       "      <td>1</td>\n",
       "      <td>7</td>\n",
       "      <td>2</td>\n",
       "      <td>1</td>\n",
       "      <td>100</td>\n",
       "      <td>203500</td>\n",
       "      <td>NaN</td>\n",
       "    </tr>\n",
       "    <tr>\n",
       "      <th>36.0</th>\n",
       "      <td>4</td>\n",
       "      <td>1</td>\n",
       "      <td>7</td>\n",
       "      <td>2</td>\n",
       "      <td>1</td>\n",
       "      <td>50</td>\n",
       "      <td>102000</td>\n",
       "      <td>NaN</td>\n",
       "    </tr>\n",
       "    <tr>\n",
       "      <th>...</th>\n",
       "      <th>...</th>\n",
       "      <th>...</th>\n",
       "      <td>...</td>\n",
       "      <td>...</td>\n",
       "      <td>...</td>\n",
       "      <td>...</td>\n",
       "      <td>...</td>\n",
       "      <td>...</td>\n",
       "      <td>...</td>\n",
       "      <td>...</td>\n",
       "    </tr>\n",
       "    <tr>\n",
       "      <th rowspan=\"5\" valign=\"top\">20170929</th>\n",
       "      <th rowspan=\"5\" valign=\"top\">USU652221081</th>\n",
       "      <th>17.0</th>\n",
       "      <td>5849428</td>\n",
       "      <td>86</td>\n",
       "      <td>300</td>\n",
       "      <td>1</td>\n",
       "      <td>3</td>\n",
       "      <td>6819</td>\n",
       "      <td>9955740</td>\n",
       "      <td>NaN</td>\n",
       "    </tr>\n",
       "    <tr>\n",
       "      <th>18.0</th>\n",
       "      <td>5849429</td>\n",
       "      <td>86</td>\n",
       "      <td>300</td>\n",
       "      <td>2</td>\n",
       "      <td>1</td>\n",
       "      <td>7</td>\n",
       "      <td>10080</td>\n",
       "      <td>NaN</td>\n",
       "    </tr>\n",
       "    <tr>\n",
       "      <th>23.0</th>\n",
       "      <td>5849430</td>\n",
       "      <td>86</td>\n",
       "      <td>300</td>\n",
       "      <td>2</td>\n",
       "      <td>1</td>\n",
       "      <td>2000</td>\n",
       "      <td>2880000</td>\n",
       "      <td>NaN</td>\n",
       "    </tr>\n",
       "    <tr>\n",
       "      <th>34.0</th>\n",
       "      <td>5849431</td>\n",
       "      <td>86</td>\n",
       "      <td>300</td>\n",
       "      <td>2</td>\n",
       "      <td>2</td>\n",
       "      <td>2000</td>\n",
       "      <td>2900000</td>\n",
       "      <td>NaN</td>\n",
       "    </tr>\n",
       "    <tr>\n",
       "      <th>36.0</th>\n",
       "      <td>5849432</td>\n",
       "      <td>86</td>\n",
       "      <td>300</td>\n",
       "      <td>2</td>\n",
       "      <td>2</td>\n",
       "      <td>2000</td>\n",
       "      <td>2920000</td>\n",
       "      <td>NaN</td>\n",
       "    </tr>\n",
       "  </tbody>\n",
       "</table>\n",
       "<p>13716822 rows × 8 columns</p>\n",
       "</div>"
      ],
      "text/plain": [
       "                             Unnamed: 0  MBR_NO  BRN_NO  ASKBID_TP_CD  \\\n",
       "ORD_DD   ISU_CD       TM_GP                                             \n",
       "20170901 HK0000295359 6.0             0       1       1             1   \n",
       "                      7.0             1       1       1             1   \n",
       "                      32.0            2       1       7             2   \n",
       "                      35.0            3       1       7             2   \n",
       "                      36.0            4       1       7             2   \n",
       "...                                 ...     ...     ...           ...   \n",
       "20170929 USU652221081 17.0      5849428      86     300             1   \n",
       "                      18.0      5849429      86     300             2   \n",
       "                      23.0      5849430      86     300             2   \n",
       "                      34.0      5849431      86     300             2   \n",
       "                      36.0      5849432      86     300             2   \n",
       "\n",
       "                             MODCANCL_TP_CD  ORD_QTY   ORD_VOL  ORD_ACPT_TM  \n",
       "ORD_DD   ISU_CD       TM_GP                                                  \n",
       "20170901 HK0000295359 6.0                 1    16000  33060000          NaN  \n",
       "                      7.0                 1    14000  28920000          NaN  \n",
       "                      32.0                1       50    101750          NaN  \n",
       "                      35.0                1      100    203500          NaN  \n",
       "                      36.0                1       50    102000          NaN  \n",
       "...                                     ...      ...       ...          ...  \n",
       "20170929 USU652221081 17.0                3     6819   9955740          NaN  \n",
       "                      18.0                1        7     10080          NaN  \n",
       "                      23.0                1     2000   2880000          NaN  \n",
       "                      34.0                2     2000   2900000          NaN  \n",
       "                      36.0                2     2000   2920000          NaN  \n",
       "\n",
       "[13716822 rows x 8 columns]"
      ]
     },
     "execution_count": 4,
     "metadata": {},
     "output_type": "execute_result"
    }
   ],
   "source": [
    "TGDF"
   ]
  },
  {
   "cell_type": "code",
   "execution_count": 3,
   "id": "b12d2c36",
   "metadata": {},
   "outputs": [
    {
     "ename": "ValueError",
     "evalue": "cannot handle a non-unique multi-index!",
     "output_type": "error",
     "traceback": [
      "\u001b[0;31m---------------------------------------------------------------------------\u001b[0m",
      "\u001b[0;31mValueError\u001b[0m                                Traceback (most recent call last)",
      "\u001b[0;32m<ipython-input-3-ee6a6256e1c7>\u001b[0m in \u001b[0;36m<module>\u001b[0;34m\u001b[0m\n\u001b[0;32m----> 1\u001b[0;31m \u001b[0mTGDF\u001b[0m\u001b[0;34m.\u001b[0m\u001b[0mreindex\u001b[0m\u001b[0;34m(\u001b[0m\u001b[0mnew_index\u001b[0m\u001b[0;34m)\u001b[0m\u001b[0;34m\u001b[0m\u001b[0;34m\u001b[0m\u001b[0m\n\u001b[0m",
      "\u001b[0;32m~/anaconda3/lib/python3.7/site-packages/pandas/util/_decorators.py\u001b[0m in \u001b[0;36mwrapper\u001b[0;34m(*args, **kwargs)\u001b[0m\n\u001b[1;32m    310\u001b[0m         \u001b[0;34m@\u001b[0m\u001b[0mwraps\u001b[0m\u001b[0;34m(\u001b[0m\u001b[0mfunc\u001b[0m\u001b[0;34m)\u001b[0m\u001b[0;34m\u001b[0m\u001b[0;34m\u001b[0m\u001b[0m\n\u001b[1;32m    311\u001b[0m         \u001b[0;32mdef\u001b[0m \u001b[0mwrapper\u001b[0m\u001b[0;34m(\u001b[0m\u001b[0;34m*\u001b[0m\u001b[0margs\u001b[0m\u001b[0;34m,\u001b[0m \u001b[0;34m**\u001b[0m\u001b[0mkwargs\u001b[0m\u001b[0;34m)\u001b[0m \u001b[0;34m->\u001b[0m \u001b[0mCallable\u001b[0m\u001b[0;34m[\u001b[0m\u001b[0;34m...\u001b[0m\u001b[0;34m,\u001b[0m \u001b[0mAny\u001b[0m\u001b[0;34m]\u001b[0m\u001b[0;34m:\u001b[0m\u001b[0;34m\u001b[0m\u001b[0;34m\u001b[0m\u001b[0m\n\u001b[0;32m--> 312\u001b[0;31m             \u001b[0;32mreturn\u001b[0m \u001b[0mfunc\u001b[0m\u001b[0;34m(\u001b[0m\u001b[0;34m*\u001b[0m\u001b[0margs\u001b[0m\u001b[0;34m,\u001b[0m \u001b[0;34m**\u001b[0m\u001b[0mkwargs\u001b[0m\u001b[0;34m)\u001b[0m\u001b[0;34m\u001b[0m\u001b[0;34m\u001b[0m\u001b[0m\n\u001b[0m\u001b[1;32m    313\u001b[0m \u001b[0;34m\u001b[0m\u001b[0m\n\u001b[1;32m    314\u001b[0m         \u001b[0mkind\u001b[0m \u001b[0;34m=\u001b[0m \u001b[0minspect\u001b[0m\u001b[0;34m.\u001b[0m\u001b[0mParameter\u001b[0m\u001b[0;34m.\u001b[0m\u001b[0mPOSITIONAL_OR_KEYWORD\u001b[0m\u001b[0;34m\u001b[0m\u001b[0;34m\u001b[0m\u001b[0m\n",
      "\u001b[0;32m~/anaconda3/lib/python3.7/site-packages/pandas/core/frame.py\u001b[0m in \u001b[0;36mreindex\u001b[0;34m(self, *args, **kwargs)\u001b[0m\n\u001b[1;32m   4174\u001b[0m         \u001b[0mkwargs\u001b[0m\u001b[0;34m.\u001b[0m\u001b[0mpop\u001b[0m\u001b[0;34m(\u001b[0m\u001b[0;34m\"axis\"\u001b[0m\u001b[0;34m,\u001b[0m \u001b[0;32mNone\u001b[0m\u001b[0;34m)\u001b[0m\u001b[0;34m\u001b[0m\u001b[0;34m\u001b[0m\u001b[0m\n\u001b[1;32m   4175\u001b[0m         \u001b[0mkwargs\u001b[0m\u001b[0;34m.\u001b[0m\u001b[0mpop\u001b[0m\u001b[0;34m(\u001b[0m\u001b[0;34m\"labels\"\u001b[0m\u001b[0;34m,\u001b[0m \u001b[0;32mNone\u001b[0m\u001b[0;34m)\u001b[0m\u001b[0;34m\u001b[0m\u001b[0;34m\u001b[0m\u001b[0m\n\u001b[0;32m-> 4176\u001b[0;31m         \u001b[0;32mreturn\u001b[0m \u001b[0msuper\u001b[0m\u001b[0;34m(\u001b[0m\u001b[0;34m)\u001b[0m\u001b[0;34m.\u001b[0m\u001b[0mreindex\u001b[0m\u001b[0;34m(\u001b[0m\u001b[0;34m**\u001b[0m\u001b[0mkwargs\u001b[0m\u001b[0;34m)\u001b[0m\u001b[0;34m\u001b[0m\u001b[0;34m\u001b[0m\u001b[0m\n\u001b[0m\u001b[1;32m   4177\u001b[0m \u001b[0;34m\u001b[0m\u001b[0m\n\u001b[1;32m   4178\u001b[0m     def drop(\n",
      "\u001b[0;32m~/anaconda3/lib/python3.7/site-packages/pandas/core/generic.py\u001b[0m in \u001b[0;36mreindex\u001b[0;34m(self, *args, **kwargs)\u001b[0m\n\u001b[1;32m   4810\u001b[0m         \u001b[0;31m# perform the reindex on the axes\u001b[0m\u001b[0;34m\u001b[0m\u001b[0;34m\u001b[0m\u001b[0;34m\u001b[0m\u001b[0m\n\u001b[1;32m   4811\u001b[0m         return self._reindex_axes(\n\u001b[0;32m-> 4812\u001b[0;31m             \u001b[0maxes\u001b[0m\u001b[0;34m,\u001b[0m \u001b[0mlevel\u001b[0m\u001b[0;34m,\u001b[0m \u001b[0mlimit\u001b[0m\u001b[0;34m,\u001b[0m \u001b[0mtolerance\u001b[0m\u001b[0;34m,\u001b[0m \u001b[0mmethod\u001b[0m\u001b[0;34m,\u001b[0m \u001b[0mfill_value\u001b[0m\u001b[0;34m,\u001b[0m \u001b[0mcopy\u001b[0m\u001b[0;34m\u001b[0m\u001b[0;34m\u001b[0m\u001b[0m\n\u001b[0m\u001b[1;32m   4813\u001b[0m         ).__finalize__(self, method=\"reindex\")\n\u001b[1;32m   4814\u001b[0m \u001b[0;34m\u001b[0m\u001b[0m\n",
      "\u001b[0;32m~/anaconda3/lib/python3.7/site-packages/pandas/core/frame.py\u001b[0m in \u001b[0;36m_reindex_axes\u001b[0;34m(self, axes, level, limit, tolerance, method, fill_value, copy)\u001b[0m\n\u001b[1;32m   4021\u001b[0m         \u001b[0;32mif\u001b[0m \u001b[0mindex\u001b[0m \u001b[0;32mis\u001b[0m \u001b[0;32mnot\u001b[0m \u001b[0;32mNone\u001b[0m\u001b[0;34m:\u001b[0m\u001b[0;34m\u001b[0m\u001b[0;34m\u001b[0m\u001b[0m\n\u001b[1;32m   4022\u001b[0m             frame = frame._reindex_index(\n\u001b[0;32m-> 4023\u001b[0;31m                 \u001b[0mindex\u001b[0m\u001b[0;34m,\u001b[0m \u001b[0mmethod\u001b[0m\u001b[0;34m,\u001b[0m \u001b[0mcopy\u001b[0m\u001b[0;34m,\u001b[0m \u001b[0mlevel\u001b[0m\u001b[0;34m,\u001b[0m \u001b[0mfill_value\u001b[0m\u001b[0;34m,\u001b[0m \u001b[0mlimit\u001b[0m\u001b[0;34m,\u001b[0m \u001b[0mtolerance\u001b[0m\u001b[0;34m\u001b[0m\u001b[0;34m\u001b[0m\u001b[0m\n\u001b[0m\u001b[1;32m   4024\u001b[0m             )\n\u001b[1;32m   4025\u001b[0m \u001b[0;34m\u001b[0m\u001b[0m\n",
      "\u001b[0;32m~/anaconda3/lib/python3.7/site-packages/pandas/core/frame.py\u001b[0m in \u001b[0;36m_reindex_index\u001b[0;34m(self, new_index, method, copy, level, fill_value, limit, tolerance)\u001b[0m\n\u001b[1;32m   4037\u001b[0m     ):\n\u001b[1;32m   4038\u001b[0m         new_index, indexer = self.index.reindex(\n\u001b[0;32m-> 4039\u001b[0;31m             \u001b[0mnew_index\u001b[0m\u001b[0;34m,\u001b[0m \u001b[0mmethod\u001b[0m\u001b[0;34m=\u001b[0m\u001b[0mmethod\u001b[0m\u001b[0;34m,\u001b[0m \u001b[0mlevel\u001b[0m\u001b[0;34m=\u001b[0m\u001b[0mlevel\u001b[0m\u001b[0;34m,\u001b[0m \u001b[0mlimit\u001b[0m\u001b[0;34m=\u001b[0m\u001b[0mlimit\u001b[0m\u001b[0;34m,\u001b[0m \u001b[0mtolerance\u001b[0m\u001b[0;34m=\u001b[0m\u001b[0mtolerance\u001b[0m\u001b[0;34m\u001b[0m\u001b[0;34m\u001b[0m\u001b[0m\n\u001b[0m\u001b[1;32m   4040\u001b[0m         )\n\u001b[1;32m   4041\u001b[0m         return self._reindex_with_indexers(\n",
      "\u001b[0;32m~/anaconda3/lib/python3.7/site-packages/pandas/core/indexes/multi.py\u001b[0m in \u001b[0;36mreindex\u001b[0;34m(self, target, method, level, limit, tolerance)\u001b[0m\n\u001b[1;32m   2481\u001b[0m                     )\n\u001b[1;32m   2482\u001b[0m                 \u001b[0;32melse\u001b[0m\u001b[0;34m:\u001b[0m\u001b[0;34m\u001b[0m\u001b[0;34m\u001b[0m\u001b[0m\n\u001b[0;32m-> 2483\u001b[0;31m                     \u001b[0;32mraise\u001b[0m \u001b[0mValueError\u001b[0m\u001b[0;34m(\u001b[0m\u001b[0;34m\"cannot handle a non-unique multi-index!\"\u001b[0m\u001b[0;34m)\u001b[0m\u001b[0;34m\u001b[0m\u001b[0;34m\u001b[0m\u001b[0m\n\u001b[0m\u001b[1;32m   2484\u001b[0m \u001b[0;34m\u001b[0m\u001b[0m\n\u001b[1;32m   2485\u001b[0m         \u001b[0;32mif\u001b[0m \u001b[0;32mnot\u001b[0m \u001b[0misinstance\u001b[0m\u001b[0;34m(\u001b[0m\u001b[0mtarget\u001b[0m\u001b[0;34m,\u001b[0m \u001b[0mMultiIndex\u001b[0m\u001b[0;34m)\u001b[0m\u001b[0;34m:\u001b[0m\u001b[0;34m\u001b[0m\u001b[0;34m\u001b[0m\u001b[0m\n",
      "\u001b[0;31mValueError\u001b[0m: cannot handle a non-unique multi-index!"
     ]
    }
   ],
   "source": [
    "TGDF.reindex(new_index)"
   ]
  },
  {
   "cell_type": "code",
   "execution_count": 2,
   "id": "692eef0b",
   "metadata": {},
   "outputs": [
    {
     "ename": "ValueError",
     "evalue": "cannot handle a non-unique multi-index!",
     "output_type": "error",
     "traceback": [
      "\u001b[0;31m---------------------------------------------------------------------------\u001b[0m",
      "\u001b[0;31mValueError\u001b[0m                                Traceback (most recent call last)",
      "\u001b[0;32m<ipython-input-2-b9fc3fc58ca1>\u001b[0m in \u001b[0;36m<module>\u001b[0;34m\u001b[0m\n\u001b[1;32m      7\u001b[0m \u001b[0;34m\u001b[0m\u001b[0m\n\u001b[1;32m      8\u001b[0m \u001b[0mnew_index\u001b[0m \u001b[0;34m=\u001b[0m \u001b[0mpd\u001b[0m\u001b[0;34m.\u001b[0m\u001b[0mMultiIndex\u001b[0m\u001b[0;34m.\u001b[0m\u001b[0mfrom_product\u001b[0m\u001b[0;34m(\u001b[0m\u001b[0mTGDF\u001b[0m\u001b[0;34m.\u001b[0m\u001b[0mindex\u001b[0m\u001b[0;34m.\u001b[0m\u001b[0mlevels\u001b[0m\u001b[0;34m)\u001b[0m\u001b[0;34m\u001b[0m\u001b[0;34m\u001b[0m\u001b[0m\n\u001b[0;32m----> 9\u001b[0;31m \u001b[0mnew_df\u001b[0m \u001b[0;34m=\u001b[0m \u001b[0mTGDF\u001b[0m\u001b[0;34m.\u001b[0m\u001b[0mreindex\u001b[0m\u001b[0;34m(\u001b[0m\u001b[0mnew_index\u001b[0m\u001b[0;34m)\u001b[0m\u001b[0;34m\u001b[0m\u001b[0;34m\u001b[0m\u001b[0m\n\u001b[0m\u001b[1;32m     10\u001b[0m \u001b[0mnew_df\u001b[0m \u001b[0;34m=\u001b[0m \u001b[0mnew_df\u001b[0m\u001b[0;34m.\u001b[0m\u001b[0mffill\u001b[0m\u001b[0;34m(\u001b[0m\u001b[0;34m)\u001b[0m\u001b[0;34m\u001b[0m\u001b[0;34m\u001b[0m\u001b[0m\n\u001b[1;32m     11\u001b[0m \u001b[0mnew_df\u001b[0m\u001b[0;34m=\u001b[0m\u001b[0mnew_df\u001b[0m\u001b[0;34m.\u001b[0m\u001b[0mreset_index\u001b[0m\u001b[0;34m(\u001b[0m\u001b[0;34m)\u001b[0m\u001b[0;34m\u001b[0m\u001b[0;34m\u001b[0m\u001b[0m\n",
      "\u001b[0;32m~/anaconda3/lib/python3.7/site-packages/pandas/util/_decorators.py\u001b[0m in \u001b[0;36mwrapper\u001b[0;34m(*args, **kwargs)\u001b[0m\n\u001b[1;32m    310\u001b[0m         \u001b[0;34m@\u001b[0m\u001b[0mwraps\u001b[0m\u001b[0;34m(\u001b[0m\u001b[0mfunc\u001b[0m\u001b[0;34m)\u001b[0m\u001b[0;34m\u001b[0m\u001b[0;34m\u001b[0m\u001b[0m\n\u001b[1;32m    311\u001b[0m         \u001b[0;32mdef\u001b[0m \u001b[0mwrapper\u001b[0m\u001b[0;34m(\u001b[0m\u001b[0;34m*\u001b[0m\u001b[0margs\u001b[0m\u001b[0;34m,\u001b[0m \u001b[0;34m**\u001b[0m\u001b[0mkwargs\u001b[0m\u001b[0;34m)\u001b[0m \u001b[0;34m->\u001b[0m \u001b[0mCallable\u001b[0m\u001b[0;34m[\u001b[0m\u001b[0;34m...\u001b[0m\u001b[0;34m,\u001b[0m \u001b[0mAny\u001b[0m\u001b[0;34m]\u001b[0m\u001b[0;34m:\u001b[0m\u001b[0;34m\u001b[0m\u001b[0;34m\u001b[0m\u001b[0m\n\u001b[0;32m--> 312\u001b[0;31m             \u001b[0;32mreturn\u001b[0m \u001b[0mfunc\u001b[0m\u001b[0;34m(\u001b[0m\u001b[0;34m*\u001b[0m\u001b[0margs\u001b[0m\u001b[0;34m,\u001b[0m \u001b[0;34m**\u001b[0m\u001b[0mkwargs\u001b[0m\u001b[0;34m)\u001b[0m\u001b[0;34m\u001b[0m\u001b[0;34m\u001b[0m\u001b[0m\n\u001b[0m\u001b[1;32m    313\u001b[0m \u001b[0;34m\u001b[0m\u001b[0m\n\u001b[1;32m    314\u001b[0m         \u001b[0mkind\u001b[0m \u001b[0;34m=\u001b[0m \u001b[0minspect\u001b[0m\u001b[0;34m.\u001b[0m\u001b[0mParameter\u001b[0m\u001b[0;34m.\u001b[0m\u001b[0mPOSITIONAL_OR_KEYWORD\u001b[0m\u001b[0;34m\u001b[0m\u001b[0;34m\u001b[0m\u001b[0m\n",
      "\u001b[0;32m~/anaconda3/lib/python3.7/site-packages/pandas/core/frame.py\u001b[0m in \u001b[0;36mreindex\u001b[0;34m(self, *args, **kwargs)\u001b[0m\n\u001b[1;32m   4174\u001b[0m         \u001b[0mkwargs\u001b[0m\u001b[0;34m.\u001b[0m\u001b[0mpop\u001b[0m\u001b[0;34m(\u001b[0m\u001b[0;34m\"axis\"\u001b[0m\u001b[0;34m,\u001b[0m \u001b[0;32mNone\u001b[0m\u001b[0;34m)\u001b[0m\u001b[0;34m\u001b[0m\u001b[0;34m\u001b[0m\u001b[0m\n\u001b[1;32m   4175\u001b[0m         \u001b[0mkwargs\u001b[0m\u001b[0;34m.\u001b[0m\u001b[0mpop\u001b[0m\u001b[0;34m(\u001b[0m\u001b[0;34m\"labels\"\u001b[0m\u001b[0;34m,\u001b[0m \u001b[0;32mNone\u001b[0m\u001b[0;34m)\u001b[0m\u001b[0;34m\u001b[0m\u001b[0;34m\u001b[0m\u001b[0m\n\u001b[0;32m-> 4176\u001b[0;31m         \u001b[0;32mreturn\u001b[0m \u001b[0msuper\u001b[0m\u001b[0;34m(\u001b[0m\u001b[0;34m)\u001b[0m\u001b[0;34m.\u001b[0m\u001b[0mreindex\u001b[0m\u001b[0;34m(\u001b[0m\u001b[0;34m**\u001b[0m\u001b[0mkwargs\u001b[0m\u001b[0;34m)\u001b[0m\u001b[0;34m\u001b[0m\u001b[0;34m\u001b[0m\u001b[0m\n\u001b[0m\u001b[1;32m   4177\u001b[0m \u001b[0;34m\u001b[0m\u001b[0m\n\u001b[1;32m   4178\u001b[0m     def drop(\n",
      "\u001b[0;32m~/anaconda3/lib/python3.7/site-packages/pandas/core/generic.py\u001b[0m in \u001b[0;36mreindex\u001b[0;34m(self, *args, **kwargs)\u001b[0m\n\u001b[1;32m   4810\u001b[0m         \u001b[0;31m# perform the reindex on the axes\u001b[0m\u001b[0;34m\u001b[0m\u001b[0;34m\u001b[0m\u001b[0;34m\u001b[0m\u001b[0m\n\u001b[1;32m   4811\u001b[0m         return self._reindex_axes(\n\u001b[0;32m-> 4812\u001b[0;31m             \u001b[0maxes\u001b[0m\u001b[0;34m,\u001b[0m \u001b[0mlevel\u001b[0m\u001b[0;34m,\u001b[0m \u001b[0mlimit\u001b[0m\u001b[0;34m,\u001b[0m \u001b[0mtolerance\u001b[0m\u001b[0;34m,\u001b[0m \u001b[0mmethod\u001b[0m\u001b[0;34m,\u001b[0m \u001b[0mfill_value\u001b[0m\u001b[0;34m,\u001b[0m \u001b[0mcopy\u001b[0m\u001b[0;34m\u001b[0m\u001b[0;34m\u001b[0m\u001b[0m\n\u001b[0m\u001b[1;32m   4813\u001b[0m         ).__finalize__(self, method=\"reindex\")\n\u001b[1;32m   4814\u001b[0m \u001b[0;34m\u001b[0m\u001b[0m\n",
      "\u001b[0;32m~/anaconda3/lib/python3.7/site-packages/pandas/core/frame.py\u001b[0m in \u001b[0;36m_reindex_axes\u001b[0;34m(self, axes, level, limit, tolerance, method, fill_value, copy)\u001b[0m\n\u001b[1;32m   4021\u001b[0m         \u001b[0;32mif\u001b[0m \u001b[0mindex\u001b[0m \u001b[0;32mis\u001b[0m \u001b[0;32mnot\u001b[0m \u001b[0;32mNone\u001b[0m\u001b[0;34m:\u001b[0m\u001b[0;34m\u001b[0m\u001b[0;34m\u001b[0m\u001b[0m\n\u001b[1;32m   4022\u001b[0m             frame = frame._reindex_index(\n\u001b[0;32m-> 4023\u001b[0;31m                 \u001b[0mindex\u001b[0m\u001b[0;34m,\u001b[0m \u001b[0mmethod\u001b[0m\u001b[0;34m,\u001b[0m \u001b[0mcopy\u001b[0m\u001b[0;34m,\u001b[0m \u001b[0mlevel\u001b[0m\u001b[0;34m,\u001b[0m \u001b[0mfill_value\u001b[0m\u001b[0;34m,\u001b[0m \u001b[0mlimit\u001b[0m\u001b[0;34m,\u001b[0m \u001b[0mtolerance\u001b[0m\u001b[0;34m\u001b[0m\u001b[0;34m\u001b[0m\u001b[0m\n\u001b[0m\u001b[1;32m   4024\u001b[0m             )\n\u001b[1;32m   4025\u001b[0m \u001b[0;34m\u001b[0m\u001b[0m\n",
      "\u001b[0;32m~/anaconda3/lib/python3.7/site-packages/pandas/core/frame.py\u001b[0m in \u001b[0;36m_reindex_index\u001b[0;34m(self, new_index, method, copy, level, fill_value, limit, tolerance)\u001b[0m\n\u001b[1;32m   4037\u001b[0m     ):\n\u001b[1;32m   4038\u001b[0m         new_index, indexer = self.index.reindex(\n\u001b[0;32m-> 4039\u001b[0;31m             \u001b[0mnew_index\u001b[0m\u001b[0;34m,\u001b[0m \u001b[0mmethod\u001b[0m\u001b[0;34m=\u001b[0m\u001b[0mmethod\u001b[0m\u001b[0;34m,\u001b[0m \u001b[0mlevel\u001b[0m\u001b[0;34m=\u001b[0m\u001b[0mlevel\u001b[0m\u001b[0;34m,\u001b[0m \u001b[0mlimit\u001b[0m\u001b[0;34m=\u001b[0m\u001b[0mlimit\u001b[0m\u001b[0;34m,\u001b[0m \u001b[0mtolerance\u001b[0m\u001b[0;34m=\u001b[0m\u001b[0mtolerance\u001b[0m\u001b[0;34m\u001b[0m\u001b[0;34m\u001b[0m\u001b[0m\n\u001b[0m\u001b[1;32m   4040\u001b[0m         )\n\u001b[1;32m   4041\u001b[0m         return self._reindex_with_indexers(\n",
      "\u001b[0;32m~/anaconda3/lib/python3.7/site-packages/pandas/core/indexes/multi.py\u001b[0m in \u001b[0;36mreindex\u001b[0;34m(self, target, method, level, limit, tolerance)\u001b[0m\n\u001b[1;32m   2481\u001b[0m                     )\n\u001b[1;32m   2482\u001b[0m                 \u001b[0;32melse\u001b[0m\u001b[0;34m:\u001b[0m\u001b[0;34m\u001b[0m\u001b[0;34m\u001b[0m\u001b[0m\n\u001b[0;32m-> 2483\u001b[0;31m                     \u001b[0;32mraise\u001b[0m \u001b[0mValueError\u001b[0m\u001b[0;34m(\u001b[0m\u001b[0;34m\"cannot handle a non-unique multi-index!\"\u001b[0m\u001b[0;34m)\u001b[0m\u001b[0;34m\u001b[0m\u001b[0;34m\u001b[0m\u001b[0m\n\u001b[0m\u001b[1;32m   2484\u001b[0m \u001b[0;34m\u001b[0m\u001b[0m\n\u001b[1;32m   2485\u001b[0m         \u001b[0;32mif\u001b[0m \u001b[0;32mnot\u001b[0m \u001b[0misinstance\u001b[0m\u001b[0;34m(\u001b[0m\u001b[0mtarget\u001b[0m\u001b[0;34m,\u001b[0m \u001b[0mMultiIndex\u001b[0m\u001b[0;34m)\u001b[0m\u001b[0;34m:\u001b[0m\u001b[0;34m\u001b[0m\u001b[0;34m\u001b[0m\u001b[0m\n",
      "\u001b[0;31mValueError\u001b[0m: cannot handle a non-unique multi-index!"
     ]
    }
   ],
   "source": [
    "TickDataname='GDF2022_5_4_8_25.csv'\n",
    "TickGDF=pd.read_csv('CollectedData/'+TickDataname)\n",
    "Dataname='norm6featNewPrc'\n",
    "\n",
    "TGDF=TickGDF[(TickGDF['TM_GP']>=0)&(TickGDF['TM_GP']<39)]\n",
    "TGDF=TGDF.set_index(['ORD_DD','ISU_CD','TM_GP'])\n",
    "\n",
    "new_index = pd.MultiIndex.from_product(TGDF.index.levels)\n",
    "new_df = TGDF.reindex(new_index)\n",
    "new_df = new_df.ffill()\n",
    "new_df=new_df.reset_index()\n",
    "Train_df=new_df\n",
    "Train_df.loc[new_df['TM_GP']==0,'시가']=Train_df.loc[new_df['TM_GP']==1,'시가'].values"
   ]
  },
  {
   "cell_type": "code",
   "execution_count": null,
   "id": "64bc629b",
   "metadata": {},
   "outputs": [],
   "source": [
    "Train_df['10단계호가합계잔량']=Train_df['매수10단계호가합계잔량']+Train_df['매도10단계호가합계잔량']"
   ]
  },
  {
   "cell_type": "code",
   "execution_count": null,
   "id": "2c3a107b",
   "metadata": {},
   "outputs": [],
   "source": [
    "qtylist=['ASK_STEP1_BSTORD_RQTY', 'ASK_STEP2_BSTORD_RQTY', \n",
    "       'ASK_STEP3_BSTORD_RQTY',  'ASK_STEP4_BSTORD_RQTY', \n",
    "       'ASK_STEP5_BSTORD_RQTY', 'BID_STEP1_BSTORD_RQTY', \n",
    "       'BID_STEP2_BSTORD_RQTY', 'BID_STEP3_BSTORD_RQTY', \n",
    "       'BID_STEP4_BSTORD_RQTY','BID_STEP5_BSTORD_RQTY',\n",
    "        '매도5단계호가합계잔량', '매수5단계호가합계잔량', '매도10단계호가합계잔량',\n",
    "       '매수10단계호가합계잔량', '매도총호가잔량', '매수총호가잔량']"
   ]
  },
  {
   "cell_type": "markdown",
   "id": "46a407e5",
   "metadata": {},
   "source": [
    "Train_df[qtylist]=Train_df[qtylist].div(Train_df['10단계호가합계잔량'],axis=0).values"
   ]
  },
  {
   "cell_type": "markdown",
   "id": "f3e056d0",
   "metadata": {},
   "source": [
    "Train_df['10단계호가합계잔량']=np.log(new_df['10단계호가합계잔량'])"
   ]
  },
  {
   "cell_type": "code",
   "execution_count": null,
   "id": "8d8c0971",
   "metadata": {},
   "outputs": [],
   "source": [
    "divdict={}\n",
    "# divdict['10단계호가합계잔량']=qtylist\n",
    "divdict['시가']=['고가','저가','직전체결가격']\n",
    "loglist=[]\n",
    "loglist+=['고가','저가','직전체결가격','시가']\n",
    "# loglist+=['고가','저가','직전체결가격','시가']\n",
    "# loglist+=['10단계호가합계잔량']\n",
    "minmaxnormlist=[]\n",
    "minmaxnormlist+=['매도총호가잔량', '매수총호가잔량', '고가', '저가', \n",
    "           '직전체결가격']"
   ]
  },
  {
   "cell_type": "code",
   "execution_count": null,
   "id": "6bed055b",
   "metadata": {},
   "outputs": [],
   "source": [
    "for divcol in divdict:\n",
    "    Train_df[divdict[divcol]]=Train_df[divdict[divcol]].div(Train_df[divcol],axis=0).values"
   ]
  },
  {
   "cell_type": "code",
   "execution_count": null,
   "id": "e909cce6",
   "metadata": {},
   "outputs": [],
   "source": [
    "Train_df[loglist]=np.log(Train_df[loglist])"
   ]
  },
  {
   "cell_type": "code",
   "execution_count": null,
   "id": "270d8069",
   "metadata": {},
   "outputs": [],
   "source": [
    "Train_df[minmaxnormlist]=(Train_df[minmaxnormlist]-Train_df[minmaxnormlist].min())/(Train_df[minmaxnormlist].max()-Train_df[minmaxnormlist].min())"
   ]
  },
  {
   "cell_type": "code",
   "execution_count": null,
   "id": "db39e7df",
   "metadata": {},
   "outputs": [],
   "source": [
    "ORDTickDataname='GDF2022_4_12_19_51.csv'\n",
    "ORDTickGDF=pd.read_csv('CollectedData/'+ORDTickDataname)"
   ]
  },
  {
   "cell_type": "code",
   "execution_count": null,
   "id": "4cdb6e60",
   "metadata": {},
   "outputs": [],
   "source": [
    "ORDTickGDF"
   ]
  },
  {
   "cell_type": "code",
   "execution_count": null,
   "id": "2ee14f59",
   "metadata": {},
   "outputs": [],
   "source": [
    "ORDTickGDF.columns"
   ]
  },
  {
   "cell_type": "code",
   "execution_count": null,
   "id": "b2a8627b",
   "metadata": {},
   "outputs": [],
   "source": [
    "ORDTickGDF['MODCANCL_TP_CD']"
   ]
  },
  {
   "cell_type": "code",
   "execution_count": null,
   "id": "52ccc2ba",
   "metadata": {},
   "outputs": [],
   "source": [
    "ORDTickGDF['ASKBID_TP_CD']"
   ]
  },
  {
   "cell_type": "code",
   "execution_count": null,
   "id": "2106e81e",
   "metadata": {},
   "outputs": [],
   "source": [
    "OTGDF=ORDTickGDF[(ORDTickGDF['TM_GP']>=0)&(ORDTickGDF['TM_GP']<39)]\n",
    "OTGDF=OTGDF[OTGDF['MODCANCL_TP_CD']!=2]\n",
    "\n",
    "# OTGDF['NET_ORD_QTY']=OTGDF['ORD_QTY']*(2*OTGDF['ASKBID_TP_CD']-3)*(2-OTGDF['MODCANCL_TP_CD'])\n",
    "# OTGDF['NET_ORD_QTY']=OTGDF['ORD_QTY']*(2*OTGDF['ASKBID_TP_CD']-3)#'norm6featNew'\n",
    "OTGDF['NET_ORD_QTY']=OTGDF['ORD_QTY']*(2*OTGDF['ASKBID_TP_CD']-3)*OTGDF['ORD_PRC']#'norm6featNewPrc'\n",
    "# OTGDF=OTGDF.set_index(['ORD_DD','ISU_CD','TM_GP'])"
   ]
  },
  {
   "cell_type": "code",
   "execution_count": null,
   "id": "fb989dbe",
   "metadata": {},
   "outputs": [],
   "source": [
    "groupcolumns=['ORD_DD', 'ISU_CD', 'MBR_NO', 'BRN_NO','TM_GP']\n",
    "sumcolumns=['NET_ORD_QTY']\n",
    "meancolumns,lastcolumns=[],[]"
   ]
  },
  {
   "cell_type": "code",
   "execution_count": null,
   "id": "0fefcae4",
   "metadata": {},
   "outputs": [],
   "source": [
    "OTGDF=GetGroupDataFrame(OTGDF,groupcolumns,sumcolumns,meancolumns,lastcolumns)"
   ]
  },
  {
   "cell_type": "code",
   "execution_count": null,
   "id": "86ed83c1",
   "metadata": {},
   "outputs": [],
   "source": [
    "feat_cols=['ASK_STEP1_BSTORD_RQTY', 'ASK_STEP2_BSTORD_RQTY', \n",
    "       'ASK_STEP3_BSTORD_RQTY',  'ASK_STEP4_BSTORD_RQTY', \n",
    "       'ASK_STEP5_BSTORD_RQTY', 'BID_STEP1_BSTORD_RQTY', \n",
    "       'BID_STEP2_BSTORD_RQTY', 'BID_STEP3_BSTORD_RQTY', \n",
    "       'BID_STEP4_BSTORD_RQTY','BID_STEP5_BSTORD_RQTY',\n",
    "        '매도5단계호가합계잔량', '매수5단계호가합계잔량', '매도10단계호가합계잔량',\n",
    "       '매수10단계호가합계잔량', '매도총호가잔량', '매수총호가잔량', '고가', '저가',\n",
    "           '시가', '직전체결가격','NET_ORD_QTY']"
   ]
  },
  {
   "cell_type": "code",
   "execution_count": null,
   "id": "33c92db9",
   "metadata": {},
   "outputs": [],
   "source": [
    "feat_cols=['매도총호가잔량', '매수총호가잔량', '고가', '저가', \n",
    "           '직전체결가격','NET_ORD_QTY']"
   ]
  },
  {
   "cell_type": "markdown",
   "id": "def41566",
   "metadata": {},
   "source": [
    "feat_cols=['매도5단계호가합계잔량', '매수5단계호가합계잔량', '매도10단계호가합계잔량',\n",
    "       '매수10단계호가합계잔량', '매도총호가잔량', '매수총호가잔량', '고가', '저가',\n",
    "           '시가', '직전체결가격','NET_ORD_QTY']"
   ]
  },
  {
   "cell_type": "code",
   "execution_count": null,
   "id": "003d8940",
   "metadata": {},
   "outputs": [],
   "source": [
    "mbrnlist1=[(5,194),(2,155),(12,100),(17,29),(42,1),(44,1),(50,92),(2,83),(4,10118),(8,298)]\n",
    "mbrnlist2=[(5,194),(12,100),(2,155),(17,29),(42,1),(44,1),(2,83),(4,10118),(4,9997),(50,91)]\n",
    "mbrnlist=mbrnlist1+[a for a in mbrnlist2 if a not in mbrnlist1]"
   ]
  },
  {
   "cell_type": "code",
   "execution_count": null,
   "id": "8505fecf",
   "metadata": {},
   "outputs": [],
   "source": [
    "Train_df[feat_cols[:-1]]"
   ]
  },
  {
   "cell_type": "code",
   "execution_count": null,
   "id": "f27637b3",
   "metadata": {},
   "outputs": [],
   "source": [
    "for mbr,brn in mbrnlist:\n",
    "    print(mbr,brn)\n",
    "    OTGDF_temp=OTGDF[(OTGDF['MBR_NO']==mbr) &(OTGDF['BRN_NO']==brn)]\n",
    "    OTGDF_temp=OTGDF_temp.set_index(['ORD_DD','ISU_CD','TM_GP'])\n",
    "    OTGDF_temp=OTGDF_temp.reindex(new_index)\n",
    "    OTGDF_temp['NET_ORD_QTY']=OTGDF_temp['NET_ORD_QTY'].fillna(0)\n",
    "    Train_df['NET_ORD_QTY']=OTGDF_temp['NET_ORD_QTY'].values\n",
    "    Train_df['ylabel']=Train_df['NET_ORD_QTY']\n",
    "    Train_df['ylabel'][:-1]=(2*(Train_df['NET_ORD_QTY']>0)+1*(Train_df['NET_ORD_QTY']==0))[1:]\n",
    "    Train_df['ylabel'][38::39]=1\n",
    "    print(Train_df['NET_ORD_QTY'].sum())    \n",
    "\n",
    "    SaveDirPath='/Data/Min/TransLOB/TrainData/'\n",
    "    now=datetime.now()\n",
    "    DataSubfix=str(mbr)+'_'+str(brn)+str(now.year)+'_'+str(now.month)+'_'+str(now.day)\n",
    "    DataSubfix=str(mbr)+'_'+str(brn)+Dataname\n",
    "    TrainDataname='Train_ORD'+'_'+DataSubfix\n",
    "    TrainLabelDataname='Train_ORD_Label_'+'_'+DataSubfix\n",
    "    np.save(SaveDirPath+TrainDataname,Train_df[feat_cols].values)\n",
    "    np.save(SaveDirPath+TrainLabelDataname,Train_df['ylabel'])\n",
    "    print(\"path:\",SaveDirPath+TrainDataname)\n",
    "    print(\"path:\",SaveDirPath+TrainLabelDataname)\n",
    "with open(SaveDirPath+'DataInformationORD.txt', \"a+\") as f:\n",
    "    f.write(\"TrainDataname:\"+TrainDataname+'\\n')\n",
    "    f.write(\"TrainLabelDataname:\"+TrainLabelDataname+'\\n')\n",
    "    f.write(\"TickDataname:\"+TickDataname+'\\n')\n",
    "    f.write(\"ORDTickDataname:\"+ORDTickDataname+'\\n')\n",
    "\n",
    "    f.write(\"divdict:\"+'\\n')\n",
    "    for col,llist in divdict.items():\n",
    "        f.write(str(col)+'\\t'+str(llist))\n",
    "    f.write('\\n')\n",
    "    f.write(\"loglist:\"+'\\n')\n",
    "    for col in loglist:\n",
    "        f.write(str(col)+'\\t')\n",
    "    f.write('\\n')\n",
    "\n",
    "    f.write(\"feat_cols:\"+'\\n')\n",
    "    for col in feat_cols:\n",
    "        f.write(str(col)+'\\t')\n",
    "    f.write('\\n')\n"
   ]
  },
  {
   "cell_type": "code",
   "execution_count": null,
   "id": "71db0e91",
   "metadata": {},
   "outputs": [],
   "source": [
    "Train_df[feat_cols].values"
   ]
  },
  {
   "cell_type": "code",
   "execution_count": null,
   "id": "81e7ff79",
   "metadata": {},
   "outputs": [],
   "source": [
    "Train_df[feat_cols].values.shape"
   ]
  },
  {
   "cell_type": "code",
   "execution_count": null,
   "id": "255d69da",
   "metadata": {},
   "outputs": [],
   "source": [
    "Train_df['ylabel'].values"
   ]
  },
  {
   "cell_type": "markdown",
   "id": "fa055f69",
   "metadata": {},
   "source": [
    "a"
   ]
  },
  {
   "cell_type": "markdown",
   "id": "6c0ec583",
   "metadata": {},
   "source": [
    "SaveDirPath='/Data/Min/TransLOB/TrainData/'\n",
    "now=datetime.now()\n",
    "TrainDataname='Train_'+str(now.year)+'_'+str(now.month)+'_'+str(now.day)+'_'+str(now.hour)+'_'+str(now.minute)\n",
    "TrainLabelDataname='Train_Label_'+str(now.year)+'_'+str(now.month)+'_'+str(now.day)+'_'+str(now.hour)+'_'+str(now.minute)\n",
    "np.save(SaveDirPath+TrainDataname,Train_df[feat_cols].values)\n",
    "np.save(SaveDirPath+TrainLabelDataname,increment)\n",
    "with open(SaveDirPath+'DataInformation.txt', \"a+\") as f:\n",
    "    f.write(\"TrainDataname:\"+TrainDataname+'\\n')\n",
    "    f.write(\"TrainLabelDataname:\"+TrainLabelDataname+'\\n')\n",
    "    f.write(\"TickDataname:\"+TickDataname)\n",
    "    for col in feat_cols:\n",
    "        f.write(str(col)+'\\t')\n",
    "    f.write('\\n')\n",
    "print(\"path:\",SaveDirPath+TrainDataname)\n",
    "print(\"path:\",SaveDirPath+TrainLabelDataname)"
   ]
  }
 ],
 "metadata": {
  "kernelspec": {
   "display_name": "Python 3",
   "language": "python",
   "name": "python3"
  },
  "language_info": {
   "codemirror_mode": {
    "name": "ipython",
    "version": 3
   },
   "file_extension": ".py",
   "mimetype": "text/x-python",
   "name": "python",
   "nbconvert_exporter": "python",
   "pygments_lexer": "ipython3",
   "version": "3.7.10"
  }
 },
 "nbformat": 4,
 "nbformat_minor": 5
}
