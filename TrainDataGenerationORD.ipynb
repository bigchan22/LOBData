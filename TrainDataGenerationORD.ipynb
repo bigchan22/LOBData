{
 "cells": [
  {
   "cell_type": "code",
   "execution_count": 1,
   "id": "ef1df877",
   "metadata": {},
   "outputs": [],
   "source": [
    "import pandas as pd\n",
    "import numpy as np\n",
    "from datetime import datetime\n",
    "from source.TrainDataGeneration import append_ORD_TM,append_ORD_VOL,append_TM_GP,GetGroupDataFrame,append_STEP5"
   ]
  },
  {
   "cell_type": "code",
   "execution_count": 2,
   "id": "692eef0b",
   "metadata": {},
   "outputs": [],
   "source": [
    "TickDataname='GDF2022_3_27_16_52.csv'\n",
    "TickGDF=pd.read_csv('CollectedData/'+TickDataname)\n",
    "\n",
    "TGDF=TickGDF[(TickGDF['TM_GP']>=0)&(TickGDF['TM_GP']<39)]\n",
    "TGDF=TGDF.set_index(['ORD_DD','ISU_CD','TM_GP'])\n",
    "\n",
    "new_index = pd.MultiIndex.from_product(TGDF.index.levels)\n",
    "new_df = TGDF.reindex(new_index)\n",
    "new_df = new_df.ffill()\n",
    "new_df=new_df.reset_index()\n",
    "Train_df=new_df\n",
    "Train_df.loc[new_df['TM_GP']==0,'시가']=Train_df.loc[new_df['TM_GP']==1,'시가'].values"
   ]
  },
  {
   "cell_type": "code",
   "execution_count": null,
   "id": "f973d8d2",
   "metadata": {},
   "outputs": [],
   "source": []
  },
  {
   "cell_type": "code",
   "execution_count": 3,
   "id": "64bc629b",
   "metadata": {},
   "outputs": [],
   "source": [
    "Train_df['10단계호가합계잔량']=Train_df['매수10단계호가합계잔량']+Train_df['매도10단계호가합계잔량']"
   ]
  },
  {
   "cell_type": "code",
   "execution_count": 4,
   "id": "2c3a107b",
   "metadata": {},
   "outputs": [],
   "source": [
    "qtylist=['ASK_STEP1_BSTORD_RQTY', 'ASK_STEP2_BSTORD_RQTY', \n",
    "       'ASK_STEP3_BSTORD_RQTY',  'ASK_STEP4_BSTORD_RQTY', \n",
    "       'ASK_STEP5_BSTORD_RQTY', 'BID_STEP1_BSTORD_RQTY', \n",
    "       'BID_STEP2_BSTORD_RQTY', 'BID_STEP3_BSTORD_RQTY', \n",
    "       'BID_STEP4_BSTORD_RQTY','BID_STEP5_BSTORD_RQTY',\n",
    "        '매도5단계호가합계잔량', '매수5단계호가합계잔량', '매도10단계호가합계잔량',\n",
    "       '매수10단계호가합계잔량', '매도총호가잔량', '매수총호가잔량']"
   ]
  },
  {
   "cell_type": "markdown",
   "id": "46a407e5",
   "metadata": {},
   "source": [
    "Train_df[qtylist]=Train_df[qtylist].div(Train_df['10단계호가합계잔량'],axis=0).values"
   ]
  },
  {
   "cell_type": "markdown",
   "id": "f3e056d0",
   "metadata": {},
   "source": [
    "Train_df['10단계호가합계잔량']=np.log(new_df['10단계호가합계잔량'])"
   ]
  },
  {
   "cell_type": "code",
   "execution_count": 5,
   "id": "8d8c0971",
   "metadata": {},
   "outputs": [],
   "source": [
    "divdict={}\n",
    "# divdict['10단계호가합계잔량']=qtylist\n",
    "divdict['시가']=['고가','저가']\n",
    "loglist=[]\n",
    "loglist+=['고가','저가','직전체결가격']\n",
    "# loglist+=['고가','저가','직전체결가격','시가']\n",
    "# loglist+=['10단계호가합계잔량']\n"
   ]
  },
  {
   "cell_type": "code",
   "execution_count": 6,
   "id": "6bed055b",
   "metadata": {},
   "outputs": [],
   "source": [
    "for divcol in divdict:\n",
    "    Train_df[divdict[divcol]]=Train_df[divdict[divcol]].div(Train_df[divcol],axis=0).values"
   ]
  },
  {
   "cell_type": "code",
   "execution_count": 7,
   "id": "e909cce6",
   "metadata": {},
   "outputs": [],
   "source": [
    "Train_df[loglist]=np.log(Train_df[loglist])"
   ]
  },
  {
   "cell_type": "code",
   "execution_count": 8,
   "id": "db39e7df",
   "metadata": {},
   "outputs": [],
   "source": [
    "ORDTickDataname='GDF2022_4_12_19_51.csv'\n",
    "ORDTickGDF=pd.read_csv('CollectedData/'+ORDTickDataname)"
   ]
  },
  {
   "cell_type": "code",
   "execution_count": 9,
   "id": "2ee14f59",
   "metadata": {},
   "outputs": [
    {
     "data": {
      "text/plain": [
       "Index(['Unnamed: 0', 'ORD_DD', 'ISU_CD', 'MBR_NO', 'BRN_NO', 'ASKBID_TP_CD',\n",
       "       'MODCANCL_TP_CD', 'ORD_QTY', 'ORD_ACPT_TM', 'TM_GP'],\n",
       "      dtype='object')"
      ]
     },
     "execution_count": 9,
     "metadata": {},
     "output_type": "execute_result"
    }
   ],
   "source": [
    "ORDTickGDF.columns"
   ]
  },
  {
   "cell_type": "code",
   "execution_count": 10,
   "id": "2106e81e",
   "metadata": {},
   "outputs": [],
   "source": [
    "OTGDF=ORDTickGDF[(ORDTickGDF['TM_GP']>=0)&(ORDTickGDF['TM_GP']<39)]\n",
    "OTGDF=OTGDF[OTGDF['MODCANCL_TP_CD']!=2]\n",
    "\n",
    "OTGDF['NET_ORD_QTY']=OTGDF['ORD_QTY']*(2*OTGDF['ASKBID_TP_CD']-3)*(2-OTGDF['MODCANCL_TP_CD'])\n",
    "# OTGDF=OTGDF.set_index(['ORD_DD','ISU_CD','TM_GP'])"
   ]
  },
  {
   "cell_type": "code",
   "execution_count": 11,
   "id": "fb989dbe",
   "metadata": {},
   "outputs": [],
   "source": [
    "groupcolumns=['ORD_DD', 'ISU_CD', 'MBR_NO', 'BRN_NO','TM_GP']\n",
    "sumcolumns=['NET_ORD_QTY']\n",
    "meancolumns,lastcolumns=[],[]"
   ]
  },
  {
   "cell_type": "code",
   "execution_count": 12,
   "id": "0fefcae4",
   "metadata": {},
   "outputs": [],
   "source": [
    "OTGDF=GetGroupDataFrame(OTGDF,groupcolumns,sumcolumns,meancolumns,lastcolumns)"
   ]
  },
  {
   "cell_type": "code",
   "execution_count": 13,
   "id": "86ed83c1",
   "metadata": {},
   "outputs": [],
   "source": [
    "feat_cols=['ASK_STEP1_BSTORD_RQTY', 'ASK_STEP2_BSTORD_RQTY', \n",
    "       'ASK_STEP3_BSTORD_RQTY',  'ASK_STEP4_BSTORD_RQTY', \n",
    "       'ASK_STEP5_BSTORD_RQTY', 'BID_STEP1_BSTORD_RQTY', \n",
    "       'BID_STEP2_BSTORD_RQTY', 'BID_STEP3_BSTORD_RQTY', \n",
    "       'BID_STEP4_BSTORD_RQTY','BID_STEP5_BSTORD_RQTY',\n",
    "        '매도5단계호가합계잔량', '매수5단계호가합계잔량', '매도10단계호가합계잔량',\n",
    "       '매수10단계호가합계잔량', '매도총호가잔량', '매수총호가잔량', '고가', '저가',  '시가', '직전체결가격','NET_ORD_QTY']"
   ]
  },
  {
   "cell_type": "code",
   "execution_count": 14,
   "id": "33c92db9",
   "metadata": {},
   "outputs": [],
   "source": [
    "feat_cols=['매도총호가잔량', '매수총호가잔량', '고가', '저가',  '직전체결가격','NET_ORD_QTY']"
   ]
  },
  {
   "cell_type": "code",
   "execution_count": 15,
   "id": "003d8940",
   "metadata": {},
   "outputs": [],
   "source": [
    "mbrnlist1=[(5,194),(2,155),(12,100),(17,29),(42,1),(44,1),(50,92),(2,83),(4,10118),(8,298)]\n",
    "mbrnlist2=[(5,194),(12,100),(2,155),(17,29),(42,1),(44,1),(2,83),(4,10118),(4,9997),(50,91)]\n",
    "mbrnlist=mbrnlist1+[a for a in mbrnlist2 if a not in mbrnlist1]"
   ]
  },
  {
   "cell_type": "code",
   "execution_count": 16,
   "id": "8505fecf",
   "metadata": {},
   "outputs": [
    {
     "data": {
      "text/html": [
       "<div>\n",
       "<style scoped>\n",
       "    .dataframe tbody tr th:only-of-type {\n",
       "        vertical-align: middle;\n",
       "    }\n",
       "\n",
       "    .dataframe tbody tr th {\n",
       "        vertical-align: top;\n",
       "    }\n",
       "\n",
       "    .dataframe thead th {\n",
       "        text-align: right;\n",
       "    }\n",
       "</style>\n",
       "<table border=\"1\" class=\"dataframe\">\n",
       "  <thead>\n",
       "    <tr style=\"text-align: right;\">\n",
       "      <th></th>\n",
       "      <th>매도총호가잔량</th>\n",
       "      <th>매수총호가잔량</th>\n",
       "      <th>고가</th>\n",
       "      <th>저가</th>\n",
       "      <th>직전체결가격</th>\n",
       "    </tr>\n",
       "  </thead>\n",
       "  <tbody>\n",
       "    <tr>\n",
       "      <th>0</th>\n",
       "      <td>6.013891e+05</td>\n",
       "      <td>289358.451796</td>\n",
       "      <td>0.002325</td>\n",
       "      <td>-0.007177</td>\n",
       "      <td>7.643489</td>\n",
       "    </tr>\n",
       "    <tr>\n",
       "      <th>1</th>\n",
       "      <td>7.635658e+05</td>\n",
       "      <td>350305.340617</td>\n",
       "      <td>0.002384</td>\n",
       "      <td>-0.016230</td>\n",
       "      <td>7.636108</td>\n",
       "    </tr>\n",
       "    <tr>\n",
       "      <th>2</th>\n",
       "      <td>8.648292e+05</td>\n",
       "      <td>387893.278505</td>\n",
       "      <td>0.002384</td>\n",
       "      <td>-0.017360</td>\n",
       "      <td>7.633487</td>\n",
       "    </tr>\n",
       "    <tr>\n",
       "      <th>3</th>\n",
       "      <td>8.870972e+05</td>\n",
       "      <td>421321.096296</td>\n",
       "      <td>0.002384</td>\n",
       "      <td>-0.020008</td>\n",
       "      <td>7.631647</td>\n",
       "    </tr>\n",
       "    <tr>\n",
       "      <th>4</th>\n",
       "      <td>8.943737e+05</td>\n",
       "      <td>453878.294355</td>\n",
       "      <td>0.002384</td>\n",
       "      <td>-0.021714</td>\n",
       "      <td>7.632475</td>\n",
       "    </tr>\n",
       "    <tr>\n",
       "      <th>...</th>\n",
       "      <td>...</td>\n",
       "      <td>...</td>\n",
       "      <td>...</td>\n",
       "      <td>...</td>\n",
       "      <td>...</td>\n",
       "    </tr>\n",
       "    <tr>\n",
       "      <th>81895</th>\n",
       "      <td>2.200132e+06</td>\n",
       "      <td>239682.176080</td>\n",
       "      <td>0.031286</td>\n",
       "      <td>-0.020619</td>\n",
       "      <td>7.308986</td>\n",
       "    </tr>\n",
       "    <tr>\n",
       "      <th>81896</th>\n",
       "      <td>2.210884e+06</td>\n",
       "      <td>237266.904265</td>\n",
       "      <td>0.033448</td>\n",
       "      <td>-0.020619</td>\n",
       "      <td>7.314388</td>\n",
       "    </tr>\n",
       "    <tr>\n",
       "      <th>81897</th>\n",
       "      <td>2.204492e+06</td>\n",
       "      <td>273197.397363</td>\n",
       "      <td>0.033448</td>\n",
       "      <td>-0.020619</td>\n",
       "      <td>7.308284</td>\n",
       "    </tr>\n",
       "    <tr>\n",
       "      <th>81898</th>\n",
       "      <td>2.277060e+06</td>\n",
       "      <td>266184.479393</td>\n",
       "      <td>0.033448</td>\n",
       "      <td>-0.020619</td>\n",
       "      <td>7.302827</td>\n",
       "    </tr>\n",
       "    <tr>\n",
       "      <th>81899</th>\n",
       "      <td>2.264752e+06</td>\n",
       "      <td>293851.841463</td>\n",
       "      <td>0.033448</td>\n",
       "      <td>-0.020619</td>\n",
       "      <td>7.303170</td>\n",
       "    </tr>\n",
       "  </tbody>\n",
       "</table>\n",
       "<p>81900 rows × 5 columns</p>\n",
       "</div>"
      ],
      "text/plain": [
       "            매도총호가잔량        매수총호가잔량        고가        저가    직전체결가격\n",
       "0      6.013891e+05  289358.451796  0.002325 -0.007177  7.643489\n",
       "1      7.635658e+05  350305.340617  0.002384 -0.016230  7.636108\n",
       "2      8.648292e+05  387893.278505  0.002384 -0.017360  7.633487\n",
       "3      8.870972e+05  421321.096296  0.002384 -0.020008  7.631647\n",
       "4      8.943737e+05  453878.294355  0.002384 -0.021714  7.632475\n",
       "...             ...            ...       ...       ...       ...\n",
       "81895  2.200132e+06  239682.176080  0.031286 -0.020619  7.308986\n",
       "81896  2.210884e+06  237266.904265  0.033448 -0.020619  7.314388\n",
       "81897  2.204492e+06  273197.397363  0.033448 -0.020619  7.308284\n",
       "81898  2.277060e+06  266184.479393  0.033448 -0.020619  7.302827\n",
       "81899  2.264752e+06  293851.841463  0.033448 -0.020619  7.303170\n",
       "\n",
       "[81900 rows x 5 columns]"
      ]
     },
     "execution_count": 16,
     "metadata": {},
     "output_type": "execute_result"
    }
   ],
   "source": [
    "Train_df[feat_cols[:-1]]"
   ]
  },
  {
   "cell_type": "code",
   "execution_count": 17,
   "id": "f27637b3",
   "metadata": {},
   "outputs": [
    {
     "name": "stdout",
     "output_type": "stream",
     "text": [
      "5 194\n",
      "-33328534.0\n",
      "path: /Data/Min/TransLOB/TrainData/Train_ORD_5_194NoPreProcess6feat\n",
      "path: /Data/Min/TransLOB/TrainData/Train_ORD_Label__5_194NoPreProcess6feat\n",
      "2 155\n",
      "1011342.0\n",
      "path: /Data/Min/TransLOB/TrainData/Train_ORD_2_155NoPreProcess6feat\n",
      "path: /Data/Min/TransLOB/TrainData/Train_ORD_Label__2_155NoPreProcess6feat\n",
      "12 100\n",
      "-27072832.0\n",
      "path: /Data/Min/TransLOB/TrainData/Train_ORD_12_100NoPreProcess6feat\n",
      "path: /Data/Min/TransLOB/TrainData/Train_ORD_Label__12_100NoPreProcess6feat\n",
      "17 29\n",
      "-27191045.0\n",
      "path: /Data/Min/TransLOB/TrainData/Train_ORD_17_29NoPreProcess6feat\n",
      "path: /Data/Min/TransLOB/TrainData/Train_ORD_Label__17_29NoPreProcess6feat\n",
      "42 1\n",
      "2665621.0\n",
      "path: /Data/Min/TransLOB/TrainData/Train_ORD_42_1NoPreProcess6feat\n",
      "path: /Data/Min/TransLOB/TrainData/Train_ORD_Label__42_1NoPreProcess6feat\n",
      "44 1\n",
      "-17303050.0\n",
      "path: /Data/Min/TransLOB/TrainData/Train_ORD_44_1NoPreProcess6feat\n",
      "path: /Data/Min/TransLOB/TrainData/Train_ORD_Label__44_1NoPreProcess6feat\n",
      "50 92\n",
      "-2678352.0\n",
      "path: /Data/Min/TransLOB/TrainData/Train_ORD_50_92NoPreProcess6feat\n",
      "path: /Data/Min/TransLOB/TrainData/Train_ORD_Label__50_92NoPreProcess6feat\n",
      "2 83\n",
      "-13119612.0\n",
      "path: /Data/Min/TransLOB/TrainData/Train_ORD_2_83NoPreProcess6feat\n",
      "path: /Data/Min/TransLOB/TrainData/Train_ORD_Label__2_83NoPreProcess6feat\n",
      "4 10118\n",
      "-13138160.0\n",
      "path: /Data/Min/TransLOB/TrainData/Train_ORD_4_10118NoPreProcess6feat\n",
      "path: /Data/Min/TransLOB/TrainData/Train_ORD_Label__4_10118NoPreProcess6feat\n",
      "8 298\n",
      "-3971686.0\n",
      "path: /Data/Min/TransLOB/TrainData/Train_ORD_8_298NoPreProcess6feat\n",
      "path: /Data/Min/TransLOB/TrainData/Train_ORD_Label__8_298NoPreProcess6feat\n",
      "4 9997\n",
      "-13028711.0\n",
      "path: /Data/Min/TransLOB/TrainData/Train_ORD_4_9997NoPreProcess6feat\n",
      "path: /Data/Min/TransLOB/TrainData/Train_ORD_Label__4_9997NoPreProcess6feat\n",
      "50 91\n",
      "-6831958.0\n",
      "path: /Data/Min/TransLOB/TrainData/Train_ORD_50_91NoPreProcess6feat\n",
      "path: /Data/Min/TransLOB/TrainData/Train_ORD_Label__50_91NoPreProcess6feat\n"
     ]
    }
   ],
   "source": [
    "for mbr,brn in mbrnlist:\n",
    "    print(mbr,brn)\n",
    "    OTGDF_temp=OTGDF[(OTGDF['MBR_NO']==mbr) &(OTGDF['BRN_NO']==brn)]\n",
    "    OTGDF_temp=OTGDF_temp.set_index(['ORD_DD','ISU_CD','TM_GP'])\n",
    "    OTGDF_temp=OTGDF_temp.reindex(new_index)\n",
    "    OTGDF_temp['NET_ORD_QTY']=OTGDF_temp['NET_ORD_QTY'].fillna(0)\n",
    "    Train_df['NET_ORD_QTY']=OTGDF_temp['NET_ORD_QTY'].values\n",
    "    print(Train_df['NET_ORD_QTY'].sum())\n",
    "    ylabel=(2*(Train_df['NET_ORD_QTY']>0)+1*(Train_df['NET_ORD_QTY']==0)).values\n",
    "    \n",
    "\n",
    "    SaveDirPath='/Data/Min/TransLOB/TrainData/'\n",
    "    now=datetime.now()\n",
    "    DataSubfix=str(mbr)+'_'+str(brn)+str(now.year)+'_'+str(now.month)+'_'+str(now.day)\n",
    "    DataSubfix=str(mbr)+'_'+str(brn)+\"NoPreProcess6feat\"\n",
    "    TrainDataname='Train_ORD'+'_'+DataSubfix\n",
    "    TrainLabelDataname='Train_ORD_Label_'+'_'+DataSubfix\n",
    "    np.save(SaveDirPath+TrainDataname,Train_df[feat_cols].values)\n",
    "    np.save(SaveDirPath+TrainLabelDataname,ylabel)\n",
    "    with open(SaveDirPath+'DataInformationORD.txt', \"a+\") as f:\n",
    "        f.write(\"TrainDataname:\"+TrainDataname+'\\n')\n",
    "        f.write(\"TrainLabelDataname:\"+TrainLabelDataname+'\\n')\n",
    "        f.write(\"TickDataname:\"+TickDataname+'\\n')\n",
    "        f.write(\"ORDTickDataname:\"+ORDTickDataname+'\\n')\n",
    "\n",
    "        f.write(\"divdict:\"+'\\n')\n",
    "        for col,llist in divdict.items():\n",
    "            f.write(str(col)+'\\t'+str(llist))\n",
    "        f.write('\\n')\n",
    "        f.write(\"loglist:\"+'\\n')\n",
    "        for col in loglist:\n",
    "            f.write(str(col)+'\\t')\n",
    "        f.write('\\n')\n",
    "        \n",
    "        f.write(\"feat_cols:\"+'\\n')\n",
    "        for col in feat_cols:\n",
    "            f.write(str(col)+'\\t')\n",
    "        f.write('\\n')\n",
    "    print(\"path:\",SaveDirPath+TrainDataname)\n",
    "    print(\"path:\",SaveDirPath+TrainLabelDataname)"
   ]
  },
  {
   "cell_type": "markdown",
   "id": "fa055f69",
   "metadata": {},
   "source": [
    "a"
   ]
  },
  {
   "cell_type": "markdown",
   "id": "6c0ec583",
   "metadata": {},
   "source": [
    "SaveDirPath='/Data/Min/TransLOB/TrainData/'\n",
    "now=datetime.now()\n",
    "TrainDataname='Train_'+str(now.year)+'_'+str(now.month)+'_'+str(now.day)+'_'+str(now.hour)+'_'+str(now.minute)\n",
    "TrainLabelDataname='Train_Label_'+str(now.year)+'_'+str(now.month)+'_'+str(now.day)+'_'+str(now.hour)+'_'+str(now.minute)\n",
    "np.save(SaveDirPath+TrainDataname,Train_df[feat_cols].values)\n",
    "np.save(SaveDirPath+TrainLabelDataname,increment)\n",
    "with open(SaveDirPath+'DataInformation.txt', \"a+\") as f:\n",
    "    f.write(\"TrainDataname:\"+TrainDataname+'\\n')\n",
    "    f.write(\"TrainLabelDataname:\"+TrainLabelDataname+'\\n')\n",
    "    f.write(\"TickDataname:\"+TickDataname)\n",
    "    for col in feat_cols:\n",
    "        f.write(str(col)+'\\t')\n",
    "    f.write('\\n')\n",
    "print(\"path:\",SaveDirPath+TrainDataname)\n",
    "print(\"path:\",SaveDirPath+TrainLabelDataname)"
   ]
  }
 ],
 "metadata": {
  "kernelspec": {
   "display_name": "Python 3",
   "language": "python",
   "name": "python3"
  },
  "language_info": {
   "codemirror_mode": {
    "name": "ipython",
    "version": 3
   },
   "file_extension": ".py",
   "mimetype": "text/x-python",
   "name": "python",
   "nbconvert_exporter": "python",
   "pygments_lexer": "ipython3",
   "version": "3.7.10"
  }
 },
 "nbformat": 4,
 "nbformat_minor": 5
}
