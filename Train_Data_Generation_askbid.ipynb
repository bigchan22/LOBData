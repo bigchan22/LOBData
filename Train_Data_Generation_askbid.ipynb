{
 "cells": [
  {
   "cell_type": "code",
   "execution_count": 1,
   "id": "ef1df877",
   "metadata": {},
   "outputs": [],
   "source": [
    "import pandas as pd\n",
    "import numpy as np\n",
    "from datetime import datetime\n",
    "from source.TrainDataGeneration import append_ORD_TM,append_ORD_VOL,append_TM_GP,GetGroupDataFrame,append_STEP5"
   ]
  },
  {
   "cell_type": "code",
   "execution_count": 2,
   "id": "692eef0b",
   "metadata": {},
   "outputs": [],
   "source": [
    "TickDataname='GDF2022_3_27_16_52.csv'\n",
    "TickGDF=pd.read_csv('CollectedData/'+TickDataname)\n",
    "\n",
    "TGDF=TickGDF[(TickGDF['TM_GP']>=0)&(TickGDF['TM_GP']<39)]\n",
    "TGDF=TGDF.set_index(['ORD_DD','ISU_CD','TM_GP'])\n",
    "\n",
    "new_index = pd.MultiIndex.from_product(TGDF.index.levels)\n",
    "new_df = TGDF.reindex(new_index)\n",
    "new_df = new_df.ffill()\n",
    "new_df=new_df.reset_index()\n",
    "Train_df=new_df\n",
    "Train_df.loc[new_df['TM_GP']==0,'시가']=Train_df.loc[new_df['TM_GP']==1,'시가'].values"
   ]
  },
  {
   "cell_type": "code",
   "execution_count": 3,
   "id": "c62f57e9",
   "metadata": {},
   "outputs": [],
   "source": [
    "Train_df[['고가','저가']]=Train_df[['고가','저가']].div(Train_df['시가'],axis=0).values\n",
    "Train_df[['고가','저가','직전체결가격','시가']]=np.log(Train_df[['고가','저가','직전체결가격','시가']])"
   ]
  },
  {
   "cell_type": "code",
   "execution_count": 4,
   "id": "70f01e81",
   "metadata": {},
   "outputs": [],
   "source": [
    "Train_df['10단계호가합계잔량']=Train_df['매수10단계호가합계잔량']+Train_df['매도10단계호가합계잔량']"
   ]
  },
  {
   "cell_type": "code",
   "execution_count": 5,
   "id": "2c3a107b",
   "metadata": {},
   "outputs": [],
   "source": [
    "qtylist=['ASK_STEP1_BSTORD_RQTY', 'ASK_STEP2_BSTORD_RQTY', \n",
    "       'ASK_STEP3_BSTORD_RQTY',  'ASK_STEP4_BSTORD_RQTY', \n",
    "       'ASK_STEP5_BSTORD_RQTY', 'BID_STEP1_BSTORD_RQTY', \n",
    "       'BID_STEP2_BSTORD_RQTY', 'BID_STEP3_BSTORD_RQTY', \n",
    "       'BID_STEP4_BSTORD_RQTY','BID_STEP5_BSTORD_RQTY',\n",
    "        '매도5단계호가합계잔량', '매수5단계호가합계잔량', '매도10단계호가합계잔량',\n",
    "       '매수10단계호가합계잔량', '매도총호가잔량', '매수총호가잔량']"
   ]
  },
  {
   "cell_type": "code",
   "execution_count": 6,
   "id": "61ff2248",
   "metadata": {},
   "outputs": [],
   "source": [
    "Train_df[qtylist]=Train_df[qtylist].div(Train_df['10단계호가합계잔량'],axis=0).values"
   ]
  },
  {
   "cell_type": "code",
   "execution_count": 7,
   "id": "9934e84b",
   "metadata": {},
   "outputs": [],
   "source": [
    "Train_df['10단계호가합계잔량']=np.log(new_df['10단계호가합계잔량'])"
   ]
  },
  {
   "cell_type": "code",
   "execution_count": 8,
   "id": "db39e7df",
   "metadata": {},
   "outputs": [],
   "source": [
    "ORDTickDataname='GDF2022_4_12_19_51.csv'\n",
    "ORDTickGDF=pd.read_csv('CollectedData/'+ORDTickDataname)"
   ]
  },
  {
   "cell_type": "code",
   "execution_count": 9,
   "id": "2ee14f59",
   "metadata": {},
   "outputs": [
    {
     "data": {
      "text/plain": [
       "Index(['Unnamed: 0', 'ORD_DD', 'ISU_CD', 'MBR_NO', 'BRN_NO', 'ASKBID_TP_CD',\n",
       "       'MODCANCL_TP_CD', 'ORD_QTY', 'ORD_ACPT_TM', 'TM_GP'],\n",
       "      dtype='object')"
      ]
     },
     "execution_count": 9,
     "metadata": {},
     "output_type": "execute_result"
    }
   ],
   "source": [
    "ORDTickGDF.columns"
   ]
  },
  {
   "cell_type": "code",
   "execution_count": 10,
   "id": "2106e81e",
   "metadata": {},
   "outputs": [],
   "source": [
    "OTGDF=ORDTickGDF[(ORDTickGDF['TM_GP']>=0)&(ORDTickGDF['TM_GP']<39)]\n",
    "OTGDF=OTGDF[OTGDF['MODCANCL_TP_CD']!=2]\n",
    "\n",
    "OTGDF['NET_ORD_QTY']=OTGDF['ORD_QTY']*(2*OTGDF['ASKBID_TP_CD']-3)*(2-OTGDF['MODCANCL_TP_CD'])\n",
    "# OTGDF=OTGDF.set_index(['ORD_DD','ISU_CD','TM_GP'])"
   ]
  },
  {
   "cell_type": "code",
   "execution_count": 11,
   "id": "fb989dbe",
   "metadata": {},
   "outputs": [],
   "source": [
    "groupcolumns=['ORD_DD', 'ISU_CD', 'MBR_NO', 'BRN_NO','TM_GP']\n",
    "sumcolumns=['NET_ORD_QTY']\n",
    "meancolumns,lastcolumns=[],[]"
   ]
  },
  {
   "cell_type": "code",
   "execution_count": 12,
   "id": "0fefcae4",
   "metadata": {},
   "outputs": [],
   "source": [
    "OTGDF=GetGroupDataFrame(OTGDF,groupcolumns,sumcolumns,meancolumns,lastcolumns)"
   ]
  },
  {
   "cell_type": "code",
   "execution_count": 13,
   "id": "86ed83c1",
   "metadata": {},
   "outputs": [],
   "source": [
    "feat_cols=['ASK_STEP1_BSTORD_RQTY', 'ASK_STEP2_BSTORD_RQTY', \n",
    "       'ASK_STEP3_BSTORD_RQTY',  'ASK_STEP4_BSTORD_RQTY', \n",
    "       'ASK_STEP5_BSTORD_RQTY', 'BID_STEP1_BSTORD_RQTY', \n",
    "       'BID_STEP2_BSTORD_RQTY', 'BID_STEP3_BSTORD_RQTY', \n",
    "       'BID_STEP4_BSTORD_RQTY','BID_STEP5_BSTORD_RQTY',\n",
    "        '매도5단계호가합계잔량', '매수5단계호가합계잔량', '매도10단계호가합계잔량',\n",
    "       '매수10단계호가합계잔량', '매도총호가잔량', '매수총호가잔량', '고가', '저가',  '시가', '직전체결가격','NET_ORD_QTY']"
   ]
  },
  {
   "cell_type": "code",
   "execution_count": 14,
   "id": "003d8940",
   "metadata": {},
   "outputs": [],
   "source": [
    "mbrnlist1=[(5,194),(2,155),(12,100),(17,29),(42,1),(44,1),(50,92),(2,83),(4,10118),(8,298)]\n",
    "mbrnlist2=[(5,194),(12,100),(2,155),(17,29),(42,1),(44,1),(2,83),(4,10118),(4,9997),(50,91)]\n",
    "mbrnlist=mbrnlist1+[a for a in mbrnlist2 if a not in mbrnlist1]\n",
    "mbr,brn=mbrnlist[0]"
   ]
  },
  {
   "cell_type": "code",
   "execution_count": 15,
   "id": "f27637b3",
   "metadata": {},
   "outputs": [
    {
     "name": "stdout",
     "output_type": "stream",
     "text": [
      "5 194\n",
      "-33328534.0\n",
      "path: /Data/Min/TransLOB/TrainData/Train_ORD_5_1942022_4_12\n",
      "path: /Data/Min/TransLOB/TrainData/Train_ORD_Label__5_1942022_4_12\n",
      "2 155\n",
      "1011342.0\n",
      "path: /Data/Min/TransLOB/TrainData/Train_ORD_2_1552022_4_12\n",
      "path: /Data/Min/TransLOB/TrainData/Train_ORD_Label__2_1552022_4_12\n",
      "12 100\n",
      "-27072832.0\n",
      "path: /Data/Min/TransLOB/TrainData/Train_ORD_12_1002022_4_12\n",
      "path: /Data/Min/TransLOB/TrainData/Train_ORD_Label__12_1002022_4_12\n",
      "17 29\n",
      "-27191045.0\n",
      "path: /Data/Min/TransLOB/TrainData/Train_ORD_17_292022_4_12\n",
      "path: /Data/Min/TransLOB/TrainData/Train_ORD_Label__17_292022_4_12\n",
      "42 1\n",
      "2665621.0\n",
      "path: /Data/Min/TransLOB/TrainData/Train_ORD_42_12022_4_12\n",
      "path: /Data/Min/TransLOB/TrainData/Train_ORD_Label__42_12022_4_12\n",
      "44 1\n",
      "-17303050.0\n",
      "path: /Data/Min/TransLOB/TrainData/Train_ORD_44_12022_4_12\n",
      "path: /Data/Min/TransLOB/TrainData/Train_ORD_Label__44_12022_4_12\n",
      "50 92\n",
      "-2678352.0\n",
      "path: /Data/Min/TransLOB/TrainData/Train_ORD_50_922022_4_12\n",
      "path: /Data/Min/TransLOB/TrainData/Train_ORD_Label__50_922022_4_12\n",
      "2 83\n",
      "-13119612.0\n",
      "path: /Data/Min/TransLOB/TrainData/Train_ORD_2_832022_4_12\n",
      "path: /Data/Min/TransLOB/TrainData/Train_ORD_Label__2_832022_4_12\n",
      "4 10118\n",
      "-13138160.0\n",
      "path: /Data/Min/TransLOB/TrainData/Train_ORD_4_101182022_4_12\n",
      "path: /Data/Min/TransLOB/TrainData/Train_ORD_Label__4_101182022_4_12\n",
      "8 298\n",
      "-3971686.0\n",
      "path: /Data/Min/TransLOB/TrainData/Train_ORD_8_2982022_4_12\n",
      "path: /Data/Min/TransLOB/TrainData/Train_ORD_Label__8_2982022_4_12\n",
      "4 9997\n",
      "-13028711.0\n",
      "path: /Data/Min/TransLOB/TrainData/Train_ORD_4_99972022_4_12\n",
      "path: /Data/Min/TransLOB/TrainData/Train_ORD_Label__4_99972022_4_12\n",
      "50 91\n",
      "-6831958.0\n",
      "path: /Data/Min/TransLOB/TrainData/Train_ORD_50_912022_4_12\n",
      "path: /Data/Min/TransLOB/TrainData/Train_ORD_Label__50_912022_4_12\n"
     ]
    }
   ],
   "source": [
    "for mbr,brn in mbrnlist:\n",
    "    print(mbr,brn)\n",
    "    OTGDF_temp=OTGDF[(OTGDF['MBR_NO']==mbr) &(OTGDF['BRN_NO']==brn)]\n",
    "    OTGDF_temp=OTGDF_temp.set_index(['ORD_DD','ISU_CD','TM_GP'])\n",
    "    OTGDF_temp=OTGDF_temp.reindex(new_index)\n",
    "    OTGDF_temp['NET_ORD_QTY']=OTGDF_temp['NET_ORD_QTY'].fillna(0)\n",
    "    Train_df['NET_ORD_QTY']=OTGDF_temp['NET_ORD_QTY'].values\n",
    "    print(Train_df['NET_ORD_QTY'].sum())\n",
    "    ylabel=(2*(Train_df['NET_ORD_QTY']>0)+1*(Train_df['NET_ORD_QTY']==0)).values\n",
    "    \n",
    "\n",
    "    SaveDirPath='/Data/Min/TransLOB/TrainData/'\n",
    "    now=datetime.now()\n",
    "    TrainDataname='Train_ORD'+'_'+str(mbr)+'_'+str(brn)+str(now.year)+'_'+str(now.month)+'_'+str(now.day)\n",
    "    TrainLabelDataname='Train_ORD_Label_'+'_'+str(mbr)+'_'+str(brn)+str(now.year)+'_'+str(now.month)+'_'+str(now.day)\n",
    "    np.save(SaveDirPath+TrainDataname,Train_df[feat_cols].values)\n",
    "    np.save(SaveDirPath+TrainLabelDataname,ylabel)\n",
    "    with open(SaveDirPath+'DataInformation.txt', \"a+\") as f:\n",
    "        f.write(\"TrainDataname:\"+TrainDataname+'\\n')\n",
    "        f.write(\"TrainLabelDataname:\"+TrainLabelDataname+'\\n')\n",
    "        f.write(\"TickDataname:\"+TickDataname)\n",
    "        f.write(\"ORDTickDataname:\"+ORDTickDataname)\n",
    "        for col in feat_cols:\n",
    "            f.write(str(col)+'\\t')\n",
    "        f.write('\\n')\n",
    "    print(\"path:\",SaveDirPath+TrainDataname)\n",
    "    print(\"path:\",SaveDirPath+TrainLabelDataname)"
   ]
  },
  {
   "cell_type": "markdown",
   "id": "fa055f69",
   "metadata": {},
   "source": [
    "a"
   ]
  },
  {
   "cell_type": "markdown",
   "id": "6c0ec583",
   "metadata": {},
   "source": [
    "SaveDirPath='/Data/Min/TransLOB/TrainData/'\n",
    "now=datetime.now()\n",
    "TrainDataname='Train_'+str(now.year)+'_'+str(now.month)+'_'+str(now.day)+'_'+str(now.hour)+'_'+str(now.minute)\n",
    "TrainLabelDataname='Train_Label_'+str(now.year)+'_'+str(now.month)+'_'+str(now.day)+'_'+str(now.hour)+'_'+str(now.minute)\n",
    "np.save(SaveDirPath+TrainDataname,Train_df[feat_cols].values)\n",
    "np.save(SaveDirPath+TrainLabelDataname,increment)\n",
    "with open(SaveDirPath+'DataInformation.txt', \"a+\") as f:\n",
    "    f.write(\"TrainDataname:\"+TrainDataname+'\\n')\n",
    "    f.write(\"TrainLabelDataname:\"+TrainLabelDataname+'\\n')\n",
    "    f.write(\"TickDataname:\"+TickDataname)\n",
    "    for col in feat_cols:\n",
    "        f.write(str(col)+'\\t')\n",
    "    f.write('\\n')\n",
    "print(\"path:\",SaveDirPath+TrainDataname)\n",
    "print(\"path:\",SaveDirPath+TrainLabelDataname)"
   ]
  }
 ],
 "metadata": {
  "kernelspec": {
   "display_name": "Python 3",
   "language": "python",
   "name": "python3"
  },
  "language_info": {
   "codemirror_mode": {
    "name": "ipython",
    "version": 3
   },
   "file_extension": ".py",
   "mimetype": "text/x-python",
   "name": "python",
   "nbconvert_exporter": "python",
   "pygments_lexer": "ipython3",
   "version": "3.7.10"
  }
 },
 "nbformat": 4,
 "nbformat_minor": 5
}
