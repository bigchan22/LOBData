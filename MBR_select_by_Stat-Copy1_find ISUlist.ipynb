{
 "cells": [
  {
   "cell_type": "code",
   "execution_count": 1,
   "id": "4f37f913",
   "metadata": {},
   "outputs": [],
   "source": [
    "### 필요 라이브러리\n",
    "import os\n",
    "import pandas as pd\n",
    "import numpy as np\n",
    "import datetime as dt\n",
    "import math\n",
    "import warnings\n",
    "warnings.filterwarnings(action='ignore')\n",
    "# save numpy array as npy file\n",
    "from numpy import asarray\n",
    "from numpy import save\n",
    "from DataInfo import *\n",
    "### 데이터 보여지는 개수 설정\n",
    "pd.set_option('display.max_columns', 40)\n",
    "pd.set_option('display.max_rows', 300)"
   ]
  },
  {
   "cell_type": "code",
   "execution_count": 2,
   "id": "ab0b0ac6",
   "metadata": {},
   "outputs": [],
   "source": [
    "path_dir = '/Data/ksqord1516/'"
   ]
  },
  {
   "cell_type": "code",
   "execution_count": 3,
   "id": "5f78f66c",
   "metadata": {},
   "outputs": [],
   "source": [
    "file_list=os.listdir(path_dir)\n",
    "file_list.sort()"
   ]
  },
  {
   "cell_type": "code",
   "execution_count": null,
   "id": "291de9c9",
   "metadata": {},
   "outputs": [
    {
     "name": "stdout",
     "output_type": "stream",
     "text": [
      "extracting stats from ksqord_20150602.csv\n",
      "extracting stats from ksqord_20150603.csv\n",
      "extracting stats from ksqord_20150604.csv\n",
      "extracting stats from ksqord_20150605.csv\n",
      "extracting stats from ksqord_20150608.csv\n",
      "extracting stats from ksqord_20150609.csv\n",
      "extracting stats from ksqord_20150610.csv\n",
      "extracting stats from ksqord_20150611.csv\n",
      "extracting stats from ksqord_20150612.csv\n",
      "extracting stats from ksqord_20150615.csv\n",
      "extracting stats from ksqord_20150616.csv\n",
      "extracting stats from ksqord_20150617.csv\n",
      "extracting stats from ksqord_20150618.csv\n",
      "extracting stats from ksqord_20150619.csv\n",
      "extracting stats from ksqord_20150622.csv\n",
      "extracting stats from ksqord_20150623.csv\n",
      "extracting stats from ksqord_20150624.csv\n",
      "extracting stats from ksqord_20150625.csv\n",
      "extracting stats from ksqord_20150626.csv\n",
      "extracting stats from ksqord_20150629.csv\n",
      "extracting stats from ksqord_20150630.csv\n",
      "extracting stats from ksqord_20150701.csv\n",
      "extracting stats from ksqord_20150702.csv\n",
      "extracting stats from ksqord_20150703.csv\n",
      "extracting stats from ksqord_20150706.csv\n",
      "extracting stats from ksqord_20150707.csv\n",
      "extracting stats from ksqord_20150708.csv\n",
      "extracting stats from ksqord_20150709.csv\n"
     ]
    }
   ],
   "source": [
    "columnlist=['ISU_CD']\n",
    "featlist=columnlist + ['ORD_QTY','ORD_PRC']\n",
    "filename = file_list[0]\n",
    "df = pd.read_csv(path_dir+'/'+filename, sep=',', names=header_df, encoding=\"cp949\")\n",
    "df = df[featlist]\n",
    "df['ORD_VOL'] = df['ORD_QTY'] * df['ORD_PRC']\n",
    "gdf = df.groupby(columnlist).sum()\n",
    "for filename in file_list[1:30]:\n",
    "    print(\"extracting stats from\", filename )\n",
    "    df = pd.read_csv(path_dir+'/'+filename, sep=',', names=header_df, encoding=\"cp949\")\n",
    "    df = df[featlist]\n",
    "    df['ORD_VOL'] = df['ORD_QTY'] * df['ORD_PRC']\n",
    "    tgdf = df[featlist].groupby(columnlist).sum()\n",
    "    gdf = gdf.add(tgdf).fillna(gdf).fillna(tgdf)\n",
    "#     print(gdf)"
   ]
  },
  {
   "cell_type": "code",
   "execution_count": 9,
   "id": "21dd21c8",
   "metadata": {},
   "outputs": [
    {
     "data": {
      "text/html": [
       "<div>\n",
       "<style scoped>\n",
       "    .dataframe tbody tr th:only-of-type {\n",
       "        vertical-align: middle;\n",
       "    }\n",
       "\n",
       "    .dataframe tbody tr th {\n",
       "        vertical-align: top;\n",
       "    }\n",
       "\n",
       "    .dataframe thead th {\n",
       "        text-align: right;\n",
       "    }\n",
       "</style>\n",
       "<table border=\"1\" class=\"dataframe\">\n",
       "  <thead>\n",
       "    <tr style=\"text-align: right;\">\n",
       "      <th></th>\n",
       "      <th>ORD_PRC</th>\n",
       "      <th>ORD_QTY</th>\n",
       "      <th>ORD_VOL</th>\n",
       "    </tr>\n",
       "    <tr>\n",
       "      <th>ISU_CD</th>\n",
       "      <th></th>\n",
       "      <th></th>\n",
       "      <th></th>\n",
       "    </tr>\n",
       "  </thead>\n",
       "  <tbody>\n",
       "    <tr>\n",
       "      <th>HK0000054723</th>\n",
       "      <td>1.779906e+08</td>\n",
       "      <td>44456474.0</td>\n",
       "      <td>NaN</td>\n",
       "    </tr>\n",
       "    <tr>\n",
       "      <th>HK0000055043</th>\n",
       "      <td>1.355352e+08</td>\n",
       "      <td>72068803.0</td>\n",
       "      <td>6.642380e+09</td>\n",
       "    </tr>\n",
       "    <tr>\n",
       "      <th>HK0000057197</th>\n",
       "      <td>4.628525e+08</td>\n",
       "      <td>263200003.0</td>\n",
       "      <td>2.161366e+10</td>\n",
       "    </tr>\n",
       "    <tr>\n",
       "      <th>HK0000064334</th>\n",
       "      <td>5.975342e+07</td>\n",
       "      <td>97673305.0</td>\n",
       "      <td>NaN</td>\n",
       "    </tr>\n",
       "    <tr>\n",
       "      <th>HK0000065257</th>\n",
       "      <td>3.631283e+08</td>\n",
       "      <td>125836356.0</td>\n",
       "      <td>NaN</td>\n",
       "    </tr>\n",
       "    <tr>\n",
       "      <th>...</th>\n",
       "      <td>...</td>\n",
       "      <td>...</td>\n",
       "      <td>...</td>\n",
       "    </tr>\n",
       "    <tr>\n",
       "      <th>KR8840090003</th>\n",
       "      <td>3.101695e+09</td>\n",
       "      <td>93750657.0</td>\n",
       "      <td>3.949037e+10</td>\n",
       "    </tr>\n",
       "    <tr>\n",
       "      <th>KYG210AT1036</th>\n",
       "      <td>4.273927e+08</td>\n",
       "      <td>136538354.0</td>\n",
       "      <td>1.357271e+10</td>\n",
       "    </tr>\n",
       "    <tr>\n",
       "      <th>KYG2114A1094</th>\n",
       "      <td>2.156682e+09</td>\n",
       "      <td>147928088.0</td>\n",
       "      <td>1.943260e+10</td>\n",
       "    </tr>\n",
       "    <tr>\n",
       "      <th>KYG3931T1076</th>\n",
       "      <td>3.296318e+08</td>\n",
       "      <td>74507212.0</td>\n",
       "      <td>3.217021e+09</td>\n",
       "    </tr>\n",
       "    <tr>\n",
       "      <th>USU652221081</th>\n",
       "      <td>6.206796e+08</td>\n",
       "      <td>609136471.0</td>\n",
       "      <td>8.239406e+10</td>\n",
       "    </tr>\n",
       "  </tbody>\n",
       "</table>\n",
       "<p>1078 rows × 3 columns</p>\n",
       "</div>"
      ],
      "text/plain": [
       "                   ORD_PRC      ORD_QTY       ORD_VOL\n",
       "ISU_CD                                               \n",
       "HK0000054723  1.779906e+08   44456474.0           NaN\n",
       "HK0000055043  1.355352e+08   72068803.0  6.642380e+09\n",
       "HK0000057197  4.628525e+08  263200003.0  2.161366e+10\n",
       "HK0000064334  5.975342e+07   97673305.0           NaN\n",
       "HK0000065257  3.631283e+08  125836356.0           NaN\n",
       "...                    ...          ...           ...\n",
       "KR8840090003  3.101695e+09   93750657.0  3.949037e+10\n",
       "KYG210AT1036  4.273927e+08  136538354.0  1.357271e+10\n",
       "KYG2114A1094  2.156682e+09  147928088.0  1.943260e+10\n",
       "KYG3931T1076  3.296318e+08   74507212.0  3.217021e+09\n",
       "USU652221081  6.206796e+08  609136471.0  8.239406e+10\n",
       "\n",
       "[1078 rows x 3 columns]"
      ]
     },
     "execution_count": 9,
     "metadata": {},
     "output_type": "execute_result"
    }
   ],
   "source": [
    "gdf"
   ]
  },
  {
   "cell_type": "code",
   "execution_count": null,
   "id": "085d6e70",
   "metadata": {},
   "outputs": [],
   "source": [
    "gdf.to_csv('./StatsForDataSelection/AlmostFullColumn_sum1516_ISU')"
   ]
  },
  {
   "cell_type": "code",
   "execution_count": 10,
   "id": "f6895171",
   "metadata": {},
   "outputs": [],
   "source": [
    "A=gdf.sort_values(\"ORD_QTY\",ascending=False)"
   ]
  },
  {
   "cell_type": "code",
   "execution_count": 13,
   "id": "297e4c51",
   "metadata": {},
   "outputs": [],
   "source": [
    "A=A.reset_index()"
   ]
  },
  {
   "cell_type": "code",
   "execution_count": 18,
   "id": "ca6db744",
   "metadata": {},
   "outputs": [
    {
     "data": {
      "text/plain": [
       "['KR7071930002',\n",
       " 'KR7040670002',\n",
       " 'KR7044180008',\n",
       " 'KR7052420007',\n",
       " 'KR7043100007',\n",
       " 'KR7024810004',\n",
       " 'KR7036540003',\n",
       " 'KR7058820002',\n",
       " 'KR7018700005',\n",
       " 'KR7043200005']"
      ]
     },
     "execution_count": 18,
     "metadata": {},
     "output_type": "execute_result"
    }
   ],
   "source": [
    "list(A['ISU_CD'][:10])"
   ]
  },
  {
   "cell_type": "markdown",
   "id": "fc027130",
   "metadata": {},
   "source": [
    "gdf=pd.read_csv('./StatsForDataSelection/columnlistcount')"
   ]
  },
  {
   "cell_type": "markdown",
   "id": "dcc1314b",
   "metadata": {},
   "source": [
    "gdf"
   ]
  }
 ],
 "metadata": {
  "kernelspec": {
   "display_name": "Python 3 (ipykernel)",
   "language": "python",
   "name": "python3"
  },
  "language_info": {
   "codemirror_mode": {
    "name": "ipython",
    "version": 3
   },
   "file_extension": ".py",
   "mimetype": "text/x-python",
   "name": "python",
   "nbconvert_exporter": "python",
   "pygments_lexer": "ipython3",
   "version": "3.7.10"
  }
 },
 "nbformat": 4,
 "nbformat_minor": 5
}
