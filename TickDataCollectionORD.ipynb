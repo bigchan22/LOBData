{
 "cells": [
  {
   "cell_type": "code",
   "execution_count": 1,
   "id": "2badfd68",
   "metadata": {},
   "outputs": [],
   "source": [
    "import pandas as pd\n",
    "from datetime import datetime\n",
    "from source.TrainDataGeneration import append_ORD_TM,append_ORD_VOL,append_TM_GP,GetGroupDataFrame,append_STEP5"
   ]
  },
  {
   "cell_type": "code",
   "execution_count": 2,
   "id": "249ac3eb",
   "metadata": {},
   "outputs": [],
   "source": [
    "groupcolumns=['ORD_DD','ISU_CD','MBR_NO', 'BRN_NO','TM_GP','ASKBID_TP_CD','MODCANCL_TP_CD']\n",
    "sumcolumns=['ORD_QTY']\n",
    "sumcolumns=['ORD_QTY','ORD_VOL']\n",
    "meancolumns=[]\n",
    "lastcolumns=[]\n",
    "#totcolumns=groupcolumns+meancolumns+lastcolumns+sumcolumns"
   ]
  },
  {
   "cell_type": "code",
   "execution_count": 3,
   "id": "0d6de9cd",
   "metadata": {},
   "outputs": [],
   "source": [
    "totcolumns=['ORD_DD', 'ISU_CD', 'MBR_NO', 'BRN_NO', 'ASKBID_TP_CD', 'MODCANCL_TP_CD', 'ORD_ACPT_TM', 'ORD_QTY','ORD_PRC']"
   ]
  },
  {
   "cell_type": "code",
   "execution_count": 4,
   "id": "2bac958a",
   "metadata": {},
   "outputs": [],
   "source": [
    "groupmin=10"
   ]
  },
  {
   "cell_type": "code",
   "execution_count": 5,
   "id": "5f5cf1de",
   "metadata": {},
   "outputs": [],
   "source": [
    "Datapathlist=['CollectedData/2022_3_20_22_18.csv','CollectedData/2022_3_20_22_25.csv','CollectedData/2022_3_20_22_33.csv']"
   ]
  },
  {
   "cell_type": "code",
   "execution_count": 6,
   "id": "4565566c",
   "metadata": {},
   "outputs": [],
   "source": [
    "GDF= pd.DataFrame( columns=['ORD_DD', 'ISU_CD', 'MBR_NO', 'BRN_NO', 'ASKBID_TP_CD',\n",
    "       'MODCANCL_TP_CD', 'ORD_QTY', 'ORD_VOL', 'ORD_ACPT_TM'])"
   ]
  },
  {
   "cell_type": "code",
   "execution_count": 7,
   "id": "de0e79c6",
   "metadata": {},
   "outputs": [
    {
     "name": "stdout",
     "output_type": "stream",
     "text": [
      "CollectedData/2022_3_20_22_18.csv\n"
     ]
    },
    {
     "name": "stderr",
     "output_type": "stream",
     "text": [
      "/root/anaconda3/lib/python3.7/site-packages/IPython/core/interactiveshell.py:3166: DtypeWarning: Columns (9) have mixed types.Specify dtype option on import or set low_memory=False.\n",
      "  interactivity=interactivity, compiler=compiler, result=result)\n"
     ]
    },
    {
     "name": "stdout",
     "output_type": "stream",
     "text": [
      "CollectedData/2022_3_20_22_18.csv loading complete\n",
      "CollectedData/2022_3_20_22_25.csv\n",
      "CollectedData/2022_3_20_22_25.csv loading complete\n",
      "CollectedData/2022_3_20_22_33.csv\n",
      "CollectedData/2022_3_20_22_33.csv loading complete\n"
     ]
    }
   ],
   "source": [
    "for datapath in Datapathlist:\n",
    "    print(datapath)\n",
    "    Data1=pd.read_csv(datapath)\n",
    "    print(datapath,\"loading complete\")\n",
    "    Data1=Data1[totcolumns]\n",
    "    Data=append_ORD_TM(Data1)\n",
    "    Data=append_ORD_VOL(Data)#새로 추가\n",
    "    Data=append_TM_GP(Data,groupmin=groupmin)\n",
    "    \n",
    "    GDF_temp=GetGroupDataFrame(Data,groupcolumns,sumcolumns,meancolumns,lastcolumns)\n",
    "    GDF=pd.concat([GDF,GDF_temp])"
   ]
  },
  {
   "cell_type": "code",
   "execution_count": 8,
   "id": "4517f5d6",
   "metadata": {},
   "outputs": [
    {
     "data": {
      "text/html": [
       "<div>\n",
       "<style scoped>\n",
       "    .dataframe tbody tr th:only-of-type {\n",
       "        vertical-align: middle;\n",
       "    }\n",
       "\n",
       "    .dataframe tbody tr th {\n",
       "        vertical-align: top;\n",
       "    }\n",
       "\n",
       "    .dataframe thead th {\n",
       "        text-align: right;\n",
       "    }\n",
       "</style>\n",
       "<table border=\"1\" class=\"dataframe\">\n",
       "  <thead>\n",
       "    <tr style=\"text-align: right;\">\n",
       "      <th></th>\n",
       "      <th>ORD_DD</th>\n",
       "      <th>ISU_CD</th>\n",
       "      <th>MBR_NO</th>\n",
       "      <th>BRN_NO</th>\n",
       "      <th>ASKBID_TP_CD</th>\n",
       "      <th>MODCANCL_TP_CD</th>\n",
       "      <th>ORD_QTY</th>\n",
       "      <th>ORD_VOL</th>\n",
       "      <th>ORD_ACPT_TM</th>\n",
       "      <th>TM_GP</th>\n",
       "    </tr>\n",
       "  </thead>\n",
       "  <tbody>\n",
       "    <tr>\n",
       "      <th>0</th>\n",
       "      <td>20170901</td>\n",
       "      <td>HK0000295359</td>\n",
       "      <td>1</td>\n",
       "      <td>1</td>\n",
       "      <td>1</td>\n",
       "      <td>1</td>\n",
       "      <td>16000</td>\n",
       "      <td>33060000</td>\n",
       "      <td>NaN</td>\n",
       "      <td>6.0</td>\n",
       "    </tr>\n",
       "    <tr>\n",
       "      <th>1</th>\n",
       "      <td>20170901</td>\n",
       "      <td>HK0000295359</td>\n",
       "      <td>1</td>\n",
       "      <td>1</td>\n",
       "      <td>1</td>\n",
       "      <td>1</td>\n",
       "      <td>14000</td>\n",
       "      <td>28920000</td>\n",
       "      <td>NaN</td>\n",
       "      <td>7.0</td>\n",
       "    </tr>\n",
       "    <tr>\n",
       "      <th>2</th>\n",
       "      <td>20170901</td>\n",
       "      <td>HK0000295359</td>\n",
       "      <td>1</td>\n",
       "      <td>7</td>\n",
       "      <td>2</td>\n",
       "      <td>1</td>\n",
       "      <td>50</td>\n",
       "      <td>101750</td>\n",
       "      <td>NaN</td>\n",
       "      <td>32.0</td>\n",
       "    </tr>\n",
       "    <tr>\n",
       "      <th>3</th>\n",
       "      <td>20170901</td>\n",
       "      <td>HK0000295359</td>\n",
       "      <td>1</td>\n",
       "      <td>7</td>\n",
       "      <td>2</td>\n",
       "      <td>1</td>\n",
       "      <td>100</td>\n",
       "      <td>203500</td>\n",
       "      <td>NaN</td>\n",
       "      <td>35.0</td>\n",
       "    </tr>\n",
       "    <tr>\n",
       "      <th>4</th>\n",
       "      <td>20170901</td>\n",
       "      <td>HK0000295359</td>\n",
       "      <td>1</td>\n",
       "      <td>7</td>\n",
       "      <td>2</td>\n",
       "      <td>1</td>\n",
       "      <td>50</td>\n",
       "      <td>102000</td>\n",
       "      <td>NaN</td>\n",
       "      <td>36.0</td>\n",
       "    </tr>\n",
       "    <tr>\n",
       "      <th>...</th>\n",
       "      <td>...</td>\n",
       "      <td>...</td>\n",
       "      <td>...</td>\n",
       "      <td>...</td>\n",
       "      <td>...</td>\n",
       "      <td>...</td>\n",
       "      <td>...</td>\n",
       "      <td>...</td>\n",
       "      <td>...</td>\n",
       "      <td>...</td>\n",
       "    </tr>\n",
       "    <tr>\n",
       "      <th>5849428</th>\n",
       "      <td>20170929</td>\n",
       "      <td>USU652221081</td>\n",
       "      <td>86</td>\n",
       "      <td>300</td>\n",
       "      <td>1</td>\n",
       "      <td>3</td>\n",
       "      <td>6819</td>\n",
       "      <td>9955740</td>\n",
       "      <td>NaN</td>\n",
       "      <td>17.0</td>\n",
       "    </tr>\n",
       "    <tr>\n",
       "      <th>5849429</th>\n",
       "      <td>20170929</td>\n",
       "      <td>USU652221081</td>\n",
       "      <td>86</td>\n",
       "      <td>300</td>\n",
       "      <td>2</td>\n",
       "      <td>1</td>\n",
       "      <td>7</td>\n",
       "      <td>10080</td>\n",
       "      <td>NaN</td>\n",
       "      <td>18.0</td>\n",
       "    </tr>\n",
       "    <tr>\n",
       "      <th>5849430</th>\n",
       "      <td>20170929</td>\n",
       "      <td>USU652221081</td>\n",
       "      <td>86</td>\n",
       "      <td>300</td>\n",
       "      <td>2</td>\n",
       "      <td>1</td>\n",
       "      <td>2000</td>\n",
       "      <td>2880000</td>\n",
       "      <td>NaN</td>\n",
       "      <td>23.0</td>\n",
       "    </tr>\n",
       "    <tr>\n",
       "      <th>5849431</th>\n",
       "      <td>20170929</td>\n",
       "      <td>USU652221081</td>\n",
       "      <td>86</td>\n",
       "      <td>300</td>\n",
       "      <td>2</td>\n",
       "      <td>2</td>\n",
       "      <td>2000</td>\n",
       "      <td>2900000</td>\n",
       "      <td>NaN</td>\n",
       "      <td>34.0</td>\n",
       "    </tr>\n",
       "    <tr>\n",
       "      <th>5849432</th>\n",
       "      <td>20170929</td>\n",
       "      <td>USU652221081</td>\n",
       "      <td>86</td>\n",
       "      <td>300</td>\n",
       "      <td>2</td>\n",
       "      <td>2</td>\n",
       "      <td>2000</td>\n",
       "      <td>2920000</td>\n",
       "      <td>NaN</td>\n",
       "      <td>36.0</td>\n",
       "    </tr>\n",
       "  </tbody>\n",
       "</table>\n",
       "<p>15415227 rows × 10 columns</p>\n",
       "</div>"
      ],
      "text/plain": [
       "           ORD_DD        ISU_CD MBR_NO BRN_NO ASKBID_TP_CD MODCANCL_TP_CD  \\\n",
       "0        20170901  HK0000295359      1      1            1              1   \n",
       "1        20170901  HK0000295359      1      1            1              1   \n",
       "2        20170901  HK0000295359      1      7            2              1   \n",
       "3        20170901  HK0000295359      1      7            2              1   \n",
       "4        20170901  HK0000295359      1      7            2              1   \n",
       "...           ...           ...    ...    ...          ...            ...   \n",
       "5849428  20170929  USU652221081     86    300            1              3   \n",
       "5849429  20170929  USU652221081     86    300            2              1   \n",
       "5849430  20170929  USU652221081     86    300            2              1   \n",
       "5849431  20170929  USU652221081     86    300            2              2   \n",
       "5849432  20170929  USU652221081     86    300            2              2   \n",
       "\n",
       "        ORD_QTY   ORD_VOL ORD_ACPT_TM  TM_GP  \n",
       "0         16000  33060000         NaN    6.0  \n",
       "1         14000  28920000         NaN    7.0  \n",
       "2            50    101750         NaN   32.0  \n",
       "3           100    203500         NaN   35.0  \n",
       "4            50    102000         NaN   36.0  \n",
       "...         ...       ...         ...    ...  \n",
       "5849428    6819   9955740         NaN   17.0  \n",
       "5849429       7     10080         NaN   18.0  \n",
       "5849430    2000   2880000         NaN   23.0  \n",
       "5849431    2000   2900000         NaN   34.0  \n",
       "5849432    2000   2920000         NaN   36.0  \n",
       "\n",
       "[15415227 rows x 10 columns]"
      ]
     },
     "execution_count": 8,
     "metadata": {},
     "output_type": "execute_result"
    }
   ],
   "source": [
    "GDF"
   ]
  },
  {
   "cell_type": "code",
   "execution_count": 9,
   "id": "45327e9f",
   "metadata": {},
   "outputs": [
    {
     "name": "stdout",
     "output_type": "stream",
     "text": [
      "/Data/Min/TransLOB/CollectedData/GDF2022_5_4_8_25.csv\n"
     ]
    }
   ],
   "source": [
    "SaveDirPath='/Data/Min/TransLOB/CollectedData/'\n",
    "now=datetime.now()\n",
    "filename=\"GDF\"+str(now.year)+'_'+str(now.month)+'_'+str(now.day)+'_'+str(now.hour)+'_'+str(now.minute)+'.csv'\n",
    "print(SaveDirPath+filename)\n",
    "GDF.to_csv(SaveDirPath+filename)\n"
   ]
  },
  {
   "cell_type": "code",
   "execution_count": 10,
   "id": "d709b444",
   "metadata": {},
   "outputs": [],
   "source": [
    "with open(SaveDirPath+'DataInformation.txt', \"a+\") as f:\n",
    "    f.write(\"filename:\"+filename+'\\n')\n",
    "    f.write(\"groupmin\"+str(groupmin)+'\\n')\n",
    "    f.write('group columns:')\n",
    "    for col in groupcolumns:\n",
    "        f.write(str(col)+'\\t')\n",
    "    f.write('\\n')\n",
    "    for datapath in Datapathlist:\n",
    "        f.write(str(datapath)+'\\t')\n",
    "    f.write('\\n')"
   ]
  }
 ],
 "metadata": {
  "kernelspec": {
   "display_name": "Python 3",
   "language": "python",
   "name": "python3"
  },
  "language_info": {
   "codemirror_mode": {
    "name": "ipython",
    "version": 3
   },
   "file_extension": ".py",
   "mimetype": "text/x-python",
   "name": "python",
   "nbconvert_exporter": "python",
   "pygments_lexer": "ipython3",
   "version": "3.7.10"
  }
 },
 "nbformat": 4,
 "nbformat_minor": 5
}
