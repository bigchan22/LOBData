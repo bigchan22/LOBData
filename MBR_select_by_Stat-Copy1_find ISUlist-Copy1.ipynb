{
 "cells": [
  {
   "cell_type": "code",
   "execution_count": 1,
   "id": "4f37f913",
   "metadata": {},
   "outputs": [],
   "source": [
    "### 필요 라이브러리\n",
    "import os\n",
    "import pandas as pd\n",
    "import numpy as np\n",
    "import datetime as dt\n",
    "import math\n",
    "import warnings\n",
    "warnings.filterwarnings(action='ignore')\n",
    "# save numpy array as npy file\n",
    "from numpy import asarray\n",
    "from numpy import save\n",
    "from DataInfo import *\n",
    "### 데이터 보여지는 개수 설정\n",
    "pd.set_option('display.max_columns', 40)\n",
    "pd.set_option('display.max_rows', 300)"
   ]
  },
  {
   "cell_type": "code",
   "execution_count": 2,
   "id": "ab0b0ac6",
   "metadata": {},
   "outputs": [],
   "source": [
    "path_dir = '/Data/ksqord1516/'"
   ]
  },
  {
   "cell_type": "code",
   "execution_count": 3,
   "id": "5f78f66c",
   "metadata": {},
   "outputs": [],
   "source": [
    "file_list=os.listdir(path_dir)\n",
    "file_list.sort()"
   ]
  },
  {
   "cell_type": "code",
   "execution_count": 10,
   "id": "291de9c9",
   "metadata": {},
   "outputs": [
    {
     "name": "stdout",
     "output_type": "stream",
     "text": [
      "extracting stats from ksqord_20150602.csv\n"
     ]
    }
   ],
   "source": [
    "columnlist=['ISU_CD']\n",
    "featlist=columnlist + ['ORD_QTY','ORD_PRC']\n",
    "filename = file_list[0]\n",
    "df = pd.read_csv(path_dir+'/'+filename, sep=',', names=header_df, encoding=\"cp949\")\n",
    "df = df[featlist]\n",
    "df['ORD_VOL'] = df['ORD_QTY'] * df['ORD_PRC']\n",
    "gdf = df.groupby(columnlist).sum()\n",
    "for filename in file_list[1:2]:\n",
    "    print(\"extracting stats from\", filename )\n",
    "    df = pd.read_csv(path_dir+'/'+filename, sep=',', names=header_df, encoding=\"cp949\")\n",
    "#     df = df[featlist]\n",
    "    df['ORD_VOL'] = df['ORD_QTY'] * df['ORD_PRC']\n",
    "    tgdf = df[featlist].groupby(columnlist).sum()\n",
    "    gdf = gdf.add(tgdf).fillna(gdf).fillna(tgdf)\n",
    "#     print(gdf)"
   ]
  },
  {
   "cell_type": "code",
   "execution_count": 12,
   "id": "5c88528f",
   "metadata": {},
   "outputs": [
    {
     "data": {
      "text/plain": [
       "Index(['ISU_CD', 'ORD_DD', 'ORD_ACPT_NO', 'REGUL_OFFHR_TP_CD', 'BLKTRD_TP_CD',\n",
       "       '호가장처리가격', 'ASKBID_TP_CD', 'MODCANCL_TP_CD', 'ORD_TP_CD', 'ORD_COND_CD',\n",
       "       'INVST_TP_CD', 'ASK_STEP1_BSTORD_PRC', 'ASK_STEP1_BSTORD_RQTY',\n",
       "       'ASK_STEP2_BSTORD_PRC', 'ASK_STEP2_BSTORD_RQTY', 'ASK_STEP3_BSTORD_PRC',\n",
       "       'ASK_STEP3_BSTORD_RQTY', 'ASK_STEP4_BSTORD_PRC',\n",
       "       'ASK_STEP4_BSTORD_RQTY', 'ASK_STEP5_BSTORD_PRC',\n",
       "       'ASK_STEP5_BSTORD_RQTY', 'BID_STEP1_BSTORD_PRC',\n",
       "       'BID_STEP1_BSTORD_RQTY', 'BID_STEP2_BSTORD_PRC',\n",
       "       'BID_STEP2_BSTORD_RQTY', 'BID_STEP3_BSTORD_PRC',\n",
       "       'BID_STEP3_BSTORD_RQTY', 'BID_STEP4_BSTORD_PRC',\n",
       "       'BID_STEP4_BSTORD_RQTY', 'BID_STEP5_BSTORD_PRC',\n",
       "       'BID_STEP5_BSTORD_RQTY', 'ORD_ACPT_TM', 'ORD_QTY', 'ORD_PRC',\n",
       "       '호가우선순위번호', 'MBR_NO', 'BRN_NO', 'CNTR_CD', 'TRST_PRINC_TP_CD',\n",
       "       'FORNINVST_TP_CD', 'ORD_MEDIA_TP_CD', '회원사주문시각', '예상체결가격', '예상체결수량',\n",
       "       '매도총호가잔량', '매수총호가잔량', '호가체결접수순서번호', '직전체결가격', '누적체결수량', '누적거래대금',\n",
       "       'AGG_TM', '시가', '고가', '저가', 'ORGN_ORD_ACPT_NO', '시장구분코드', '자동취소처리구분코드',\n",
       "       'MKTSTAT_TP_CD', '매도10단계호가합계잔량', '매수10단계호가합계잔량', 'PT_TP_CD', 'ORD_VOL'],\n",
       "      dtype='object')"
      ]
     },
     "execution_count": 12,
     "metadata": {},
     "output_type": "execute_result"
    }
   ],
   "source": [
    "df.columns"
   ]
  },
  {
   "cell_type": "code",
   "execution_count": 5,
   "id": "21dd21c8",
   "metadata": {},
   "outputs": [
    {
     "data": {
      "text/html": [
       "<div>\n",
       "<style scoped>\n",
       "    .dataframe tbody tr th:only-of-type {\n",
       "        vertical-align: middle;\n",
       "    }\n",
       "\n",
       "    .dataframe tbody tr th {\n",
       "        vertical-align: top;\n",
       "    }\n",
       "\n",
       "    .dataframe thead th {\n",
       "        text-align: right;\n",
       "    }\n",
       "</style>\n",
       "<table border=\"1\" class=\"dataframe\">\n",
       "  <thead>\n",
       "    <tr style=\"text-align: right;\">\n",
       "      <th></th>\n",
       "      <th>ORD_PRC</th>\n",
       "      <th>ORD_QTY</th>\n",
       "      <th>ORD_VOL</th>\n",
       "    </tr>\n",
       "    <tr>\n",
       "      <th>ISU_CD</th>\n",
       "      <th></th>\n",
       "      <th></th>\n",
       "      <th></th>\n",
       "    </tr>\n",
       "  </thead>\n",
       "  <tbody>\n",
       "    <tr>\n",
       "      <th>HK0000055043</th>\n",
       "      <td>16528850.0</td>\n",
       "      <td>9929727.0</td>\n",
       "      <td>6.642380e+09</td>\n",
       "    </tr>\n",
       "    <tr>\n",
       "      <th>HK0000057197</th>\n",
       "      <td>49284695.0</td>\n",
       "      <td>19600590.0</td>\n",
       "      <td>2.161366e+10</td>\n",
       "    </tr>\n",
       "    <tr>\n",
       "      <th>KR7000250001</th>\n",
       "      <td>237873800.0</td>\n",
       "      <td>4873174.0</td>\n",
       "      <td>1.914541e+10</td>\n",
       "    </tr>\n",
       "    <tr>\n",
       "      <th>KR7000440008</th>\n",
       "      <td>37071100.0</td>\n",
       "      <td>76386.0</td>\n",
       "      <td>1.624435e+09</td>\n",
       "    </tr>\n",
       "    <tr>\n",
       "      <th>KR7001000009</th>\n",
       "      <td>103675100.0</td>\n",
       "      <td>883809.0</td>\n",
       "      <td>4.481528e+09</td>\n",
       "    </tr>\n",
       "    <tr>\n",
       "      <th>...</th>\n",
       "      <td>...</td>\n",
       "      <td>...</td>\n",
       "      <td>...</td>\n",
       "    </tr>\n",
       "    <tr>\n",
       "      <th>KR8840090003</th>\n",
       "      <td>320223800.0</td>\n",
       "      <td>10370713.0</td>\n",
       "      <td>3.949037e+10</td>\n",
       "    </tr>\n",
       "    <tr>\n",
       "      <th>KYG210AT1036</th>\n",
       "      <td>38312285.0</td>\n",
       "      <td>11314674.0</td>\n",
       "      <td>1.357271e+10</td>\n",
       "    </tr>\n",
       "    <tr>\n",
       "      <th>KYG2114A1094</th>\n",
       "      <td>151256465.0</td>\n",
       "      <td>10865496.0</td>\n",
       "      <td>1.943260e+10</td>\n",
       "    </tr>\n",
       "    <tr>\n",
       "      <th>KYG3931T1076</th>\n",
       "      <td>5498700.0</td>\n",
       "      <td>3083014.0</td>\n",
       "      <td>3.217021e+09</td>\n",
       "    </tr>\n",
       "    <tr>\n",
       "      <th>USU652221081</th>\n",
       "      <td>102440005.0</td>\n",
       "      <td>87566353.0</td>\n",
       "      <td>8.239406e+10</td>\n",
       "    </tr>\n",
       "  </tbody>\n",
       "</table>\n",
       "<p>1048 rows × 3 columns</p>\n",
       "</div>"
      ],
      "text/plain": [
       "                  ORD_PRC     ORD_QTY       ORD_VOL\n",
       "ISU_CD                                             \n",
       "HK0000055043   16528850.0   9929727.0  6.642380e+09\n",
       "HK0000057197   49284695.0  19600590.0  2.161366e+10\n",
       "KR7000250001  237873800.0   4873174.0  1.914541e+10\n",
       "KR7000440008   37071100.0     76386.0  1.624435e+09\n",
       "KR7001000009  103675100.0    883809.0  4.481528e+09\n",
       "...                   ...         ...           ...\n",
       "KR8840090003  320223800.0  10370713.0  3.949037e+10\n",
       "KYG210AT1036   38312285.0  11314674.0  1.357271e+10\n",
       "KYG2114A1094  151256465.0  10865496.0  1.943260e+10\n",
       "KYG3931T1076    5498700.0   3083014.0  3.217021e+09\n",
       "USU652221081  102440005.0  87566353.0  8.239406e+10\n",
       "\n",
       "[1048 rows x 3 columns]"
      ]
     },
     "execution_count": 5,
     "metadata": {},
     "output_type": "execute_result"
    }
   ],
   "source": [
    "gdf"
   ]
  },
  {
   "cell_type": "code",
   "execution_count": 6,
   "id": "085d6e70",
   "metadata": {},
   "outputs": [],
   "source": [
    "gdf.to_csv('./StatsForDataSelection/AlmostFullColumn_sum1516_ISU')"
   ]
  },
  {
   "cell_type": "code",
   "execution_count": 7,
   "id": "f6895171",
   "metadata": {},
   "outputs": [],
   "source": [
    "A=gdf.sort_values(\"ORD_QTY\",ascending=False)"
   ]
  },
  {
   "cell_type": "code",
   "execution_count": 8,
   "id": "297e4c51",
   "metadata": {},
   "outputs": [],
   "source": [
    "A=A.reset_index()"
   ]
  },
  {
   "cell_type": "code",
   "execution_count": 9,
   "id": "ca6db744",
   "metadata": {},
   "outputs": [
    {
     "data": {
      "text/plain": [
       "['KR7033630005',\n",
       " 'KR7168330009',\n",
       " 'KR7065950008',\n",
       " 'KR7038340006',\n",
       " 'KR7044180008',\n",
       " 'USU652221081',\n",
       " 'KR7083550004',\n",
       " 'KR7018700005',\n",
       " 'KR7043100007',\n",
       " 'KR7057540007']"
      ]
     },
     "execution_count": 9,
     "metadata": {},
     "output_type": "execute_result"
    }
   ],
   "source": [
    "list(A['ISU_CD'][:10])"
   ]
  },
  {
   "cell_type": "markdown",
   "id": "fc027130",
   "metadata": {},
   "source": [
    "gdf=pd.read_csv('./StatsForDataSelection/columnlistcount')"
   ]
  },
  {
   "cell_type": "markdown",
   "id": "dcc1314b",
   "metadata": {},
   "source": [
    "gdf"
   ]
  }
 ],
 "metadata": {
  "kernelspec": {
   "display_name": "Python 3 (ipykernel)",
   "language": "python",
   "name": "python3"
  },
  "language_info": {
   "codemirror_mode": {
    "name": "ipython",
    "version": 3
   },
   "file_extension": ".py",
   "mimetype": "text/x-python",
   "name": "python",
   "nbconvert_exporter": "python",
   "pygments_lexer": "ipython3",
   "version": "3.7.10"
  }
 },
 "nbformat": 4,
 "nbformat_minor": 5
}
