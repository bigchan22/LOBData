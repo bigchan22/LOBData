{
 "cells": [
  {
   "cell_type": "code",
   "execution_count": 1,
   "id": "6c5b03f7",
   "metadata": {},
   "outputs": [],
   "source": [
    "### 필요 라이브러리\n",
    "import os\n",
    "import pandas as pd\n",
    "import numpy as np\n",
    "import datetime as dt\n",
    "import math\n",
    "import warnings\n",
    "warnings.filterwarnings(action='ignore')\n",
    "# save numpy array as npy file\n",
    "from numpy import asarray\n",
    "from numpy import save\n",
    "### 데이터 보여지는 개수 설정\n",
    "pd.set_option('display.max_columns', 40)\n",
    "pd.set_option('display.max_rows', 300)"
   ]
  },
  {
   "cell_type": "code",
   "execution_count": 2,
   "id": "37b30044",
   "metadata": {},
   "outputs": [
    {
     "name": "stdout",
     "output_type": "stream",
     "text": [
      "['PT구분코드(전체조회기간).xlsx', 'SPOT_ORD_20130103.csv', 'stktrd_20150102.csv', 'stkord_20150102.csv.gz', 'ORD_19990104.csv', 'layout_3.csv', '시장정보 데이터 확인 및 요청_레이아웃.xlsx', 'layout_2.csv', '유가 체결장 2단계 샘플.csv', 'ksqtrd_20171031.csv', 'layout_1.csv', 'ord', '유가 호가장 2단계 샘플.csv', '코스닥 체결장 2단계 샘플.csv', '코스닥 호가장 2단계 샘플.csv']\n"
     ]
    }
   ],
   "source": [
    "### 폴더에 존재하는 파일 리스트, 굳이 실행하지 않아도 됨\n",
    "# path_dir = 'C:/Users/HONGJEONGUI/Desktop/RA/Data/DataOR'\n",
    "path_dir = '/Data/SampleKsqord'\n",
    " \n",
    "file_list = os.listdir(path_dir)\n",
    "print(file_list)"
   ]
  },
  {
   "cell_type": "code",
   "execution_count": 3,
   "id": "afb3074f",
   "metadata": {},
   "outputs": [],
   "source": [
    "### 유재인 교수님께서 공유해주신 레이블, 코드 설명 엑셀파일(xlsx)을 (시트가 3개) 각 시트별로 csv로 저장.\n",
    "### 1번째 위치는 엑셀파일위치, 2,3번째는 코드 저장 위치\n",
    "\n",
    "\n",
    "sheets = 3\n",
    "for i in range(1,sheets+1):\n",
    "    df = pd.read_excel(path_dir+\"/시장정보 데이터 확인 및 요청_레이아웃.xlsx\", sheet_name=(i-1))\n",
    "    df.to_csv((path_dir+\"/layout_{}.csv\").format(i), encoding = \"cp949\", sep=',', header = False, index = False)\n",
    "    globals()['layout_{}'.format(i)] = pd.read_csv((path_dir+\"/layout_{}.csv\").format(i), header = None, encoding=\"cp949\")\n",
    "    "
   ]
  },
  {
   "cell_type": "code",
   "execution_count": 4,
   "id": "2d210330",
   "metadata": {},
   "outputs": [],
   "source": [
    "df = pd.read_csv(path_dir+\"/코스닥 호가장 2단계 샘플.csv\",encoding='cp949')"
   ]
  },
  {
   "cell_type": "code",
   "execution_count": 5,
   "id": "a561682e",
   "metadata": {},
   "outputs": [
    {
     "data": {
      "text/html": [
       "<div>\n",
       "<style scoped>\n",
       "    .dataframe tbody tr th:only-of-type {\n",
       "        vertical-align: middle;\n",
       "    }\n",
       "\n",
       "    .dataframe tbody tr th {\n",
       "        vertical-align: top;\n",
       "    }\n",
       "\n",
       "    .dataframe thead th {\n",
       "        text-align: right;\n",
       "    }\n",
       "</style>\n",
       "<table border=\"1\" class=\"dataframe\">\n",
       "  <thead>\n",
       "    <tr style=\"text-align: right;\">\n",
       "      <th></th>\n",
       "      <th>ISU_CD</th>\n",
       "      <th>ORD_DD</th>\n",
       "      <th>ORD_ACPT_NO</th>\n",
       "      <th>REGUL_OFFHR_TP_CD</th>\n",
       "      <th>BLKTRD_TP_CD</th>\n",
       "      <th>호가장처리가격</th>\n",
       "      <th>ASKBID_TP_CD</th>\n",
       "      <th>MODCANCL_TP_CD</th>\n",
       "      <th>ORD_TP_CD</th>\n",
       "      <th>ORD_COND_CD</th>\n",
       "      <th>INVST_TP_CD</th>\n",
       "      <th>ASK_STEP1_BSTORD_PRC</th>\n",
       "      <th>ASK_STEP1_BSTORD_RQTY</th>\n",
       "      <th>ASK_STEP2_BSTORD_PRC</th>\n",
       "      <th>ASK_STEP2_BSTORD_RQTY</th>\n",
       "      <th>ASK_STEP3_BSTORD_PRC</th>\n",
       "      <th>ASK_STEP3_BSTORD_RQTY</th>\n",
       "      <th>ASK_STEP4_BSTORD_PRC</th>\n",
       "      <th>ASK_STEP4_BSTORD_RQTY</th>\n",
       "      <th>ASK_STEP5_BSTORD_PRC</th>\n",
       "      <th>...</th>\n",
       "      <th>회원사주문시각</th>\n",
       "      <th>예상체결가격</th>\n",
       "      <th>예상체결수량</th>\n",
       "      <th>매도총호가잔량</th>\n",
       "      <th>매수총호가잔량</th>\n",
       "      <th>호가체결접수순서번호</th>\n",
       "      <th>직전체결가격</th>\n",
       "      <th>누적체결수량</th>\n",
       "      <th>누적거래대금</th>\n",
       "      <th>AGG_TM</th>\n",
       "      <th>시가</th>\n",
       "      <th>고가</th>\n",
       "      <th>저가</th>\n",
       "      <th>ORGN_ORD_ACPT_NO</th>\n",
       "      <th>시장구분코드</th>\n",
       "      <th>자동취소처리구분코드</th>\n",
       "      <th>MKTSTAT_TP_CD</th>\n",
       "      <th>매도10단계호가합계잔량</th>\n",
       "      <th>매수10단계호가합계잔량</th>\n",
       "      <th>PT_TP_CD</th>\n",
       "    </tr>\n",
       "  </thead>\n",
       "  <tbody>\n",
       "    <tr>\n",
       "      <th>1</th>\n",
       "      <td>KR7009620006</td>\n",
       "      <td>20171030</td>\n",
       "      <td>23650</td>\n",
       "      <td>1</td>\n",
       "      <td>0</td>\n",
       "      <td>19550</td>\n",
       "      <td>2</td>\n",
       "      <td>1</td>\n",
       "      <td>2</td>\n",
       "      <td>0</td>\n",
       "      <td>8000</td>\n",
       "      <td>19650</td>\n",
       "      <td>5</td>\n",
       "      <td>19700</td>\n",
       "      <td>582</td>\n",
       "      <td>19750</td>\n",
       "      <td>385</td>\n",
       "      <td>19800</td>\n",
       "      <td>609</td>\n",
       "      <td>19850</td>\n",
       "      <td>...</td>\n",
       "      <td>125949640</td>\n",
       "      <td>0</td>\n",
       "      <td>0</td>\n",
       "      <td>21901</td>\n",
       "      <td>29871</td>\n",
       "      <td>34709</td>\n",
       "      <td>19550</td>\n",
       "      <td>0</td>\n",
       "      <td>0</td>\n",
       "      <td>0</td>\n",
       "      <td>15350</td>\n",
       "      <td>19850</td>\n",
       "      <td>14400</td>\n",
       "      <td>0</td>\n",
       "      <td>2</td>\n",
       "      <td>0</td>\n",
       "      <td>40</td>\n",
       "      <td>4465</td>\n",
       "      <td>4210</td>\n",
       "      <td>0</td>\n",
       "    </tr>\n",
       "    <tr>\n",
       "      <th>2</th>\n",
       "      <td>KR7009620006</td>\n",
       "      <td>20171030</td>\n",
       "      <td>23651</td>\n",
       "      <td>1</td>\n",
       "      <td>0</td>\n",
       "      <td>19500</td>\n",
       "      <td>1</td>\n",
       "      <td>1</td>\n",
       "      <td>2</td>\n",
       "      <td>0</td>\n",
       "      <td>8000</td>\n",
       "      <td>19650</td>\n",
       "      <td>5</td>\n",
       "      <td>19700</td>\n",
       "      <td>582</td>\n",
       "      <td>19750</td>\n",
       "      <td>385</td>\n",
       "      <td>19800</td>\n",
       "      <td>609</td>\n",
       "      <td>19850</td>\n",
       "      <td>...</td>\n",
       "      <td>125949734</td>\n",
       "      <td>0</td>\n",
       "      <td>0</td>\n",
       "      <td>21901</td>\n",
       "      <td>29871</td>\n",
       "      <td>34710</td>\n",
       "      <td>19550</td>\n",
       "      <td>77</td>\n",
       "      <td>1505350</td>\n",
       "      <td>125949735</td>\n",
       "      <td>15350</td>\n",
       "      <td>19850</td>\n",
       "      <td>14400</td>\n",
       "      <td>0</td>\n",
       "      <td>2</td>\n",
       "      <td>0</td>\n",
       "      <td>40</td>\n",
       "      <td>4465</td>\n",
       "      <td>4210</td>\n",
       "      <td>0</td>\n",
       "    </tr>\n",
       "    <tr>\n",
       "      <th>3</th>\n",
       "      <td>KR7009620006</td>\n",
       "      <td>20171030</td>\n",
       "      <td>23652</td>\n",
       "      <td>1</td>\n",
       "      <td>0</td>\n",
       "      <td>19550</td>\n",
       "      <td>1</td>\n",
       "      <td>1</td>\n",
       "      <td>2</td>\n",
       "      <td>0</td>\n",
       "      <td>8000</td>\n",
       "      <td>19650</td>\n",
       "      <td>5</td>\n",
       "      <td>19700</td>\n",
       "      <td>582</td>\n",
       "      <td>19750</td>\n",
       "      <td>385</td>\n",
       "      <td>19800</td>\n",
       "      <td>609</td>\n",
       "      <td>19850</td>\n",
       "      <td>...</td>\n",
       "      <td>125950114</td>\n",
       "      <td>0</td>\n",
       "      <td>0</td>\n",
       "      <td>21901</td>\n",
       "      <td>29794</td>\n",
       "      <td>34712</td>\n",
       "      <td>19550</td>\n",
       "      <td>5</td>\n",
       "      <td>97750</td>\n",
       "      <td>125950115</td>\n",
       "      <td>15350</td>\n",
       "      <td>19850</td>\n",
       "      <td>14400</td>\n",
       "      <td>0</td>\n",
       "      <td>2</td>\n",
       "      <td>0</td>\n",
       "      <td>40</td>\n",
       "      <td>4465</td>\n",
       "      <td>4133</td>\n",
       "      <td>0</td>\n",
       "    </tr>\n",
       "    <tr>\n",
       "      <th>4</th>\n",
       "      <td>KR7009620006</td>\n",
       "      <td>20171030</td>\n",
       "      <td>23653</td>\n",
       "      <td>1</td>\n",
       "      <td>0</td>\n",
       "      <td>19250</td>\n",
       "      <td>2</td>\n",
       "      <td>1</td>\n",
       "      <td>2</td>\n",
       "      <td>0</td>\n",
       "      <td>8000</td>\n",
       "      <td>19650</td>\n",
       "      <td>5</td>\n",
       "      <td>19700</td>\n",
       "      <td>582</td>\n",
       "      <td>19750</td>\n",
       "      <td>385</td>\n",
       "      <td>19800</td>\n",
       "      <td>609</td>\n",
       "      <td>19850</td>\n",
       "      <td>...</td>\n",
       "      <td>125950375</td>\n",
       "      <td>0</td>\n",
       "      <td>0</td>\n",
       "      <td>21901</td>\n",
       "      <td>29919</td>\n",
       "      <td>34714</td>\n",
       "      <td>19550</td>\n",
       "      <td>130</td>\n",
       "      <td>2502500</td>\n",
       "      <td>130058726</td>\n",
       "      <td>15350</td>\n",
       "      <td>19850</td>\n",
       "      <td>14400</td>\n",
       "      <td>0</td>\n",
       "      <td>2</td>\n",
       "      <td>0</td>\n",
       "      <td>40</td>\n",
       "      <td>4465</td>\n",
       "      <td>4258</td>\n",
       "      <td>0</td>\n",
       "    </tr>\n",
       "    <tr>\n",
       "      <th>5</th>\n",
       "      <td>KR7009620006</td>\n",
       "      <td>20171030</td>\n",
       "      <td>23654</td>\n",
       "      <td>1</td>\n",
       "      <td>0</td>\n",
       "      <td>19600</td>\n",
       "      <td>2</td>\n",
       "      <td>2</td>\n",
       "      <td>2</td>\n",
       "      <td>0</td>\n",
       "      <td>8000</td>\n",
       "      <td>19650</td>\n",
       "      <td>5</td>\n",
       "      <td>19700</td>\n",
       "      <td>582</td>\n",
       "      <td>19750</td>\n",
       "      <td>385</td>\n",
       "      <td>19800</td>\n",
       "      <td>609</td>\n",
       "      <td>19850</td>\n",
       "      <td>...</td>\n",
       "      <td>125950687</td>\n",
       "      <td>0</td>\n",
       "      <td>0</td>\n",
       "      <td>21901</td>\n",
       "      <td>29919</td>\n",
       "      <td>34715</td>\n",
       "      <td>19550</td>\n",
       "      <td>0</td>\n",
       "      <td>0</td>\n",
       "      <td>0</td>\n",
       "      <td>15350</td>\n",
       "      <td>19850</td>\n",
       "      <td>14400</td>\n",
       "      <td>23599</td>\n",
       "      <td>2</td>\n",
       "      <td>0</td>\n",
       "      <td>40</td>\n",
       "      <td>4465</td>\n",
       "      <td>3432</td>\n",
       "      <td>0</td>\n",
       "    </tr>\n",
       "  </tbody>\n",
       "</table>\n",
       "<p>5 rows × 61 columns</p>\n",
       "</div>"
      ],
      "text/plain": [
       "         ISU_CD    ORD_DD ORD_ACPT_NO REGUL_OFFHR_TP_CD BLKTRD_TP_CD 호가장처리가격  \\\n",
       "1  KR7009620006  20171030       23650                 1            0   19550   \n",
       "2  KR7009620006  20171030       23651                 1            0   19500   \n",
       "3  KR7009620006  20171030       23652                 1            0   19550   \n",
       "4  KR7009620006  20171030       23653                 1            0   19250   \n",
       "5  KR7009620006  20171030       23654                 1            0   19600   \n",
       "\n",
       "  ASKBID_TP_CD MODCANCL_TP_CD ORD_TP_CD ORD_COND_CD INVST_TP_CD  \\\n",
       "1            2              1         2           0        8000   \n",
       "2            1              1         2           0        8000   \n",
       "3            1              1         2           0        8000   \n",
       "4            2              1         2           0        8000   \n",
       "5            2              2         2           0        8000   \n",
       "\n",
       "  ASK_STEP1_BSTORD_PRC ASK_STEP1_BSTORD_RQTY ASK_STEP2_BSTORD_PRC  \\\n",
       "1                19650                     5                19700   \n",
       "2                19650                     5                19700   \n",
       "3                19650                     5                19700   \n",
       "4                19650                     5                19700   \n",
       "5                19650                     5                19700   \n",
       "\n",
       "  ASK_STEP2_BSTORD_RQTY ASK_STEP3_BSTORD_PRC ASK_STEP3_BSTORD_RQTY  \\\n",
       "1                   582                19750                   385   \n",
       "2                   582                19750                   385   \n",
       "3                   582                19750                   385   \n",
       "4                   582                19750                   385   \n",
       "5                   582                19750                   385   \n",
       "\n",
       "  ASK_STEP4_BSTORD_PRC ASK_STEP4_BSTORD_RQTY ASK_STEP5_BSTORD_PRC  ...  \\\n",
       "1                19800                   609                19850  ...   \n",
       "2                19800                   609                19850  ...   \n",
       "3                19800                   609                19850  ...   \n",
       "4                19800                   609                19850  ...   \n",
       "5                19800                   609                19850  ...   \n",
       "\n",
       "     회원사주문시각 예상체결가격 예상체결수량 매도총호가잔량 매수총호가잔량 호가체결접수순서번호 직전체결가격 누적체결수량   누적거래대금  \\\n",
       "1  125949640      0      0   21901   29871      34709  19550      0        0   \n",
       "2  125949734      0      0   21901   29871      34710  19550     77  1505350   \n",
       "3  125950114      0      0   21901   29794      34712  19550      5    97750   \n",
       "4  125950375      0      0   21901   29919      34714  19550    130  2502500   \n",
       "5  125950687      0      0   21901   29919      34715  19550      0        0   \n",
       "\n",
       "      AGG_TM     시가     고가     저가 ORGN_ORD_ACPT_NO 시장구분코드 자동취소처리구분코드  \\\n",
       "1          0  15350  19850  14400                0      2          0   \n",
       "2  125949735  15350  19850  14400                0      2          0   \n",
       "3  125950115  15350  19850  14400                0      2          0   \n",
       "4  130058726  15350  19850  14400                0      2          0   \n",
       "5          0  15350  19850  14400            23599      2          0   \n",
       "\n",
       "  MKTSTAT_TP_CD 매도10단계호가합계잔량 매수10단계호가합계잔량 PT_TP_CD  \n",
       "1            40         4465         4210        0  \n",
       "2            40         4465         4210        0  \n",
       "3            40         4465         4133        0  \n",
       "4            40         4465         4258        0  \n",
       "5            40         4465         3432        0  \n",
       "\n",
       "[5 rows x 61 columns]"
      ]
     },
     "execution_count": 5,
     "metadata": {},
     "output_type": "execute_result"
    }
   ],
   "source": [
    "header_df=['ISU_CD', 'ORD_DD', 'ORD_ACPT_NO', 'REGUL_OFFHR_TP_CD', 'BLKTRD_TP_CD', '호가장처리가격',\n",
    "       'ASKBID_TP_CD', 'MODCANCL_TP_CD', 'ORD_TP_CD', 'ORD_COND_CD', 'INVST_TP_CD', 'ASK_STEP1_BSTORD_PRC',\n",
    "       'ASK_STEP1_BSTORD_RQTY', 'ASK_STEP2_BSTORD_PRC','ASK_STEP2_BSTORD_RQTY','ASK_STEP3_BSTORD_PRC',\n",
    "       'ASK_STEP3_BSTORD_RQTY','ASK_STEP4_BSTORD_PRC', 'ASK_STEP4_BSTORD_RQTY','ASK_STEP5_BSTORD_PRC',\n",
    "       'ASK_STEP5_BSTORD_RQTY',\n",
    "       'BID_STEP1_BSTORD_PRC', 'BID_STEP1_BSTORD_RQTY', 'BID_STEP2_BSTORD_PRC', 'BID_STEP2_BSTORD_RQTY',\n",
    "       'BID_STEP3_BSTORD_PRC', 'BID_STEP3_BSTORD_RQTY','BID_STEP4_BSTORD_PRC', 'BID_STEP4_BSTORD_RQTY',\n",
    "       'BID_STEP5_BSTORD_PRC', 'BID_STEP5_BSTORD_RQTY', 'ORD_ACPT_TM', 'ORD_QTY', 'ORD_PRC',\n",
    "       '호가우선순위번호', 'MBR_NO', 'BRN_NO', 'CNTR_CD', 'TRST_PRINC_TP_CD', 'FORNINVST_TP_CD',\n",
    "       'ORD_MEDIA_TP_CD', '회원사주문시각', '예상체결가격', '예상체결수량', '매도총호가잔량', '매수총호가잔량',\n",
    "       '호가체결접수순서번호', '직전체결가격', '누적체결수량', '누적거래대금', 'AGG_TM', '시가', '고가', '저가',\n",
    "       'ORGN_ORD_ACPT_NO', '시장구분코드', '자동취소처리구분코드', 'MKTSTAT_TP_CD', '매도10단계호가합계잔량',\n",
    "       '매수10단계호가합계잔량', 'PT_TP_CD']\n",
    "header = header_df\n",
    "\n",
    " \n",
    "df.columns=header_df\n",
    "df=df[1:]\n",
    "df.head()"
   ]
  },
  {
   "cell_type": "code",
   "execution_count": 19,
   "id": "34396877",
   "metadata": {},
   "outputs": [
    {
     "name": "stdout",
     "output_type": "stream",
     "text": [
      "['SPOT_ORD_20130103.csv', 'ORD_19990104.csv']\n",
      "SPOT_ORD_20130103.csv\n"
     ]
    }
   ],
   "source": [
    "data_dir=path_dir+'/'+'ord'\n",
    "\n",
    "UUID_count={}\n",
    "file_list = os.listdir(data_dir)\n",
    "print(file_list)\n",
    "columnlist=['MBR_NO','BRN_NO']\n",
    "filecount=0\n",
    "for filename in file_list:\n",
    "    print(filename)\n",
    "#     df1 = pd.read_csv(data_dir+'/'+filename, sep=',', header=Non, encoding=\"cp949\")\n",
    "    df1 = pd.read_csv(data_dir+'/'+filename, sep=',', encoding=\"cp949\")\n",
    "    break\n",
    "    if 'SPOT' in filename:\n",
    "        df1.columns = list(layout_1.iloc[0:len(df1.iloc[0])][0])\n",
    "        print(\"Using 2013 data\")\n",
    "    else:\n",
    "        continue\n",
    "    if(filecount==0):\n",
    "        countdf=df1.groupby(columnlist).size()\n",
    "    else:\n",
    "        countdf=countdf.add(df1.groupby(columnlist).size())\n",
    "    filecount+=1\n",
    "    break"
   ]
  },
  {
   "cell_type": "code",
   "execution_count": 20,
   "id": "5007fe2e",
   "metadata": {},
   "outputs": [],
   "source": [
    "df1.columns = list(layout_1.iloc[0:len(df1.iloc[0])][0])"
   ]
  },
  {
   "cell_type": "code",
   "execution_count": 21,
   "id": "ce02b120",
   "metadata": {},
   "outputs": [],
   "source": [
    "df2013=df1"
   ]
  },
  {
   "cell_type": "code",
   "execution_count": 22,
   "id": "51df39da",
   "metadata": {},
   "outputs": [],
   "source": [
    "mbrnlist1=[(5,194),(2,155),(12,100),(17,29),(42,1),(44,1),(50,92),(2,83),(4,10118),(8,298),(56,17990)]\n",
    "mbrnlist2=[(5,194),(12,100),(2,155),(17,29),(42,1),(44,1),(2,83),(4,10118),(4,9997),(50,91)]"
   ]
  },
  {
   "cell_type": "code",
   "execution_count": 23,
   "id": "43d17255",
   "metadata": {},
   "outputs": [
    {
     "name": "stdout",
     "output_type": "stream",
     "text": [
      "5 194 122    대우증권\n",
      "Name: MKTPARTC_KOR_ABBRV, dtype: object\n",
      "2 155 15    신한투자\n",
      "Name: MKTPARTC_KOR_ABBRV, dtype: object\n",
      "12 100 209    NH투자증권(우리)\n",
      "Name: MKTPARTC_KOR_ABBRV, dtype: object\n",
      "17 29 32    현대증권\n",
      "Name: MKTPARTC_KOR_ABBRV, dtype: object\n",
      "42 1 609    CS증권\n",
      "Name: MKTPARTC_KOR_ABBRV, dtype: object\n",
      "44 1 489    메릴린치\n",
      "Name: MKTPARTC_KOR_ABBRV, dtype: object\n",
      "50 92 1    키움증권\n",
      "Name: MKTPARTC_KOR_ABBRV, dtype: object\n",
      "2 83 15    신한투자\n",
      "Name: MKTPARTC_KOR_ABBRV, dtype: object\n",
      "4 10118 18    대신증권\n",
      "Name: MKTPARTC_KOR_ABBRV, dtype: object\n",
      "8 298 37    유진증권\n",
      "Name: MKTPARTC_KOR_ABBRV, dtype: object\n",
      "56 17990 23    하나대투\n",
      "Name: MKTPARTC_KOR_ABBRV, dtype: object\n"
     ]
    }
   ],
   "source": [
    "MBR_NO,BRN_NO=12,100\n",
    "for MBR_NO,BRN_NO in mbrnlist1:\n",
    "    print(MBR_NO,BRN_NO,df2013[(df2013['MBR_NO']==MBR_NO)]['MKTPARTC_KOR_ABBRV'].head(1))"
   ]
  },
  {
   "cell_type": "code",
   "execution_count": 24,
   "id": "c4cda42b",
   "metadata": {},
   "outputs": [
    {
     "name": "stdout",
     "output_type": "stream",
     "text": [
      "5 194 Series([], Name: MKTPARTC_KOR_ABBRV, dtype: object) Series([], Name: BRN_NM, dtype: object)\n",
      "2 155 15    신한투자\n",
      "Name: MKTPARTC_KOR_ABBRV, dtype: object 15    영업10부\n",
      "Name: BRN_NM, dtype: object\n",
      "12 100 217    NH투자증권(우리)\n",
      "Name: MKTPARTC_KOR_ABBRV, dtype: object 217    스마트\n",
      "Name: BRN_NM, dtype: object\n",
      "17 29 6917    현대증권\n",
      "Name: MKTPARTC_KOR_ABBRV, dtype: object 6917    YF사이버\n",
      "Name: BRN_NM, dtype: object\n",
      "42 1 609    CS증권\n",
      "Name: MKTPARTC_KOR_ABBRV, dtype: object 609    고객\n",
      "Name: BRN_NM, dtype: object\n",
      "44 1 489    메릴린치\n",
      "Name: MKTPARTC_KOR_ABBRV, dtype: object 489    서울\n",
      "Name: BRN_NM, dtype: object\n",
      "50 92 Series([], Name: MKTPARTC_KOR_ABBRV, dtype: object) Series([], Name: BRN_NM, dtype: object)\n",
      "2 83 438    신한투자\n",
      "Name: MKTPARTC_KOR_ABBRV, dtype: object 438    신한은행\n",
      "Name: BRN_NM, dtype: object\n",
      "4 10118 263496    대신증권\n",
      "Name: MKTPARTC_KOR_ABBRV, dtype: object 263496    다이렉트지점\n",
      "Name: BRN_NM, dtype: object\n",
      "8 298 Series([], Name: MKTPARTC_KOR_ABBRV, dtype: object) Series([], Name: BRN_NM, dtype: object)\n",
      "56 17990 Series([], Name: MKTPARTC_KOR_ABBRV, dtype: object) Series([], Name: BRN_NM, dtype: object)\n"
     ]
    }
   ],
   "source": [
    "MBR_NO,BRN_NO=12,100\n",
    "for MBR_NO,BRN_NO in mbrnlist1:\n",
    "    print(MBR_NO,BRN_NO,df2013[(df2013['MBR_NO']==MBR_NO)&(df2013['BRN_NO']==BRN_NO)]['MKTPARTC_KOR_ABBRV'].head(1),\n",
    "         df2013[(df2013['MBR_NO']==MBR_NO)&(df2013['BRN_NO']==BRN_NO)]['BRN_NM'].head(1))"
   ]
  },
  {
   "cell_type": "code",
   "execution_count": null,
   "id": "41001919",
   "metadata": {
    "scrolled": true
   },
   "outputs": [],
   "source": [
    "\n",
    "for MBR_NO,BRN_NO in mbrnlist2:\n",
    "    print(MBR_NO,BRN_NO,df2013[(df2013['MBR_NO']==MBR_NO)&(df2013['BRN_NO']==BRN_NO)]['MKTPARTC_KOR_ABBRV'].head(1),\n",
    "         df2013[(df2013['MBR_NO']==MBR_NO)&(df2013['BRN_NO']==BRN_NO)]['BRN_NM'].head(1))"
   ]
  },
  {
   "cell_type": "code",
   "execution_count": null,
   "id": "719b3045",
   "metadata": {},
   "outputs": [],
   "source": [
    "data_dir=path_dir+'/'+'ord201709'\n",
    "\n",
    "UUID_count={}\n",
    "file_list = os.listdir(data_dir)\n",
    "print(file_list)\n",
    "columnlist=['MBR_NO','BRN_NO']\n",
    "columnISU=['ISU_CD']\n",
    "filecount=0\n",
    "for filename in file_list:\n",
    "    print(filename)\n",
    "    df1 = pd.read_csv(data_dir+'/'+filename, sep=',', header=None, encoding=\"cp949\")\n",
    "    if 'SPOT' in filename:\n",
    "        df1.columns = list(layout_1.iloc[0:len(df1.iloc[0])][0])\n",
    "        print(\"Using 2013 data\")\n",
    "    elif 'ksqord' in filename:\n",
    "\n",
    "        df1.columns= header_df\n",
    "        print(\"Using 2017 data\")\n",
    "    df2=df1[df1['ISU_CD'].str.contains(\"KR\")]\n",
    "    df2['aqty']=(df2[(df2['ASKBID_TP_CD']==1) ])['ORD_QTY']\n",
    "    df2['bqty']=(df2[df2['ASKBID_TP_CD']==2 ])['ORD_QTY']\n",
    "    if(filecount==0):\n",
    "        countdf=df1.groupby(columnISU).size()\n",
    "        countdf2=df1.groupby(columnISU).sum()\n",
    "        countdf3=df1.groupby(columnlist).sum()\n",
    "        countdf4=df2.groupby(columnlist).sum()\n",
    "    else:\n",
    "        countdf=countdf.add(df1.groupby(columnISU).size())\n",
    "        countdf2=countdf2.add(df1.groupby(columnISU).sum())\n",
    "        countdf3=countdf3.add(df1.groupby(columnlist).sum())\n",
    "        countdf4=countdf4.add(df2.groupby(columnlist).sum())\n",
    "    filecount+=1"
   ]
  },
  {
   "cell_type": "code",
   "execution_count": null,
   "id": "3a51b194",
   "metadata": {},
   "outputs": [],
   "source": [
    "countdf.sort_values(ascending=False).head(100).index"
   ]
  },
  {
   "cell_type": "code",
   "execution_count": null,
   "id": "8cd9487f",
   "metadata": {},
   "outputs": [],
   "source": [
    "'KR' in df1['ISU_CD']"
   ]
  },
  {
   "cell_type": "code",
   "execution_count": null,
   "id": "38312e2d",
   "metadata": {},
   "outputs": [],
   "source": [
    "countdf4"
   ]
  },
  {
   "cell_type": "code",
   "execution_count": null,
   "id": "b00a1049",
   "metadata": {},
   "outputs": [],
   "source": [
    "countdf4.sort_values(by=['aqty'],ascending=False).head(100)"
   ]
  },
  {
   "cell_type": "code",
   "execution_count": null,
   "id": "56d3d894",
   "metadata": {},
   "outputs": [],
   "source": [
    "countdf4.sort_values(by=['bqty'],ascending=False).head(10)"
   ]
  },
  {
   "cell_type": "code",
   "execution_count": null,
   "id": "73a372a7",
   "metadata": {},
   "outputs": [],
   "source": [
    "countdf2.sort_values(by=['bqty'],ascending=False).head(100).index"
   ]
  },
  {
   "cell_type": "code",
   "execution_count": null,
   "id": "d31c843d",
   "metadata": {},
   "outputs": [],
   "source": [
    "countdf"
   ]
  },
  {
   "cell_type": "code",
   "execution_count": null,
   "id": "01ab86eb",
   "metadata": {},
   "outputs": [],
   "source": [
    "max_MBR_NO,max_BRN_NO=countdf.idxmax()\n",
    "ISU_CD=countdf2.idxmax()"
   ]
  },
  {
   "cell_type": "code",
   "execution_count": null,
   "id": "a669c273",
   "metadata": {},
   "outputs": [],
   "source": [
    "MBR_NO,BRN_NO=max_MBR_NO,max_BRN_NO"
   ]
  },
  {
   "cell_type": "code",
   "execution_count": null,
   "id": "71627482",
   "metadata": {},
   "outputs": [],
   "source": [
    "ISUlist=['KR7078130002', 'KR7019550003', 'KR7021080007', 'KR7044180008',\n",
    "       'KR7099830002', 'KR7036630002', 'KR7065450009', 'KR7106080005',\n",
    "       'KR7224060004', 'KR7025440009', 'KR7215600008', 'KR7223310004',\n",
    "       'KR7097780001', 'KR7025320003', 'KR7011320009', 'KR7066980004',\n",
    "       'KR7024810004', 'KR7014190003', 'KR7030270003', 'KR7208640003',\n",
    "       'KR7024740003', 'KR7058530007', 'KR7041140005', 'KR7203650007',\n",
    "       'KR7053110003', 'KR7036620003', 'KR7019590009', 'KR7042040006',\n",
    "       'KR7019570001', 'KR7036090009', 'KR7131100000', 'KR7046120002',\n",
    "       'KR7052290004', 'KR7193250008', 'KR7200230001', 'KR7028040004',\n",
    "       'KR7016600009', 'USU652221081', 'KR7094190006', 'KR7012340006',\n",
    "       'KR7064240005', 'KR7066410002', 'KR7197210008', 'KR7192410009',\n",
    "       'KR7026260000', 'KR7054180005', 'KR7078650009', 'KR7038110003',\n",
    "       'KR7035620004', 'KR7053590006', 'KR7131090003', 'KR7215100009',\n",
    "       'KR7043200005', 'KR7225570001', 'KR7018000000', 'KR7204840003',\n",
    "       'KR7204620009', 'KR7121800007', 'KR7066790007', 'HK0000295359',\n",
    "       'KR7060560000', 'KR7024850000', 'KR7159910009', 'KR7006910004',\n",
    "       'KR7033110008', 'KR7065060006', 'KR7140520008', 'KR7020180006',\n",
    "       'KR7001000009', 'KR7056730005', 'KR7096040001', 'KR7022100002',\n",
    "       'KR7071670004', 'KYG3931T1076', 'KR7039230008', 'KR7003670007',\n",
    "       'KR7065350001', 'KR7036930006', 'KR7217270008', 'KR7003310000',\n",
    "       'KR7090710005', 'KR7086520004', 'KR7017680000', 'KR7048870000',\n",
    "       'KR7035480003', 'KR7104040001', 'KR7082660002', 'HK0000341732',\n",
    "       'KR7080470008', 'KR7214270001', 'KR7010170009', 'KR7078150000',\n",
    "       'KR7035890003', 'KR7052420007', 'KR7016670002', 'KR7127160000',\n",
    "       'KR7066590001', 'KR7220180004', 'KR7057680001', 'KR7049470008']"
   ]
  },
  {
   "cell_type": "code",
   "execution_count": null,
   "id": "6e067623",
   "metadata": {},
   "outputs": [],
   "source": [
    "data_dir=path_dir+'/'+'ord201709'\n",
    "ISU_CD_list=ISUlist\n",
    "file_list = os.listdir(data_dir)\n",
    "print(file_list)\n",
    "filecount=0\n",
    "for filename in file_list:\n",
    "    print(filename)\n",
    "    if 'ksqord_2017090' not in filename:\n",
    "        continue\n",
    "    df1 = pd.read_csv(data_dir+'/'+filename, sep=',', header=None, encoding=\"cp949\")\n",
    "    if 'SPOT' in filename:\n",
    "        continue\n",
    "        df1.columns = list(layout_1.iloc[0:len(df1.iloc[0])][0])\n",
    "        print(\"Using 2013 data\")\n",
    "    elif 'ksqord_2017090' in filename:\n",
    "        df1.columns= header_df\n",
    "        df=df[1:]\n",
    "        print(\"Using 2017 data\")\n",
    "    else:\n",
    "        continue\n",
    "#    df1=df1.set_index(['ORD_DD','ORD_ACPT_TM'])\n",
    "    if(filecount==0):\n",
    "        dftotISU=df1[df1['ISU_CD'].isin(ISU_CD_list)]\n",
    "    else:\n",
    "        dftotISU=pd.concat([dftotISU,df1[df1['ISU_CD'].isin(ISU_CD_list)],])\n",
    "#         dfmost.join(df1[(df1['MBR_NO']==max_MBR_NO) & (df1['BRN_NO']==max_BRN_NO)],how='outer')\n",
    "    filecount+=1\n",
    "    \n",
    "    \n",
    "dftotISU['hourmin']=dftotISU['ORD_ACPT_TM']//1000000\n",
    "dftotISU['시가']=(dftotISU['ASK_STEP1_BSTORD_PRC']+dftotISU['BID_STEP1_BSTORD_PRC'])/2\n",
    "dftotISU['High']=(dftotISU['고가']-dftotISU['시가'])/dftotISU['시가']\n",
    "dftotISU['Low']=(dftotISU['저가']-dftotISU['시가'])/dftotISU['시가']\n",
    "dftotISU['count']=1\n",
    "\n",
    "\n",
    "dftot=dftotISU.groupby(['ISU_CD','ORD_DD','hourmin']).sum()\n",
    "#PdfAA['시가','High','Low','매도호가잔량','매수호가잔량']=PdfAA['시가','High','Low','매도호가잔량','매수호가잔량']/PdfAA['count']\n",
    "dftot['시가']=dftot['시가']/dftot['count']\n",
    "dftot['High']=dftot['High']/dftot['count']\n",
    "dftot['Low']=dftot['Low']/dftot['count']\n",
    "dftot['매도총호가잔량']=dftot['매도총호가잔량']/dftot['count']\n",
    "dftot['매수총호가잔량']=dftot['매수총호가잔량']/dftot['count']\n",
    "\n",
    "dftot=dftot[['시가','High','Low','매도총호가잔량',\n",
    "       '매수총호가잔량']]"
   ]
  },
  {
   "cell_type": "code",
   "execution_count": null,
   "id": "f1978f18",
   "metadata": {},
   "outputs": [],
   "source": [
    "X=dftot[['시가','High','Low','매도총호가잔량','매수총호가잔량']]\n",
    "X=X.reset_index()\n",
    "X=X[(X['hourmin']<153)&(X['hourmin']>86)]\n",
    "\n",
    "ISU_CD_list2= (X.groupby(['ISU_CD']).count()['hourmin'] == 195)\n",
    "\n",
    "ISU_CD_list2=X.groupby(['ISU_CD']).count().index[(X.groupby(['ISU_CD']).count()['hourmin'] == 195)]\n",
    "X=X[X['ISU_CD'].isin(ISU_CD_list2)]\n",
    "\n",
    "X=X.set_index(['ISU_CD','ORD_DD','hourmin'])"
   ]
  },
  {
   "cell_type": "code",
   "execution_count": null,
   "id": "20dbdcd0",
   "metadata": {},
   "outputs": [],
   "source": [
    "ISU_CD_list"
   ]
  },
  {
   "cell_type": "code",
   "execution_count": null,
   "id": "8de593c3",
   "metadata": {},
   "outputs": [],
   "source": [
    "ISU_CD_list2"
   ]
  },
  {
   "cell_type": "code",
   "execution_count": null,
   "id": "7df5c306",
   "metadata": {},
   "outputs": [],
   "source": [
    "X=dftot[['시가','High','Low','매도총호가잔량','매수총호가잔량']]\n",
    "X=X.reset_index()\n",
    "X=X[(X['ORD_DD']<20170908)&(X['hourmin']<153)&(X['hourmin']>86)]\n",
    "X=X[X['ISU_CD'].isin(ISUlist)]"
   ]
  },
  {
   "cell_type": "code",
   "execution_count": null,
   "id": "9d98cf0c",
   "metadata": {},
   "outputs": [],
   "source": [
    "dftot"
   ]
  },
  {
   "cell_type": "code",
   "execution_count": null,
   "id": "714b1e11",
   "metadata": {},
   "outputs": [],
   "source": [
    "dftotISU[dftotISU['ISU_CD']=='KR7225570001']['hourmin'].head(300)"
   ]
  },
  {
   "cell_type": "code",
   "execution_count": null,
   "id": "1f1bac5d",
   "metadata": {},
   "outputs": [],
   "source": [
    "a"
   ]
  },
  {
   "cell_type": "code",
   "execution_count": null,
   "id": "43ba1f7e",
   "metadata": {},
   "outputs": [],
   "source": [
    "save(\"testX.npy\",X)"
   ]
  },
  {
   "cell_type": "code",
   "execution_count": null,
   "id": "5d285a03",
   "metadata": {},
   "outputs": [],
   "source": [
    "from numpy import load"
   ]
  },
  {
   "cell_type": "code",
   "execution_count": null,
   "id": "5ec1dc12",
   "metadata": {
    "scrolled": true
   },
   "outputs": [],
   "source": [
    "A=load('testX.npy',allow_pickle=True)"
   ]
  },
  {
   "cell_type": "code",
   "execution_count": null,
   "id": "b92c5fe0",
   "metadata": {},
   "outputs": [],
   "source": [
    "data_df = pd.DataFrame(A)"
   ]
  },
  {
   "cell_type": "code",
   "execution_count": null,
   "id": "a49cee25",
   "metadata": {},
   "outputs": [],
   "source": [
    "data_df.columns=['ISU_CD', 'ORD_DD', 'hourmin', '시가', 'High', 'Low', '매도총호가잔량',\n",
    "       '매수총호가잔량']"
   ]
  },
  {
   "cell_type": "code",
   "execution_count": null,
   "id": "7e9e541d",
   "metadata": {},
   "outputs": [],
   "source": [
    "data_df"
   ]
  },
  {
   "cell_type": "code",
   "execution_count": null,
   "id": "66ea632d",
   "metadata": {},
   "outputs": [],
   "source": [
    "ISU_CD='KR008'\n",
    "MBR_NO,BRN_NO=mbrnlist2[8]"
   ]
  },
  {
   "cell_type": "code",
   "execution_count": null,
   "id": "998e6c48",
   "metadata": {},
   "outputs": [],
   "source": [
    "print(MBR_NO,BRN_NO,ISU_CD)\n",
    "#36 1 KR7068270008"
   ]
  },
  {
   "cell_type": "markdown",
   "id": "83c22536",
   "metadata": {},
   "source": [
    "data_dir=path_dir+'/'+'ord'\n",
    "\n",
    "UUID_count={}\n",
    "file_list = os.listdir(data_dir)\n",
    "print(file_list)\n",
    "columnlist=['MBR_NO','BRN_NO']\n",
    "filecount=0\n",
    "for filename in file_list:\n",
    "    print(filename)\n",
    "    df2013 = pd.read_csv(data_dir+'/'+filename, sep=',', header=None, encoding=\"cp949\")\n",
    "    if 'SPOT' in filename:\n",
    "        df2013.columns = list(layout_1.iloc[0:len(df1.iloc[0])][0])[:len(df2013.columns)]\n",
    "        print(\"Using 2013 data\")\n",
    "    else:\n",
    "        continue\n",
    "    filecount+=1\n",
    "    break\n"
   ]
  },
  {
   "cell_type": "markdown",
   "id": "d297a8ba",
   "metadata": {},
   "source": [
    "df2013[df2013['MBR_NO']==MBR_NO][['MKTPARTC_KOR_ABBRV','BRN_NM']].value_count"
   ]
  },
  {
   "cell_type": "markdown",
   "id": "88ca3fd7",
   "metadata": {},
   "source": [
    "df2013[(df2013['MBR_NO']==MBR_NO)& (df2013['BRN_NO']==BRN_NO)][['MKTPARTC_KOR_ABBRV','BRN_NM']].head()"
   ]
  },
  {
   "cell_type": "code",
   "execution_count": null,
   "id": "71509e32",
   "metadata": {},
   "outputs": [],
   "source": [
    "data_dir=path_dir+'/'+'ord201709'\n",
    "\n",
    "UUID_count={}\n",
    "file_list = os.listdir(data_dir)\n",
    "print(file_list)\n",
    "filecount=0\n",
    "for filename in file_list:\n",
    "    print(filename)\n",
    "    if 'ksqord_2017090' not in filename:\n",
    "        continue\n",
    "    df1 = pd.read_csv(data_dir+'/'+filename, sep=',', header=None, encoding=\"cp949\")\n",
    "    if 'SPOT' in filename:\n",
    "        continue\n",
    "        df1.columns = list(layout_1.iloc[0:len(df1.iloc[0])][0])\n",
    "        print(\"Using 2013 data\")\n",
    "    elif 'ksqord_2017090' in filename:\n",
    "        df1.columns= header_df\n",
    "        df=df[1:]\n",
    "        print(\"Using 2017 data\")\n",
    "    else:\n",
    "        continue\n",
    "#    df1=df1.set_index(['ORD_DD','ORD_ACPT_TM'])\n",
    "    if(filecount==0):\n",
    "        dfmost=df1[(df1['MBR_NO']==MBR_NO) & (df1['BRN_NO']==BRN_NO)&(df1['ISU_CD'].isin(ISUlist))]\n",
    "        dftotISU=df1[df1['ISU_CD']==ISU_CD]\n",
    "    else:\n",
    "        dfmost=pd.concat([dfmost,df1[(df1['MBR_NO']==MBR_NO) & (df1['BRN_NO']==BRN_NO)&(df1['ISU_CD'].isin(ISUlist))],])\n",
    "        dftotISU=pd.concat([dftotISU,df1[df1['ISU_CD']==ISU_CD],])\n",
    "#         dfmost.join(df1[(df1['MBR_NO']==max_MBR_NO) & (df1['BRN_NO']==max_BRN_NO)],how='outer')\n",
    "    filecount+=1"
   ]
  },
  {
   "cell_type": "code",
   "execution_count": null,
   "id": "f19940c5",
   "metadata": {},
   "outputs": [],
   "source": [
    "dfmostkor = dfmost[dfmost['ISU_CD'].str.contains('KR')]"
   ]
  },
  {
   "cell_type": "code",
   "execution_count": null,
   "id": "42986f9d",
   "metadata": {},
   "outputs": [],
   "source": [
    "dfmostkor.sort_values(by=['ORD_DD','ISU_CD','ORD_ACPT_TM'])\n",
    "# dfmost.sort_values(by='ORD_DD')"
   ]
  },
  {
   "cell_type": "code",
   "execution_count": null,
   "id": "86089b8a",
   "metadata": {},
   "outputs": [],
   "source": [
    "dfmostkor.to_csv('KR2017090.csv',encoding=\"cp949\")"
   ]
  },
  {
   "cell_type": "code",
   "execution_count": null,
   "id": "bde68764",
   "metadata": {},
   "outputs": [],
   "source": [
    "dfmostkor['hourmin']=dfmostkor['ORD_ACPT_TM']//1000"
   ]
  },
  {
   "cell_type": "code",
   "execution_count": null,
   "id": "d49f03c0",
   "metadata": {},
   "outputs": [],
   "source": [
    "dfmostkor.groupby(['ISU_CD']).size()"
   ]
  },
  {
   "cell_type": "code",
   "execution_count": null,
   "id": "9a3aab83",
   "metadata": {},
   "outputs": [],
   "source": [
    "len(dfmostkor)"
   ]
  },
  {
   "cell_type": "code",
   "execution_count": null,
   "id": "30612199",
   "metadata": {},
   "outputs": [],
   "source": [
    "ISU_CD=dfmostkor.groupby(['ISU_CD']).size().idxmax()\n",
    "print(ISU_CD)\n",
    "print(dfmostkor.groupby(['ISU_CD']).size().max())\n",
    "print(dfmostkor.groupby(['ISU_CD']).size().sum())"
   ]
  },
  {
   "cell_type": "code",
   "execution_count": null,
   "id": "aa6a7005",
   "metadata": {},
   "outputs": [],
   "source": [
    "dfmostkor.columns"
   ]
  },
  {
   "cell_type": "code",
   "execution_count": null,
   "id": "c4f6af15",
   "metadata": {},
   "outputs": [],
   "source": [
    "#dfISU=dfmostkor[dfmostkor['ISU_CD']==ISU_CD]\n",
    "dfISU=dfmostkor"
   ]
  },
  {
   "cell_type": "code",
   "execution_count": null,
   "id": "4c3ac15b",
   "metadata": {},
   "outputs": [],
   "source": [
    "dfISU['hourmin']=dfISU['ORD_ACPT_TM']//1000000"
   ]
  },
  {
   "cell_type": "markdown",
   "id": "fe0e6d62",
   "metadata": {},
   "source": [
    "dfISU.columns"
   ]
  },
  {
   "cell_type": "code",
   "execution_count": null,
   "id": "0a09cf42",
   "metadata": {
    "scrolled": false
   },
   "outputs": [],
   "source": [
    "clist=['PT_TP_CD']\n",
    "dfISU[clist].groupby(clist).size()"
   ]
  },
  {
   "cell_type": "code",
   "execution_count": null,
   "id": "e562ef78",
   "metadata": {},
   "outputs": [],
   "source": [
    "columns=['ISU_CD', 'ORD_DD', 'ORD_ACPT_NO', 'REGUL_OFFHR_TP_CD', 'BLKTRD_TP_CD',\n",
    "       '호가장처리가격', 'ASKBID_TP_CD', 'MODCANCL_TP_CD', 'ORD_TP_CD', 'ORD_COND_CD',\n",
    "       'INVST_TP_CD', 'ASK_STEP1_BSTORD_PRC', 'ASK_STEP1_BSTORD_RQTY',\n",
    "       'ASK_STEP2_BSTORD_PRC', 'ASK_STEP2_BSTORD_RQTY', 'ASK_STEP3_BSTORD_PRC',\n",
    "       'ASK_STEP3_BSTORD_RQTY', 'ASK_STEP4_BSTORD_PRC',\n",
    "       'ASK_STEP4_BSTORD_RQTY', 'ASK_STEP5_BSTORD_PRC',\n",
    "       'ASK_STEP5_BSTORD_RQTY', 'BID_STEP1_BSTORD_PRC',\n",
    "       'BID_STEP1_BSTORD_RQTY', 'BID_STEP2_BSTORD_PRC',\n",
    "       'BID_STEP2_BSTORD_RQTY', 'BID_STEP3_BSTORD_PRC',\n",
    "       'BID_STEP3_BSTORD_RQTY', 'BID_STEP4_BSTORD_PRC',\n",
    "       'BID_STEP4_BSTORD_RQTY', 'BID_STEP5_BSTORD_PRC',\n",
    "       'BID_STEP5_BSTORD_RQTY', 'ORD_ACPT_TM', 'ORD_QTY', 'ORD_PRC',\n",
    "       '호가우선순위번호', 'MBR_NO', 'BRN_NO', 'CNTR_CD', 'TRST_PRINC_TP_CD',\n",
    "       'FORNINVST_TP_CD', 'ORD_MEDIA_TP_CD', '회원사주문시각', '예상체결가격', '예상체결수량',\n",
    "       '매도총호가잔량', '매수총호가잔량', '호가체결접수순서번호', '직전체결가격', '누적체결수량', '누적거래대금',\n",
    "       'AGG_TM', '시가', '고가', '저가', 'ORGN_ORD_ACPT_NO', '시장구분코드', '자동취소처리구분코드',\n",
    "       'MKTSTAT_TP_CD', '매도10단계호가합계잔량', '매수10단계호가합계잔량', 'PT_TP_CD', 'hourmin']\n",
    "columns=['호가장처리가격', 'ASKBID_TP_CD', 'MODCANCL_TP_CD', 'ORD_TP_CD', \n",
    "         'ORD_QTY', 'ORD_PRC', '매도총호가잔량',\n",
    "       '매수총호가잔량', '직전체결가격', '누적체결수량', '누적거래대금', '시가', '고가', '저가',\n",
    "        'hourmin']\n",
    "columns= [ '호가장처리가격', 'ASKBID_TP_CD', 'MODCANCL_TP_CD', 'ORD_TP_CD', 'ORD_COND_CD',\n",
    "       'INVST_TP_CD', 'ORD_ACPT_TM', 'ORD_QTY', 'ORD_PRC',\n",
    "        'CNTR_CD', 'FORNINVST_TP_CD', 'ORD_MEDIA_TP_CD', '예상체결가격', '예상체결수량',\n",
    "       '매도총호가잔량', '매수총호가잔량', '직전체결가격', '누적체결수량', '누적거래대금',\n",
    "         '시가', '고가', '저가',  'MKTSTAT_TP_CD', 'hourmin']\n",
    "columns= [ '호가장처리가격', 'ASKBID_TP_CD', 'MODCANCL_TP_CD', 'ORD_QTY', 'ORD_PRC',\n",
    "       '매도총호가잔량', '매수총호가잔량', '직전체결가격', \n",
    "         '시가', '고가', '저가',  'MKTSTAT_TP_CD', 'hourmin']\n",
    "\n",
    "columns=['ISU_CD','ORD_DD','ASKBID_TP_CD', 'MODCANCL_TP_CD',  'ASK_STEP1_BSTORD_PRC','BID_STEP1_BSTORD_PRC',\n",
    "         'ORD_QTY', 'ORD_PRC', '매도총호가잔량',\n",
    "       '매수총호가잔량',  '시가', '고가', '저가','hourmin']"
   ]
  },
  {
   "cell_type": "code",
   "execution_count": null,
   "id": "2ee9e1c0",
   "metadata": {},
   "outputs": [],
   "source": [
    "columns"
   ]
  },
  {
   "cell_type": "code",
   "execution_count": null,
   "id": "665fe324",
   "metadata": {},
   "outputs": [],
   "source": [
    "Pdf=dfISU[columns]"
   ]
  },
  {
   "cell_type": "code",
   "execution_count": null,
   "id": "b5166cf7",
   "metadata": {},
   "outputs": [],
   "source": [
    "dfISU['시가']"
   ]
  },
  {
   "cell_type": "code",
   "execution_count": null,
   "id": "effc8bbe",
   "metadata": {},
   "outputs": [],
   "source": [
    "Pdf=Pdf[Pdf['ORD_PRC']!=0]\n",
    "Pdf=Pdf[Pdf['MODCANCL_TP_CD']==1]\n",
    "Pdf['시가']=(Pdf['ASK_STEP1_BSTORD_PRC']+Pdf['BID_STEP1_BSTORD_PRC'])/2\n",
    "Pdf['count']=1\n",
    "Pdf['High']=(Pdf['고가']-Pdf['시가'])/Pdf['시가']\n",
    "Pdf['Low']=(Pdf['저가']-Pdf['시가'])/Pdf['시가']\n",
    "Pdf['ORD_NET']=Pdf['ORD_PRC']*Pdf['ORD_QTY']\n",
    "PdfA=Pdf[Pdf['ASKBID_TP_CD']==1]\n",
    "PdfB=Pdf[Pdf['ASKBID_TP_CD']==2]"
   ]
  },
  {
   "cell_type": "code",
   "execution_count": null,
   "id": "dd257d9e",
   "metadata": {},
   "outputs": [],
   "source": [
    "newcolumns=['ISU_CD','ORD_DD','hourmin','시가','ORD_QTY','ORD_NET',  'High','Low','매도총호가잔량',\n",
    "       '매수총호가잔량','count']\n",
    "PdfA=PdfA[newcolumns]\n",
    "PdfB=PdfB[newcolumns]"
   ]
  },
  {
   "cell_type": "code",
   "execution_count": null,
   "id": "22080691",
   "metadata": {},
   "outputs": [],
   "source": [
    "PdfAA=PdfA.groupby(['ISU_CD','ORD_DD','hourmin']).sum()\n",
    "#PdfAA['시가','High','Low','매도호가잔량','매수호가잔량']=PdfAA['시가','High','Low','매도호가잔량','매수호가잔량']/PdfAA['count']\n",
    "PdfAA['시가']=PdfAA['시가']/PdfAA['count']\n",
    "PdfAA['High']=PdfAA['High']/PdfAA['count']\n",
    "PdfAA['Low']=PdfAA['Low']/PdfAA['count']\n",
    "PdfAA['매도총호가잔량']=PdfAA['매도총호가잔량']/PdfAA['count']\n",
    "PdfAA['매수총호가잔량']=PdfAA['매수총호가잔량']/PdfAA['count']\n",
    "PdfAA['ORD_PRC_REL']=PdfAA['ORD_NET']/PdfAA['ORD_QTY']/PdfAA['시가']\n",
    "PdfBB=PdfB.groupby(['ISU_CD','ORD_DD','hourmin']).sum()\n",
    "#PdfAA['시가','High','Low','매도호가잔량','매수호가잔량']=PdfAA['시가','High','Low','매도호가잔량','매수호가잔량']/PdfAA['count']\n",
    "PdfBB['시가']=PdfBB['시가']/PdfBB['count']\n",
    "PdfBB['High']=PdfBB['High']/PdfBB['count']\n",
    "PdfBB['Low']=PdfBB['Low']/PdfBB['count']\n",
    "PdfBB['매도총호가잔량']=PdfBB['매도총호가잔량']/PdfBB['count']\n",
    "PdfBB['매수총호가잔량']=PdfBB['매수총호가잔량']/PdfBB['count']\n",
    "PdfBB['ORD_PRC_REL']=PdfBB['ORD_NET']/PdfBB['ORD_QTY']/PdfBB['시가']"
   ]
  },
  {
   "cell_type": "markdown",
   "id": "4ba79397",
   "metadata": {
    "scrolled": true
   },
   "source": [
    "PdfAA"
   ]
  },
  {
   "cell_type": "markdown",
   "id": "8613cc1a",
   "metadata": {
    "scrolled": true
   },
   "source": [
    "PdfBB"
   ]
  },
  {
   "cell_type": "markdown",
   "id": "36bd699d",
   "metadata": {},
   "source": [
    "dfmostkor"
   ]
  },
  {
   "cell_type": "code",
   "execution_count": null,
   "id": "85ef890a",
   "metadata": {},
   "outputs": [],
   "source": [
    "# dftotISU['hourmin']=dftotISU['ORD_ACPT_TM']//1000000\n",
    "# dftotISU['시가']=(dftotISU['ASK_STEP1_BSTORD_PRC']+dftotISU['BID_STEP1_BSTORD_PRC'])/2\n",
    "# dftotISU['High']=(dftotISU['고가']-dftotISU['시가'])/dftotISU['시가']\n",
    "# dftotISU['Low']=(dftotISU['저가']-dftotISU['시가'])/dftotISU['시가']\n",
    "# dftotISU['count']=1\n",
    "\n",
    "dfmostkor['hourmin']=dfmostkor['ORD_ACPT_TM']//1000000\n",
    "dfmostkor['시가']=(dfmostkor['ASK_STEP1_BSTORD_PRC']+dfmostkor['BID_STEP1_BSTORD_PRC'])/2\n",
    "dfmostkor['High']=(dfmostkor['고가']-dfmostkor['시가'])/dfmostkor['시가']\n",
    "dfmostkor['Low']=(dfmostkor['저가']-dfmostkor['시가'])/dfmostkor['시가']\n",
    "dfmostkor['count']=1\n",
    "\n",
    "dftot=dfmostkor.groupby(['ISU_CD','ORD_DD','hourmin']).sum()\n",
    "#PdfAA['시가','High','Low','매도호가잔량','매수호가잔량']=PdfAA['시가','High','Low','매도호가잔량','매수호가잔량']/PdfAA['count']\n",
    "dftot['시가']=dftot['시가']/dftot['count']\n",
    "dftot['High']=dftot['High']/dftot['count']\n",
    "dftot['Low']=dftot['Low']/dftot['count']\n",
    "dftot['매도총호가잔량']=dftot['매도총호가잔량']/dftot['count']\n",
    "dftot['매수총호가잔량']=dftot['매수총호가잔량']/dftot['count']\n",
    "\n",
    "dftot=dftot[['시가','High','Low','매도총호가잔량',\n",
    "       '매수총호가잔량']]"
   ]
  },
  {
   "cell_type": "code",
   "execution_count": null,
   "id": "906c5243",
   "metadata": {},
   "outputs": [],
   "source": [
    "Y=PdfAA.add(-1*PdfBB,fill_value=0)['ORD_QTY']"
   ]
  },
  {
   "cell_type": "markdown",
   "id": "e171222c",
   "metadata": {},
   "source": [
    "ISU_CD_list=(X.groupby(['ISU_CD']).count().reset_index())['ISU_CD'].to_list()"
   ]
  },
  {
   "cell_type": "code",
   "execution_count": null,
   "id": "5c6b1ff8",
   "metadata": {},
   "outputs": [],
   "source": [
    "Y=Y.reset_index()"
   ]
  },
  {
   "cell_type": "code",
   "execution_count": null,
   "id": "043a58a8",
   "metadata": {},
   "outputs": [],
   "source": [
    "Y=Y[Y['ISU_CD'].isin(ISU_CD_list2)]"
   ]
  },
  {
   "cell_type": "code",
   "execution_count": null,
   "id": "d3651ef7",
   "metadata": {},
   "outputs": [],
   "source": [
    "Y=Y.set_index(['ISU_CD','ORD_DD','hourmin'])"
   ]
  },
  {
   "cell_type": "code",
   "execution_count": null,
   "id": "326ed1dc",
   "metadata": {},
   "outputs": [],
   "source": [
    "Y"
   ]
  },
  {
   "cell_type": "code",
   "execution_count": null,
   "id": "4c890cb2",
   "metadata": {},
   "outputs": [],
   "source": [
    "X['ORD_QTY']=Y"
   ]
  },
  {
   "cell_type": "code",
   "execution_count": null,
   "id": "8a9d8fd2",
   "metadata": {},
   "outputs": [],
   "source": [
    "Data=X\n",
    "# save numpy array as npy file\n",
    "from numpy import asarray\n",
    "from numpy import save\n",
    "# save to npy file\n",
    "save('Data0916'+str(MBR_NO)+'_'+str(BRN_NO)+'.npy', Data)"
   ]
  },
  {
   "cell_type": "code",
   "execution_count": null,
   "id": "f0d8278a",
   "metadata": {},
   "outputs": [],
   "source": [
    "Data"
   ]
  },
  {
   "cell_type": "markdown",
   "id": "df591ef2",
   "metadata": {},
   "source": [
    "\n",
    "lobdataloader = DataLoader(lobdata)\n",
    "for data in dataloader_train:\n",
    "    print(data[0])"
   ]
  }
 ],
 "metadata": {
  "kernelspec": {
   "display_name": "Python 3 (ipykernel)",
   "language": "python",
   "name": "python3"
  },
  "language_info": {
   "codemirror_mode": {
    "name": "ipython",
    "version": 3
   },
   "file_extension": ".py",
   "mimetype": "text/x-python",
   "name": "python",
   "nbconvert_exporter": "python",
   "pygments_lexer": "ipython3",
   "version": "3.7.10"
  }
 },
 "nbformat": 4,
 "nbformat_minor": 5
}
