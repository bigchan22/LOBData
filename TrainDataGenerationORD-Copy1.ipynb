{
 "cells": [
  {
   "cell_type": "code",
   "execution_count": 1,
   "id": "ef1df877",
   "metadata": {},
   "outputs": [],
   "source": [
    "import pandas as pd\n",
    "import numpy as np\n",
    "from datetime import datetime\n",
    "from source.TrainDataGeneration import append_ORD_TM,append_ORD_VOL,append_TM_GP,GetGroupDataFrame,append_STEP5\n",
    "from DataInfo import ISU_list_MBRN_sum_top,MBRN_sum_top"
   ]
  },
  {
   "cell_type": "code",
   "execution_count": 2,
   "id": "d096d033",
   "metadata": {},
   "outputs": [],
   "source": [
    "ISU_list=ISU_list_MBRN_sum_top[:33]\n",
    "ISU_list=[ISU_CD for ISU_CD in ISU_list if ISU_CD not in ['KR7035720002','KR7008800005', 'KR7014940001']]\n",
    "Dataname='_10_0823Train'\n",
    "groupmin=10"
   ]
  },
  {
   "cell_type": "code",
   "execution_count": 3,
   "id": "3f747b5e",
   "metadata": {},
   "outputs": [
    {
     "data": {
      "text/plain": [
       "30"
      ]
     },
     "execution_count": 3,
     "metadata": {},
     "output_type": "execute_result"
    }
   ],
   "source": [
    "len(ISU_list)"
   ]
  },
  {
   "cell_type": "code",
   "execution_count": 4,
   "id": "57dd3ebe",
   "metadata": {
    "scrolled": true
   },
   "outputs": [],
   "source": [
    "# TickDataname='GDF2022_5_4_8_25.csv'\n",
    "ISU_CD=ISU_list[0]\n",
    "TickDataname=\"GDF_tick\"+\"_\"+ISU_CD+'_'+str(groupmin)+'.csv'\n",
    "Data=pd.read_csv('/Data/LOBData/CollectedTickData/ISUTickData/'+TickDataname)\n",
    "TickGDF=Data\n",
    "\n",
    "for ISU_CD in ISU_list[1:]:\n",
    "    TickDataname=\"GDF_tick\"+\"_\"+ISU_CD+'_'+str(groupmin)+'.csv'\n",
    "    Data=pd.read_csv('/Data/LOBData/CollectedTickData/ISUTickData/'+TickDataname)\n",
    "    TickGDF=pd.concat([TickGDF,Data],axis=0)"
   ]
  },
  {
   "cell_type": "code",
   "execution_count": 5,
   "id": "692eef0b",
   "metadata": {},
   "outputs": [],
   "source": [
    "TGDF=TickGDF.set_index(['ORD_DD','ISU_CD','TM_GP'])\n",
    "new_index = pd.MultiIndex.from_product(TGDF.index.levels)\n",
    "new_df = TGDF.reindex(new_index)\n",
    "new_df = new_df.ffill()\n",
    "\n",
    "new_df=new_df.reset_index()\n",
    "new_df=new_df[(new_df['TM_GP']>=0)&(new_df['TM_GP']<39)]\n",
    "new_df=new_df.set_index(['ORD_DD','ISU_CD','TM_GP'])\n",
    "\n",
    "new_index = pd.MultiIndex.from_product(new_df.index.levels)\n",
    "new_df=new_df.reset_index()\n",
    "\n",
    "Train_df=new_df\n",
    "Train_df.loc[new_df['TM_GP']==0.,'시가']=Train_df.loc[new_df['TM_GP']==1.,'시가'].values"
   ]
  },
  {
   "cell_type": "code",
   "execution_count": 6,
   "id": "64bc629b",
   "metadata": {},
   "outputs": [],
   "source": [
    "Train_df['10단계호가합계잔량']=Train_df['매수10단계호가합계잔량']+Train_df['매도10단계호가합계잔량']"
   ]
  },
  {
   "cell_type": "code",
   "execution_count": 7,
   "id": "8d8c0971",
   "metadata": {},
   "outputs": [],
   "source": [
    "divdict={}\n",
    "# divdict['10단계호가합계잔량']=qtylist\n",
    "divdict['시가']=['고가','저가','직전체결가격']\n",
    "loglist=[]\n",
    "loglist+=['고가','저가','직전체결가격','시가']\n",
    "# loglist+=['고가','저가','직전체결가격','시가']\n",
    "# loglist+=['10단계호가합계잔량']\n",
    "minmaxnormlist=[]\n",
    "minmaxnormlist+=['매도총호가잔량', '매수총호가잔량', '고가', '저가', \n",
    "           '직전체결가격']"
   ]
  },
  {
   "cell_type": "code",
   "execution_count": 8,
   "id": "6bed055b",
   "metadata": {},
   "outputs": [],
   "source": [
    "for divcol in divdict:\n",
    "    Train_df[divdict[divcol]]=Train_df[divdict[divcol]].div(Train_df[divcol],axis=0).values"
   ]
  },
  {
   "cell_type": "code",
   "execution_count": 9,
   "id": "e909cce6",
   "metadata": {},
   "outputs": [],
   "source": [
    "Train_df[loglist]=np.log(Train_df[loglist])"
   ]
  },
  {
   "cell_type": "code",
   "execution_count": 10,
   "id": "270d8069",
   "metadata": {},
   "outputs": [],
   "source": [
    "Train_df[minmaxnormlist]=(Train_df[minmaxnormlist]-Train_df[minmaxnormlist].min())/(Train_df[minmaxnormlist].max()-Train_df[minmaxnormlist].min())"
   ]
  },
  {
   "cell_type": "code",
   "execution_count": 11,
   "id": "db39e7df",
   "metadata": {},
   "outputs": [],
   "source": [
    "# ORDTickDataname='GDF2022_4_12_19_51.csv'\n",
    "ORDTickDataname='GDF_ORD2022_8_1_17_36.csv'\n",
    "ORDTickGDF=pd.read_csv('/Data/LOBData/CollectedTickData/'+ORDTickDataname)"
   ]
  },
  {
   "cell_type": "code",
   "execution_count": 12,
   "id": "2106e81e",
   "metadata": {},
   "outputs": [],
   "source": [
    "OTGDF=ORDTickGDF[(ORDTickGDF['TM_GP']>=0)&(ORDTickGDF['TM_GP']<39)]\n",
    "OTGDF=OTGDF[OTGDF['MODCANCL_TP_CD']!=2]\n",
    "OTGDF=OTGDF[OTGDF[\"ISU_CD\"].isin(ISU_list)]\n",
    "\n",
    "# OTGDF['NET_ORD_QTY']=OTGDF['ORD_QTY']*(2*OTGDF['ASKBID_TP_CD']-3)*(2-OTGDF['MODCANCL_TP_CD'])\n",
    "OTGDF['NET_ORD_QTY']=OTGDF['ORD_QTY']*(2*OTGDF['ASKBID_TP_CD']-3)#'norm6feat\n",
    "# OTGDF['NET_ORD_QTY']=OTGDF['ORD_QTY']*(2*OTGDF['ASKBID_TP_CD']-3)*OTGDF['ORD_PRC']#'norm6featNewPrc'\n",
    "# OTGDF=OTGDF.set_index(['ORD_DD','ISU_CD','TM_GP'])\n"
   ]
  },
  {
   "cell_type": "code",
   "execution_count": 13,
   "id": "fb989dbe",
   "metadata": {},
   "outputs": [],
   "source": [
    "groupcolumns=['ORD_DD', 'ISU_CD', 'MBR_NO', 'BRN_NO','TM_GP']\n",
    "sumcolumns=['NET_ORD_QTY']\n",
    "meancolumns,lastcolumns=[],[]"
   ]
  },
  {
   "cell_type": "code",
   "execution_count": 14,
   "id": "0fefcae4",
   "metadata": {},
   "outputs": [],
   "source": [
    "OTGDF=GetGroupDataFrame(OTGDF,groupcolumns,sumcolumns,meancolumns,lastcolumns)"
   ]
  },
  {
   "cell_type": "markdown",
   "id": "d34fc9f1",
   "metadata": {},
   "source": [
    "feat_cols=['ASK_STEP1_BSTORD_RQTY', 'ASK_STEP2_BSTORD_RQTY', \n",
    "       'ASK_STEP3_BSTORD_RQTY',  'ASK_STEP4_BSTORD_RQTY', \n",
    "       'ASK_STEP5_BSTORD_RQTY', 'BID_STEP1_BSTORD_RQTY', \n",
    "       'BID_STEP2_BSTORD_RQTY', 'BID_STEP3_BSTORD_RQTY', \n",
    "       'BID_STEP4_BSTORD_RQTY','BID_STEP5_BSTORD_RQTY',\n",
    "        '매도5단계호가합계잔량', '매수5단계호가합계잔량', '매도10단계호가합계잔량',\n",
    "       '매수10단계호가합계잔량', '매도총호가잔량', '매수총호가잔량', '고가', '저가',\n",
    "           '시가', '직전체결가격','NET_ORD_QTY']"
   ]
  },
  {
   "cell_type": "markdown",
   "id": "4898f7d2",
   "metadata": {},
   "source": [
    "feat_cols=['매도총호가잔량', '매수총호가잔량', '고가', '저가', \n",
    "           '직전체결가격','NET_ORD_QTY']"
   ]
  },
  {
   "cell_type": "code",
   "execution_count": 15,
   "id": "03f9319c",
   "metadata": {},
   "outputs": [],
   "source": [
    "feat_cols=['매도5단계호가합계잔량', '매수5단계호가합계잔량', '매도10단계호가합계잔량',\n",
    "       '매수10단계호가합계잔량', '매도총호가잔량', '매수총호가잔량', '고가', '저가',\n",
    "           '시가', '직전체결가격','NET_ORD_QTY']"
   ]
  },
  {
   "cell_type": "code",
   "execution_count": 16,
   "id": "9d44fe3e",
   "metadata": {},
   "outputs": [],
   "source": [
    "mbrnlist = MBRN_sum_top[:20]"
   ]
  },
  {
   "cell_type": "code",
   "execution_count": 17,
   "id": "a88c055d",
   "metadata": {
    "scrolled": false
   },
   "outputs": [
    {
     "data": {
      "text/html": [
       "<div>\n",
       "<style scoped>\n",
       "    .dataframe tbody tr th:only-of-type {\n",
       "        vertical-align: middle;\n",
       "    }\n",
       "\n",
       "    .dataframe tbody tr th {\n",
       "        vertical-align: top;\n",
       "    }\n",
       "\n",
       "    .dataframe thead th {\n",
       "        text-align: right;\n",
       "    }\n",
       "</style>\n",
       "<table border=\"1\" class=\"dataframe\">\n",
       "  <thead>\n",
       "    <tr style=\"text-align: right;\">\n",
       "      <th></th>\n",
       "      <th>ORD_DD</th>\n",
       "      <th>TM_GP</th>\n",
       "      <th>시가</th>\n",
       "    </tr>\n",
       "  </thead>\n",
       "  <tbody>\n",
       "  </tbody>\n",
       "</table>\n",
       "</div>"
      ],
      "text/plain": [
       "Empty DataFrame\n",
       "Columns: [ORD_DD, TM_GP, 시가]\n",
       "Index: []"
      ]
     },
     "execution_count": 17,
     "metadata": {},
     "output_type": "execute_result"
    }
   ],
   "source": [
    "TickGDF[(TickGDF['ISU_CD']=='KR7035720002')& (TickGDF['TM_GP']>=0.0)][['ORD_DD','TM_GP','시가']]"
   ]
  },
  {
   "cell_type": "code",
   "execution_count": 18,
   "id": "44375c60",
   "metadata": {},
   "outputs": [],
   "source": [
    "if Train_df['직전체결가격'].isnull().any():\n",
    "    raise ValueError"
   ]
  },
  {
   "cell_type": "code",
   "execution_count": 19,
   "id": "dd26eb55",
   "metadata": {},
   "outputs": [],
   "source": [
    "A=Train_df[Train_df['직전체결가격'].isnull()]"
   ]
  },
  {
   "cell_type": "code",
   "execution_count": 20,
   "id": "e57826b6",
   "metadata": {},
   "outputs": [
    {
     "data": {
      "text/plain": [
       "set()"
      ]
     },
     "execution_count": 20,
     "metadata": {},
     "output_type": "execute_result"
    }
   ],
   "source": [
    "set(A['ISU_CD'])"
   ]
  },
  {
   "cell_type": "code",
   "execution_count": 22,
   "id": "d497eb6b",
   "metadata": {
    "scrolled": true
   },
   "outputs": [
    {
     "name": "stdout",
     "output_type": "stream",
     "text": [
      "5 194\n",
      "31627832.0\n",
      "path: /Data/LOBData/TrainData/Train_ORD_5_194_10_0823Train\n",
      "path: /Data/LOBData/TrainData/Train_ORD_Label__5_194_10_0823Train\n",
      "12 100\n"
     ]
    },
    {
     "name": "stderr",
     "output_type": "stream",
     "text": [
      "/root/anaconda3/lib/python3.7/site-packages/ipykernel_launcher.py:9: SettingWithCopyWarning: \n",
      "A value is trying to be set on a copy of a slice from a DataFrame\n",
      "\n",
      "See the caveats in the documentation: https://pandas.pydata.org/pandas-docs/stable/user_guide/indexing.html#returning-a-view-versus-a-copy\n",
      "  if __name__ == '__main__':\n",
      "/root/anaconda3/lib/python3.7/site-packages/ipykernel_launcher.py:10: SettingWithCopyWarning: \n",
      "A value is trying to be set on a copy of a slice from a DataFrame\n",
      "\n",
      "See the caveats in the documentation: https://pandas.pydata.org/pandas-docs/stable/user_guide/indexing.html#returning-a-view-versus-a-copy\n",
      "  # Remove the CWD from sys.path while we load stuff.\n"
     ]
    },
    {
     "name": "stdout",
     "output_type": "stream",
     "text": [
      "-4929951.0\n",
      "path: /Data/LOBData/TrainData/Train_ORD_12_100_10_0823Train\n",
      "path: /Data/LOBData/TrainData/Train_ORD_Label__12_100_10_0823Train\n",
      "44 1\n",
      "-351407.0\n",
      "path: /Data/LOBData/TrainData/Train_ORD_44_1_10_0823Train\n",
      "path: /Data/LOBData/TrainData/Train_ORD_Label__44_1_10_0823Train\n",
      "17 29\n",
      "-11815836.0\n",
      "path: /Data/LOBData/TrainData/Train_ORD_17_29_10_0823Train\n",
      "path: /Data/LOBData/TrainData/Train_ORD_Label__17_29_10_0823Train\n",
      "2 83\n",
      "-13381752.0\n",
      "path: /Data/LOBData/TrainData/Train_ORD_2_83_10_0823Train\n",
      "path: /Data/LOBData/TrainData/Train_ORD_Label__2_83_10_0823Train\n",
      "4 9997\n",
      "6120925.0\n",
      "path: /Data/LOBData/TrainData/Train_ORD_4_9997_10_0823Train\n",
      "path: /Data/LOBData/TrainData/Train_ORD_Label__4_9997_10_0823Train\n",
      "42 1\n",
      "2611799.0\n",
      "path: /Data/LOBData/TrainData/Train_ORD_42_1_10_0823Train\n",
      "path: /Data/LOBData/TrainData/Train_ORD_Label__42_1_10_0823Train\n",
      "50 91\n",
      "2069667.0\n",
      "path: /Data/LOBData/TrainData/Train_ORD_50_91_10_0823Train\n",
      "path: /Data/LOBData/TrainData/Train_ORD_Label__50_91_10_0823Train\n",
      "56 17990\n",
      "-2318482.0\n",
      "path: /Data/LOBData/TrainData/Train_ORD_56_17990_10_0823Train\n",
      "path: /Data/LOBData/TrainData/Train_ORD_Label__56_17990_10_0823Train\n",
      "12 202\n",
      "8023138.0\n",
      "path: /Data/LOBData/TrainData/Train_ORD_12_202_10_0823Train\n",
      "path: /Data/LOBData/TrainData/Train_ORD_Label__12_202_10_0823Train\n",
      "5 136\n",
      "8235465.0\n",
      "path: /Data/LOBData/TrainData/Train_ORD_5_136_10_0823Train\n",
      "path: /Data/LOBData/TrainData/Train_ORD_Label__5_136_10_0823Train\n",
      "4 10118\n",
      "938357.0\n",
      "path: /Data/LOBData/TrainData/Train_ORD_4_10118_10_0823Train\n",
      "path: /Data/LOBData/TrainData/Train_ORD_Label__4_10118_10_0823Train\n",
      "50 90\n",
      "2391172.0\n",
      "path: /Data/LOBData/TrainData/Train_ORD_50_90_10_0823Train\n",
      "path: /Data/LOBData/TrainData/Train_ORD_Label__50_90_10_0823Train\n",
      "36 1\n",
      "8272988.0\n",
      "path: /Data/LOBData/TrainData/Train_ORD_36_1_10_0823Train\n",
      "path: /Data/LOBData/TrainData/Train_ORD_Label__36_1_10_0823Train\n",
      "50 64\n",
      "11212363.0\n",
      "path: /Data/LOBData/TrainData/Train_ORD_50_64_10_0823Train\n",
      "path: /Data/LOBData/TrainData/Train_ORD_Label__50_64_10_0823Train\n",
      "56 17988\n",
      "2264997.0\n",
      "path: /Data/LOBData/TrainData/Train_ORD_56_17988_10_0823Train\n",
      "path: /Data/LOBData/TrainData/Train_ORD_Label__56_17988_10_0823Train\n",
      "43 1\n",
      "63004.0\n",
      "path: /Data/LOBData/TrainData/Train_ORD_43_1_10_0823Train\n",
      "path: /Data/LOBData/TrainData/Train_ORD_Label__43_1_10_0823Train\n",
      "8 298\n",
      "-1986237.0\n",
      "path: /Data/LOBData/TrainData/Train_ORD_8_298_10_0823Train\n",
      "path: /Data/LOBData/TrainData/Train_ORD_Label__8_298_10_0823Train\n",
      "50 31\n",
      "10964768.0\n",
      "path: /Data/LOBData/TrainData/Train_ORD_50_31_10_0823Train\n",
      "path: /Data/LOBData/TrainData/Train_ORD_Label__50_31_10_0823Train\n",
      "50 33\n",
      "1159390.0\n",
      "path: /Data/LOBData/TrainData/Train_ORD_50_33_10_0823Train\n",
      "path: /Data/LOBData/TrainData/Train_ORD_Label__50_33_10_0823Train\n"
     ]
    }
   ],
   "source": [
    "for mbr,brn in mbrnlist:\n",
    "    print(mbr,brn)\n",
    "    OTGDF_temp=OTGDF[(OTGDF['MBR_NO']==mbr) &(OTGDF['BRN_NO']==brn)]\n",
    "    OTGDF_temp=OTGDF_temp.set_index(['ORD_DD','ISU_CD','TM_GP'])\n",
    "    OTGDF_temp=OTGDF_temp.reindex(new_index)\n",
    "    OTGDF_temp['NET_ORD_QTY']=OTGDF_temp['NET_ORD_QTY'].fillna(0)\n",
    "    Train_df['NET_ORD_QTY']=OTGDF_temp['NET_ORD_QTY'].values\n",
    "    Train_df['ylabel']=Train_df['NET_ORD_QTY']\n",
    "    Train_df['ylabel'][:-1]=(2*(Train_df['NET_ORD_QTY']>0)+1*(Train_df['NET_ORD_QTY']==0))[1:]\n",
    "    Train_df['ylabel'][38::39]=1\n",
    "    print(Train_df['NET_ORD_QTY'].sum())    \n",
    "    SaveDirPath='/Data/LOBData/TrainData/'\n",
    "    now=datetime.now()\n",
    "    DataSubfix=str(mbr)+'_'+str(brn)+Dataname\n",
    "    TrainDataname='Train_ORD'+'_'+DataSubfix\n",
    "    TrainLabelDataname='Train_ORD_Label_'+'_'+DataSubfix\n",
    "\n",
    "    np.save(SaveDirPath+TrainDataname,Train_df[feat_cols].values)\n",
    "    np.save(SaveDirPath+TrainLabelDataname,Train_df['ylabel'])\n",
    "    print(\"path:\",SaveDirPath+TrainDataname)\n",
    "    print(\"path:\",SaveDirPath+TrainLabelDataname)\n",
    "    "
   ]
  },
  {
   "cell_type": "code",
   "execution_count": 23,
   "id": "f27637b3",
   "metadata": {},
   "outputs": [],
   "source": [
    "with open(SaveDirPath+'DataInformationORD.txt', \"a+\") as f:\n",
    "    f.write(\"TrainDataname:\"+TrainDataname+'\\n')\n",
    "    f.write(\"TrainLabelDataname:\"+TrainLabelDataname+'\\n')\n",
    "    f.write(\"TickDataname:\"+TickDataname+'\\n')\n",
    "    f.write(\"ORDTickDataname:\"+ORDTickDataname+'\\n')\n",
    "\n",
    "    f.write(\"divdict:\"+'\\n')\n",
    "    for col,llist in divdict.items():\n",
    "        f.write(str(col)+'\\t'+str(llist))\n",
    "    f.write('\\n')\n",
    "    f.write(\"loglist:\"+'\\n')\n",
    "    for col in loglist:\n",
    "        f.write(str(col)+'\\t')\n",
    "    f.write('\\n')\n",
    "\n",
    "    f.write(\"feat_cols:\"+'\\n')\n",
    "    for col in feat_cols:\n",
    "        f.write(str(col)+'\\t')\n",
    "    f.write('\\n')"
   ]
  }
 ],
 "metadata": {
  "kernelspec": {
   "display_name": "Python 3 (ipykernel)",
   "language": "python",
   "name": "python3"
  },
  "language_info": {
   "codemirror_mode": {
    "name": "ipython",
    "version": 3
   },
   "file_extension": ".py",
   "mimetype": "text/x-python",
   "name": "python",
   "nbconvert_exporter": "python",
   "pygments_lexer": "ipython3",
   "version": "3.7.10"
  }
 },
 "nbformat": 4,
 "nbformat_minor": 5
}
