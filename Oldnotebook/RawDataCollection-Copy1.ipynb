{
 "cells": [
  {
   "cell_type": "code",
   "execution_count": 1,
   "id": "9065fe8c",
   "metadata": {},
   "outputs": [],
   "source": [
    "from source.RawDataCollection import ReadDataFile,RawDataCollection,SaveCollectedData\n",
    "import pandas as pd\n",
    "import os\n",
    "from DataInfo import ISU_list_MBRN_sum_top,MBRN_sum_top,header_df"
   ]
  },
  {
   "cell_type": "code",
   "execution_count": 2,
   "id": "27a3464a",
   "metadata": {},
   "outputs": [],
   "source": [
    "path_dir = '/Data/ksqord/'\n",
    "#ISUlist=ISU_list_MBRN_sum_top\n",
    "# mbrnlist = MBRN_sum_top\n",
    "#SaveDirPath='/Data/LOBData/CollectedRawData/MBRN_sum_top/'"
   ]
  },
  {
   "cell_type": "code",
   "execution_count": 3,
   "id": "fbb380d5",
   "metadata": {},
   "outputs": [],
   "source": [
    "a=os.listdir(path_dir)\n",
    "a.sort()"
   ]
  },
  {
   "cell_type": "code",
   "execution_count": 4,
   "id": "64ee1787",
   "metadata": {},
   "outputs": [
    {
     "name": "stdout",
     "output_type": "stream",
     "text": [
      "Reading  /Data/ksqord/ksqord_20170601.csv\n"
     ]
    },
    {
     "name": "stderr",
     "output_type": "stream",
     "text": [
      "/root/anaconda3/lib/python3.7/site-packages/ipykernel_launcher.py:2: DtypeWarning: Columns (8) have mixed types.Specify dtype option on import or set low_memory=False.\n",
      "  \n"
     ]
    }
   ],
   "source": [
    "filename = a[0]\n",
    "data=ReadDataFile(path_dir+filename)\n",
    "stocklist=list(data['ISU_CD'].unique())\n",
    "stocklist_full=stocklist\n",
    "stocklist_aa = stocklist"
   ]
  },
  {
   "cell_type": "code",
   "execution_count": 5,
   "id": "b968af0f",
   "metadata": {},
   "outputs": [
    {
     "name": "stdout",
     "output_type": "stream",
     "text": [
      "Reading  /Data/ksqord/ksqord_20170602.csv\n",
      "Reading  /Data/ksqord/ksqord_20170605.csv\n"
     ]
    },
    {
     "name": "stderr",
     "output_type": "stream",
     "text": [
      "/root/anaconda3/lib/python3.7/site-packages/ipykernel_launcher.py:2: DtypeWarning: Columns (8) have mixed types.Specify dtype option on import or set low_memory=False.\n",
      "  \n"
     ]
    },
    {
     "name": "stdout",
     "output_type": "stream",
     "text": [
      "Reading  /Data/ksqord/ksqord_20170607.csv\n",
      "Reading  /Data/ksqord/ksqord_20170608.csv\n",
      "Reading  /Data/ksqord/ksqord_20170609.csv\n",
      "Reading  /Data/ksqord/ksqord_20170612.csv\n",
      "Reading  /Data/ksqord/ksqord_20170613.csv\n",
      "Reading  /Data/ksqord/ksqord_20170614.csv\n",
      "Reading  /Data/ksqord/ksqord_20170615.csv\n",
      "Reading  /Data/ksqord/ksqord_20170616.csv\n",
      "Reading  /Data/ksqord/ksqord_20170619.csv\n",
      "Reading  /Data/ksqord/ksqord_20170620.csv\n",
      "Reading  /Data/ksqord/ksqord_20170621.csv\n",
      "Reading  /Data/ksqord/ksqord_20170622.csv\n",
      "Reading  /Data/ksqord/ksqord_20170623.csv\n",
      "Reading  /Data/ksqord/ksqord_20170626.csv\n",
      "Reading  /Data/ksqord/ksqord_20170627.csv\n",
      "Reading  /Data/ksqord/ksqord_20170628.csv\n",
      "Reading  /Data/ksqord/ksqord_20170629.csv\n",
      "Reading  /Data/ksqord/ksqord_20170630.csv\n",
      "Reading  /Data/ksqord/ksqord_20170703.csv\n",
      "Reading  /Data/ksqord/ksqord_20170704.csv\n",
      "Reading  /Data/ksqord/ksqord_20170705.csv\n",
      "Reading  /Data/ksqord/ksqord_20170706.csv\n",
      "Reading  /Data/ksqord/ksqord_20170707.csv\n",
      "Reading  /Data/ksqord/ksqord_20170710.csv\n",
      "Reading  /Data/ksqord/ksqord_20170711.csv\n",
      "Reading  /Data/ksqord/ksqord_20170712.csv\n",
      "Reading  /Data/ksqord/ksqord_20170713.csv\n",
      "Reading  /Data/ksqord/ksqord_20170714.csv\n",
      "Reading  /Data/ksqord/ksqord_20170717.csv\n",
      "Reading  /Data/ksqord/ksqord_20170718.csv\n",
      "Reading  /Data/ksqord/ksqord_20170719.csv\n",
      "Reading  /Data/ksqord/ksqord_20170720.csv\n",
      "Reading  /Data/ksqord/ksqord_20170721.csv\n",
      "Reading  /Data/ksqord/ksqord_20170724.csv\n",
      "Reading  /Data/ksqord/ksqord_20170725.csv\n",
      "Reading  /Data/ksqord/ksqord_20170726.csv\n",
      "Reading  /Data/ksqord/ksqord_20170727.csv\n",
      "Reading  /Data/ksqord/ksqord_20170728.csv\n",
      "Reading  /Data/ksqord/ksqord_20170731.csv\n",
      "Reading  /Data/ksqord/ksqord_20170801.csv\n",
      "Reading  /Data/ksqord/ksqord_20170802.csv\n",
      "Reading  /Data/ksqord/ksqord_20170803.csv\n",
      "Reading  /Data/ksqord/ksqord_20170804.csv\n",
      "Reading  /Data/ksqord/ksqord_20170807.csv\n",
      "Reading  /Data/ksqord/ksqord_20170808.csv\n",
      "Reading  /Data/ksqord/ksqord_20170809.csv\n",
      "Reading  /Data/ksqord/ksqord_20170810.csv\n",
      "Reading  /Data/ksqord/ksqord_20170811.csv\n",
      "Reading  /Data/ksqord/ksqord_20170814.csv\n",
      "Reading  /Data/ksqord/ksqord_20170816.csv\n",
      "Reading  /Data/ksqord/ksqord_20170817.csv\n",
      "Reading  /Data/ksqord/ksqord_20170818.csv\n",
      "Reading  /Data/ksqord/ksqord_20170821.csv\n",
      "Reading  /Data/ksqord/ksqord_20170822.csv\n",
      "Reading  /Data/ksqord/ksqord_20170823.csv\n",
      "Reading  /Data/ksqord/ksqord_20170824.csv\n",
      "Reading  /Data/ksqord/ksqord_20170825.csv\n",
      "Reading  /Data/ksqord/ksqord_20170828.csv\n",
      "Reading  /Data/ksqord/ksqord_20170829.csv\n",
      "Reading  /Data/ksqord/ksqord_20170830.csv\n",
      "Reading  /Data/ksqord/ksqord_20170831.csv\n",
      "Reading  /Data/ksqord/ksqord_20170901.csv\n",
      "Reading  /Data/ksqord/ksqord_20170904.csv\n",
      "Reading  /Data/ksqord/ksqord_20170905.csv\n",
      "Reading  /Data/ksqord/ksqord_20170906.csv\n",
      "Reading  /Data/ksqord/ksqord_20170907.csv\n",
      "Reading  /Data/ksqord/ksqord_20170908.csv\n",
      "Reading  /Data/ksqord/ksqord_20170911.csv\n",
      "Reading  /Data/ksqord/ksqord_20170912.csv\n",
      "Reading  /Data/ksqord/ksqord_20170913.csv\n",
      "Reading  /Data/ksqord/ksqord_20170914.csv\n",
      "Reading  /Data/ksqord/ksqord_20170915.csv\n",
      "Reading  /Data/ksqord/ksqord_20170918.csv\n",
      "Reading  /Data/ksqord/ksqord_20170919.csv\n",
      "Reading  /Data/ksqord/ksqord_20170920.csv\n",
      "Reading  /Data/ksqord/ksqord_20170921.csv\n",
      "Reading  /Data/ksqord/ksqord_20170922.csv\n",
      "Reading  /Data/ksqord/ksqord_20170925.csv\n",
      "Reading  /Data/ksqord/ksqord_20170926.csv\n",
      "Reading  /Data/ksqord/ksqord_20170927.csv\n",
      "Reading  /Data/ksqord/ksqord_20170928.csv\n",
      "Reading  /Data/ksqord/ksqord_20170929.csv\n"
     ]
    }
   ],
   "source": [
    "for filename in a[1:]:\n",
    "    data=ReadDataFile(path_dir+filename)\n",
    "    stocklist=list(data['ISU_CD'].unique())\n",
    "    stocklist_full=stocklist_full+stocklist\n",
    "    stocklist_aa = [stock for stock in stocklist_aa if stock in stocklist]"
   ]
  },
  {
   "cell_type": "code",
   "execution_count": 6,
   "id": "61c89fdc",
   "metadata": {},
   "outputs": [
    {
     "data": {
      "text/plain": [
       "1231"
      ]
     },
     "execution_count": 6,
     "metadata": {},
     "output_type": "execute_result"
    }
   ],
   "source": [
    "len(stocklist)"
   ]
  },
  {
   "cell_type": "code",
   "execution_count": 7,
   "id": "22c71dc1",
   "metadata": {},
   "outputs": [
    {
     "data": {
      "text/plain": [
       "1151"
      ]
     },
     "execution_count": 7,
     "metadata": {},
     "output_type": "execute_result"
    }
   ],
   "source": [
    "len([stock for stock in stocklist_aa if stock in stocklist])"
   ]
  },
  {
   "cell_type": "code",
   "execution_count": 8,
   "id": "ec5de866",
   "metadata": {},
   "outputs": [],
   "source": [
    "with open(\"stocklist_full.txt\", 'w') as f:\n",
    "    for s in stocklist_full:\n",
    "        f.write(str(s) + '\\n')\n",
    "with open(\"stocklist_aa.txt\", 'w') as f:\n",
    "    for s in stocklist_aa:\n",
    "        f.write(str(s) + '\\n')\n",
    "        "
   ]
  },
  {
   "cell_type": "code",
   "execution_count": 9,
   "id": "9a3448ac",
   "metadata": {},
   "outputs": [],
   "source": [
    "with open(\"stocklist_full.txt\", 'r') as f:\n",
    "    stocklist_full = [line.rstrip('\\n') for line in f]\n",
    "with open(\"stocklist_aa.txt\", 'r') as f:\n",
    "    stocklist_aa = [line.rstrip('\\n') for line in f]"
   ]
  },
  {
   "cell_type": "code",
   "execution_count": 10,
   "id": "81c7eb22",
   "metadata": {},
   "outputs": [],
   "source": [
    "tot_columns=list(data.columns)"
   ]
  },
  {
   "cell_type": "code",
   "execution_count": 11,
   "id": "5612fba8",
   "metadata": {},
   "outputs": [],
   "source": [
    "key_columns=['ISU_CD', 'ORD_DD','ORD_ACPT_TM']"
   ]
  },
  {
   "cell_type": "code",
   "execution_count": 12,
   "id": "6ccf1d73",
   "metadata": {},
   "outputs": [],
   "source": [
    "env_columns=['REGUL_OFFHR_TP_CD','ASK_STEP1_BSTORD_PRC', 'ASK_STEP1_BSTORD_RQTY',\n",
    "       'ASK_STEP2_BSTORD_PRC', 'ASK_STEP2_BSTORD_RQTY', 'ASK_STEP3_BSTORD_PRC',\n",
    "       'ASK_STEP3_BSTORD_RQTY', 'ASK_STEP4_BSTORD_PRC',\n",
    "       'ASK_STEP4_BSTORD_RQTY', 'ASK_STEP5_BSTORD_PRC',\n",
    "       'ASK_STEP5_BSTORD_RQTY', 'BID_STEP1_BSTORD_PRC',\n",
    "       'BID_STEP1_BSTORD_RQTY', 'BID_STEP2_BSTORD_PRC',\n",
    "       'BID_STEP2_BSTORD_RQTY', 'BID_STEP3_BSTORD_PRC',\n",
    "       'BID_STEP3_BSTORD_RQTY', 'BID_STEP4_BSTORD_PRC',\n",
    "       'BID_STEP4_BSTORD_RQTY', 'BID_STEP5_BSTORD_PRC',\n",
    "       'BID_STEP5_BSTORD_RQTY', 'TRST_PRINC_TP_CD',\n",
    "       '매도총호가잔량', '매수총호가잔량','직전체결가격', '누적체결수량', '누적거래대금',\n",
    "       '시가', '고가', '저가', '시장구분코드', \n",
    "       'MKTSTAT_TP_CD', '매도10단계호가합계잔량', '매수10단계호가합계잔량',]"
   ]
  },
  {
   "cell_type": "code",
   "execution_count": 13,
   "id": "fccee9c4",
   "metadata": {},
   "outputs": [],
   "source": [
    "ord_columns=['ORD_ACPT_NO', 'REGUL_OFFHR_TP_CD', 'BLKTRD_TP_CD',\n",
    "       '호가장처리가격', 'ASKBID_TP_CD', 'MODCANCL_TP_CD', 'ORD_TP_CD', 'ORD_COND_CD',\n",
    "       'INVST_TP_CD', 'ORD_QTY', 'ORD_PRC',\n",
    "       '호가우선순위번호', 'MBR_NO', 'BRN_NO', 'CNTR_CD', 'TRST_PRINC_TP_CD',\n",
    "       'FORNINVST_TP_CD', 'ORD_MEDIA_TP_CD', '회원사주문시각', '예상체결가격', '예상체결수량',\n",
    "       '매도총호가잔량', '매수총호가잔량', '호가체결접수순서번호', '직전체결가격', '누적체결수량', '누적거래대금',\n",
    "       'AGG_TM', '시가', '고가', '저가', 'ORGN_ORD_ACPT_NO', '시장구분코드', '자동취소처리구분코드',\n",
    "       'MKTSTAT_TP_CD', '매도10단계호가합계잔량', '매수10단계호가합계잔량', 'PT_TP_CD']"
   ]
  },
  {
   "cell_type": "code",
   "execution_count": 14,
   "id": "23181e64",
   "metadata": {},
   "outputs": [
    {
     "data": {
      "text/plain": [
       "1231"
      ]
     },
     "execution_count": 14,
     "metadata": {},
     "output_type": "execute_result"
    }
   ],
   "source": [
    "len(data['ISU_CD'].unique())"
   ]
  }
 ],
 "metadata": {
  "kernelspec": {
   "display_name": "Python 3 (ipykernel)",
   "language": "python",
   "name": "python3"
  },
  "language_info": {
   "codemirror_mode": {
    "name": "ipython",
    "version": 3
   },
   "file_extension": ".py",
   "mimetype": "text/x-python",
   "name": "python",
   "nbconvert_exporter": "python",
   "pygments_lexer": "ipython3",
   "version": "3.7.10"
  }
 },
 "nbformat": 4,
 "nbformat_minor": 5
}
