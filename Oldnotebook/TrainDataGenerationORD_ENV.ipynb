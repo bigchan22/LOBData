{
 "cells": [
  {
   "cell_type": "code",
   "execution_count": 1,
   "id": "c50a25f7",
   "metadata": {},
   "outputs": [],
   "source": [
    "import pandas as pd\n",
    "import numpy as np\n",
    "import os\n",
    "from datetime import datetime\n",
    "from source.TrainDataGeneration import append_ORD_TM,append_ORD_VOL,append_TM_GP,GetGroupDataFrame,append_STEP5\n",
    "from DataInfo import ISU_list_MBRN_sum_top,MBRN_sum_top,header_df,env_columns\n",
    "\n",
    "\n",
    "\n",
    "ISUlist_init=['KR7071930002',\n",
    " 'KR7040670002',\n",
    " 'KR7044180008',\n",
    " 'KR7052420007',\n",
    " 'KR7043100007',\n",
    " 'KR7024810004',\n",
    " 'KR7036540003',\n",
    " 'KR7058820002',\n",
    " 'KR7018700005',\n",
    " 'KR7043200005']\n",
    "ISUlist_init=['KR7031860000', 'KR7215600008', 'KR7028040004', 'KR7030270003',\n",
    "       'KR7065450009', 'KR7068270008', 'KR7039670005', 'KR7043200005',\n",
    "       'KR7086520004', 'KR7203650007']\n",
    "MBR, BRN =42,1\n",
    "groupmin=10\n",
    "datasubfix=\"1111Train_08\"\n",
    "PathDir = '/Data/ksqord1516/'\n",
    "EnvPathDir=PathDir+'EnvData/'\n",
    "TrainPathDir='/Data/LOBData/TrainData/'"
   ]
  },
  {
   "cell_type": "code",
   "execution_count": 2,
   "id": "ef1df877",
   "metadata": {},
   "outputs": [
    {
     "name": "stdout",
     "output_type": "stream",
     "text": [
      "ksqord_20150701.csv\n"
     ]
    },
    {
     "ename": "KeyboardInterrupt",
     "evalue": "",
     "output_type": "error",
     "traceback": [
      "\u001b[0;31m---------------------------------------------------------------------------\u001b[0m",
      "\u001b[0;31mKeyboardInterrupt\u001b[0m                         Traceback (most recent call last)",
      "\u001b[0;32m/tmp/ipykernel_464613/1572656179.py\u001b[0m in \u001b[0;36m<module>\u001b[0;34m\u001b[0m\n\u001b[1;32m     22\u001b[0m     \u001b[0menvfilename\u001b[0m \u001b[0;34m=\u001b[0m \u001b[0mfilename\u001b[0m\u001b[0;34m[\u001b[0m\u001b[0;34m:\u001b[0m\u001b[0;34m-\u001b[0m\u001b[0;36m4\u001b[0m\u001b[0;34m]\u001b[0m\u001b[0;34m+\u001b[0m\u001b[0;34m\"_10min_last.csv\"\u001b[0m\u001b[0;34m\u001b[0m\u001b[0;34m\u001b[0m\u001b[0m\n\u001b[1;32m     23\u001b[0m     \u001b[0mprint\u001b[0m\u001b[0;34m(\u001b[0m\u001b[0mfilename\u001b[0m\u001b[0;34m)\u001b[0m\u001b[0;34m\u001b[0m\u001b[0;34m\u001b[0m\u001b[0m\n\u001b[0;32m---> 24\u001b[0;31m     \u001b[0mData\u001b[0m\u001b[0;34m=\u001b[0m\u001b[0mpd\u001b[0m\u001b[0;34m.\u001b[0m\u001b[0mread_csv\u001b[0m\u001b[0;34m(\u001b[0m\u001b[0mos\u001b[0m\u001b[0;34m.\u001b[0m\u001b[0mpath\u001b[0m\u001b[0;34m.\u001b[0m\u001b[0mjoin\u001b[0m\u001b[0;34m(\u001b[0m\u001b[0mPathDir\u001b[0m\u001b[0;34m,\u001b[0m\u001b[0mfilename\u001b[0m\u001b[0;34m)\u001b[0m\u001b[0;34m,\u001b[0m\u001b[0mnames\u001b[0m\u001b[0;34m=\u001b[0m\u001b[0mheader_df\u001b[0m\u001b[0;34m)\u001b[0m\u001b[0;34m\u001b[0m\u001b[0;34m\u001b[0m\u001b[0m\n\u001b[0m\u001b[1;32m     25\u001b[0m     \u001b[0mData\u001b[0m\u001b[0;34m=\u001b[0m\u001b[0mappend_ORD_TM\u001b[0m\u001b[0;34m(\u001b[0m\u001b[0mData\u001b[0m\u001b[0;34m)\u001b[0m\u001b[0;34m\u001b[0m\u001b[0;34m\u001b[0m\u001b[0m\n\u001b[1;32m     26\u001b[0m     \u001b[0mData\u001b[0m\u001b[0;34m=\u001b[0m\u001b[0mappend_ORD_VOL\u001b[0m\u001b[0;34m(\u001b[0m\u001b[0mData\u001b[0m\u001b[0;34m)\u001b[0m\u001b[0;34m\u001b[0m\u001b[0;34m\u001b[0m\u001b[0m\n",
      "\u001b[0;32m~/anaconda3/lib/python3.7/site-packages/pandas/util/_decorators.py\u001b[0m in \u001b[0;36mwrapper\u001b[0;34m(*args, **kwargs)\u001b[0m\n\u001b[1;32m    309\u001b[0m                     \u001b[0mstacklevel\u001b[0m\u001b[0;34m=\u001b[0m\u001b[0mstacklevel\u001b[0m\u001b[0;34m,\u001b[0m\u001b[0;34m\u001b[0m\u001b[0;34m\u001b[0m\u001b[0m\n\u001b[1;32m    310\u001b[0m                 )\n\u001b[0;32m--> 311\u001b[0;31m             \u001b[0;32mreturn\u001b[0m \u001b[0mfunc\u001b[0m\u001b[0;34m(\u001b[0m\u001b[0;34m*\u001b[0m\u001b[0margs\u001b[0m\u001b[0;34m,\u001b[0m \u001b[0;34m**\u001b[0m\u001b[0mkwargs\u001b[0m\u001b[0;34m)\u001b[0m\u001b[0;34m\u001b[0m\u001b[0;34m\u001b[0m\u001b[0m\n\u001b[0m\u001b[1;32m    312\u001b[0m \u001b[0;34m\u001b[0m\u001b[0m\n\u001b[1;32m    313\u001b[0m         \u001b[0;32mreturn\u001b[0m \u001b[0mwrapper\u001b[0m\u001b[0;34m\u001b[0m\u001b[0;34m\u001b[0m\u001b[0m\n",
      "\u001b[0;32m~/anaconda3/lib/python3.7/site-packages/pandas/io/parsers/readers.py\u001b[0m in \u001b[0;36mread_csv\u001b[0;34m(filepath_or_buffer, sep, delimiter, header, names, index_col, usecols, squeeze, prefix, mangle_dupe_cols, dtype, engine, converters, true_values, false_values, skipinitialspace, skiprows, skipfooter, nrows, na_values, keep_default_na, na_filter, verbose, skip_blank_lines, parse_dates, infer_datetime_format, keep_date_col, date_parser, dayfirst, cache_dates, iterator, chunksize, compression, thousands, decimal, lineterminator, quotechar, quoting, doublequote, escapechar, comment, encoding, encoding_errors, dialect, error_bad_lines, warn_bad_lines, on_bad_lines, delim_whitespace, low_memory, memory_map, float_precision, storage_options)\u001b[0m\n\u001b[1;32m    584\u001b[0m     \u001b[0mkwds\u001b[0m\u001b[0;34m.\u001b[0m\u001b[0mupdate\u001b[0m\u001b[0;34m(\u001b[0m\u001b[0mkwds_defaults\u001b[0m\u001b[0;34m)\u001b[0m\u001b[0;34m\u001b[0m\u001b[0;34m\u001b[0m\u001b[0m\n\u001b[1;32m    585\u001b[0m \u001b[0;34m\u001b[0m\u001b[0m\n\u001b[0;32m--> 586\u001b[0;31m     \u001b[0;32mreturn\u001b[0m \u001b[0m_read\u001b[0m\u001b[0;34m(\u001b[0m\u001b[0mfilepath_or_buffer\u001b[0m\u001b[0;34m,\u001b[0m \u001b[0mkwds\u001b[0m\u001b[0;34m)\u001b[0m\u001b[0;34m\u001b[0m\u001b[0;34m\u001b[0m\u001b[0m\n\u001b[0m\u001b[1;32m    587\u001b[0m \u001b[0;34m\u001b[0m\u001b[0m\n\u001b[1;32m    588\u001b[0m \u001b[0;34m\u001b[0m\u001b[0m\n",
      "\u001b[0;32m~/anaconda3/lib/python3.7/site-packages/pandas/io/parsers/readers.py\u001b[0m in \u001b[0;36m_read\u001b[0;34m(filepath_or_buffer, kwds)\u001b[0m\n\u001b[1;32m    486\u001b[0m \u001b[0;34m\u001b[0m\u001b[0m\n\u001b[1;32m    487\u001b[0m     \u001b[0;32mwith\u001b[0m \u001b[0mparser\u001b[0m\u001b[0;34m:\u001b[0m\u001b[0;34m\u001b[0m\u001b[0;34m\u001b[0m\u001b[0m\n\u001b[0;32m--> 488\u001b[0;31m         \u001b[0;32mreturn\u001b[0m \u001b[0mparser\u001b[0m\u001b[0;34m.\u001b[0m\u001b[0mread\u001b[0m\u001b[0;34m(\u001b[0m\u001b[0mnrows\u001b[0m\u001b[0;34m)\u001b[0m\u001b[0;34m\u001b[0m\u001b[0;34m\u001b[0m\u001b[0m\n\u001b[0m\u001b[1;32m    489\u001b[0m \u001b[0;34m\u001b[0m\u001b[0m\n\u001b[1;32m    490\u001b[0m \u001b[0;34m\u001b[0m\u001b[0m\n",
      "\u001b[0;32m~/anaconda3/lib/python3.7/site-packages/pandas/io/parsers/readers.py\u001b[0m in \u001b[0;36mread\u001b[0;34m(self, nrows)\u001b[0m\n\u001b[1;32m   1045\u001b[0m     \u001b[0;32mdef\u001b[0m \u001b[0mread\u001b[0m\u001b[0;34m(\u001b[0m\u001b[0mself\u001b[0m\u001b[0;34m,\u001b[0m \u001b[0mnrows\u001b[0m\u001b[0;34m=\u001b[0m\u001b[0;32mNone\u001b[0m\u001b[0;34m)\u001b[0m\u001b[0;34m:\u001b[0m\u001b[0;34m\u001b[0m\u001b[0;34m\u001b[0m\u001b[0m\n\u001b[1;32m   1046\u001b[0m         \u001b[0mnrows\u001b[0m \u001b[0;34m=\u001b[0m \u001b[0mvalidate_integer\u001b[0m\u001b[0;34m(\u001b[0m\u001b[0;34m\"nrows\"\u001b[0m\u001b[0;34m,\u001b[0m \u001b[0mnrows\u001b[0m\u001b[0;34m)\u001b[0m\u001b[0;34m\u001b[0m\u001b[0;34m\u001b[0m\u001b[0m\n\u001b[0;32m-> 1047\u001b[0;31m         \u001b[0mindex\u001b[0m\u001b[0;34m,\u001b[0m \u001b[0mcolumns\u001b[0m\u001b[0;34m,\u001b[0m \u001b[0mcol_dict\u001b[0m \u001b[0;34m=\u001b[0m \u001b[0mself\u001b[0m\u001b[0;34m.\u001b[0m\u001b[0m_engine\u001b[0m\u001b[0;34m.\u001b[0m\u001b[0mread\u001b[0m\u001b[0;34m(\u001b[0m\u001b[0mnrows\u001b[0m\u001b[0;34m)\u001b[0m\u001b[0;34m\u001b[0m\u001b[0;34m\u001b[0m\u001b[0m\n\u001b[0m\u001b[1;32m   1048\u001b[0m \u001b[0;34m\u001b[0m\u001b[0m\n\u001b[1;32m   1049\u001b[0m         \u001b[0;32mif\u001b[0m \u001b[0mindex\u001b[0m \u001b[0;32mis\u001b[0m \u001b[0;32mNone\u001b[0m\u001b[0;34m:\u001b[0m\u001b[0;34m\u001b[0m\u001b[0;34m\u001b[0m\u001b[0m\n",
      "\u001b[0;32m~/anaconda3/lib/python3.7/site-packages/pandas/io/parsers/c_parser_wrapper.py\u001b[0m in \u001b[0;36mread\u001b[0;34m(self, nrows)\u001b[0m\n\u001b[1;32m    222\u001b[0m         \u001b[0;32mtry\u001b[0m\u001b[0;34m:\u001b[0m\u001b[0;34m\u001b[0m\u001b[0;34m\u001b[0m\u001b[0m\n\u001b[1;32m    223\u001b[0m             \u001b[0;32mif\u001b[0m \u001b[0mself\u001b[0m\u001b[0;34m.\u001b[0m\u001b[0mlow_memory\u001b[0m\u001b[0;34m:\u001b[0m\u001b[0;34m\u001b[0m\u001b[0;34m\u001b[0m\u001b[0m\n\u001b[0;32m--> 224\u001b[0;31m                 \u001b[0mchunks\u001b[0m \u001b[0;34m=\u001b[0m \u001b[0mself\u001b[0m\u001b[0;34m.\u001b[0m\u001b[0m_reader\u001b[0m\u001b[0;34m.\u001b[0m\u001b[0mread_low_memory\u001b[0m\u001b[0;34m(\u001b[0m\u001b[0mnrows\u001b[0m\u001b[0;34m)\u001b[0m\u001b[0;34m\u001b[0m\u001b[0;34m\u001b[0m\u001b[0m\n\u001b[0m\u001b[1;32m    225\u001b[0m                 \u001b[0;31m# destructive to chunks\u001b[0m\u001b[0;34m\u001b[0m\u001b[0;34m\u001b[0m\u001b[0;34m\u001b[0m\u001b[0m\n\u001b[1;32m    226\u001b[0m                 \u001b[0mdata\u001b[0m \u001b[0;34m=\u001b[0m \u001b[0m_concatenate_chunks\u001b[0m\u001b[0;34m(\u001b[0m\u001b[0mchunks\u001b[0m\u001b[0;34m)\u001b[0m\u001b[0;34m\u001b[0m\u001b[0;34m\u001b[0m\u001b[0m\n",
      "\u001b[0;32m~/anaconda3/lib/python3.7/site-packages/pandas/_libs/parsers.pyx\u001b[0m in \u001b[0;36mpandas._libs.parsers.TextReader.read_low_memory\u001b[0;34m()\u001b[0m\n",
      "\u001b[0;32m~/anaconda3/lib/python3.7/site-packages/pandas/_libs/parsers.pyx\u001b[0m in \u001b[0;36mpandas._libs.parsers.TextReader._read_rows\u001b[0;34m()\u001b[0m\n",
      "\u001b[0;32m~/anaconda3/lib/python3.7/site-packages/pandas/_libs/parsers.pyx\u001b[0m in \u001b[0;36mpandas._libs.parsers.TextReader._convert_column_data\u001b[0;34m()\u001b[0m\n",
      "\u001b[0;32m~/anaconda3/lib/python3.7/site-packages/pandas/_libs/parsers.pyx\u001b[0m in \u001b[0;36mpandas._libs.parsers.TextReader._convert_tokens\u001b[0;34m()\u001b[0m\n",
      "\u001b[0;32m~/anaconda3/lib/python3.7/site-packages/pandas/_libs/parsers.pyx\u001b[0m in \u001b[0;36mpandas._libs.parsers.TextReader._convert_with_dtype\u001b[0;34m()\u001b[0m\n",
      "\u001b[0;32m~/anaconda3/lib/python3.7/site-packages/pandas/core/dtypes/common.py\u001b[0m in \u001b[0;36mis_extension_array_dtype\u001b[0;34m(arr_or_dtype)\u001b[0m\n\u001b[1;32m   1418\u001b[0m \u001b[0;34m\u001b[0m\u001b[0m\n\u001b[1;32m   1419\u001b[0m \u001b[0;34m\u001b[0m\u001b[0m\n\u001b[0;32m-> 1420\u001b[0;31m \u001b[0;32mdef\u001b[0m \u001b[0mis_extension_array_dtype\u001b[0m\u001b[0;34m(\u001b[0m\u001b[0marr_or_dtype\u001b[0m\u001b[0;34m)\u001b[0m \u001b[0;34m->\u001b[0m \u001b[0mbool\u001b[0m\u001b[0;34m:\u001b[0m\u001b[0;34m\u001b[0m\u001b[0;34m\u001b[0m\u001b[0m\n\u001b[0m\u001b[1;32m   1421\u001b[0m     \"\"\"\n\u001b[1;32m   1422\u001b[0m     \u001b[0mCheck\u001b[0m \u001b[0;32mif\u001b[0m \u001b[0man\u001b[0m \u001b[0mobject\u001b[0m \u001b[0;32mis\u001b[0m \u001b[0ma\u001b[0m \u001b[0mpandas\u001b[0m \u001b[0mextension\u001b[0m \u001b[0marray\u001b[0m \u001b[0mtype\u001b[0m\u001b[0;34m.\u001b[0m\u001b[0;34m\u001b[0m\u001b[0;34m\u001b[0m\u001b[0m\n",
      "\u001b[0;31mKeyboardInterrupt\u001b[0m: "
     ]
    }
   ],
   "source": [
    "columns = header_df\n",
    "env_columns = env_columns\n",
    "ord_columns = ['ISU_CD', 'ORD_DD', 'ORD_ACPT_NO', 'BLKTRD_TP_CD', '호가장처리가격', 'ASKBID_TP_CD', 'MODCANCL_TP_CD',\n",
    " 'ORD_TP_CD', 'ORD_COND_CD', 'INVST_TP_CD', 'ORD_ACPT_TM', 'ORD_QTY', 'ORD_PRC', '호가우선순위번호', 'MBR_NO', 'BRN_NO',\n",
    " 'CNTR_CD', 'TRST_PRINC_TP_CD', 'FORNINVST_TP_CD', 'ORD_MEDIA_TP_CD', '예상체결가격', '예상체결수량', '호가체결접수순서번호',\n",
    " '누적체결수량', '누적거래대금', 'AGG_TM', 'ORGN_ORD_ACPT_NO', '자동취소처리구분코드', 'PT_TP_CD']\n",
    "CancelCount=True\n",
    "feat_cols=['매도5단계호가합계잔량', '매수5단계호가합계잔량', '매도10단계호가합계잔량',\n",
    "       '매수10단계호가합계잔량', '매도총호가잔량', '매수총호가잔량', '고가', '저가',\n",
    "           '시가', '직전체결가격','NET_ORD_QTY2']\n",
    "# feat_cols=['매도총호가잔량', '매수총호가잔량', '고가', '저가', \n",
    "#            '직전체결가격','NET_ORD_QTY2']\n",
    "\n",
    "\n",
    "TotDF=pd.DataFrame()\n",
    "\n",
    "FileList=os.listdir(PathDir)\n",
    "FileList.sort()\n",
    "FileList= [ file for file in FileList if \".csv\" in file ]\n",
    "\n",
    "for filename in FileList:\n",
    "    envfilename = filename[:-4]+\"_10min_last.csv\"\n",
    "    print(filename)\n",
    "    Data=pd.read_csv(os.path.join(PathDir,filename),names=header_df)\n",
    "    Data=append_ORD_TM(Data)\n",
    "    Data=append_ORD_VOL(Data)\n",
    "    Data=append_TM_GP(Data,groupmin=groupmin)\n",
    "    Data['NET_ORD_QTY']=Data['ORD_QTY']*(2*Data['ASKBID_TP_CD']-3)*(2-Data['MODCANCL_TP_CD'])\n",
    "    Data['NET_ORD_VOL']=Data['NET_ORD_QTY']*(Data['ORD_PRC'] + Data['직전체결가격']*(Data['ORD_PRC'] == 0))\n",
    "\n",
    "    EnvData=pd.read_csv(EnvPathDir+envfilename)\n",
    "    ISU_list= [a for a in ISUlist_init  if a in EnvData.ISU_CD.unique() and a in Data.ISU_CD.unique() ]\n",
    "    print(ISU_list)\n",
    "    print(len(ISU_list))\n",
    "    if BRN is not None:\n",
    "        Data_MBRN=Data[(Data['MBR_NO']==MBR) & (Data['BRN_NO']==BRN)]\n",
    "    else:\n",
    "        Data_MBRN=Data[(Data['MBR_NO']==MBR)]\n",
    "    Data_MBRN=Data_MBRN[Data_MBRN['ISU_CD'].isin(ISU_list)]\n",
    "\n",
    "    groupcolumns=['ORD_DD','ISU_CD','TM_GP']\n",
    "    sumcolumns=['NET_ORD_QTY','NET_ORD_VOL']\n",
    "\n",
    "    meancolumns=['ORD_PRC']\n",
    "    lastcolumns=[]\n",
    "\n",
    "    GDF=GetGroupDataFrame(Data_MBRN,groupcolumns,sumcolumns,meancolumns,lastcolumns)\n",
    "    GDF.set_index(['ORD_DD','ISU_CD', 'TM_GP'], inplace=True)\n",
    "    GDF = GDF.reindex(pd.MultiIndex.from_product([GDF.index.levels[0],GDF.index.levels[1],list(range(-9,55))]))\n",
    "    GDF = GDF.fillna(0)\n",
    "    GDF = GDF.reset_index()\n",
    "    GDF=GDF.rename(columns={'level_2': 'TM_GP'})\n",
    "\n",
    "\n",
    "    ISU_list= [a for a in GDF.ISU_CD.unique() if a in EnvData.ISU_CD.unique() ]\n",
    "    EnvData_MBRN=EnvData[EnvData['ISU_CD'].isin(ISU_list)]\n",
    "\n",
    "    TrainData = pd.concat([GDF.set_index(['ORD_DD','ISU_CD', 'TM_GP']),EnvData_MBRN.set_index(['ORD_DD','ISU_CD', 'TM_GP'])],axis=1)\n",
    "    TrainData=TrainData.reset_index()\n",
    "    TrainData=append_STEP5(TrainData)\n",
    "    TrainData['10단계호가합계잔량']=TrainData['매수10단계호가합계잔량']+TrainData['매도10단계호가합계잔량']\n",
    "    TrainData[\"NET_ORD_QTY2\"]=(TrainData[\"NET_ORD_QTY\"]>0).replace({True: 1, False: 0})+(TrainData[\"NET_ORD_QTY\"]<0).replace({True: 0, False: 1})\n",
    "\n",
    "    Train_df=TrainData[(TrainData['TM_GP']>=0) & (TrainData['TM_GP']<39)]\n",
    "\n",
    "\n",
    "\n",
    "    divdict={}\n",
    "    loglist=[]\n",
    "    loglist+=['고가','저가','직전체결가격']\n",
    "    minmaxnormlist=[]\n",
    "    minmaxnormlist+=['매도총호가잔량', '매수총호가잔량', '고가', '저가', \n",
    "               '직전체결가격']\n",
    "\n",
    "    for divcol in divdict:\n",
    "        Train_df[divdict[divcol]]=Train_df[divdict[divcol]].div(Train_df[divcol],axis=0).values\n",
    "    Train_df[loglist]=np.log(Train_df[loglist])\n",
    "    Train_df[minmaxnormlist]=(Train_df[minmaxnormlist]-Train_df[minmaxnormlist].min())/(Train_df[minmaxnormlist].max()\\\n",
    "                                                                                        -Train_df[minmaxnormlist].min())\n",
    "    TotDF=TotDF.append(Train_df[feat_cols])\n",
    "TotDF['y']=TotDF['NET_ORD_QTY2'].shift(-1).fillna(1)\n",
    "TotDF['y'][38::39]=1\n",
    "TrainData[[\"NET_ORD_QTY\",\"NET_ORD_QTY2\"]]\n",
    "DataSubfix = str(MBR) + '_' + str(BRN) + datasubfix\n",
    "XDataname = 'Train_ORD' + '_' + DataSubfix + '.npy'\n",
    "YDataname = 'Train_ORD_Label_' + '_' + DataSubfix + '.npy'\n",
    "np.save(TrainPathDir+XDataname,TotDF[feat_cols[:]].values.astype('float64'))\n",
    "np.save(TrainPathDir+YDataname,TotDF['y'].values)\n",
    "print(\"path:\",TrainPathDir+XDataname)\n",
    "print(\"path:\",TrainPathDir+YDataname)"
   ]
  },
  {
   "cell_type": "code",
   "execution_count": null,
   "id": "5103b7ee",
   "metadata": {},
   "outputs": [],
   "source": []
  },
  {
   "cell_type": "code",
   "execution_count": null,
   "id": "c0c05c72",
   "metadata": {},
   "outputs": [],
   "source": []
  },
  {
   "cell_type": "code",
   "execution_count": null,
   "id": "4725121d",
   "metadata": {},
   "outputs": [],
   "source": []
  },
  {
   "cell_type": "code",
   "execution_count": null,
   "id": "74f108de",
   "metadata": {},
   "outputs": [],
   "source": [
    "TrainPathDir+XDataname"
   ]
  },
  {
   "cell_type": "code",
   "execution_count": null,
   "id": "d8d1c1e7",
   "metadata": {},
   "outputs": [],
   "source": [
    "print(TotDF[feat_cols[:-1]].shape)\n",
    "print(TotDF[feat_cols[-1]].shape)"
   ]
  },
  {
   "cell_type": "code",
   "execution_count": null,
   "id": "53d6af36",
   "metadata": {},
   "outputs": [],
   "source": [
    "\n",
    "    "
   ]
  }
 ],
 "metadata": {
  "kernelspec": {
   "display_name": "Python 3 (ipykernel)",
   "language": "python",
   "name": "python3"
  },
  "language_info": {
   "codemirror_mode": {
    "name": "ipython",
    "version": 3
   },
   "file_extension": ".py",
   "mimetype": "text/x-python",
   "name": "python",
   "nbconvert_exporter": "python",
   "pygments_lexer": "ipython3",
   "version": "3.7.10"
  }
 },
 "nbformat": 4,
 "nbformat_minor": 5
}
