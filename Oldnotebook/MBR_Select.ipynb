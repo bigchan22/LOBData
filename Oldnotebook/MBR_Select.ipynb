{
 "cells": [
  {
   "cell_type": "code",
   "execution_count": 1,
   "id": "dc658b38",
   "metadata": {},
   "outputs": [],
   "source": [
    "### 필요 라이브러리\n",
    "import os\n",
    "import pandas as pd\n",
    "import numpy as np\n",
    "import datetime as dt\n",
    "import math\n",
    "import warnings\n",
    "warnings.filterwarnings(action='ignore')\n",
    "# save numpy array as npy file\n",
    "from numpy import asarray\n",
    "from numpy import save\n",
    "from DataInfo import *\n",
    "### 데이터 보여지는 개수 설정\n",
    "pd.set_option('display.max_columns', 40)\n",
    "pd.set_option('display.max_rows', 300)"
   ]
  },
  {
   "cell_type": "code",
   "execution_count": 2,
   "id": "87d6b326",
   "metadata": {},
   "outputs": [],
   "source": [
    "# countdf=pd.read_csv('./StatsForDataSelection/AlmostFullColumn_count')\n",
    "sumdf=pd.read_csv('./StatsForDataSelection/AlmostFullColumn_sum1516')"
   ]
  },
  {
   "cell_type": "code",
   "execution_count": 3,
   "id": "7a5f7b83",
   "metadata": {},
   "outputs": [
    {
     "data": {
      "text/html": [
       "<div>\n",
       "<style scoped>\n",
       "    .dataframe tbody tr th:only-of-type {\n",
       "        vertical-align: middle;\n",
       "    }\n",
       "\n",
       "    .dataframe tbody tr th {\n",
       "        vertical-align: top;\n",
       "    }\n",
       "\n",
       "    .dataframe thead th {\n",
       "        text-align: right;\n",
       "    }\n",
       "</style>\n",
       "<table border=\"1\" class=\"dataframe\">\n",
       "  <thead>\n",
       "    <tr style=\"text-align: right;\">\n",
       "      <th></th>\n",
       "      <th>MBR_NO</th>\n",
       "      <th>BRN_NO</th>\n",
       "      <th>ASKBID_TP_CD</th>\n",
       "      <th>MODCANCL_TP_CD</th>\n",
       "      <th>PT_TP_CD</th>\n",
       "      <th>ORD_PRC</th>\n",
       "      <th>ORD_QTY</th>\n",
       "      <th>ORD_VOL</th>\n",
       "    </tr>\n",
       "  </thead>\n",
       "  <tbody>\n",
       "    <tr>\n",
       "      <th>0</th>\n",
       "      <td>1</td>\n",
       "      <td>1</td>\n",
       "      <td>1</td>\n",
       "      <td>1</td>\n",
       "      <td>0</td>\n",
       "      <td>644490721.0</td>\n",
       "      <td>46362990.0</td>\n",
       "      <td>4.253802e+09</td>\n",
       "    </tr>\n",
       "    <tr>\n",
       "      <th>1</th>\n",
       "      <td>1</td>\n",
       "      <td>1</td>\n",
       "      <td>1</td>\n",
       "      <td>2</td>\n",
       "      <td>0</td>\n",
       "      <td>141567336.0</td>\n",
       "      <td>7387965.0</td>\n",
       "      <td>5.245262e+08</td>\n",
       "    </tr>\n",
       "    <tr>\n",
       "      <th>2</th>\n",
       "      <td>1</td>\n",
       "      <td>1</td>\n",
       "      <td>1</td>\n",
       "      <td>3</td>\n",
       "      <td>0</td>\n",
       "      <td>75719970.0</td>\n",
       "      <td>4247768.0</td>\n",
       "      <td>1.523840e+08</td>\n",
       "    </tr>\n",
       "    <tr>\n",
       "      <th>3</th>\n",
       "      <td>1</td>\n",
       "      <td>1</td>\n",
       "      <td>2</td>\n",
       "      <td>1</td>\n",
       "      <td>0</td>\n",
       "      <td>934105739.0</td>\n",
       "      <td>42784628.0</td>\n",
       "      <td>2.982506e+09</td>\n",
       "    </tr>\n",
       "    <tr>\n",
       "      <th>4</th>\n",
       "      <td>1</td>\n",
       "      <td>1</td>\n",
       "      <td>2</td>\n",
       "      <td>2</td>\n",
       "      <td>0</td>\n",
       "      <td>125125157.0</td>\n",
       "      <td>5117852.0</td>\n",
       "      <td>2.661052e+08</td>\n",
       "    </tr>\n",
       "    <tr>\n",
       "      <th>...</th>\n",
       "      <td>...</td>\n",
       "      <td>...</td>\n",
       "      <td>...</td>\n",
       "      <td>...</td>\n",
       "      <td>...</td>\n",
       "      <td>...</td>\n",
       "      <td>...</td>\n",
       "      <td>...</td>\n",
       "    </tr>\n",
       "    <tr>\n",
       "      <th>10693</th>\n",
       "      <td>86</td>\n",
       "      <td>999</td>\n",
       "      <td>1</td>\n",
       "      <td>2</td>\n",
       "      <td>0</td>\n",
       "      <td>2001840.0</td>\n",
       "      <td>66048.0</td>\n",
       "      <td>NaN</td>\n",
       "    </tr>\n",
       "    <tr>\n",
       "      <th>10694</th>\n",
       "      <td>86</td>\n",
       "      <td>999</td>\n",
       "      <td>1</td>\n",
       "      <td>3</td>\n",
       "      <td>0</td>\n",
       "      <td>6531585.0</td>\n",
       "      <td>274797.0</td>\n",
       "      <td>NaN</td>\n",
       "    </tr>\n",
       "    <tr>\n",
       "      <th>10695</th>\n",
       "      <td>86</td>\n",
       "      <td>999</td>\n",
       "      <td>2</td>\n",
       "      <td>1</td>\n",
       "      <td>0</td>\n",
       "      <td>5571412.0</td>\n",
       "      <td>289370.0</td>\n",
       "      <td>NaN</td>\n",
       "    </tr>\n",
       "    <tr>\n",
       "      <th>10696</th>\n",
       "      <td>86</td>\n",
       "      <td>999</td>\n",
       "      <td>2</td>\n",
       "      <td>2</td>\n",
       "      <td>0</td>\n",
       "      <td>295760.0</td>\n",
       "      <td>52249.0</td>\n",
       "      <td>NaN</td>\n",
       "    </tr>\n",
       "    <tr>\n",
       "      <th>10697</th>\n",
       "      <td>86</td>\n",
       "      <td>999</td>\n",
       "      <td>2</td>\n",
       "      <td>3</td>\n",
       "      <td>0</td>\n",
       "      <td>952810.0</td>\n",
       "      <td>31364.0</td>\n",
       "      <td>NaN</td>\n",
       "    </tr>\n",
       "  </tbody>\n",
       "</table>\n",
       "<p>10698 rows × 8 columns</p>\n",
       "</div>"
      ],
      "text/plain": [
       "       MBR_NO  BRN_NO  ASKBID_TP_CD  MODCANCL_TP_CD  PT_TP_CD      ORD_PRC  \\\n",
       "0           1       1             1               1         0  644490721.0   \n",
       "1           1       1             1               2         0  141567336.0   \n",
       "2           1       1             1               3         0   75719970.0   \n",
       "3           1       1             2               1         0  934105739.0   \n",
       "4           1       1             2               2         0  125125157.0   \n",
       "...       ...     ...           ...             ...       ...          ...   \n",
       "10693      86     999             1               2         0    2001840.0   \n",
       "10694      86     999             1               3         0    6531585.0   \n",
       "10695      86     999             2               1         0    5571412.0   \n",
       "10696      86     999             2               2         0     295760.0   \n",
       "10697      86     999             2               3         0     952810.0   \n",
       "\n",
       "          ORD_QTY       ORD_VOL  \n",
       "0      46362990.0  4.253802e+09  \n",
       "1       7387965.0  5.245262e+08  \n",
       "2       4247768.0  1.523840e+08  \n",
       "3      42784628.0  2.982506e+09  \n",
       "4       5117852.0  2.661052e+08  \n",
       "...           ...           ...  \n",
       "10693     66048.0           NaN  \n",
       "10694    274797.0           NaN  \n",
       "10695    289370.0           NaN  \n",
       "10696     52249.0           NaN  \n",
       "10697     31364.0           NaN  \n",
       "\n",
       "[10698 rows x 8 columns]"
      ]
     },
     "execution_count": 3,
     "metadata": {},
     "output_type": "execute_result"
    }
   ],
   "source": [
    "sumdf"
   ]
  },
  {
   "cell_type": "code",
   "execution_count": null,
   "id": "236cc128",
   "metadata": {},
   "outputs": [],
   "source": [
    "sumdf = sumdf.reset_index()"
   ]
  },
  {
   "cell_type": "code",
   "execution_count": null,
   "id": "959ccdcb",
   "metadata": {},
   "outputs": [],
   "source": [
    "# countdf = countdf.pivot(index= ['MBR_NO', 'BRN_NO', 'ASKBID_TP_CD','PT_TP_CD'],columns=['MODCANCL_TP_CD'],values='0')\n",
    "# countdf = countdf.reset_index()\n",
    "# countdf=countdf.rename(columns={1: 'NEW', 2:'EDIT',3:'CANCL'})\n",
    "# countdf['NET'] = countdf['NEW']-countdf['CANCL']\n",
    "# countdf = countdf.set_index(['MBR_NO','BRN_NO'])"
   ]
  },
  {
   "cell_type": "markdown",
   "id": "9a889306",
   "metadata": {},
   "source": [
    "countdf.sum(level=[0]).sort_values('NET',ascending=False).index[:30]#MBR_count_top"
   ]
  },
  {
   "cell_type": "markdown",
   "id": "600c6e97",
   "metadata": {},
   "source": [
    "countdf.sum(level=[0,1]).sort_values('NET',ascending=False).index[:30]#MBRN_count_top"
   ]
  },
  {
   "cell_type": "code",
   "execution_count": null,
   "id": "44ab6540",
   "metadata": {},
   "outputs": [],
   "source": [
    "# countdf[countdf['PT_TP_CD']==31].sum(level=[0]).sort_values('NET',ascending=False).index[:30]#MBRNPT_count_top"
   ]
  },
  {
   "cell_type": "markdown",
   "id": "74798449",
   "metadata": {},
   "source": [
    "countdf[countdf['PT_TP_CD']==31].sum(level=0,1]).sort_values('NET',ascending=False).index[:30]#MBRNPT_count_top"
   ]
  },
  {
   "cell_type": "code",
   "execution_count": 5,
   "id": "945e6134",
   "metadata": {},
   "outputs": [],
   "source": [
    "sumdf = sumdf.pivot(index= ['MBR_NO', 'BRN_NO', 'ASKBID_TP_CD','PT_TP_CD'],columns=['MODCANCL_TP_CD'],values='ORD_VOL')\n",
    "sumdf = sumdf.reset_index()"
   ]
  },
  {
   "cell_type": "code",
   "execution_count": 6,
   "id": "4c11fcde",
   "metadata": {},
   "outputs": [],
   "source": [
    "sumdf=sumdf.rename(columns={1: 'NEW', 2:'EDIT',3:'CANCL'})\n",
    "sumdf['NET'] = sumdf['NEW']-sumdf['CANCL']\n",
    "sumdf = sumdf.set_index(['MBR_NO','BRN_NO'])"
   ]
  },
  {
   "cell_type": "code",
   "execution_count": 7,
   "id": "84e36851",
   "metadata": {},
   "outputs": [
    {
     "data": {
      "text/plain": [
       "Int64Index([50,  5, 25, 12, 17,  2,  3, 30,  4, 24, 56, 63,  8, 31, 44, 42, 21,\n",
       "             1, 10, 46, 22, 36, 71, 68, 72, 58,  6,  9, 13, 45],\n",
       "           dtype='int64', name='MBR_NO')"
      ]
     },
     "execution_count": 7,
     "metadata": {},
     "output_type": "execute_result"
    }
   ],
   "source": [
    "sumdf.sum(level=[0]).sort_values('NET',ascending=False).index[:30]#MBR_sum_top"
   ]
  },
  {
   "cell_type": "code",
   "execution_count": 10,
   "id": "9f2d0832",
   "metadata": {},
   "outputs": [
    {
     "data": {
      "text/plain": [
       "MultiIndex([(25,  1093),\n",
       "            (12,   100),\n",
       "            (17,    29),\n",
       "            (44,     1),\n",
       "            (42,     1),\n",
       "            ( 2,   155),\n",
       "            ( 2,    83),\n",
       "            ( 4,  9997),\n",
       "            (56, 17990),\n",
       "            ( 5,   194),\n",
       "            ( 5,   136),\n",
       "            (50,    35),\n",
       "            (50,    19),\n",
       "            (56, 17988),\n",
       "            (50,    28),\n",
       "            (36,     1),\n",
       "            ( 8,   271),\n",
       "            (50,    86),\n",
       "            ( 2,   999),\n",
       "            ( 5,   155)],\n",
       "           names=['MBR_NO', 'BRN_NO'])"
      ]
     },
     "execution_count": 10,
     "metadata": {},
     "output_type": "execute_result"
    }
   ],
   "source": [
    "sumdf.sum(level=[0,1]).sort_values('NET',ascending=False).index[:20]#MBRN_sum_top"
   ]
  },
  {
   "cell_type": "code",
   "execution_count": null,
   "id": "332d1732",
   "metadata": {},
   "outputs": [],
   "source": [
    "sumdf[sumdf['PT_TP_CD']==31].sum(level=[0,1]).sort_values('NET',ascending=False).index[:30]#MBRNPT_sum_top"
   ]
  }
 ],
 "metadata": {
  "kernelspec": {
   "display_name": "Python 3 (ipykernel)",
   "language": "python",
   "name": "python3"
  },
  "language_info": {
   "codemirror_mode": {
    "name": "ipython",
    "version": 3
   },
   "file_extension": ".py",
   "mimetype": "text/x-python",
   "name": "python",
   "nbconvert_exporter": "python",
   "pygments_lexer": "ipython3",
   "version": "3.7.10"
  }
 },
 "nbformat": 4,
 "nbformat_minor": 5
}
