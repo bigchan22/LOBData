{
 "cells": [
  {
   "cell_type": "code",
   "execution_count": 1,
   "id": "9065fe8c",
   "metadata": {},
   "outputs": [],
   "source": [
    "from source.RawDataCollection import ReadDataFile,RawDataCollection,SaveCollectedData\n",
    "import pandas as pd\n",
    "import os"
   ]
  },
  {
   "cell_type": "code",
   "execution_count": 2,
   "id": "27a3464a",
   "metadata": {},
   "outputs": [],
   "source": [
    "path_dir = '/Data/Data/ord201709'\n",
    "ISUlist=['KR7078130002', 'KR7019550003', 'KR7021080007', 'KR7044180008',\n",
    "       'KR7099830002', 'KR7036630002', 'KR7065450009', 'KR7106080005',\n",
    "       'KR7224060004', 'KR7025440009', 'KR7215600008', 'KR7223310004',\n",
    "       'KR7097780001', 'KR7025320003', 'KR7011320009', 'KR7066980004',\n",
    "       'KR7024810004', 'KR7014190003', 'KR7030270003', 'KR7208640003',\n",
    "       'KR7024740003', 'KR7058530007', 'KR7041140005', 'KR7203650007',\n",
    "       'KR7053110003', 'KR7036620003', 'KR7019590009', 'KR7042040006',\n",
    "       'KR7019570001', 'KR7036090009', 'KR7131100000', 'KR7046120002',\n",
    "       'KR7052290004', 'KR7193250008', 'KR7200230001', 'KR7028040004',\n",
    "       'KR7016600009', 'USU652221081', 'KR7094190006', 'KR7012340006',\n",
    "       'KR7064240005', 'KR7066410002', 'KR7197210008', 'KR7192410009',\n",
    "       'KR7026260000', 'KR7054180005', 'KR7078650009', 'KR7038110003',\n",
    "       'KR7035620004', 'KR7053590006', 'KR7131090003', 'KR7215100009',\n",
    "       'KR7043200005', 'KR7225570001', 'KR7018000000', 'KR7204840003',\n",
    "       'KR7204620009', 'KR7121800007', 'KR7066790007', 'HK0000295359',\n",
    "       'KR7060560000', 'KR7024850000', 'KR7159910009', 'KR7006910004',\n",
    "       'KR7033110008', 'KR7065060006', 'KR7140520008', 'KR7020180006',\n",
    "       'KR7001000009', 'KR7056730005', 'KR7096040001', 'KR7022100002',\n",
    "       'KR7071670004', 'KYG3931T1076', 'KR7039230008', 'KR7003670007',\n",
    "       'KR7065350001', 'KR7036930006', 'KR7217270008', 'KR7003310000',\n",
    "       'KR7090710005', 'KR7086520004', 'KR7017680000', 'KR7048870000',\n",
    "       'KR7035480003', 'KR7104040001', 'KR7082660002', 'HK0000341732',\n",
    "       'KR7080470008', 'KR7214270001', 'KR7010170009', 'KR7078150000',\n",
    "       'KR7035890003', 'KR7052420007', 'KR7016670002', 'KR7127160000',\n",
    "       'KR7066590001', 'KR7220180004', 'KR7057680001', 'KR7049470008']"
   ]
  },
  {
   "cell_type": "code",
   "execution_count": 3,
   "id": "66d6aaa2",
   "metadata": {},
   "outputs": [],
   "source": [
    "mbrnlist1=[(5,194),(2,155),(12,100),(17,29),(42,1),(44,1),(50,92),(2,83),(4,10118),(8,298)]\n",
    "mbrnlist2=[(5,194),(12,100),(2,155),(17,29),(42,1),(44,1),(2,83),(4,10118),(4,9997),(50,91)]"
   ]
  },
  {
   "cell_type": "code",
   "execution_count": 4,
   "id": "53d3b16c",
   "metadata": {},
   "outputs": [],
   "source": [
    "mbrnlist=mbrnlist1+[a  for a in mbrnlist2 if a not in mbrnlist1 ]"
   ]
  },
  {
   "cell_type": "code",
   "execution_count": 5,
   "id": "d329d054",
   "metadata": {},
   "outputs": [],
   "source": [
    "mbrnlist=[a[0] for a in mbrnlist]"
   ]
  },
  {
   "cell_type": "code",
   "execution_count": 6,
   "id": "a7ee7ffb",
   "metadata": {},
   "outputs": [
    {
     "data": {
      "text/plain": [
       "[5, 2, 12, 17, 42, 44, 50, 2, 4, 8, 4, 50]"
      ]
     },
     "execution_count": 6,
     "metadata": {},
     "output_type": "execute_result"
    }
   ],
   "source": [
    "mbrnlist"
   ]
  },
  {
   "cell_type": "code",
   "execution_count": 7,
   "id": "108ed43e",
   "metadata": {},
   "outputs": [],
   "source": [
    "a=os.listdir(path_dir)\n",
    "a.sort()"
   ]
  },
  {
   "cell_type": "code",
   "execution_count": 8,
   "id": "d0783e6f",
   "metadata": {},
   "outputs": [
    {
     "data": {
      "text/plain": [
       "['ksqord_20170901.csv',\n",
       " 'ksqord_20170904.csv',\n",
       " 'ksqord_20170905.csv',\n",
       " 'ksqord_20170906.csv',\n",
       " 'ksqord_20170907.csv',\n",
       " 'ksqord_20170908.csv']"
      ]
     },
     "execution_count": 8,
     "metadata": {},
     "output_type": "execute_result"
    }
   ],
   "source": [
    "a[:6]"
   ]
  },
  {
   "cell_type": "code",
   "execution_count": 9,
   "id": "405f895a",
   "metadata": {},
   "outputs": [
    {
     "data": {
      "text/plain": [
       "['ksqord_20170901.csv',\n",
       " 'ksqord_20170904.csv',\n",
       " 'ksqord_20170905.csv',\n",
       " 'ksqord_20170906.csv',\n",
       " 'ksqord_20170907.csv',\n",
       " 'ksqord_20170908.csv',\n",
       " 'ksqord_20170911.csv',\n",
       " 'ksqord_20170912.csv',\n",
       " 'ksqord_20170913.csv',\n",
       " 'ksqord_20170914.csv',\n",
       " 'ksqord_20170915.csv',\n",
       " 'ksqord_20170918.csv',\n",
       " 'ksqord_20170919.csv']"
      ]
     },
     "execution_count": 9,
     "metadata": {},
     "output_type": "execute_result"
    }
   ],
   "source": [
    "a[:13]"
   ]
  },
  {
   "cell_type": "code",
   "execution_count": 10,
   "id": "0b531e36",
   "metadata": {},
   "outputs": [
    {
     "name": "stdout",
     "output_type": "stream",
     "text": [
      "Reading  /Data/Data/ord201709/ksqord_20170901.csv\n"
     ]
    },
    {
     "name": "stderr",
     "output_type": "stream",
     "text": [
      "/root/anaconda3/lib/python3.7/site-packages/ipykernel_launcher.py:1: DtypeWarning: Columns (8) have mixed types.Specify dtype option on import or set low_memory=False.\n",
      "  \"\"\"Entry point for launching an IPython kernel.\n"
     ]
    },
    {
     "name": "stdout",
     "output_type": "stream",
     "text": [
      "Reading  /Data/Data/ord201709/ksqord_20170904.csv\n",
      "Reading  /Data/Data/ord201709/ksqord_20170905.csv\n",
      "Reading  /Data/Data/ord201709/ksqord_20170906.csv\n",
      "Reading  /Data/Data/ord201709/ksqord_20170907.csv\n",
      "Reading  /Data/Data/ord201709/ksqord_20170908.csv\n",
      "/Data/Min/TransLOB/CollectedData/2022_3_20_22_18.csv\n"
     ]
    }
   ],
   "source": [
    "SaveCollectedData(path_dir,a[:6],ISU_CD=ISUlist)"
   ]
  },
  {
   "cell_type": "code",
   "execution_count": 11,
   "id": "57b66bb8",
   "metadata": {},
   "outputs": [
    {
     "name": "stdout",
     "output_type": "stream",
     "text": [
      "Reading  /Data/Data/ord201709/ksqord_20170911.csv\n"
     ]
    },
    {
     "name": "stderr",
     "output_type": "stream",
     "text": [
      "/root/anaconda3/lib/python3.7/site-packages/ipykernel_launcher.py:1: DtypeWarning: Columns (8) have mixed types.Specify dtype option on import or set low_memory=False.\n",
      "  \"\"\"Entry point for launching an IPython kernel.\n"
     ]
    },
    {
     "name": "stdout",
     "output_type": "stream",
     "text": [
      "Reading  /Data/Data/ord201709/ksqord_20170912.csv\n",
      "Reading  /Data/Data/ord201709/ksqord_20170913.csv\n",
      "Reading  /Data/Data/ord201709/ksqord_20170914.csv\n",
      "Reading  /Data/Data/ord201709/ksqord_20170915.csv\n",
      "Reading  /Data/Data/ord201709/ksqord_20170918.csv\n",
      "Reading  /Data/Data/ord201709/ksqord_20170919.csv\n",
      "/Data/Min/TransLOB/CollectedData/2022_3_20_22_25.csv\n"
     ]
    }
   ],
   "source": [
    "SaveCollectedData(path_dir,a[6:13],ISU_CD=ISUlist)"
   ]
  },
  {
   "cell_type": "code",
   "execution_count": 12,
   "id": "7ecde009",
   "metadata": {},
   "outputs": [
    {
     "name": "stdout",
     "output_type": "stream",
     "text": [
      "Reading  /Data/Data/ord201709/ksqord_20170920.csv\n"
     ]
    },
    {
     "name": "stderr",
     "output_type": "stream",
     "text": [
      "/root/anaconda3/lib/python3.7/site-packages/ipykernel_launcher.py:1: DtypeWarning: Columns (8) have mixed types.Specify dtype option on import or set low_memory=False.\n",
      "  \"\"\"Entry point for launching an IPython kernel.\n"
     ]
    },
    {
     "name": "stdout",
     "output_type": "stream",
     "text": [
      "Reading  /Data/Data/ord201709/ksqord_20170921.csv\n",
      "Reading  /Data/Data/ord201709/ksqord_20170922.csv\n",
      "Reading  /Data/Data/ord201709/ksqord_20170925.csv\n",
      "Reading  /Data/Data/ord201709/ksqord_20170926.csv\n",
      "Reading  /Data/Data/ord201709/ksqord_20170927.csv\n",
      "Reading  /Data/Data/ord201709/ksqord_20170928.csv\n",
      "Reading  /Data/Data/ord201709/ksqord_20170929.csv\n",
      "/Data/Min/TransLOB/CollectedData/2022_3_20_22_33.csv\n"
     ]
    }
   ],
   "source": [
    "SaveCollectedData(path_dir,a[13:],ISU_CD=ISUlist)"
   ]
  },
  {
   "cell_type": "markdown",
   "id": "7a2b4ba0",
   "metadata": {},
   "source": [
    "SaveCollectedData(path_dir,['ksqord_20170901.csv','ksqord_20170904.csv'],ISU_CD=ISUlist,MBR_NO=mbrnlist)"
   ]
  },
  {
   "cell_type": "markdown",
   "id": "b9922ab0",
   "metadata": {},
   "source": [
    "DataLoaded=pd.read_csv('CollectedData/202231913.csv')\n",
    "groupcolumns=['ORD_DD','ISU_CD','MBR_NO', 'BRN_NO','']\n",
    "DataLoaded.columns.groupby(['ORD_DD','ISU_CD',])"
   ]
  }
 ],
 "metadata": {
  "kernelspec": {
   "display_name": "Python 3",
   "language": "python",
   "name": "python3"
  },
  "language_info": {
   "codemirror_mode": {
    "name": "ipython",
    "version": 3
   },
   "file_extension": ".py",
   "mimetype": "text/x-python",
   "name": "python",
   "nbconvert_exporter": "python",
   "pygments_lexer": "ipython3",
   "version": "3.7.10"
  }
 },
 "nbformat": 4,
 "nbformat_minor": 5
}
