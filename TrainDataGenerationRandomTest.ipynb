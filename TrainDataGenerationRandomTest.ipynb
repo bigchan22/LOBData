{
 "cells": [
  {
   "cell_type": "code",
   "execution_count": 1,
   "id": "ef1df877",
   "metadata": {},
   "outputs": [],
   "source": [
    "import pandas as pd\n",
    "import numpy as np\n",
    "from datetime import datetime\n",
    "from source.TrainDataGeneration import append_ORD_TM,append_ORD_VOL,append_TM_GP,GetGroupDataFrame,append_STEP5"
   ]
  },
  {
   "cell_type": "code",
   "execution_count": 2,
   "id": "d5210725",
   "metadata": {},
   "outputs": [],
   "source": [
    "idx=128*50"
   ]
  },
  {
   "cell_type": "code",
   "execution_count": 3,
   "id": "31bf1a85",
   "metadata": {},
   "outputs": [],
   "source": [
    "RandomXData=np.floor(np.random.random((39*idx,2))*3)\n"
   ]
  },
  {
   "cell_type": "code",
   "execution_count": 4,
   "id": "29337d1e",
   "metadata": {},
   "outputs": [
    {
     "data": {
      "text/plain": [
       "array([[1., 0.],\n",
       "       [0., 0.],\n",
       "       [0., 2.],\n",
       "       ...,\n",
       "       [1., 0.],\n",
       "       [2., 2.],\n",
       "       [1., 1.]])"
      ]
     },
     "execution_count": 4,
     "metadata": {},
     "output_type": "execute_result"
    }
   ],
   "source": [
    "RandomXData"
   ]
  },
  {
   "cell_type": "code",
   "execution_count": 5,
   "id": "cfb7d44b",
   "metadata": {},
   "outputs": [
    {
     "data": {
      "text/plain": [
       "array([0., 0., 2., ..., 1., 2., 1.])"
      ]
     },
     "execution_count": 5,
     "metadata": {},
     "output_type": "execute_result"
    }
   ],
   "source": [
    "RandomXData[1:,0]"
   ]
  },
  {
   "cell_type": "code",
   "execution_count": 6,
   "id": "c6bcdaa4",
   "metadata": {},
   "outputs": [],
   "source": [
    "#Future Data\n",
    "RandomYData=np.floor(np.random.random(39*idx)*3)\n",
    "RandomYData=RandomXData[1:,0].squeeze()\n",
    "RandomYData = np.append(RandomYData,2)"
   ]
  },
  {
   "cell_type": "code",
   "execution_count": 7,
   "id": "dab46457",
   "metadata": {},
   "outputs": [],
   "source": [
    "#Current Data\n",
    "# RandomYData[:]=RandomXData[:,0].squeeze()"
   ]
  },
  {
   "cell_type": "code",
   "execution_count": 8,
   "id": "c2a65c8e",
   "metadata": {},
   "outputs": [
    {
     "data": {
      "text/plain": [
       "array([0., 0., 2., ..., 2., 1., 2.])"
      ]
     },
     "execution_count": 8,
     "metadata": {},
     "output_type": "execute_result"
    }
   ],
   "source": [
    "RandomYData"
   ]
  },
  {
   "cell_type": "code",
   "execution_count": 9,
   "id": "7ddd1e31",
   "metadata": {},
   "outputs": [],
   "source": [
    "ylabel=pd.Series(RandomYData)"
   ]
  },
  {
   "cell_type": "code",
   "execution_count": 10,
   "id": "f27637b3",
   "metadata": {},
   "outputs": [
    {
     "name": "stdout",
     "output_type": "stream",
     "text": [
      "path: /Data/Min/TransLOB/TrainData/Train_ORD_RandomTest\n",
      "path: /Data/Min/TransLOB/TrainData/Train_ORD_Label__RandomTest\n"
     ]
    }
   ],
   "source": [
    "SaveDirPath='/Data/Min/TransLOB/TrainData/'\n",
    "DataSubfix=\"RandomTest\"\n",
    "TrainDataname='Train_ORD'+'_'+DataSubfix\n",
    "TrainLabelDataname='Train_ORD_Label__'+DataSubfix\n",
    "np.save(SaveDirPath+TrainDataname,RandomXData)\n",
    "np.save(SaveDirPath+TrainLabelDataname,ylabel)\n",
    "print(\"path:\",SaveDirPath+TrainDataname)\n",
    "print(\"path:\",SaveDirPath+TrainLabelDataname)\n"
   ]
  }
 ],
 "metadata": {
  "kernelspec": {
   "display_name": "Python 3",
   "language": "python",
   "name": "python3"
  },
  "language_info": {
   "codemirror_mode": {
    "name": "ipython",
    "version": 3
   },
   "file_extension": ".py",
   "mimetype": "text/x-python",
   "name": "python",
   "nbconvert_exporter": "python",
   "pygments_lexer": "ipython3",
   "version": "3.7.10"
  }
 },
 "nbformat": 4,
 "nbformat_minor": 5
}
