{
 "cells": [
  {
   "cell_type": "code",
   "execution_count": 1,
   "id": "94b9e9f4",
   "metadata": {},
   "outputs": [],
   "source": [
    "import math\n",
    "import numpy as np\n",
    "import torch\n",
    "import torch.nn as nn\n",
    "import torch.nn.functional as F\n",
    "from torch.nn import TransformerEncoder, TransformerEncoderLayer\n",
    "from numpy import load\n",
    "from torch.utils.data import Dataset"
   ]
  },
  {
   "cell_type": "code",
   "execution_count": 2,
   "id": "53b6d83d",
   "metadata": {},
   "outputs": [],
   "source": [
    "# load array\n",
    "Data = load('Data_09.npy')\n",
    "# print the array"
   ]
  },
  {
   "cell_type": "code",
   "execution_count": 3,
   "id": "b1468292",
   "metadata": {},
   "outputs": [],
   "source": [
    "Data=np.nan_to_num(Data)"
   ]
  },
  {
   "cell_type": "code",
   "execution_count": 4,
   "id": "23055150",
   "metadata": {},
   "outputs": [],
   "source": [
    "Xdata=[]\n",
    "Ydata=[]\n",
    "Xtrain_data=[]\n",
    "Ytrain_data=[]\n",
    "Xtest_data=[]\n",
    "Ytest_data=[]\n",
    "\n",
    "for idx in range(len(Data)//39):\n",
    "#     print(np.isinf(Data[39*idx:39*(idx)+38][:,:].tolist()).any())\n",
    "    if(np.isinf(Data[39*idx:39*(idx)+39][:,:].tolist()).any()):\n",
    "        print(np.isinf(Data[39*idx:39*(idx)+39][:,:].tolist()).any())\n",
    "        continue\n",
    "    if idx< 3735:\n",
    "        Xtrain_data.append(Data[39*idx:39*(idx)+39][:,:].tolist())\n",
    "        Ytrain_data.append(Data[39*idx:39*(idx)+39][:,-1].tolist())\n",
    "    else:\n",
    "        Xtest_data.append(Data[39*idx:39*(idx)+39][:,:].tolist())\n",
    "        Ytest_data.append(Data[39*idx:39*(idx)+39][:,-1].tolist())\n",
    "\n",
    "Xtrain_data=np.vstack(Xtrain_data)\n",
    "Ytrain_data=np.vstack(Ytrain_data)\n",
    "\n",
    "Xtrain_data=torch.FloatTensor(Xtrain_data)\n",
    "Ytrain_data=torch.IntTensor(Ytrain_data)\n",
    "Ytrain_data=Ytrain_data.view(-1)\n",
    "\n",
    "\n",
    "Xtest_data=np.vstack(Xtest_data)\n",
    "Ytest_data=np.vstack(Ytest_data)\n",
    "Xtest_data=torch.FloatTensor(Xtest_data)\n",
    "Ytest_data=torch.IntTensor(Ytest_data)\n",
    "Ytest_data=Ytest_data.view(-1)"
   ]
  },
  {
   "cell_type": "code",
   "execution_count": 5,
   "id": "3beca2b2",
   "metadata": {},
   "outputs": [
    {
     "data": {
      "text/plain": [
       "torch.Size([145665, 7])"
      ]
     },
     "execution_count": 5,
     "metadata": {},
     "output_type": "execute_result"
    }
   ],
   "source": [
    "Xtrain_data.size()"
   ]
  },
  {
   "cell_type": "code",
   "execution_count": 6,
   "id": "cd1f35bd",
   "metadata": {},
   "outputs": [],
   "source": [
    "Ytrain_data=2*(Ytrain_data>0).long()+(Ytrain_data==0).long()\n",
    "Ytest_data=2*(Ytest_data>0).long()+(Ytest_data==0).long()"
   ]
  },
  {
   "cell_type": "markdown",
   "id": "4b37bc1a",
   "metadata": {},
   "source": [
    "Ydata=(torch.stack([Ydata>0,Ydata==0, Ydata<0],axis=0)).float()"
   ]
  },
  {
   "cell_type": "code",
   "execution_count": 7,
   "id": "0358866a",
   "metadata": {},
   "outputs": [],
   "source": [
    "Ytrain_data=Ytrain_data.T\n",
    "Ytest_data=Ytest_data.T"
   ]
  },
  {
   "cell_type": "code",
   "execution_count": 8,
   "id": "ce44368a",
   "metadata": {},
   "outputs": [
    {
     "data": {
      "text/plain": [
       "torch.Size([145665, 7])"
      ]
     },
     "execution_count": 8,
     "metadata": {},
     "output_type": "execute_result"
    }
   ],
   "source": [
    "Xtrain_data.size()"
   ]
  },
  {
   "cell_type": "code",
   "execution_count": 9,
   "id": "88194fc3",
   "metadata": {},
   "outputs": [
    {
     "data": {
      "text/plain": [
       "tensor([1, 1, 1,  ..., 2, 2, 1])"
      ]
     },
     "execution_count": 9,
     "metadata": {},
     "output_type": "execute_result"
    }
   ],
   "source": [
    "Ytrain_data"
   ]
  },
  {
   "cell_type": "code",
   "execution_count": 10,
   "id": "7a8d958b",
   "metadata": {},
   "outputs": [
    {
     "data": {
      "text/plain": [
       "tensor([[1.2950e+04, 1.7992e-02, 1.9043e-02,  ..., 5.0380e+04, 4.6628e+04,\n",
       "         0.0000e+00],\n",
       "        [1.2950e+04, 2.3718e-02, 3.0888e-02,  ..., 6.4586e+04, 5.3998e+04,\n",
       "         0.0000e+00],\n",
       "        [1.2950e+04, 4.1475e-02, 4.7411e-02,  ..., 8.1665e+04, 6.4157e+04,\n",
       "         0.0000e+00],\n",
       "        ...,\n",
       "        [9.5000e+03, 1.1409e-02, 4.4211e-02,  ..., 7.1436e+04, 2.3673e+04,\n",
       "         7.0100e+02],\n",
       "        [9.5000e+03, 6.9253e-03, 4.4211e-02,  ..., 6.9510e+04, 1.8099e+04,\n",
       "         1.1000e+01],\n",
       "        [9.5000e+03, 9.9207e-03, 4.4211e-02,  ..., 6.9436e+04, 1.9535e+04,\n",
       "         0.0000e+00]])"
      ]
     },
     "execution_count": 10,
     "metadata": {},
     "output_type": "execute_result"
    }
   ],
   "source": [
    "Xtrain_data"
   ]
  },
  {
   "cell_type": "code",
   "execution_count": 11,
   "id": "a6fbe991",
   "metadata": {},
   "outputs": [],
   "source": [
    "device = torch.device(\"cuda\" if torch.cuda.is_available() else \"cpu\")\n",
    "\n",
    "def batchify(data, bsz):\n",
    "    # 데이터셋을 bsz 파트들로 나눕니다.\n",
    "    nbatch = data.size(0) // bsz\n",
    "    # 깔끔하게 나누어 떨어지지 않는 추가적인 부분(나머지들) 은 잘라냅니다.\n",
    "    data = data.narrow(0, 0, nbatch * bsz)\n",
    "    # 데이터에 대하여 bsz 배치들로 동등하게 나눕니다.\n",
    "    data = data.view(bsz, -1,data.size(1)).transpose(0,1).contiguous()\n",
    "    return data.to(device)\n",
    "\n",
    "# batch_size = 25\n",
    "# eval_batch_size = 25\n",
    "\n",
    "# Xtrain_data = batchify(Xtrain_data, batch_size)\n",
    "# Xtest_data = batchify(Xtest_data, eval_batch_size)\n",
    "# Ytrain_data = batchify(Ytrain_data, batch_size)\n",
    "# Ytest_data = batchify(Ytest_data, eval_batch_size)"
   ]
  },
  {
   "cell_type": "code",
   "execution_count": 12,
   "id": "cf7796df",
   "metadata": {},
   "outputs": [],
   "source": [
    "bptt = 39\n",
    "def get_batch(source, i,bs):\n",
    "    seq_len = min(bptt*bs, len(source) - 1 - i)\n",
    "    data = source[i:i+seq_len]\n",
    "    target = source[i+1:i+1+seq_len].reshape(-1)\n",
    "    return data, target"
   ]
  },
  {
   "cell_type": "code",
   "execution_count": 13,
   "id": "ba5f8929",
   "metadata": {},
   "outputs": [],
   "source": [
    "from torch import Tensor\n",
    "import torch\n",
    "import torch.nn as nn\n",
    "from torch.nn import Transformer\n",
    "import math\n",
    "DEVICE = torch.device('cuda' if torch.cuda.is_available() else 'cpu')\n",
    "\n",
    "INPUT_SIZE=7\n",
    "EMB_SIZE=512\n",
    "HIDDEN_SIZE=512\n",
    "NUM_LAYERS=6\n",
    "PROJ_SIZE=3\n",
    "BATCH_SIZE=10"
   ]
  },
  {
   "cell_type": "code",
   "execution_count": 14,
   "id": "e9a84822",
   "metadata": {},
   "outputs": [],
   "source": [
    "import torch\n",
    "from torch.autograd import Variable\n",
    "import torch.nn as nn\n",
    "import numpy as np\n",
    "\n",
    "def batch_matmul(seq, weight, nonlinearity=''):\n",
    "    s = None\n",
    "    for i in range(seq.size(0)):\n",
    "        _s = torch.mm(seq[i], weight)\n",
    "        if(nonlinearity=='tanh'):\n",
    "            _s = torch.tanh(_s)\n",
    "        _s = _s.unsqueeze(0)\n",
    "        if(s is None):\n",
    "            s = _s\n",
    "        else:\n",
    "            s = torch.cat((s,_s),0)\n",
    "    return s.squeeze()\n",
    "\n",
    "class RNNModel(nn.Module):\n",
    "    \"\"\"Container module with an encoder, a recurrent module, and a decoder.\"\"\"\n",
    "\n",
    "    def __init__(self, rnn_type, ntoken, ninp, nhid, nlayers,proj_size, dropout=0.5, tie_weights=False, attention=True,\n",
    "                 attention_width=3, cuda=True):\n",
    "        super(RNNModel, self).__init__()\n",
    "        self.drop = nn.Dropout(dropout)\n",
    "#         self.encoder = nn.Embedding(ntoken, ninp)\n",
    "        self.encoder = nn.Linear(ntoken, ninp)\n",
    "        if rnn_type in ['LSTM', 'GRU']:\n",
    "            self.rnn = getattr(nn, rnn_type)(ninp, nhid, nlayers, dropout=dropout)\n",
    "        else:\n",
    "            try:\n",
    "                nonlinearity = {'RNN_TANH': 'tanh', 'RNN_RELU': 'relu'}[rnn_type]\n",
    "            except KeyError:\n",
    "                raise ValueError(\"\"\"An invalid option for `--model` was supplied,\n",
    "                                 options are ['LSTM', 'GRU', 'RNN_TANH' or 'RNN_RELU']\"\"\")\n",
    "            self.rnn = nn.RNN(ninp, nhid, nlayers, nonlinearity=nonlinearity, dropout=dropout)\n",
    "        if attention:\n",
    "            self.decoder = nn.Linear(nhid, ntoken)\n",
    "        else:\n",
    "            self.decoder = nn.Linear(nhid, ntoken)\n",
    "        if tie_weights:\n",
    "            if nhid != ninp:\n",
    "                raise ValueError('When using the tied flag, nhid must be equal to emsize')\n",
    "            self.decoder.weight = self.encoder.weight\n",
    "\n",
    "        self.softmax = nn.Softmax()\n",
    "        if attention:\n",
    "            self.AttentionLayer = AttentionLayer(cuda,nhid)\n",
    "        self.init_weights()\n",
    "\n",
    "        self.rnn_type = rnn_type\n",
    "        self.nhid = nhid\n",
    "        self.nlayers = nlayers\n",
    "        self.attention = attention\n",
    "        self.attention_width = attention_width\n",
    "        self.generator = nn.Linear(nhid, proj_size)\n",
    "    def init_weights(self):\n",
    "        initrange = 0.1\n",
    "        self.encoder.weight.data.uniform_(-initrange, initrange)\n",
    "        self.decoder.bias.data.fill_(0)\n",
    "        self.decoder.weight.data.uniform_(-initrange, initrange)\n",
    "\n",
    "    def forward(self, input):\n",
    "        #print(\"input size:\",input.size())\n",
    "#         emb = self.drop(self.encoder(input))\n",
    "        emb=self.encoder(input)\n",
    "        #print(\"emb size:\",emb.size())\n",
    "        output, _ = self.rnn(emb)\n",
    "        #print(\"rnn output\",output.size())\n",
    "        if self.attention:\n",
    "            output = self.AttentionLayer.forward(output, self.attention_width)\n",
    "        return self.generator(output)\n",
    "        #\n",
    "#         output = self.drop(output)\n",
    "#         decoded = self.decoder(output.view(output.size(0) * output.size(1), output.size(2)))\n",
    "#         return decoded.view(output.size(0), output.size(1), decoded.size(1)), hidden\n",
    "\n",
    "    def init_hidden(self, bsz):\n",
    "        weight = next(self.parameters()).data\n",
    "        if self.rnn_type == 'LSTM':\n",
    "            return (Variable(weight.new(self.nlayers, bsz, self.nhid).zero_()),\n",
    "                    Variable(weight.new(self.nlayers, bsz, self.nhid).zero_()))\n",
    "        else:\n",
    "            return Variable(weight.new(self.nlayers, bsz, self.nhid).zero_())\n",
    "\n",
    "\n",
    "class AttentionLayer(nn.Module):\n",
    "    \"\"\"Implements an Attention Layer\"\"\"\n",
    "\n",
    "    def __init__(self, cuda, nhid):\n",
    "        super(AttentionLayer, self).__init__()\n",
    "        self.nhid = nhid\n",
    "        self.weight_W = nn.Parameter(torch.Tensor(nhid,nhid))\n",
    "        self.weight_proj = nn.Parameter(torch.Tensor(nhid, 1))\n",
    "        self.softmax = nn.Softmax()\n",
    "        self.weight_W.data.uniform_(-0.1, 0.1)\n",
    "        self.weight_proj.data.uniform_(-0.1,0.1)\n",
    "        self.cuda = cuda\n",
    "\n",
    "    def forward(self, inputs, attention_width=3):\n",
    "        results = None\n",
    "        for i in range(inputs.size(0)):\n",
    "            if(i<attention_width):\n",
    "                output = inputs[i]\n",
    "                output = output.unsqueeze(0)\n",
    "\n",
    "            else:\n",
    "                lb = i - attention_width\n",
    "                if(lb<0):\n",
    "                    lb = 0\n",
    "                selector = torch.from_numpy(np.array(np.arange(lb, i)))\n",
    "                if self.cuda:\n",
    "                    selector = Variable(selector).cuda()\n",
    "                else:\n",
    "                    selector = Variable(selector)\n",
    "                vec = torch.index_select(inputs, 0, selector)\n",
    "                u = batch_matmul(vec, self.weight_W, nonlinearity='tanh')\n",
    "                a = batch_matmul(u, self.weight_proj)\n",
    "                a = self.softmax(a)\n",
    "                output = None\n",
    "                for i in range(vec.size(0)):\n",
    "                    h_i = vec[i]\n",
    "                    a_i = a[i].unsqueeze(1).expand_as(h_i)\n",
    "                    h_i = a_i * h_i\n",
    "                    h_i = h_i.unsqueeze(0)\n",
    "                    if(output is None):\n",
    "                        output = h_i\n",
    "                    else:\n",
    "                        output = torch.cat((output,h_i),0)\n",
    "                output = torch.sum(output,0)\n",
    "                output = output.unsqueeze(0)\n",
    "\n",
    "            if(results is None):\n",
    "                results = output\n",
    "\n",
    "            else:\n",
    "                results = torch.cat((results,output),0)\n",
    "\n",
    "        return results"
   ]
  },
  {
   "cell_type": "code",
   "execution_count": 16,
   "id": "504d3a5c",
   "metadata": {},
   "outputs": [],
   "source": [
    "torch.manual_seed(0)\n",
    "\n",
    "\n",
    "\n",
    "#lstm=Seq2SeqLSTM(input_size=INPUT_SIZE,hidden_size=HIDDEN_SIZE,num_layers=NUM_LAYERS,emb_size=EMB_SIZE,proj_size=PROJ_SIZE)\n",
    "\n",
    "#lstm = RNNmodel(rnn_type='LSTM',ntoken=INPUT_SIZE,ninp=INPUT_SIZE,nhid=HIDDEN_SIZE,nlayers=NUM_LAYERS,emb_size=EMB_SIZE,proj_size=PROJ_SIZE)\n",
    "lstm = RNNModel(rnn_type='LSTM',ntoken=INPUT_SIZE,ninp=EMB_SIZE,nhid=HIDDEN_SIZE,nlayers=NUM_LAYERS,proj_size=PROJ_SIZE,\n",
    "                attention_width=38)\n",
    "# for p in lstm.parameters():\n",
    "#     if p.dim() > 1:\n",
    "#         nn.init.xavier_uniform_(p)\n",
    "\n",
    "lstm = lstm.to(DEVICE)\n",
    "\n",
    "loss_fn = torch.nn.CrossEntropyLoss()\n",
    "\n",
    "optimizer = torch.optim.Adam(lstm.parameters(), lr=1e-3, betas=(0.9, 0.98), eps=1e-9)"
   ]
  },
  {
   "cell_type": "code",
   "execution_count": 17,
   "id": "b13155b0",
   "metadata": {},
   "outputs": [
    {
     "data": {
      "text/plain": [
       "tensor(False)"
      ]
     },
     "execution_count": 17,
     "metadata": {},
     "output_type": "execute_result"
    }
   ],
   "source": [
    "(Ytest_data==2).all()"
   ]
  },
  {
   "cell_type": "code",
   "execution_count": 18,
   "id": "ba9b6c64",
   "metadata": {},
   "outputs": [],
   "source": [
    "from torch.utils.data import DataLoader\n",
    "\n",
    "def train_epoch(model, optimizer):\n",
    "    model.train()\n",
    "    losses = 0\n",
    "\n",
    "    for batch, i in enumerate(range(0, Xtrain_data.size(0) - 1, BATCH_SIZE*bptt)):\n",
    "        data, org_targets = get_batch(Xtrain_data, i,BATCH_SIZE)\n",
    "        if (data.isnan().any() or data.isinf().any()):\n",
    "#            print(data)\n",
    "            continue\n",
    "#         _,targets = get_batch(Ytrain_data,i)\n",
    "        targets,_ = get_batch(Ytrain_data,i,BATCH_SIZE)\n",
    "#         src = src.to(DEVICE)\n",
    "#         tgt = tgt.to(DEVICE)\n",
    "        targets=torch.unsqueeze(targets,1)\n",
    "        src=batchify(data,BATCH_SIZE)\n",
    "        tgt=batchify(targets,BATCH_SIZE)\n",
    "        src=src[:-1]\n",
    "        tgt=tgt[1:]\n",
    "        logits = model(src)\n",
    "\n",
    "        optimizer.zero_grad()\n",
    "\n",
    "        loss = loss_fn(logits.reshape(-1, logits.shape[-1]), tgt.reshape(-1))\n",
    "        loss.backward()\n",
    "\n",
    "        optimizer.step()\n",
    "        losses += loss.item()\n",
    "        \n",
    "    return losses / Xtrain_data.size(0)\n",
    "\n",
    "\n",
    "def evaluate(model):\n",
    "    model.eval()\n",
    "    losses = 0\n",
    "    total=0\n",
    "    correct=0\n",
    "    correct1=0\n",
    "    tot1=0\n",
    "    correct2=0\n",
    "    tot2=0\n",
    "    correct0=0\n",
    "    tot0=0\n",
    "    with torch.no_grad():\n",
    "        for i in range(0, Xtest_data.size(0) - 1, bptt):\n",
    "\n",
    "            data, org_targets = get_batch(Xtest_data, i,BATCH_SIZE)\n",
    "            if (data.isnan().any() or data.isinf().any()):\n",
    "#            print(data)\n",
    "                continue\n",
    "            targets,_ = get_batch(Ytest_data,i,BATCH_SIZE)\n",
    "            targets=torch.unsqueeze(targets,1)\n",
    "            src=batchify(data,BATCH_SIZE)\n",
    "            tgt=batchify(targets,BATCH_SIZE)\n",
    "#             print(src.size())\n",
    "#             print(tgt.size())\n",
    "            logits = model(src)\n",
    "#             print(logits)\n",
    "#             print(logits.size())\n",
    "\n",
    "            loss = loss_fn(logits.reshape(-1, logits.shape[-1]), tgt.reshape(-1))\n",
    "            if(loss.isnan()):\n",
    "                print(src,tgt_input)\n",
    "                break\n",
    "#            print(loss)\n",
    "            losses += loss.item()\n",
    "#             output_flat = logits.view(-1)\n",
    "            _,predicted=torch.max(logits,-1)\n",
    "#             print(predicted)\n",
    "#             print(logits.size())\n",
    "#             print(tgt_out.size())\n",
    "            \n",
    "            correct += (tgt.squeeze() == predicted).sum().item()\n",
    "            total+=len(predicted)*BATCH_SIZE\n",
    "            tot0+=(0== tgt.squeeze()).sum().item()\n",
    "            tot1+=(1== tgt.squeeze()).sum().item()\n",
    "            tot2+=(2== tgt.squeeze()).sum().item()\n",
    "            correct0+=((0== predicted) &(0==tgt.squeeze())).sum().item()\n",
    "            correct1+=((1== predicted)&(1==tgt.squeeze())).sum().item()\n",
    "            correct2+=((2== predicted)&(2==tgt.squeeze())).sum().item()\n",
    "            \n",
    "    print(total)\n",
    "    print(correct)\n",
    "    print(\"Acc:\",correct/total*100)            \n",
    "    print(\"Acc0:\",correct0/tot0*100,correct0,tot0)     \n",
    "    print(\"Acc1:\",correct1/tot1*100,correct1,tot1)     \n",
    "    print(\"Acc2:\",correct2/tot2*100,correct2,tot2)     \n",
    "    return losses / Xtest_data.size(0)"
   ]
  },
  {
   "cell_type": "code",
   "execution_count": 19,
   "id": "823097d2",
   "metadata": {},
   "outputs": [
    {
     "name": "stderr",
     "output_type": "stream",
     "text": [
      "/root/anaconda3/lib/python3.7/site-packages/ipykernel_launcher.py:119: UserWarning: Implicit dimension choice for softmax has been deprecated. Change the call to include dim=X as an argument.\n"
     ]
    },
    {
     "name": "stdout",
     "output_type": "stream",
     "text": [
      "288740\n",
      "55129\n",
      "Acc: 19.092955600193946\n",
      "Acc0: 100.0 55129 55129\n",
      "Acc1: 0.0 0 189131\n",
      "Acc2: 0.0 0 44480\n"
     ]
    },
    {
     "data": {
      "text/plain": [
       "0.02856428215783099"
      ]
     },
     "execution_count": 19,
     "metadata": {},
     "output_type": "execute_result"
    }
   ],
   "source": [
    "evaluate(lstm)"
   ]
  },
  {
   "cell_type": "code",
   "execution_count": null,
   "id": "1e4c7527",
   "metadata": {},
   "outputs": [],
   "source": [
    "from timeit import default_timer as timer\n",
    "NUM_EPOCHS = 1000\n",
    "best_val_loss=100000000\n",
    "for epoch in range(1, NUM_EPOCHS+1):\n",
    "    start_time = timer()\n",
    "    train_loss = train_epoch(lstm, optimizer)\n",
    "    end_time = timer()\n",
    "    val_loss = evaluate(lstm)\n",
    "    print((f\"Epoch: {epoch}, Train loss: {train_loss:.3f}, Val loss: {val_loss:.3f}, \"f\"Epoch time = {(end_time - start_time):.3f}s\"))\n",
    "    if val_loss < best_val_loss:\n",
    "        best_val_loss = val_loss\n",
    "        best_model = lstm\n",
    "PATH='best_model_alstm_seq'\n",
    "torch.save(best_model.state_dict(), PATH)"
   ]
  }
 ],
 "metadata": {
  "kernelspec": {
   "display_name": "Python 3",
   "language": "python",
   "name": "python3"
  },
  "language_info": {
   "codemirror_mode": {
    "name": "ipython",
    "version": 3
   },
   "file_extension": ".py",
   "mimetype": "text/x-python",
   "name": "python",
   "nbconvert_exporter": "python",
   "pygments_lexer": "ipython3",
   "version": "3.7.10"
  }
 },
 "nbformat": 4,
 "nbformat_minor": 5
}
